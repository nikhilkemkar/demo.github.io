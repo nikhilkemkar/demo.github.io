{
  "nbformat": 4,
  "nbformat_minor": 0,
  "metadata": {
    "colab": {
      "provenance": [],
      "collapsed_sections": [
        "w6K7xa23Elo4",
        "mDgbUHAGgjLW",
        "35m5QtbWiB9F",
        "PoPl-ycgm1ru",
        "MSa1f5Uengrz",
        "K5QZ13OEpz2H",
        "lQ7QKXXCp7Bj",
        "448CDAPjqfQr",
        "t6dVpIINYklI",
        "ijmpgYnKYklI",
        "-JiQyfWJYklI",
        "EM7whBJCYoAo",
        "fge-S5ZAYoAp",
        "85gYPyotYoAp",
        "RoGjAbkUYoAp",
        "4Of9eVA-YrdM",
        "iky9q4vBYrdO",
        "F6T5p64dYrdO",
        "bamQiAODYuh1",
        "QHF8YVU7Yuh3",
        "OH-pJp9IphqM",
        "bbFf2-_FphqN",
        "_ouA3fa0phqN",
        "Seke61FWphqN",
        "t27r6nlMphqO",
        "r2jJGEOYphqO",
        "b0JNsNcRphqO",
        "BZR9WyysphqO",
        "jj7wYXLtphqO",
        "eZrbJ2SmphqO",
        "rFu4xreNphqO",
        "NC_X3p0fY2L0",
        "UV0SzAkaZNRQ",
        "YPEH6qLeZNRQ",
        "JcMwzZxoAimU",
        "8G2x9gOozGDZ",
        "gCX9965dhzqZ",
        "gIfDvo9L0UH2"
      ],
      "include_colab_link": true
    },
    "kernelspec": {
      "name": "python3",
      "display_name": "Python 3"
    },
    "language_info": {
      "name": "python"
    }
  },
  "cells": [
    {
      "cell_type": "markdown",
      "metadata": {
        "id": "view-in-github",
        "colab_type": "text"
      },
      "source": [
        "<a href=\"https://colab.research.google.com/github/nikhilkemkar/demo.github.io/blob/main/Airbnb_Booking_Analysis_bynikhil.ipynb\" target=\"_parent\"><img src=\"https://colab.research.google.com/assets/colab-badge.svg\" alt=\"Open In Colab\"/></a>"
      ]
    },
    {
      "cell_type": "markdown",
      "source": [
        "# **Project Name**    - Airbnb_Booking_Analysis\n",
        "\n"
      ],
      "metadata": {
        "id": "vncDsAP0Gaoa"
      }
    },
    {
      "cell_type": "markdown",
      "source": [
        "##### **Project Type**    - Exloritory Data Analysis\n",
        "##### **Contribution**    - Team\n",
        "##### **Team Member 1 -** Nikhil Kemkar\n",
        "##### **Team Member 2 -** Aditya Sakhre\n",
        "##### **Team Member 3 -** Anup Tharkude\n"
      ],
      "metadata": {
        "id": "beRrZCGUAJYm"
      }
    },
    {
      "cell_type": "markdown",
      "source": [
        "# **Project Summary -**"
      ],
      "metadata": {
        "id": "FJNUwmbgGyua"
      }
    },
    {
      "cell_type": "markdown",
      "source": [
        "Airbnb, Inc. is an American company that operates an online marketplace for lodging, primarily homestays for vacation rentals, and tourism activities. Based in San Francisco, California, the platform is accessible via website and mobile app.\n",
        "\n",
        "Since 2008, guests and hosts have used Airbnb to expand on traveling possibilities and present a more unique, personalized way of experiencing the world. Today, Airbnb became one of a kind service that is used and recognized by the whole world.\n",
        "\n",
        " Data analysis on millions of listings provided through Airbnb is a crucial factor for the company. These millions of listings generate a lot of data  data that can be analyzed and used for security, business decisions, understanding of customers' and providers' (hosts) behavior and performance on the platform, guiding marketing initiatives, implementation of innovative additional services and much more.\n",
        "\n",
        "- This dataset has around 49,000 observations in it with 16 columns and it is a mix between categorical and numeric values.\n",
        "- Explore and analyze the data to discover key understandings (not limited to these) such as :\n",
        "   - What can we learn about different hosts and areas?\n",
        "   -  What can we learn from predictions? (ex: locations, prices, reviews, etc)\n",
        "   -  Which hosts are the busiest and why?\n",
        "   -Is there any noticeable difference of traffic among different areas and what could be the reason for it? </b>\n",
        "\n",
        "\n",
        "\n",
        "\n"
      ],
      "metadata": {
        "id": "F6v_1wHtG2nS"
      }
    },
    {
      "cell_type": "markdown",
      "source": [
        "# **GitHub Link -**"
      ],
      "metadata": {
        "id": "w6K7xa23Elo4"
      }
    },
    {
      "cell_type": "markdown",
      "source": [
        "Provide your GitHub Link here."
      ],
      "metadata": {
        "id": "h1o69JH3Eqqn"
      }
    },
    {
      "cell_type": "markdown",
      "source": [
        "# **Problem Statement**\n"
      ],
      "metadata": {
        "id": "yQaldy8SH6Dl"
      }
    },
    {
      "cell_type": "markdown",
      "source": [
        "**Explore and analyze the data to discover key understandings (not limited to these) such as :**\n",
        "\n",
        "Analyse the data on Airbnb Booking to gain insights on the different factors that affect the booking.\n",
        "- What can we learn about different hosts and areas?\n",
        "- What can we learn from predictions? (ex: locations, prices, reviews, etc)\n",
        "- Which hosts are the busiest and why?\n",
        "- Is there any noticeable difference of traffic among different areas and what could be the reason for it?\n",
        "\n",
        "\n",
        "\n",
        "\n"
      ],
      "metadata": {
        "id": "DpeJGUA3kjGy"
      }
    },
    {
      "cell_type": "markdown",
      "source": [
        "# **General Guidelines** : -  "
      ],
      "metadata": {
        "id": "mDgbUHAGgjLW"
      }
    },
    {
      "cell_type": "markdown",
      "source": [
        "1.   Well-structured, formatted, and commented code is required.\n",
        "2.   Exception Handling, Production Grade Code & Deployment Ready Code will be a plus. Those students will be awarded some additional credits.\n",
        "     \n",
        "     The additional credits will have advantages over other students during Star Student selection.\n",
        "       \n",
        "             [ Note: - Deployment Ready Code is defined as, the whole .ipynb notebook should be executable in one go\n",
        "                       without a single error logged. ]\n",
        "\n",
        "3.   Each and every logic should have proper comments.\n",
        "4. You may add as many number of charts you want. Make Sure for each and every chart the following format should be answered.\n",
        "        \n",
        "\n",
        "```\n",
        "# Chart visualization code\n",
        "```\n",
        "            \n",
        "\n",
        "*   Why did you pick the specific chart?\n",
        "*   What is/are the insight(s) found from the chart?\n",
        "* Will the gained insights help creating a positive business impact?\n",
        "Are there any insights that lead to negative growth? Justify with specific reason.\n",
        "\n",
        "5. You have to create at least 20 logical & meaningful charts having important insights.\n",
        "\n",
        "\n",
        "[ Hints : - Do the Vizualization in  a structured way while following \"UBM\" Rule.\n",
        "\n",
        "U - Univariate Analysis,\n",
        "\n",
        "B - Bivariate Analysis (Numerical - Categorical, Numerical - Numerical, Categorical - Categorical)\n",
        "\n",
        "M - Multivariate Analysis\n",
        " ]\n",
        "\n",
        "\n",
        "\n"
      ],
      "metadata": {
        "id": "ZrxVaUj-hHfC"
      }
    },
    {
      "cell_type": "markdown",
      "source": [
        "# ***Let's Begin !***"
      ],
      "metadata": {
        "id": "O_i_v8NEhb9l"
      }
    },
    {
      "cell_type": "markdown",
      "source": [
        "## ***1. Know Your Data***"
      ],
      "metadata": {
        "id": "HhfV-JJviCcP"
      }
    },
    {
      "cell_type": "markdown",
      "source": [
        "### Import Libraries"
      ],
      "metadata": {
        "id": "Y3lxredqlCYt"
      }
    },
    {
      "cell_type": "code",
      "source": [
        "# Import Libraries\n",
        "import numpy as np\n",
        "import pandas as pd\n",
        "import matplotlib.pyplot as plt\n",
        "%matplotlib inline\n",
        "from datetime import datetime\n",
        "import seaborn as sns\n",
        "import ast\n",
        "\n"
      ],
      "metadata": {
        "id": "M8Vqi-pPk-HR"
      },
      "execution_count": 24,
      "outputs": []
    },
    {
      "cell_type": "markdown",
      "source": [
        "### Dataset Loading"
      ],
      "metadata": {
        "id": "3RnN4peoiCZX"
      }
    },
    {
      "cell_type": "code",
      "source": [
        "# Load Dataset\n",
        "path='/content/Airbnb NYC 2019.csv'\n",
        "df=pd.read_csv(path)\n"
      ],
      "metadata": {
        "id": "4CkvbW_SlZ_R"
      },
      "execution_count": 25,
      "outputs": []
    },
    {
      "cell_type": "markdown",
      "source": [
        "### Dataset First View"
      ],
      "metadata": {
        "id": "x71ZqKXriCWQ"
      }
    },
    {
      "cell_type": "code",
      "source": [
        "# Dataset First Look\n",
        "df.head()\n"
      ],
      "metadata": {
        "id": "LWNFOSvLl09H",
        "colab": {
          "base_uri": "https://localhost:8080/",
          "height": 461
        },
        "outputId": "bc1b2930-2031-46b0-9ccb-aa74eca1eea6"
      },
      "execution_count": 26,
      "outputs": [
        {
          "output_type": "execute_result",
          "data": {
            "text/plain": [
              "     id                                              name  host_id  \\\n",
              "0  2539                Clean & quiet apt home by the park     2787   \n",
              "1  2595                             Skylit Midtown Castle     2845   \n",
              "2  3647               THE VILLAGE OF HARLEM....NEW YORK !     4632   \n",
              "3  3831                   Cozy Entire Floor of Brownstone     4869   \n",
              "4  5022  Entire Apt: Spacious Studio/Loft by central park     7192   \n",
              "\n",
              "     host_name neighbourhood_group neighbourhood  latitude  longitude  \\\n",
              "0         John            Brooklyn    Kensington  40.64749  -73.97237   \n",
              "1     Jennifer           Manhattan       Midtown  40.75362  -73.98377   \n",
              "2    Elisabeth           Manhattan        Harlem  40.80902  -73.94190   \n",
              "3  LisaRoxanne            Brooklyn  Clinton Hill  40.68514  -73.95976   \n",
              "4        Laura           Manhattan   East Harlem  40.79851  -73.94399   \n",
              "\n",
              "         room_type  price  minimum_nights  number_of_reviews last_review  \\\n",
              "0     Private room    149               1                  9  2018-10-19   \n",
              "1  Entire home/apt    225               1                 45  2019-05-21   \n",
              "2     Private room    150               3                  0         NaN   \n",
              "3  Entire home/apt     89               1                270  2019-07-05   \n",
              "4  Entire home/apt     80              10                  9  2018-11-19   \n",
              "\n",
              "   reviews_per_month  calculated_host_listings_count  availability_365  \n",
              "0               0.21                               6               365  \n",
              "1               0.38                               2               355  \n",
              "2                NaN                               1               365  \n",
              "3               4.64                               1               194  \n",
              "4               0.10                               1                 0  "
            ],
            "text/html": [
              "\n",
              "\n",
              "  <div id=\"df-f9f5cc8e-d6a7-40ee-abc7-53aba6b73cb8\">\n",
              "    <div class=\"colab-df-container\">\n",
              "      <div>\n",
              "<style scoped>\n",
              "    .dataframe tbody tr th:only-of-type {\n",
              "        vertical-align: middle;\n",
              "    }\n",
              "\n",
              "    .dataframe tbody tr th {\n",
              "        vertical-align: top;\n",
              "    }\n",
              "\n",
              "    .dataframe thead th {\n",
              "        text-align: right;\n",
              "    }\n",
              "</style>\n",
              "<table border=\"1\" class=\"dataframe\">\n",
              "  <thead>\n",
              "    <tr style=\"text-align: right;\">\n",
              "      <th></th>\n",
              "      <th>id</th>\n",
              "      <th>name</th>\n",
              "      <th>host_id</th>\n",
              "      <th>host_name</th>\n",
              "      <th>neighbourhood_group</th>\n",
              "      <th>neighbourhood</th>\n",
              "      <th>latitude</th>\n",
              "      <th>longitude</th>\n",
              "      <th>room_type</th>\n",
              "      <th>price</th>\n",
              "      <th>minimum_nights</th>\n",
              "      <th>number_of_reviews</th>\n",
              "      <th>last_review</th>\n",
              "      <th>reviews_per_month</th>\n",
              "      <th>calculated_host_listings_count</th>\n",
              "      <th>availability_365</th>\n",
              "    </tr>\n",
              "  </thead>\n",
              "  <tbody>\n",
              "    <tr>\n",
              "      <th>0</th>\n",
              "      <td>2539</td>\n",
              "      <td>Clean &amp; quiet apt home by the park</td>\n",
              "      <td>2787</td>\n",
              "      <td>John</td>\n",
              "      <td>Brooklyn</td>\n",
              "      <td>Kensington</td>\n",
              "      <td>40.64749</td>\n",
              "      <td>-73.97237</td>\n",
              "      <td>Private room</td>\n",
              "      <td>149</td>\n",
              "      <td>1</td>\n",
              "      <td>9</td>\n",
              "      <td>2018-10-19</td>\n",
              "      <td>0.21</td>\n",
              "      <td>6</td>\n",
              "      <td>365</td>\n",
              "    </tr>\n",
              "    <tr>\n",
              "      <th>1</th>\n",
              "      <td>2595</td>\n",
              "      <td>Skylit Midtown Castle</td>\n",
              "      <td>2845</td>\n",
              "      <td>Jennifer</td>\n",
              "      <td>Manhattan</td>\n",
              "      <td>Midtown</td>\n",
              "      <td>40.75362</td>\n",
              "      <td>-73.98377</td>\n",
              "      <td>Entire home/apt</td>\n",
              "      <td>225</td>\n",
              "      <td>1</td>\n",
              "      <td>45</td>\n",
              "      <td>2019-05-21</td>\n",
              "      <td>0.38</td>\n",
              "      <td>2</td>\n",
              "      <td>355</td>\n",
              "    </tr>\n",
              "    <tr>\n",
              "      <th>2</th>\n",
              "      <td>3647</td>\n",
              "      <td>THE VILLAGE OF HARLEM....NEW YORK !</td>\n",
              "      <td>4632</td>\n",
              "      <td>Elisabeth</td>\n",
              "      <td>Manhattan</td>\n",
              "      <td>Harlem</td>\n",
              "      <td>40.80902</td>\n",
              "      <td>-73.94190</td>\n",
              "      <td>Private room</td>\n",
              "      <td>150</td>\n",
              "      <td>3</td>\n",
              "      <td>0</td>\n",
              "      <td>NaN</td>\n",
              "      <td>NaN</td>\n",
              "      <td>1</td>\n",
              "      <td>365</td>\n",
              "    </tr>\n",
              "    <tr>\n",
              "      <th>3</th>\n",
              "      <td>3831</td>\n",
              "      <td>Cozy Entire Floor of Brownstone</td>\n",
              "      <td>4869</td>\n",
              "      <td>LisaRoxanne</td>\n",
              "      <td>Brooklyn</td>\n",
              "      <td>Clinton Hill</td>\n",
              "      <td>40.68514</td>\n",
              "      <td>-73.95976</td>\n",
              "      <td>Entire home/apt</td>\n",
              "      <td>89</td>\n",
              "      <td>1</td>\n",
              "      <td>270</td>\n",
              "      <td>2019-07-05</td>\n",
              "      <td>4.64</td>\n",
              "      <td>1</td>\n",
              "      <td>194</td>\n",
              "    </tr>\n",
              "    <tr>\n",
              "      <th>4</th>\n",
              "      <td>5022</td>\n",
              "      <td>Entire Apt: Spacious Studio/Loft by central park</td>\n",
              "      <td>7192</td>\n",
              "      <td>Laura</td>\n",
              "      <td>Manhattan</td>\n",
              "      <td>East Harlem</td>\n",
              "      <td>40.79851</td>\n",
              "      <td>-73.94399</td>\n",
              "      <td>Entire home/apt</td>\n",
              "      <td>80</td>\n",
              "      <td>10</td>\n",
              "      <td>9</td>\n",
              "      <td>2018-11-19</td>\n",
              "      <td>0.10</td>\n",
              "      <td>1</td>\n",
              "      <td>0</td>\n",
              "    </tr>\n",
              "  </tbody>\n",
              "</table>\n",
              "</div>\n",
              "      <button class=\"colab-df-convert\" onclick=\"convertToInteractive('df-f9f5cc8e-d6a7-40ee-abc7-53aba6b73cb8')\"\n",
              "              title=\"Convert this dataframe to an interactive table.\"\n",
              "              style=\"display:none;\">\n",
              "\n",
              "  <svg xmlns=\"http://www.w3.org/2000/svg\" height=\"24px\"viewBox=\"0 0 24 24\"\n",
              "       width=\"24px\">\n",
              "    <path d=\"M0 0h24v24H0V0z\" fill=\"none\"/>\n",
              "    <path d=\"M18.56 5.44l.94 2.06.94-2.06 2.06-.94-2.06-.94-.94-2.06-.94 2.06-2.06.94zm-11 1L8.5 8.5l.94-2.06 2.06-.94-2.06-.94L8.5 2.5l-.94 2.06-2.06.94zm10 10l.94 2.06.94-2.06 2.06-.94-2.06-.94-.94-2.06-.94 2.06-2.06.94z\"/><path d=\"M17.41 7.96l-1.37-1.37c-.4-.4-.92-.59-1.43-.59-.52 0-1.04.2-1.43.59L10.3 9.45l-7.72 7.72c-.78.78-.78 2.05 0 2.83L4 21.41c.39.39.9.59 1.41.59.51 0 1.02-.2 1.41-.59l7.78-7.78 2.81-2.81c.8-.78.8-2.07 0-2.86zM5.41 20L4 18.59l7.72-7.72 1.47 1.35L5.41 20z\"/>\n",
              "  </svg>\n",
              "      </button>\n",
              "\n",
              "\n",
              "\n",
              "    <div id=\"df-890fe44a-3729-473d-90f9-f481756268a1\">\n",
              "      <button class=\"colab-df-quickchart\" onclick=\"quickchart('df-890fe44a-3729-473d-90f9-f481756268a1')\"\n",
              "              title=\"Suggest charts.\"\n",
              "              style=\"display:none;\">\n",
              "\n",
              "<svg xmlns=\"http://www.w3.org/2000/svg\" height=\"24px\"viewBox=\"0 0 24 24\"\n",
              "     width=\"24px\">\n",
              "    <g>\n",
              "        <path d=\"M19 3H5c-1.1 0-2 .9-2 2v14c0 1.1.9 2 2 2h14c1.1 0 2-.9 2-2V5c0-1.1-.9-2-2-2zM9 17H7v-7h2v7zm4 0h-2V7h2v10zm4 0h-2v-4h2v4z\"/>\n",
              "    </g>\n",
              "</svg>\n",
              "      </button>\n",
              "    </div>\n",
              "\n",
              "<style>\n",
              "  .colab-df-quickchart {\n",
              "    background-color: #E8F0FE;\n",
              "    border: none;\n",
              "    border-radius: 50%;\n",
              "    cursor: pointer;\n",
              "    display: none;\n",
              "    fill: #1967D2;\n",
              "    height: 32px;\n",
              "    padding: 0 0 0 0;\n",
              "    width: 32px;\n",
              "  }\n",
              "\n",
              "  .colab-df-quickchart:hover {\n",
              "    background-color: #E2EBFA;\n",
              "    box-shadow: 0px 1px 2px rgba(60, 64, 67, 0.3), 0px 1px 3px 1px rgba(60, 64, 67, 0.15);\n",
              "    fill: #174EA6;\n",
              "  }\n",
              "\n",
              "  [theme=dark] .colab-df-quickchart {\n",
              "    background-color: #3B4455;\n",
              "    fill: #D2E3FC;\n",
              "  }\n",
              "\n",
              "  [theme=dark] .colab-df-quickchart:hover {\n",
              "    background-color: #434B5C;\n",
              "    box-shadow: 0px 1px 3px 1px rgba(0, 0, 0, 0.15);\n",
              "    filter: drop-shadow(0px 1px 2px rgba(0, 0, 0, 0.3));\n",
              "    fill: #FFFFFF;\n",
              "  }\n",
              "</style>\n",
              "\n",
              "    <script>\n",
              "      async function quickchart(key) {\n",
              "        const containerElement = document.querySelector('#' + key);\n",
              "        const charts = await google.colab.kernel.invokeFunction(\n",
              "            'suggestCharts', [key], {});\n",
              "      }\n",
              "    </script>\n",
              "\n",
              "      <script>\n",
              "\n",
              "function displayQuickchartButton(domScope) {\n",
              "  let quickchartButtonEl =\n",
              "    domScope.querySelector('#df-890fe44a-3729-473d-90f9-f481756268a1 button.colab-df-quickchart');\n",
              "  quickchartButtonEl.style.display =\n",
              "    google.colab.kernel.accessAllowed ? 'block' : 'none';\n",
              "}\n",
              "\n",
              "        displayQuickchartButton(document);\n",
              "      </script>\n",
              "      <style>\n",
              "    .colab-df-container {\n",
              "      display:flex;\n",
              "      flex-wrap:wrap;\n",
              "      gap: 12px;\n",
              "    }\n",
              "\n",
              "    .colab-df-convert {\n",
              "      background-color: #E8F0FE;\n",
              "      border: none;\n",
              "      border-radius: 50%;\n",
              "      cursor: pointer;\n",
              "      display: none;\n",
              "      fill: #1967D2;\n",
              "      height: 32px;\n",
              "      padding: 0 0 0 0;\n",
              "      width: 32px;\n",
              "    }\n",
              "\n",
              "    .colab-df-convert:hover {\n",
              "      background-color: #E2EBFA;\n",
              "      box-shadow: 0px 1px 2px rgba(60, 64, 67, 0.3), 0px 1px 3px 1px rgba(60, 64, 67, 0.15);\n",
              "      fill: #174EA6;\n",
              "    }\n",
              "\n",
              "    [theme=dark] .colab-df-convert {\n",
              "      background-color: #3B4455;\n",
              "      fill: #D2E3FC;\n",
              "    }\n",
              "\n",
              "    [theme=dark] .colab-df-convert:hover {\n",
              "      background-color: #434B5C;\n",
              "      box-shadow: 0px 1px 3px 1px rgba(0, 0, 0, 0.15);\n",
              "      filter: drop-shadow(0px 1px 2px rgba(0, 0, 0, 0.3));\n",
              "      fill: #FFFFFF;\n",
              "    }\n",
              "  </style>\n",
              "\n",
              "      <script>\n",
              "        const buttonEl =\n",
              "          document.querySelector('#df-f9f5cc8e-d6a7-40ee-abc7-53aba6b73cb8 button.colab-df-convert');\n",
              "        buttonEl.style.display =\n",
              "          google.colab.kernel.accessAllowed ? 'block' : 'none';\n",
              "\n",
              "        async function convertToInteractive(key) {\n",
              "          const element = document.querySelector('#df-f9f5cc8e-d6a7-40ee-abc7-53aba6b73cb8');\n",
              "          const dataTable =\n",
              "            await google.colab.kernel.invokeFunction('convertToInteractive',\n",
              "                                                     [key], {});\n",
              "          if (!dataTable) return;\n",
              "\n",
              "          const docLinkHtml = 'Like what you see? Visit the ' +\n",
              "            '<a target=\"_blank\" href=https://colab.research.google.com/notebooks/data_table.ipynb>data table notebook</a>'\n",
              "            + ' to learn more about interactive tables.';\n",
              "          element.innerHTML = '';\n",
              "          dataTable['output_type'] = 'display_data';\n",
              "          await google.colab.output.renderOutput(dataTable, element);\n",
              "          const docLink = document.createElement('div');\n",
              "          docLink.innerHTML = docLinkHtml;\n",
              "          element.appendChild(docLink);\n",
              "        }\n",
              "      </script>\n",
              "    </div>\n",
              "  </div>\n"
            ]
          },
          "metadata": {},
          "execution_count": 26
        }
      ]
    },
    {
      "cell_type": "markdown",
      "source": [
        "### Dataset Rows & Columns count"
      ],
      "metadata": {
        "id": "7hBIi_osiCS2"
      }
    },
    {
      "cell_type": "code",
      "source": [
        "# Dataset Rows\n",
        "len(df)"
      ],
      "metadata": {
        "id": "Kllu7SJgmLij",
        "colab": {
          "base_uri": "https://localhost:8080/"
        },
        "outputId": "e3f9f0a2-e5ca-417f-9eaa-4225481cc09c"
      },
      "execution_count": 27,
      "outputs": [
        {
          "output_type": "execute_result",
          "data": {
            "text/plain": [
              "48895"
            ]
          },
          "metadata": {},
          "execution_count": 27
        }
      ]
    },
    {
      "cell_type": "code",
      "source": [
        "# Dataet Columns\n",
        "len(df.columns)"
      ],
      "metadata": {
        "colab": {
          "base_uri": "https://localhost:8080/"
        },
        "id": "vbseH75ebfx_",
        "outputId": "9541aa6e-91d4-413b-a264-c364062209ec"
      },
      "execution_count": 28,
      "outputs": [
        {
          "output_type": "execute_result",
          "data": {
            "text/plain": [
              "16"
            ]
          },
          "metadata": {},
          "execution_count": 28
        }
      ]
    },
    {
      "cell_type": "markdown",
      "source": [
        "### Dataset Information"
      ],
      "metadata": {
        "id": "JlHwYmJAmNHm"
      }
    },
    {
      "cell_type": "code",
      "source": [
        "# Dataset Info\n",
        "df.info()"
      ],
      "metadata": {
        "id": "e9hRXRi6meOf",
        "colab": {
          "base_uri": "https://localhost:8080/"
        },
        "outputId": "0857f1f1-9464-48ab-815a-ed25d650b271"
      },
      "execution_count": 29,
      "outputs": [
        {
          "output_type": "stream",
          "name": "stdout",
          "text": [
            "<class 'pandas.core.frame.DataFrame'>\n",
            "RangeIndex: 48895 entries, 0 to 48894\n",
            "Data columns (total 16 columns):\n",
            " #   Column                          Non-Null Count  Dtype  \n",
            "---  ------                          --------------  -----  \n",
            " 0   id                              48895 non-null  int64  \n",
            " 1   name                            48879 non-null  object \n",
            " 2   host_id                         48895 non-null  int64  \n",
            " 3   host_name                       48874 non-null  object \n",
            " 4   neighbourhood_group             48895 non-null  object \n",
            " 5   neighbourhood                   48895 non-null  object \n",
            " 6   latitude                        48895 non-null  float64\n",
            " 7   longitude                       48895 non-null  float64\n",
            " 8   room_type                       48895 non-null  object \n",
            " 9   price                           48895 non-null  int64  \n",
            " 10  minimum_nights                  48895 non-null  int64  \n",
            " 11  number_of_reviews               48895 non-null  int64  \n",
            " 12  last_review                     38843 non-null  object \n",
            " 13  reviews_per_month               38843 non-null  float64\n",
            " 14  calculated_host_listings_count  48895 non-null  int64  \n",
            " 15  availability_365                48895 non-null  int64  \n",
            "dtypes: float64(3), int64(7), object(6)\n",
            "memory usage: 6.0+ MB\n"
          ]
        }
      ]
    },
    {
      "cell_type": "markdown",
      "source": [
        "#### Duplicate Values"
      ],
      "metadata": {
        "id": "35m5QtbWiB9F"
      }
    },
    {
      "cell_type": "code",
      "source": [
        "# Dataset Duplicate Value Count\n",
        "df.duplicated().sum()"
      ],
      "metadata": {
        "id": "1sLdpKYkmox0",
        "colab": {
          "base_uri": "https://localhost:8080/"
        },
        "outputId": "a0968c51-27db-4dda-ee9c-c5cc6ce3737f"
      },
      "execution_count": 30,
      "outputs": [
        {
          "output_type": "execute_result",
          "data": {
            "text/plain": [
              "0"
            ]
          },
          "metadata": {},
          "execution_count": 30
        }
      ]
    },
    {
      "cell_type": "markdown",
      "source": [
        "#### Missing Values/Null Values"
      ],
      "metadata": {
        "id": "PoPl-ycgm1ru"
      }
    },
    {
      "cell_type": "code",
      "source": [
        "# Missing Values/Null Values Count\n",
        "missing=df.isnull().sum().sort_values(ascending=False)\n",
        "missing"
      ],
      "metadata": {
        "id": "GgHWkxvamxVg",
        "colab": {
          "base_uri": "https://localhost:8080/"
        },
        "outputId": "2c448fcd-2495-4081-efca-2ce66dfbfac3"
      },
      "execution_count": 31,
      "outputs": [
        {
          "output_type": "execute_result",
          "data": {
            "text/plain": [
              "last_review                       10052\n",
              "reviews_per_month                 10052\n",
              "host_name                            21\n",
              "name                                 16\n",
              "id                                    0\n",
              "host_id                               0\n",
              "neighbourhood_group                   0\n",
              "neighbourhood                         0\n",
              "latitude                              0\n",
              "longitude                             0\n",
              "room_type                             0\n",
              "price                                 0\n",
              "minimum_nights                        0\n",
              "number_of_reviews                     0\n",
              "calculated_host_listings_count        0\n",
              "availability_365                      0\n",
              "dtype: int64"
            ]
          },
          "metadata": {},
          "execution_count": 31
        }
      ]
    },
    {
      "cell_type": "code",
      "source": [
        "missing1=missing[missing!=0]\n",
        "\n",
        "missing1"
      ],
      "metadata": {
        "colab": {
          "base_uri": "https://localhost:8080/"
        },
        "id": "QvhqKmgudMbu",
        "outputId": "80dc2b76-96a2-4163-dda9-44c69a66b790"
      },
      "execution_count": 32,
      "outputs": [
        {
          "output_type": "execute_result",
          "data": {
            "text/plain": [
              "last_review          10052\n",
              "reviews_per_month    10052\n",
              "host_name               21\n",
              "name                    16\n",
              "dtype: int64"
            ]
          },
          "metadata": {},
          "execution_count": 32
        }
      ]
    },
    {
      "cell_type": "code",
      "source": [
        "# Visualizing the missing values\n",
        "missing1.plot(kind='barh')"
      ],
      "metadata": {
        "id": "3q5wnI3om9sJ",
        "colab": {
          "base_uri": "https://localhost:8080/",
          "height": 0
        },
        "outputId": "82d569b1-feb7-4818-b328-8c8629141673"
      },
      "execution_count": 33,
      "outputs": [
        {
          "output_type": "execute_result",
          "data": {
            "text/plain": [
              "<Axes: >"
            ]
          },
          "metadata": {},
          "execution_count": 33
        },
        {
          "output_type": "display_data",
          "data": {
            "text/plain": [
              "<Figure size 640x480 with 1 Axes>"
            ],
            "image/png": "[encoded data removed]"
          },
          "metadata": {}
        }
      ]
    },
    {
      "cell_type": "markdown",
      "source": [
        "### What did you know about your dataset?"
      ],
      "metadata": {
        "id": "H0kj-8xxnORC"
      }
    },
    {
      "cell_type": "markdown",
      "source": [
        "This data set contains a single file which compares various booking information .Includes information such as location of booking , length of nightsto be paid for ,  the number checks per month, and the number of rviews per months , among other things. The dataset contains a total of 14884 rows and 16 columns. In this dataset we find data types of every columns i.e (Int, float ,string) and observe that some columns data types is not accurate and missing remove later .We find unique value of every columns it means what actual values in every columns"
      ],
      "metadata": {
        "id": "gfoNAAC-nUe_"
      }
    },
    {
      "cell_type": "markdown",
      "source": [
        "## ***2. Understanding Your Variables***"
      ],
      "metadata": {
        "id": "nA9Y7ga8ng1Z"
      }
    },
    {
      "cell_type": "markdown",
      "source": [
        "**let's get all columns**"
      ],
      "metadata": {
        "id": "iA3R4OPpASkT"
      }
    },
    {
      "cell_type": "code",
      "source": [
        "# Dataset Columns\n",
        "df.columns"
      ],
      "metadata": {
        "id": "j7xfkqrt5Ag5",
        "colab": {
          "base_uri": "https://localhost:8080/"
        },
        "outputId": "16d29a87-9dd6-4778-a3d8-a37523d10357"
      },
      "execution_count": 34,
      "outputs": [
        {
          "output_type": "execute_result",
          "data": {
            "text/plain": [
              "Index(['id', 'name', 'host_id', 'host_name', 'neighbourhood_group',\n",
              "       'neighbourhood', 'latitude', 'longitude', 'room_type', 'price',\n",
              "       'minimum_nights', 'number_of_reviews', 'last_review',\n",
              "       'reviews_per_month', 'calculated_host_listings_count',\n",
              "       'availability_365'],\n",
              "      dtype='object')"
            ]
          },
          "metadata": {},
          "execution_count": 34
        }
      ]
    },
    {
      "cell_type": "markdown",
      "source": [
        "**Let's describe data for insights**\n",
        "\n",
        "\n",
        "\n",
        "\n"
      ],
      "metadata": {
        "id": "Vaa8n8zmAjH9"
      }
    },
    {
      "cell_type": "code",
      "source": [
        "# Dataset Describe\n",
        "df.describe()"
      ],
      "metadata": {
        "id": "DnOaZdaE5Q5t",
        "colab": {
          "base_uri": "https://localhost:8080/",
          "height": 364
        },
        "outputId": "e1ffea01-ad63-45af-ccba-c43792edf8aa"
      },
      "execution_count": 35,
      "outputs": [
        {
          "output_type": "execute_result",
          "data": {
            "text/plain": [
              "                 id       host_id      latitude     longitude         price  \\\n",
              "count  4.889500e+04  4.889500e+04  48895.000000  48895.000000  48895.000000   \n",
              "mean   1.901714e+07  6.762001e+07     40.728949    -73.952170    152.720687   \n",
              "std    1.098311e+07  7.861097e+07      0.054530      0.046157    240.154170   \n",
              "min    2.539000e+03  2.438000e+03     40.499790    -74.244420      0.000000   \n",
              "25%    9.471945e+06  7.822033e+06     40.690100    -73.983070     69.000000   \n",
              "50%    1.967728e+07  3.079382e+07     40.723070    -73.955680    106.000000   \n",
              "75%    2.915218e+07  1.074344e+08     40.763115    -73.936275    175.000000   \n",
              "max    3.648724e+07  2.743213e+08     40.913060    -73.712990  10000.000000   \n",
              "\n",
              "       minimum_nights  number_of_reviews  reviews_per_month  \\\n",
              "count    48895.000000       48895.000000       38843.000000   \n",
              "mean         7.029962          23.274466           1.373221   \n",
              "std         20.510550          44.550582           1.680442   \n",
              "min          1.000000           0.000000           0.010000   \n",
              "25%          1.000000           1.000000           0.190000   \n",
              "50%          3.000000           5.000000           0.720000   \n",
              "75%          5.000000          24.000000           2.020000   \n",
              "max       1250.000000         629.000000          58.500000   \n",
              "\n",
              "       calculated_host_listings_count  availability_365  \n",
              "count                    48895.000000      48895.000000  \n",
              "mean                         7.143982        112.781327  \n",
              "std                         32.952519        131.622289  \n",
              "min                          1.000000          0.000000  \n",
              "25%                          1.000000          0.000000  \n",
              "50%                          1.000000         45.000000  \n",
              "75%                          2.000000        227.000000  \n",
              "max                        327.000000        365.000000  "
            ],
            "text/html": [
              "\n",
              "\n",
              "  <div id=\"df-9eb3f840-a4df-47ec-a969-a5f441b240d7\">\n",
              "    <div class=\"colab-df-container\">\n",
              "      <div>\n",
              "<style scoped>\n",
              "    .dataframe tbody tr th:only-of-type {\n",
              "        vertical-align: middle;\n",
              "    }\n",
              "\n",
              "    .dataframe tbody tr th {\n",
              "        vertical-align: top;\n",
              "    }\n",
              "\n",
              "    .dataframe thead th {\n",
              "        text-align: right;\n",
              "    }\n",
              "</style>\n",
              "<table border=\"1\" class=\"dataframe\">\n",
              "  <thead>\n",
              "    <tr style=\"text-align: right;\">\n",
              "      <th></th>\n",
              "      <th>id</th>\n",
              "      <th>host_id</th>\n",
              "      <th>latitude</th>\n",
              "      <th>longitude</th>\n",
              "      <th>price</th>\n",
              "      <th>minimum_nights</th>\n",
              "      <th>number_of_reviews</th>\n",
              "      <th>reviews_per_month</th>\n",
              "      <th>calculated_host_listings_count</th>\n",
              "      <th>availability_365</th>\n",
              "    </tr>\n",
              "  </thead>\n",
              "  <tbody>\n",
              "    <tr>\n",
              "      <th>count</th>\n",
              "      <td>4.889500e+04</td>\n",
              "      <td>4.889500e+04</td>\n",
              "      <td>48895.000000</td>\n",
              "      <td>48895.000000</td>\n",
              "      <td>48895.000000</td>\n",
              "      <td>48895.000000</td>\n",
              "      <td>48895.000000</td>\n",
              "      <td>38843.000000</td>\n",
              "      <td>48895.000000</td>\n",
              "      <td>48895.000000</td>\n",
              "    </tr>\n",
              "    <tr>\n",
              "      <th>mean</th>\n",
              "      <td>1.901714e+07</td>\n",
              "      <td>6.762001e+07</td>\n",
              "      <td>40.728949</td>\n",
              "      <td>-73.952170</td>\n",
              "      <td>152.720687</td>\n",
              "      <td>7.029962</td>\n",
              "      <td>23.274466</td>\n",
              "      <td>1.373221</td>\n",
              "      <td>7.143982</td>\n",
              "      <td>112.781327</td>\n",
              "    </tr>\n",
              "    <tr>\n",
              "      <th>std</th>\n",
              "      <td>1.098311e+07</td>\n",
              "      <td>7.861097e+07</td>\n",
              "      <td>0.054530</td>\n",
              "      <td>0.046157</td>\n",
              "      <td>240.154170</td>\n",
              "      <td>20.510550</td>\n",
              "      <td>44.550582</td>\n",
              "      <td>1.680442</td>\n",
              "      <td>32.952519</td>\n",
              "      <td>131.622289</td>\n",
              "    </tr>\n",
              "    <tr>\n",
              "      <th>min</th>\n",
              "      <td>2.539000e+03</td>\n",
              "      <td>2.438000e+03</td>\n",
              "      <td>40.499790</td>\n",
              "      <td>-74.244420</td>\n",
              "      <td>0.000000</td>\n",
              "      <td>1.000000</td>\n",
              "      <td>0.000000</td>\n",
              "      <td>0.010000</td>\n",
              "      <td>1.000000</td>\n",
              "      <td>0.000000</td>\n",
              "    </tr>\n",
              "    <tr>\n",
              "      <th>25%</th>\n",
              "      <td>9.471945e+06</td>\n",
              "      <td>7.822033e+06</td>\n",
              "      <td>40.690100</td>\n",
              "      <td>-73.983070</td>\n",
              "      <td>69.000000</td>\n",
              "      <td>1.000000</td>\n",
              "      <td>1.000000</td>\n",
              "      <td>0.190000</td>\n",
              "      <td>1.000000</td>\n",
              "      <td>0.000000</td>\n",
              "    </tr>\n",
              "    <tr>\n",
              "      <th>50%</th>\n",
              "      <td>1.967728e+07</td>\n",
              "      <td>3.079382e+07</td>\n",
              "      <td>40.723070</td>\n",
              "      <td>-73.955680</td>\n",
              "      <td>106.000000</td>\n",
              "      <td>3.000000</td>\n",
              "      <td>5.000000</td>\n",
              "      <td>0.720000</td>\n",
              "      <td>1.000000</td>\n",
              "      <td>45.000000</td>\n",
              "    </tr>\n",
              "    <tr>\n",
              "      <th>75%</th>\n",
              "      <td>2.915218e+07</td>\n",
              "      <td>1.074344e+08</td>\n",
              "      <td>40.763115</td>\n",
              "      <td>-73.936275</td>\n",
              "      <td>175.000000</td>\n",
              "      <td>5.000000</td>\n",
              "      <td>24.000000</td>\n",
              "      <td>2.020000</td>\n",
              "      <td>2.000000</td>\n",
              "      <td>227.000000</td>\n",
              "    </tr>\n",
              "    <tr>\n",
              "      <th>max</th>\n",
              "      <td>3.648724e+07</td>\n",
              "      <td>2.743213e+08</td>\n",
              "      <td>40.913060</td>\n",
              "      <td>-73.712990</td>\n",
              "      <td>10000.000000</td>\n",
              "      <td>1250.000000</td>\n",
              "      <td>629.000000</td>\n",
              "      <td>58.500000</td>\n",
              "      <td>327.000000</td>\n",
              "      <td>365.000000</td>\n",
              "    </tr>\n",
              "  </tbody>\n",
              "</table>\n",
              "</div>\n",
              "      <button class=\"colab-df-convert\" onclick=\"convertToInteractive('df-9eb3f840-a4df-47ec-a969-a5f441b240d7')\"\n",
              "              title=\"Convert this dataframe to an interactive table.\"\n",
              "              style=\"display:none;\">\n",
              "\n",
              "  <svg xmlns=\"http://www.w3.org/2000/svg\" height=\"24px\"viewBox=\"0 0 24 24\"\n",
              "       width=\"24px\">\n",
              "    <path d=\"M0 0h24v24H0V0z\" fill=\"none\"/>\n",
              "    <path d=\"M18.56 5.44l.94 2.06.94-2.06 2.06-.94-2.06-.94-.94-2.06-.94 2.06-2.06.94zm-11 1L8.5 8.5l.94-2.06 2.06-.94-2.06-.94L8.5 2.5l-.94 2.06-2.06.94zm10 10l.94 2.06.94-2.06 2.06-.94-2.06-.94-.94-2.06-.94 2.06-2.06.94z\"/><path d=\"M17.41 7.96l-1.37-1.37c-.4-.4-.92-.59-1.43-.59-.52 0-1.04.2-1.43.59L10.3 9.45l-7.72 7.72c-.78.78-.78 2.05 0 2.83L4 21.41c.39.39.9.59 1.41.59.51 0 1.02-.2 1.41-.59l7.78-7.78 2.81-2.81c.8-.78.8-2.07 0-2.86zM5.41 20L4 18.59l7.72-7.72 1.47 1.35L5.41 20z\"/>\n",
              "  </svg>\n",
              "      </button>\n",
              "\n",
              "\n",
              "\n",
              "    <div id=\"df-feed5792-1025-4788-87eb-35766cd2a26e\">\n",
              "      <button class=\"colab-df-quickchart\" onclick=\"quickchart('df-feed5792-1025-4788-87eb-35766cd2a26e')\"\n",
              "              title=\"Suggest charts.\"\n",
              "              style=\"display:none;\">\n",
              "\n",
              "<svg xmlns=\"http://www.w3.org/2000/svg\" height=\"24px\"viewBox=\"0 0 24 24\"\n",
              "     width=\"24px\">\n",
              "    <g>\n",
              "        <path d=\"M19 3H5c-1.1 0-2 .9-2 2v14c0 1.1.9 2 2 2h14c1.1 0 2-.9 2-2V5c0-1.1-.9-2-2-2zM9 17H7v-7h2v7zm4 0h-2V7h2v10zm4 0h-2v-4h2v4z\"/>\n",
              "    </g>\n",
              "</svg>\n",
              "      </button>\n",
              "    </div>\n",
              "\n",
              "<style>\n",
              "  .colab-df-quickchart {\n",
              "    background-color: #E8F0FE;\n",
              "    border: none;\n",
              "    border-radius: 50%;\n",
              "    cursor: pointer;\n",
              "    display: none;\n",
              "    fill: #1967D2;\n",
              "    height: 32px;\n",
              "    padding: 0 0 0 0;\n",
              "    width: 32px;\n",
              "  }\n",
              "\n",
              "  .colab-df-quickchart:hover {\n",
              "    background-color: #E2EBFA;\n",
              "    box-shadow: 0px 1px 2px rgba(60, 64, 67, 0.3), 0px 1px 3px 1px rgba(60, 64, 67, 0.15);\n",
              "    fill: #174EA6;\n",
              "  }\n",
              "\n",
              "  [theme=dark] .colab-df-quickchart {\n",
              "    background-color: #3B4455;\n",
              "    fill: #D2E3FC;\n",
              "  }\n",
              "\n",
              "  [theme=dark] .colab-df-quickchart:hover {\n",
              "    background-color: #434B5C;\n",
              "    box-shadow: 0px 1px 3px 1px rgba(0, 0, 0, 0.15);\n",
              "    filter: drop-shadow(0px 1px 2px rgba(0, 0, 0, 0.3));\n",
              "    fill: #FFFFFF;\n",
              "  }\n",
              "</style>\n",
              "\n",
              "    <script>\n",
              "      async function quickchart(key) {\n",
              "        const containerElement = document.querySelector('#' + key);\n",
              "        const charts = await google.colab.kernel.invokeFunction(\n",
              "            'suggestCharts', [key], {});\n",
              "      }\n",
              "    </script>\n",
              "\n",
              "      <script>\n",
              "\n",
              "function displayQuickchartButton(domScope) {\n",
              "  let quickchartButtonEl =\n",
              "    domScope.querySelector('#df-feed5792-1025-4788-87eb-35766cd2a26e button.colab-df-quickchart');\n",
              "  quickchartButtonEl.style.display =\n",
              "    google.colab.kernel.accessAllowed ? 'block' : 'none';\n",
              "}\n",
              "\n",
              "        displayQuickchartButton(document);\n",
              "      </script>\n",
              "      <style>\n",
              "    .colab-df-container {\n",
              "      display:flex;\n",
              "      flex-wrap:wrap;\n",
              "      gap: 12px;\n",
              "    }\n",
              "\n",
              "    .colab-df-convert {\n",
              "      background-color: #E8F0FE;\n",
              "      border: none;\n",
              "      border-radius: 50%;\n",
              "      cursor: pointer;\n",
              "      display: none;\n",
              "      fill: #1967D2;\n",
              "      height: 32px;\n",
              "      padding: 0 0 0 0;\n",
              "      width: 32px;\n",
              "    }\n",
              "\n",
              "    .colab-df-convert:hover {\n",
              "      background-color: #E2EBFA;\n",
              "      box-shadow: 0px 1px 2px rgba(60, 64, 67, 0.3), 0px 1px 3px 1px rgba(60, 64, 67, 0.15);\n",
              "      fill: #174EA6;\n",
              "    }\n",
              "\n",
              "    [theme=dark] .colab-df-convert {\n",
              "      background-color: #3B4455;\n",
              "      fill: #D2E3FC;\n",
              "    }\n",
              "\n",
              "    [theme=dark] .colab-df-convert:hover {\n",
              "      background-color: #434B5C;\n",
              "      box-shadow: 0px 1px 3px 1px rgba(0, 0, 0, 0.15);\n",
              "      filter: drop-shadow(0px 1px 2px rgba(0, 0, 0, 0.3));\n",
              "      fill: #FFFFFF;\n",
              "    }\n",
              "  </style>\n",
              "\n",
              "      <script>\n",
              "        const buttonEl =\n",
              "          document.querySelector('#df-9eb3f840-a4df-47ec-a969-a5f441b240d7 button.colab-df-convert');\n",
              "        buttonEl.style.display =\n",
              "          google.colab.kernel.accessAllowed ? 'block' : 'none';\n",
              "\n",
              "        async function convertToInteractive(key) {\n",
              "          const element = document.querySelector('#df-9eb3f840-a4df-47ec-a969-a5f441b240d7');\n",
              "          const dataTable =\n",
              "            await google.colab.kernel.invokeFunction('convertToInteractive',\n",
              "                                                     [key], {});\n",
              "          if (!dataTable) return;\n",
              "\n",
              "          const docLinkHtml = 'Like what you see? Visit the ' +\n",
              "            '<a target=\"_blank\" href=https://colab.research.google.com/notebooks/data_table.ipynb>data table notebook</a>'\n",
              "            + ' to learn more about interactive tables.';\n",
              "          element.innerHTML = '';\n",
              "          dataTable['output_type'] = 'display_data';\n",
              "          await google.colab.output.renderOutput(dataTable, element);\n",
              "          const docLink = document.createElement('div');\n",
              "          docLink.innerHTML = docLinkHtml;\n",
              "          element.appendChild(docLink);\n",
              "        }\n",
              "      </script>\n",
              "    </div>\n",
              "  </div>\n"
            ]
          },
          "metadata": {},
          "execution_count": 35
        }
      ]
    },
    {
      "cell_type": "markdown",
      "source": [
        "### Variables Description"
      ],
      "metadata": {
        "id": "PBTbrJXOngz2"
      }
    },
    {
      "cell_type": "markdown",
      "source": [
        "### **Description of individual Variable :**\n",
        "\n",
        "**id** - Unique ID\n",
        "\n",
        "**name** - Name of the listing\n",
        "\n",
        "**host_id**- Unique host_id\n",
        "\n",
        "**host_name**- Name of the host\n",
        "\n",
        "**neighbourhood_group** - location\n",
        "\n",
        "**neighborhood** - area\n",
        "\n",
        "**latitude**- Latitude range\n",
        "\n",
        "**longitude** - Longitude range\n",
        "\n",
        "**room_type** - Type of listing\n",
        "\n",
        "**price** - Price of listing\n",
        "\n",
        "**minimum_nights** - Minimum nights to be paid for\n",
        "\n",
        "**Number of reviews** - Number of reviews\n",
        "\n",
        "**last_review** - Content of the last review\n",
        "\n",
        "**reeviews_per_month** - Number of checks per month\n",
        "\n",
        "**calculated_host_listing_count** - Total count\n",
        "\n",
        "**availability_365** - Availability around the year\n"
      ],
      "metadata": {
        "id": "aJV4KIxSnxay"
      }
    },
    {
      "cell_type": "markdown",
      "source": [
        "### Check Unique Values for each variable."
      ],
      "metadata": {
        "id": "u3PMJOP6ngxN"
      }
    },
    {
      "cell_type": "code",
      "source": [
        "# Check Unique Values for each variable.\n",
        "df.nunique()"
      ],
      "metadata": {
        "id": "zms12Yq5n-jE",
        "colab": {
          "base_uri": "https://localhost:8080/"
        },
        "outputId": "7783fda3-b29a-4e0a-9caa-209891305b38"
      },
      "execution_count": 36,
      "outputs": [
        {
          "output_type": "execute_result",
          "data": {
            "text/plain": [
              "id                                48895\n",
              "name                              47905\n",
              "host_id                           37457\n",
              "host_name                         11452\n",
              "neighbourhood_group                   5\n",
              "neighbourhood                       221\n",
              "latitude                          19048\n",
              "longitude                         14718\n",
              "room_type                             3\n",
              "price                               674\n",
              "minimum_nights                      109\n",
              "number_of_reviews                   394\n",
              "last_review                        1764\n",
              "reviews_per_month                   937\n",
              "calculated_host_listings_count       47\n",
              "availability_365                    366\n",
              "dtype: int64"
            ]
          },
          "metadata": {},
          "execution_count": 36
        }
      ]
    },
    {
      "cell_type": "markdown",
      "source": [
        "## 3. ***Data Wrangling***"
      ],
      "metadata": {
        "id": "dauF4eBmngu3"
      }
    },
    {
      "cell_type": "markdown",
      "source": [
        "### Data Wrangling Code"
      ],
      "metadata": {
        "id": "bKJF3rekwFvQ"
      }
    },
    {
      "cell_type": "code",
      "source": [
        "#to fill the NaN value in the column, let's check which colomns has null value, we have already stored the same.\n",
        "missing1[:4]"
      ],
      "metadata": {
        "colab": {
          "base_uri": "https://localhost:8080/"
        },
        "id": "ZlCq_mufDe3R",
        "outputId": "a10e9876-92db-4eaa-ebd2-198c9c22b37e"
      },
      "execution_count": 37,
      "outputs": [
        {
          "output_type": "execute_result",
          "data": {
            "text/plain": [
              "last_review          10052\n",
              "reviews_per_month    10052\n",
              "host_name               21\n",
              "name                    16\n",
              "dtype: int64"
            ]
          },
          "metadata": {},
          "execution_count": 37
        }
      ]
    },
    {
      "cell_type": "code",
      "source": [
        "#lets check, what is the percentage of null value in each column, starting from last review\n",
        "percentage_review_null = missing1[0] / len(df)*100\n",
        "percentage_review_null"
      ],
      "metadata": {
        "colab": {
          "base_uri": "https://localhost:8080/"
        },
        "id": "8N2ZwQI5D0ez",
        "outputId": "4633fe91-020c-4ae7-b251-09c5d1fc53e7"
      },
      "execution_count": 38,
      "outputs": [
        {
          "output_type": "execute_result",
          "data": {
            "text/plain": [
              "20.55833929849678"
            ]
          },
          "metadata": {},
          "execution_count": 38
        }
      ]
    },
    {
      "cell_type": "code",
      "source": [
        "# now let's check for reviews per month\n",
        "percentage_review_month_null = missing1[1] / len(df)*100\n",
        "percentage_review_month_null"
      ],
      "metadata": {
        "colab": {
          "base_uri": "https://localhost:8080/"
        },
        "id": "yQzzw6J0Ek8Y",
        "outputId": "f5c4f274-a74c-429f-9ba8-518f474f1fc7"
      },
      "execution_count": 39,
      "outputs": [
        {
          "output_type": "execute_result",
          "data": {
            "text/plain": [
              "20.55833929849678"
            ]
          },
          "metadata": {},
          "execution_count": 39
        }
      ]
    },
    {
      "cell_type": "code",
      "source": [
        "#Check the percentage null value in host name column\n",
        "percentage_hostname_null = missing1[2] / len(df)*100\n",
        "percentage_hostname_null\n"
      ],
      "metadata": {
        "colab": {
          "base_uri": "https://localhost:8080/"
        },
        "id": "C4Omb83TE07v",
        "outputId": "4a1e44b4-0973-401f-d800-3d4890698e3e"
      },
      "execution_count": 40,
      "outputs": [
        {
          "output_type": "execute_result",
          "data": {
            "text/plain": [
              "0.04294917680744453"
            ]
          },
          "metadata": {},
          "execution_count": 40
        }
      ]
    },
    {
      "cell_type": "code",
      "source": [
        "#Check the percentage null value in name\n",
        "percentage_name_null = missing1[3] / len(df)*100\n",
        "percentage_name_null"
      ],
      "metadata": {
        "colab": {
          "base_uri": "https://localhost:8080/"
        },
        "id": "Ds6QpXPCFNmn",
        "outputId": "e4098ae4-d80a-4dd3-b639-bd986243b32e"
      },
      "execution_count": 41,
      "outputs": [
        {
          "output_type": "execute_result",
          "data": {
            "text/plain": [
              "0.03272318232948154"
            ]
          },
          "metadata": {},
          "execution_count": 41
        }
      ]
    },
    {
      "cell_type": "code",
      "source": [
        "# As we have seen, there is minimul null values in datasets , so lets drop aal null values and make dataset ready for analysis\n",
        "\n",
        "new_df=df.dropna()\n",
        "new_df.isnull().sum()"
      ],
      "metadata": {
        "id": "wk-9a2fpoLcV",
        "colab": {
          "base_uri": "https://localhost:8080/"
        },
        "outputId": "982e1ba5-6547-4825-eefa-4ec7bcf651a5"
      },
      "execution_count": 42,
      "outputs": [
        {
          "output_type": "execute_result",
          "data": {
            "text/plain": [
              "id                                0\n",
              "name                              0\n",
              "host_id                           0\n",
              "host_name                         0\n",
              "neighbourhood_group               0\n",
              "neighbourhood                     0\n",
              "latitude                          0\n",
              "longitude                         0\n",
              "room_type                         0\n",
              "price                             0\n",
              "minimum_nights                    0\n",
              "number_of_reviews                 0\n",
              "last_review                       0\n",
              "reviews_per_month                 0\n",
              "calculated_host_listings_count    0\n",
              "availability_365                  0\n",
              "dtype: int64"
            ]
          },
          "metadata": {},
          "execution_count": 42
        }
      ]
    },
    {
      "cell_type": "markdown",
      "source": [
        "## What all manipulations have you done and insights you found?"
      ],
      "metadata": {
        "id": "MSa1f5Uengrz"
      }
    },
    {
      "cell_type": "markdown",
      "source": [
        "##**We have done few manipulations in the Data.**\n",
        "\n",
        "**Removed is_null values & duplicate entries**\n",
        "\n",
        "- Before visualize any data from the data set we have to do data wrangling. For that, we have checked the null value in all the columns. After checking, when we are getting a column which has more number of null values, dropped that column by using the 'drop' method.\n",
        "\n",
        "- In the same, we have checked if there is any duplicacy in data & we found that there are few rows have duplicate data. So we have removed those row from data set by using .drop_duplicates() method.\n",
        "\n",
        "**In this way, we have removed unneccesary data & make our data clean and ready to analyse.**"
      ],
      "metadata": {
        "id": "LbyXE7I1olp8"
      }
    },
    {
      "cell_type": "markdown",
      "source": [
        "## ***4. Data Vizualization, Storytelling & Experimenting with charts : Understand the relationships between variables***\n",
        "\n"
      ],
      "metadata": {
        "id": "GF8Ens_Soomf"
      }
    },
    {
      "cell_type": "code",
      "source": [
        "df.columns"
      ],
      "metadata": {
        "colab": {
          "base_uri": "https://localhost:8080/"
        },
        "id": "SBjRhVOWqK9v",
        "outputId": "b38267e1-46f8-4393-92f8-184802180521"
      },
      "execution_count": 43,
      "outputs": [
        {
          "output_type": "execute_result",
          "data": {
            "text/plain": [
              "Index(['id', 'name', 'host_id', 'host_name', 'neighbourhood_group',\n",
              "       'neighbourhood', 'latitude', 'longitude', 'room_type', 'price',\n",
              "       'minimum_nights', 'number_of_reviews', 'last_review',\n",
              "       'reviews_per_month', 'calculated_host_listings_count',\n",
              "       'availability_365'],\n",
              "      dtype='object')"
            ]
          },
          "metadata": {},
          "execution_count": 43
        }
      ]
    },
    {
      "cell_type": "markdown",
      "source": [
        "#### host_id"
      ],
      "metadata": {
        "id": "0wOQAZs5pc--"
      }
    },
    {
      "cell_type": "code",
      "source": [
        "# Chart - 1 visualization code\n",
        "df.host_id"
      ],
      "metadata": {
        "id": "7v_ESjsspbW7",
        "colab": {
          "base_uri": "https://localhost:8080/"
        },
        "outputId": "a97dfa48-56b9-4d92-d573-c5265ae36565"
      },
      "execution_count": 44,
      "outputs": [
        {
          "output_type": "execute_result",
          "data": {
            "text/plain": [
              "0            2787\n",
              "1            2845\n",
              "2            4632\n",
              "3            4869\n",
              "4            7192\n",
              "           ...   \n",
              "48890     8232441\n",
              "48891     6570630\n",
              "48892    23492952\n",
              "48893    30985759\n",
              "48894    68119814\n",
              "Name: host_id, Length: 48895, dtype: int64"
            ]
          },
          "metadata": {},
          "execution_count": 44
        }
      ]
    },
    {
      "cell_type": "code",
      "source": [
        "repeat_cust=df.host_id.value_counts()\n",
        "repeat_cust"
      ],
      "metadata": {
        "colab": {
          "base_uri": "https://localhost:8080/"
        },
        "id": "WQL65j6sj0S_",
        "outputId": "4ee6e5d7-40d7-4aec-9f06-b2c7c8296711"
      },
      "execution_count": 45,
      "outputs": [
        {
          "output_type": "execute_result",
          "data": {
            "text/plain": [
              "219517861    327\n",
              "107434423    232\n",
              "30283594     121\n",
              "137358866    103\n",
              "16098958      96\n",
              "            ... \n",
              "23727216       1\n",
              "89211125       1\n",
              "19928013       1\n",
              "1017772        1\n",
              "68119814       1\n",
              "Name: host_id, Length: 37457, dtype: int64"
            ]
          },
          "metadata": {},
          "execution_count": 45
        }
      ]
    },
    {
      "cell_type": "code",
      "source": [
        "repeated =repeat_cust[repeat_cust >=30 ]\n",
        "repeated"
      ],
      "metadata": {
        "colab": {
          "base_uri": "https://localhost:8080/"
        },
        "id": "7-ugsa2iltu9",
        "outputId": "5a825b6d-9578-41b2-b1ca-b2523c904206"
      },
      "execution_count": 46,
      "outputs": [
        {
          "output_type": "execute_result",
          "data": {
            "text/plain": [
              "219517861    327\n",
              "107434423    232\n",
              "30283594     121\n",
              "137358866    103\n",
              "16098958      96\n",
              "12243051      96\n",
              "61391963      91\n",
              "22541573      87\n",
              "200380610     65\n",
              "7503643       52\n",
              "1475015       52\n",
              "120762452     50\n",
              "2856748       49\n",
              "205031545     49\n",
              "190921808     47\n",
              "26377263      43\n",
              "2119276       39\n",
              "19303369      37\n",
              "119669058     34\n",
              "25237492      34\n",
              "76104209      33\n",
              "213781715     33\n",
              "113805886     33\n",
              "238321374     32\n",
              "51501835      31\n",
              "50760546      31\n",
              "224414117     30\n",
              "Name: host_id, dtype: int64"
            ]
          },
          "metadata": {},
          "execution_count": 46
        }
      ]
    },
    {
      "cell_type": "code",
      "source": [
        "repeated.plot(kind='barh')"
      ],
      "metadata": {
        "colab": {
          "base_uri": "https://localhost:8080/",
          "height": 447
        },
        "id": "IPn_dANoljBp",
        "outputId": "9e6e6538-4ca6-415f-9915-1aff6045a96a"
      },
      "execution_count": 47,
      "outputs": [
        {
          "output_type": "execute_result",
          "data": {
            "text/plain": [
              "<Axes: >"
            ]
          },
          "metadata": {},
          "execution_count": 47
        },
        {
          "output_type": "display_data",
          "data": {
            "text/plain": [
              "<Figure size 640x480 with 1 Axes>"
            ],
            "image/png": "[encoded data removed]"
          },
          "metadata": {}
        }
      ]
    },
    {
      "cell_type": "markdown",
      "source": [
        "X axis belongs to host_id of Customer\n",
        "\n",
        "Y axis belongs to Number of times they visited"
      ],
      "metadata": {
        "id": "T-cDKFckmOO5"
      }
    },
    {
      "cell_type": "markdown",
      "source": [
        "##### 1. Why did you pick the specific chart?"
      ],
      "metadata": {
        "id": "K5QZ13OEpz2H"
      }
    },
    {
      "cell_type": "markdown",
      "source": [
        "In this chart, we presented the host_id of some customers those who repeatedly visited ."
      ],
      "metadata": {
        "id": "XESiWehPqBRc"
      }
    },
    {
      "cell_type": "markdown",
      "source": [
        "##### 2. What is/are the insight(s) found from the chart?"
      ],
      "metadata": {
        "id": "lQ7QKXXCp7Bj"
      }
    },
    {
      "cell_type": "markdown",
      "source": [
        "Here, we found that some customers are repeatedly visit our place , so we can give interesting offers to them ."
      ],
      "metadata": {
        "id": "M-M3m-ACm7qf"
      }
    },
    {
      "cell_type": "markdown",
      "source": [
        "##### 3. Will the gained insights help creating a positive business impact?\n",
        "Are there any insights that lead to negative growth? Justify with specific reason."
      ],
      "metadata": {
        "id": "448CDAPjqfQr"
      }
    },
    {
      "cell_type": "markdown",
      "source": [
        "Yes, for booking , this data making some positive business impact : -\n",
        "\n",
        "- Provided more offers to attract more guest to increase more revenue."
      ],
      "metadata": {
        "id": "3cspy4FjqxJW"
      }
    },
    {
      "cell_type": "markdown",
      "source": [
        "#### Room_type"
      ],
      "metadata": {
        "id": "EM7whBJCYoAo"
      }
    },
    {
      "cell_type": "code",
      "source": [
        "# Chart - 3 visualization code\n",
        "df.room_type"
      ],
      "metadata": {
        "id": "t6GMdE67YoAp",
        "colab": {
          "base_uri": "https://localhost:8080/"
        },
        "outputId": "ea632ddc-69f4-47d0-84d3-8b665cac526c"
      },
      "execution_count": 49,
      "outputs": [
        {
          "output_type": "execute_result",
          "data": {
            "text/plain": [
              "0           Private room\n",
              "1        Entire home/apt\n",
              "2           Private room\n",
              "3        Entire home/apt\n",
              "4        Entire home/apt\n",
              "              ...       \n",
              "48890       Private room\n",
              "48891       Private room\n",
              "48892    Entire home/apt\n",
              "48893        Shared room\n",
              "48894       Private room\n",
              "Name: room_type, Length: 48895, dtype: object"
            ]
          },
          "metadata": {},
          "execution_count": 49
        }
      ]
    },
    {
      "cell_type": "code",
      "source": [
        "df.room_type.value_counts()"
      ],
      "metadata": {
        "colab": {
          "base_uri": "https://localhost:8080/"
        },
        "id": "CaiOL1_Vnvpg",
        "outputId": "d3e14889-841e-498b-bbcb-07a5c07630cd"
      },
      "execution_count": 50,
      "outputs": [
        {
          "output_type": "execute_result",
          "data": {
            "text/plain": [
              "Entire home/apt    25409\n",
              "Private room       22326\n",
              "Shared room         1160\n",
              "Name: room_type, dtype: int64"
            ]
          },
          "metadata": {},
          "execution_count": 50
        }
      ]
    },
    {
      "cell_type": "code",
      "source": [
        "df.room_type.value_counts().plot(kind='pie')"
      ],
      "metadata": {
        "colab": {
          "base_uri": "https://localhost:8080/",
          "height": 423
        },
        "id": "X2GkqcKXn6of",
        "outputId": "37cd7c3d-ef6c-4179-a88d-b30ca8ef8bb2"
      },
      "execution_count": 51,
      "outputs": [
        {
          "output_type": "execute_result",
          "data": {
            "text/plain": [
              "<Axes: ylabel='room_type'>"
            ]
          },
          "metadata": {},
          "execution_count": 51
        },
        {
          "output_type": "display_data",
          "data": {
            "text/plain": [
              "<Figure size 640x480 with 1 Axes>"
            ],
            "image/png": "[encoded data removed]"
          },
          "metadata": {}
        }
      ]
    },
    {
      "cell_type": "markdown",
      "source": [
        "**In room_type**\n",
        "\n",
        "- Entire home/apt   : 12102\n",
        "- Private room       : 9610\n",
        "- Shared room        :  346"
      ],
      "metadata": {
        "id": "fqQNefL-oMJl"
      }
    },
    {
      "cell_type": "markdown",
      "source": [
        "##### 1. Why did you pick the specific chart?"
      ],
      "metadata": {
        "id": "fge-S5ZAYoAp"
      }
    },
    {
      "cell_type": "markdown",
      "source": [
        "In this chart, we presented which type of room people are more likely to book .\n",
        "\n",
        "\n"
      ],
      "metadata": {
        "id": "5dBItgRVYoAp"
      }
    },
    {
      "cell_type": "markdown",
      "source": [
        "##### 2. What is/are the insight(s) found from the chart?"
      ],
      "metadata": {
        "id": "85gYPyotYoAp"
      }
    },
    {
      "cell_type": "markdown",
      "source": [
        "From above anlysis, we can say that people are prefering Entire home/apt and Private room rather than shared room"
      ],
      "metadata": {
        "id": "4jstXR6OYoAp"
      }
    },
    {
      "cell_type": "markdown",
      "source": [
        "##### 3. Will the gained insights help creating a positive business impact?\n",
        "Are there any insights that lead to negative growth? Justify with specific reason."
      ],
      "metadata": {
        "id": "RoGjAbkUYoAp"
      }
    },
    {
      "cell_type": "markdown",
      "source": [
        "Here, we can see, that more people like to book Entire home/apt and Private room\n",
        "rather than shared room .\n",
        "\n",
        "Solution: We can increase the number of Entire home/apt and private rooms on our Website ."
      ],
      "metadata": {
        "id": "zfJ8IqMcYoAp"
      }
    },
    {
      "cell_type": "markdown",
      "source": [
        "#### Minimum Nights"
      ],
      "metadata": {
        "id": "4Of9eVA-YrdM"
      }
    },
    {
      "cell_type": "code",
      "source": [
        "# Chart - 4 visualization code\n",
        "df.minimum_nights"
      ],
      "metadata": {
        "id": "irlUoxc8YrdO",
        "colab": {
          "base_uri": "https://localhost:8080/"
        },
        "outputId": "52f5d2e9-c367-4398-8b13-27ea8caf7908"
      },
      "execution_count": 52,
      "outputs": [
        {
          "output_type": "execute_result",
          "data": {
            "text/plain": [
              "0         1\n",
              "1         1\n",
              "2         3\n",
              "3         1\n",
              "4        10\n",
              "         ..\n",
              "48890     2\n",
              "48891     4\n",
              "48892    10\n",
              "48893     1\n",
              "48894     7\n",
              "Name: minimum_nights, Length: 48895, dtype: int64"
            ]
          },
          "metadata": {},
          "execution_count": 52
        }
      ]
    },
    {
      "cell_type": "code",
      "source": [
        "nights=df.minimum_nights.value_counts()\n",
        "nights"
      ],
      "metadata": {
        "colab": {
          "base_uri": "https://localhost:8080/"
        },
        "id": "RRsL6snVqS_n",
        "outputId": "981feb79-51fe-4afc-9c44-615abf9ae5af"
      },
      "execution_count": 53,
      "outputs": [
        {
          "output_type": "execute_result",
          "data": {
            "text/plain": [
              "1      12720\n",
              "2      11696\n",
              "3       7999\n",
              "30      3760\n",
              "4       3303\n",
              "       ...  \n",
              "186        1\n",
              "366        1\n",
              "68         1\n",
              "87         1\n",
              "36         1\n",
              "Name: minimum_nights, Length: 109, dtype: int64"
            ]
          },
          "metadata": {},
          "execution_count": 53
        }
      ]
    },
    {
      "cell_type": "code",
      "source": [
        "min=nights[nights > 29]\n",
        "min"
      ],
      "metadata": {
        "colab": {
          "base_uri": "https://localhost:8080/"
        },
        "id": "x5VfzL0zrEEr",
        "outputId": "e6698fe8-168c-4843-d5a8-05d79b9f2be3"
      },
      "execution_count": 54,
      "outputs": [
        {
          "output_type": "execute_result",
          "data": {
            "text/plain": [
              "1      12720\n",
              "2      11696\n",
              "3       7999\n",
              "30      3760\n",
              "4       3303\n",
              "5       3034\n",
              "7       2058\n",
              "6        752\n",
              "14       562\n",
              "10       483\n",
              "29       340\n",
              "15       279\n",
              "20       223\n",
              "28       203\n",
              "31       201\n",
              "21       135\n",
              "8        130\n",
              "60       106\n",
              "90       104\n",
              "12        91\n",
              "25        82\n",
              "9         80\n",
              "13        54\n",
              "180       43\n",
              "11        33\n",
              "45        32\n",
              "Name: minimum_nights, dtype: int64"
            ]
          },
          "metadata": {},
          "execution_count": 54
        }
      ]
    },
    {
      "cell_type": "code",
      "source": [
        "sns.histplot(nights)"
      ],
      "metadata": {
        "colab": {
          "base_uri": "https://localhost:8080/",
          "height": 467
        },
        "id": "BnFpAc3_qlSP",
        "outputId": "c453aa50-1534-4bdd-bb04-0753eb5db418"
      },
      "execution_count": 55,
      "outputs": [
        {
          "output_type": "execute_result",
          "data": {
            "text/plain": [
              "<Axes: xlabel='minimum_nights', ylabel='Count'>"
            ]
          },
          "metadata": {},
          "execution_count": 55
        },
        {
          "output_type": "display_data",
          "data": {
            "text/plain": [
              "<Figure size 640x480 with 1 Axes>"
            ],
            "image/png": "[encoded data removed]"
          },
          "metadata": {}
        }
      ]
    },
    {
      "cell_type": "markdown",
      "source": [
        "##### 1. Why did you pick the specific chart?"
      ],
      "metadata": {
        "id": "iky9q4vBYrdO"
      }
    },
    {
      "cell_type": "markdown",
      "source": [
        "\n",
        "To show the number of minimum nights that more clients are spend ."
      ],
      "metadata": {
        "id": "aJRCwT6DYrdO"
      }
    },
    {
      "cell_type": "markdown",
      "source": [
        "##### 2. What is/are the insight(s) found from the chart?"
      ],
      "metadata": {
        "id": "F6T5p64dYrdO"
      }
    },
    {
      "cell_type": "markdown",
      "source": [
        "Here, we can see that more customer are likely to spend 1 and 2 nights rather  more than that ."
      ],
      "metadata": {
        "id": "Xx8WAJvtYrdO"
      }
    },
    {
      "cell_type": "markdown",
      "source": [
        "#### latitude longitude"
      ],
      "metadata": {
        "id": "bamQiAODYuh1"
      }
    },
    {
      "cell_type": "code",
      "source": [
        "# Chart - 5 visualization code\n",
        "df.latitude"
      ],
      "metadata": {
        "id": "TIJwrbroYuh3",
        "colab": {
          "base_uri": "https://localhost:8080/"
        },
        "outputId": "50880c24-e423-4e49-d478-2d7651ffb069"
      },
      "execution_count": 56,
      "outputs": [
        {
          "output_type": "execute_result",
          "data": {
            "text/plain": [
              "0        40.64749\n",
              "1        40.75362\n",
              "2        40.80902\n",
              "3        40.68514\n",
              "4        40.79851\n",
              "           ...   \n",
              "48890    40.67853\n",
              "48891    40.70184\n",
              "48892    40.81475\n",
              "48893    40.75751\n",
              "48894    40.76404\n",
              "Name: latitude, Length: 48895, dtype: float64"
            ]
          },
          "metadata": {},
          "execution_count": 56
        }
      ]
    },
    {
      "cell_type": "code",
      "source": [
        "df.longitude"
      ],
      "metadata": {
        "colab": {
          "base_uri": "https://localhost:8080/"
        },
        "id": "21f4k-0W-ELe",
        "outputId": "54acab3f-2557-4487-d797-ce0cdc64c272"
      },
      "execution_count": 57,
      "outputs": [
        {
          "output_type": "execute_result",
          "data": {
            "text/plain": [
              "0       -73.97237\n",
              "1       -73.98377\n",
              "2       -73.94190\n",
              "3       -73.95976\n",
              "4       -73.94399\n",
              "           ...   \n",
              "48890   -73.94995\n",
              "48891   -73.93317\n",
              "48892   -73.94867\n",
              "48893   -73.99112\n",
              "48894   -73.98933\n",
              "Name: longitude, Length: 48895, dtype: float64"
            ]
          },
          "metadata": {},
          "execution_count": 57
        }
      ]
    },
    {
      "cell_type": "code",
      "source": [
        "sample_df=df.sample(int(0.1*len(df)))\n",
        "sns.scatterplot(x=sample_df.latitude,y=sample_df.longitude,size=0.001)"
      ],
      "metadata": {
        "colab": {
          "base_uri": "https://localhost:8080/",
          "height": 466
        },
        "id": "ciAT4fPy-HXG",
        "outputId": "ca1867ec-b73c-4961-a822-eb24f0a7f404"
      },
      "execution_count": 58,
      "outputs": [
        {
          "output_type": "execute_result",
          "data": {
            "text/plain": [
              "<Axes: xlabel='latitude', ylabel='longitude'>"
            ]
          },
          "metadata": {},
          "execution_count": 58
        },
        {
          "output_type": "display_data",
          "data": {
            "text/plain": [
              "<Figure size 640x480 with 1 Axes>"
            ],
            "image/png": "[encoded data removed]"
          },
          "metadata": {}
        }
      ]
    },
    {
      "cell_type": "code",
      "source": [
        "import folium\n",
        "from folium.plugins import HeatMap"
      ],
      "metadata": {
        "id": "jYWpGsuF-h_v"
      },
      "execution_count": 59,
      "outputs": []
    },
    {
      "cell_type": "code",
      "source": [
        "lat_lan_pairs=list(zip(list(sample_df.latitude),list(sample_df.longitude)))\n",
        "lat_lan_pairs"
      ],
      "metadata": {
        "colab": {
          "base_uri": "https://localhost:8080/"
        },
        "id": "SC4Xjc_o-v5Q",
        "outputId": "858d2b0e-1a15-4b23-9f75-447d04027a82"
      },
      "execution_count": 60,
      "outputs": [
        {
          "output_type": "execute_result",
          "data": {
            "text/plain": [
              "[(40.84215, -73.94266),\n",
              " (40.76303, -73.99225),\n",
              " (40.65962, -73.96063),\n",
              " (40.70684, -73.89474),\n",
              " (40.80449, -73.9678),\n",
              " (40.70949, -73.79304),\n",
              " (40.7322, -74.00423),\n",
              " (40.72591, -73.9422),\n",
              " (40.8114, -73.95237),\n",
              " (40.71272, -73.96632),\n",
              " (40.75687, -73.97321),\n",
              " (40.76169, -73.76813),\n",
              " (40.68291, -73.90756),\n",
              " (40.74978, -73.96977),\n",
              " (40.76137, -73.90582),\n",
              " (40.67811, -74.00606),\n",
              " (40.68133, -73.99944),\n",
              " (40.72, -73.95433),\n",
              " (40.7404, -73.99853),\n",
              " (40.69169, -73.9603),\n",
              " (40.67296, -73.79658),\n",
              " (40.72831, -73.98873),\n",
              " (40.75606, -73.99662),\n",
              " (40.59412, -74.06955),\n",
              " (40.73444, -74.00562),\n",
              " (40.68978, -73.95826),\n",
              " (40.71989, -74.00113),\n",
              " (40.68125, -73.94044),\n",
              " (40.68749, -73.98701),\n",
              " (40.66997, -73.92696),\n",
              " (40.72636, -73.98231),\n",
              " (40.67034, -73.92777),\n",
              " (40.66371, -73.9876),\n",
              " (40.72721, -73.98411),\n",
              " (40.81541, -73.94149),\n",
              " (40.75565, -73.9634),\n",
              " (40.67548, -73.96802),\n",
              " (40.75754, -73.73068),\n",
              " (40.67063, -73.97826),\n",
              " (40.82233, -73.94687),\n",
              " (40.67908, -73.97333),\n",
              " (40.67838, -73.92349),\n",
              " (40.71621, -73.93984),\n",
              " (40.72928, -74.00135),\n",
              " (40.76443, -73.99219),\n",
              " (40.75388, -73.96727),\n",
              " (40.80521, -73.94519),\n",
              " (40.70732, -73.94385),\n",
              " (40.80322, -73.94488),\n",
              " (40.70948, -74.00654),\n",
              " (40.76408, -73.92461),\n",
              " (40.84503, -73.93978),\n",
              " (40.6672, -73.98986),\n",
              " (40.68264, -73.94238),\n",
              " (40.79891, -73.96705),\n",
              " (40.80352, -73.95127),\n",
              " (40.79839, -73.96126),\n",
              " (40.59384, -73.79392),\n",
              " (40.64351, -73.91406),\n",
              " (40.73798, -73.99963),\n",
              " (40.75224, -73.81505),\n",
              " (40.80891, -73.94247),\n",
              " (40.74922, -73.81868),\n",
              " (40.77406, -73.94788),\n",
              " (40.83173, -73.92824),\n",
              " (40.72003, -73.98646),\n",
              " (40.86448, -73.92351),\n",
              " (40.83914, -73.78158),\n",
              " (40.71296, -73.93688),\n",
              " (40.72093, -73.98493),\n",
              " (40.75967, -73.88335),\n",
              " (40.70798, -74.00591),\n",
              " (40.67752, -73.96029),\n",
              " (40.72651, -73.86173),\n",
              " (40.70478, -73.9435),\n",
              " (40.77134, -73.95498),\n",
              " (40.72617, -73.81178),\n",
              " (40.79852, -73.93769),\n",
              " (40.65282, -73.97394),\n",
              " (40.77633, -73.95266),\n",
              " (40.72606, -73.97913),\n",
              " (40.70928, -73.89795),\n",
              " (40.82519, -73.90101),\n",
              " (40.71843, -73.94199),\n",
              " (40.76882, -73.94315),\n",
              " (40.70673, -73.92695),\n",
              " (40.74566, -73.99579),\n",
              " (40.7124, -73.96263),\n",
              " (40.77878, -73.95148),\n",
              " (40.7548, -73.99818),\n",
              " (40.82669, -73.94281),\n",
              " (40.65046, -74.00402),\n",
              " (40.78549, -73.94895),\n",
              " (40.67787, -73.98169),\n",
              " (40.67352, -73.95633),\n",
              " (40.67148, -73.97786),\n",
              " (40.70737, -74.01103),\n",
              " (40.67579, -73.9679),\n",
              " (40.78461, -73.97801),\n",
              " (40.71031, -73.93623),\n",
              " (40.7439, -73.91409),\n",
              " (40.69494, -73.95507),\n",
              " (40.67585, -73.99653),\n",
              " (40.68736, -73.97496),\n",
              " (40.70159, -73.92115),\n",
              " (40.71455, -73.9618),\n",
              " (40.76657, -73.98514),\n",
              " (40.77631, -73.9556),\n",
              " (40.78245, -73.98163),\n",
              " (40.77924, -73.94924),\n",
              " (40.70593, -74.0091),\n",
              " (40.74435, -73.99535),\n",
              " (40.63767, -73.94011),\n",
              " (40.86947, -73.85993),\n",
              " (40.69115, -73.94526),\n",
              " (40.78582, -73.95546),\n",
              " (40.82932, -73.94575),\n",
              " (40.73492, -73.99604),\n",
              " (40.68941, -73.75116),\n",
              " (40.6951, -73.92981),\n",
              " (40.72288, -73.98342),\n",
              " (40.67657, -73.91146),\n",
              " (40.73305, -73.98668),\n",
              " (40.75607, -73.9941),\n",
              " (40.70802, -73.94053),\n",
              " (40.71566, -73.94486),\n",
              " (40.77898, -73.94983),\n",
              " (40.82316, -73.94129),\n",
              " (40.79835, -73.9616),\n",
              " (40.81824, -73.93919),\n",
              " (40.71295, -73.82867),\n",
              " (40.67183, -73.95277),\n",
              " (40.71163, -73.82752),\n",
              " (40.65101, -73.95517),\n",
              " (40.71894, -73.98738),\n",
              " (40.74006, -73.7169),\n",
              " (40.6756, -73.92305),\n",
              " (40.75967, -73.91602),\n",
              " (40.73375, -73.98474),\n",
              " (40.78755, -73.95493),\n",
              " (40.6763, -73.95764),\n",
              " (40.7129, -73.94251),\n",
              " (40.71473, -73.96495),\n",
              " (40.86553, -73.83993),\n",
              " (40.74807, -73.9028),\n",
              " (40.72776, -73.98328),\n",
              " (40.68931, -73.95548),\n",
              " (40.72787, -73.98844),\n",
              " (40.75777, -73.81172),\n",
              " (40.68382, -73.91467),\n",
              " (40.76812, -73.95403),\n",
              " (40.66036, -73.98244),\n",
              " (40.81232, -73.94112),\n",
              " (40.69137, -73.80844),\n",
              " (40.67893, -73.97068),\n",
              " (40.68787, -73.91305),\n",
              " (40.70617, -74.00842),\n",
              " (40.86428, -73.92199),\n",
              " (40.75537, -73.995),\n",
              " (40.80133, -73.96574),\n",
              " (40.83021, -73.94114),\n",
              " (40.77515, -73.95173),\n",
              " (40.72508, -73.97978),\n",
              " (40.68471, -73.92627),\n",
              " (40.73079, -73.98117),\n",
              " (40.7745, -73.90406),\n",
              " (40.83758, -73.84382),\n",
              " (40.66626, -73.97933),\n",
              " (40.71702, -73.95732),\n",
              " (40.80369, -73.96238),\n",
              " (40.69932, -73.91576),\n",
              " (40.68813, -73.94045),\n",
              " (40.73399, -73.99002),\n",
              " (40.82458, -73.95223),\n",
              " (40.73482, -73.95399),\n",
              " (40.7195, -73.96084),\n",
              " (40.75966, -73.99277),\n",
              " (40.68852, -73.98697),\n",
              " (40.67898, -73.95725),\n",
              " (40.70019, -73.94098),\n",
              " (40.70676, -74.00612),\n",
              " (40.67075, -73.9769),\n",
              " (40.81052, -73.95973),\n",
              " (40.66907, -73.94168),\n",
              " (40.81795, -73.91178),\n",
              " (40.69035, -73.99633),\n",
              " (40.68125, -73.97974),\n",
              " (40.77645, -73.94865),\n",
              " (40.71854, -73.98362),\n",
              " (40.68647, -73.98197),\n",
              " (40.64851, -73.96121),\n",
              " (40.67878, -73.94446),\n",
              " (40.76394, -73.99466),\n",
              " (40.6876, -73.98472),\n",
              " (40.68477, -73.9509),\n",
              " (40.76934, -73.98782),\n",
              " (40.7666, -73.99256),\n",
              " (40.77883, -73.97494),\n",
              " (40.69423, -73.91993),\n",
              " (40.63602, -73.93105),\n",
              " (40.73677, -73.98084),\n",
              " (40.71871, -73.94499),\n",
              " (40.70612, -73.9079),\n",
              " (40.73289, -73.95203),\n",
              " (40.68434, -73.9064),\n",
              " (40.68631, -73.96802),\n",
              " (40.85289, -73.93508),\n",
              " (40.79881, -73.9596),\n",
              " (40.70257, -73.9847),\n",
              " (40.77156, -73.95716),\n",
              " (40.65588, -73.95062),\n",
              " (40.77796, -73.98191),\n",
              " (40.76245, -73.99831),\n",
              " (40.69341, -73.94177),\n",
              " (40.78771, -73.94197),\n",
              " (40.64476, -73.96473),\n",
              " (40.77907, -73.97887),\n",
              " (40.71355, -73.95003),\n",
              " (40.68632, -73.91793),\n",
              " (40.72045, -73.99016),\n",
              " (40.64307, -73.95455),\n",
              " (40.71906, -73.96338),\n",
              " (40.7112, -74.0094),\n",
              " (40.68743, -73.93045),\n",
              " (40.76411, -73.98074),\n",
              " (40.76356, -73.98814),\n",
              " (40.75455, -73.9695),\n",
              " (40.7713, -73.95443),\n",
              " (40.70644, -73.93759),\n",
              " (40.73409, -73.95752),\n",
              " (40.67764, -73.92241),\n",
              " (40.78162, -73.97941),\n",
              " (40.76695, -73.99103),\n",
              " (40.68417, -73.95343),\n",
              " (40.79626, -73.94429),\n",
              " (40.70821, -73.95001),\n",
              " (40.68724, -73.95068),\n",
              " (40.80167, -73.95781),\n",
              " (40.76515, -73.96662),\n",
              " (40.68739, -73.93208),\n",
              " (40.79584, -73.94747),\n",
              " (40.70571, -74.00833),\n",
              " (40.7043, -74.00923),\n",
              " (40.71515, -73.8158),\n",
              " (40.65511, -74.001),\n",
              " (40.82537, -73.94392),\n",
              " (40.81213, -73.93752),\n",
              " (40.65593, -73.96053),\n",
              " (40.68198, -73.94086),\n",
              " (40.74033, -73.89921),\n",
              " (40.6664, -73.99305),\n",
              " (40.69091, -73.91402),\n",
              " (40.78602, -73.97729),\n",
              " (40.71592, -73.9562),\n",
              " (40.71826, -73.95795),\n",
              " (40.72016, -73.98968),\n",
              " (40.85465, -73.85669),\n",
              " (40.67978, -73.96231),\n",
              " (40.63822, -73.97123),\n",
              " (40.67758, -73.97239),\n",
              " (40.68385, -73.92349),\n",
              " (40.75955, -73.99667),\n",
              " (40.71723, -73.99164),\n",
              " (40.72536, -73.95581),\n",
              " (40.77989, -73.95159),\n",
              " (40.72642, -73.98402),\n",
              " (40.74035, -74.00615),\n",
              " (40.71698, -73.95003),\n",
              " (40.63626, -73.90696),\n",
              " (40.72309, -73.98285),\n",
              " (40.75821, -73.9882),\n",
              " (40.76562, -73.8299),\n",
              " (40.72894, -73.78003),\n",
              " (40.83783, -73.93832),\n",
              " (40.70852, -73.94387),\n",
              " (40.77035, -73.98638),\n",
              " (40.77146, -73.98906),\n",
              " (40.68713, -73.96226),\n",
              " (40.85181, -73.93824),\n",
              " (40.75553, -73.9923),\n",
              " (40.70801, -73.90928),\n",
              " (40.68878, -73.92857),\n",
              " (40.66716, -73.98335),\n",
              " (40.71841, -73.95224),\n",
              " (40.80793, -73.95799),\n",
              " (40.71279, -73.94443),\n",
              " (40.71796, -73.95522),\n",
              " (40.76175, -73.9892),\n",
              " (40.74941, -73.99589),\n",
              " (40.74354, -73.90093),\n",
              " (40.6408, -74.08097),\n",
              " (40.71577, -73.94604),\n",
              " (40.77159, -73.93089),\n",
              " (40.71047, -74.00761),\n",
              " (40.71847, -73.98246),\n",
              " (40.79584, -73.96242),\n",
              " (40.63262, -73.95768),\n",
              " (40.75087, -73.89365),\n",
              " (40.70826, -73.94421),\n",
              " (40.75017, -73.89219),\n",
              " (40.70711, -73.95136),\n",
              " (40.87183, -73.90371),\n",
              " (40.72887, -73.98633),\n",
              " (40.76422, -73.98188),\n",
              " (40.76709, -73.98577),\n",
              " (40.793, -73.94125),\n",
              " (40.72731, -73.95482),\n",
              " (40.58977, -73.79498),\n",
              " (40.72345, -73.94642),\n",
              " (40.74993, -73.977),\n",
              " (40.73079, -73.95353),\n",
              " (40.74217, -73.98398),\n",
              " (40.83792, -73.85526),\n",
              " (40.69951, -73.91352),\n",
              " (40.77216, -73.91252),\n",
              " (40.67335, -73.96),\n",
              " (40.70481, -73.97755),\n",
              " (40.71507, -73.99033),\n",
              " (40.79553, -73.97388),\n",
              " (40.66847, -73.98893),\n",
              " (40.8674, -73.92411),\n",
              " (40.71421, -73.95421),\n",
              " (40.73565, -73.98056),\n",
              " (40.73881, -74.00398),\n",
              " (40.74618, -74.00392),\n",
              " (40.77198, -73.95003),\n",
              " (40.73638, -73.98089),\n",
              " (40.68932, -73.99082),\n",
              " (40.85322, -73.85144),\n",
              " (40.69964, -73.93729),\n",
              " (40.7447, -73.97593),\n",
              " (40.65565, -73.93573),\n",
              " (40.67534, -73.97332),\n",
              " (40.67371, -73.94537),\n",
              " (40.67257, -73.95958),\n",
              " (40.67674, -73.93083),\n",
              " (40.7533, -73.97346),\n",
              " (40.69776, -73.96006),\n",
              " (40.74306, -73.97843),\n",
              " (40.69398, -73.9338),\n",
              " (40.72704, -73.94007),\n",
              " (40.76223, -73.99296),\n",
              " (40.70274, -73.9263),\n",
              " (40.6897, -73.91146),\n",
              " (40.73025, -73.99996),\n",
              " (40.68449, -73.98524),\n",
              " (40.71338, -73.99226),\n",
              " (40.65341, -73.97877),\n",
              " (40.70725, -73.95271),\n",
              " (40.68227, -73.90703),\n",
              " (40.70831, -74.00619),\n",
              " (40.65766, -73.99919),\n",
              " (40.86313, -73.90183),\n",
              " (40.67992, -73.93244),\n",
              " (40.72689, -73.94674),\n",
              " (40.75806, -73.91345),\n",
              " (40.76777, -73.91109),\n",
              " (40.83677, -73.94314),\n",
              " (40.70998, -73.94854),\n",
              " (40.79641, -73.97088),\n",
              " (40.71998, -73.96141),\n",
              " (40.63183, -73.92229),\n",
              " (40.72571, -73.98833),\n",
              " (40.80013, -73.93742),\n",
              " (40.69863, -73.934),\n",
              " (40.72353, -73.97646),\n",
              " (40.68884, -73.95059),\n",
              " (40.65114, -73.96333),\n",
              " (40.69122, -73.96976),\n",
              " (40.76822, -73.90783),\n",
              " (40.69705, -73.97743),\n",
              " (40.69266, -73.94553),\n",
              " (40.71827, -73.94258),\n",
              " (40.78167, -73.95004),\n",
              " (40.69764, -73.93084),\n",
              " (40.69796, -73.92409),\n",
              " (40.75792, -73.99172),\n",
              " (40.7609, -73.92516),\n",
              " (40.82065, -73.95444),\n",
              " (40.80811, -73.94486),\n",
              " (40.70984, -73.95979),\n",
              " (40.66113, -73.95943),\n",
              " (40.70635, -73.93658),\n",
              " (40.58937, -73.81327),\n",
              " (40.84101, -73.92626),\n",
              " (40.69008, -73.78667),\n",
              " (40.68559, -74.0011),\n",
              " (40.76892, -73.96845),\n",
              " (40.7232, -73.98223),\n",
              " (40.79799, -73.97018),\n",
              " (40.66959, -73.91204),\n",
              " (40.72972, -73.9875),\n",
              " (40.67652, -73.94859),\n",
              " (40.7631, -73.92262),\n",
              " (40.72415, -73.97451),\n",
              " (40.71587, -73.96351),\n",
              " (40.71515, -73.95252),\n",
              " (40.72749, -74.0018),\n",
              " (40.73618, -73.92016),\n",
              " (40.80565, -73.94621),\n",
              " (40.71959, -73.95153),\n",
              " (40.67735, -73.99706),\n",
              " (40.7238, -74.00665),\n",
              " (40.73679, -73.98177),\n",
              " (40.72517, -73.76105),\n",
              " (40.71284, -73.99066),\n",
              " (40.70648, -74.00499),\n",
              " (40.75889, -73.82104),\n",
              " (40.71059, -73.9506),\n",
              " (40.7645, -73.99434),\n",
              " (40.74481, -73.97879),\n",
              " (40.80469, -73.96381),\n",
              " (40.68056, -73.94685),\n",
              " (40.7262, -73.95077),\n",
              " (40.74104, -73.98134),\n",
              " (40.76428, -73.98988),\n",
              " (40.76252, -73.98376),\n",
              " (40.70105, -73.91547),\n",
              " (40.73265, -74.00252),\n",
              " (40.67809, -73.95903),\n",
              " (40.71009, -73.95151),\n",
              " (40.79774, -73.97274),\n",
              " (40.8061, -73.9662),\n",
              " (40.68719, -73.99515),\n",
              " (40.68128, -73.96286),\n",
              " (40.79771, -73.96323),\n",
              " (40.66094, -73.94535),\n",
              " (40.79534, -73.94526),\n",
              " (40.80626, -73.94009),\n",
              " (40.70195, -73.98309),\n",
              " (40.71119, -73.96515),\n",
              " (40.89691, -73.85121),\n",
              " (40.7966, -73.97154),\n",
              " (40.68963, -73.95138),\n",
              " (40.70809, -74.0017),\n",
              " (40.74569, -73.94684),\n",
              " (40.80332, -73.94853),\n",
              " (40.7413, -73.98145),\n",
              " (40.78021, -73.98115),\n",
              " (40.81852, -73.9381),\n",
              " (40.8296, -73.88971),\n",
              " (40.69227, -73.95187),\n",
              " (40.76179, -73.99403),\n",
              " (40.74344, -73.97821),\n",
              " (40.68106, -73.88916),\n",
              " (40.76399, -73.92581),\n",
              " (40.74451, -73.99226),\n",
              " (40.72612, -73.99494),\n",
              " (40.76272, -73.99054),\n",
              " (40.68845, -73.91956),\n",
              " (40.72749, -73.86035),\n",
              " (40.82286, -73.94596),\n",
              " (40.71877, -74.0026),\n",
              " (40.78246, -73.98314),\n",
              " (40.78537, -73.95037),\n",
              " (40.72022, -73.95727),\n",
              " (40.73433, -74.00301),\n",
              " (40.74319, -73.99636),\n",
              " (40.66488, -73.98079),\n",
              " (40.66898, -73.97831),\n",
              " (40.68574, -73.97045),\n",
              " (40.69336, -73.9213),\n",
              " (40.76523, -73.9118),\n",
              " (40.81954, -73.92715),\n",
              " (40.6931, -73.9723),\n",
              " (40.70343, -73.93412),\n",
              " (40.62245, -74.02958),\n",
              " (40.70816, -73.93931),\n",
              " (40.78108, -73.95439),\n",
              " (40.67527, -73.90862),\n",
              " (40.681, -73.96827),\n",
              " (40.60795, -73.95218),\n",
              " (40.79638, -73.96332),\n",
              " (40.72429, -73.94534),\n",
              " (40.74751, -73.98725),\n",
              " (40.70226, -73.92895),\n",
              " (40.76139, -73.96208),\n",
              " (40.655, -73.96109),\n",
              " (40.6885, -73.93283),\n",
              " (40.71558, -73.93577),\n",
              " (40.75172, -73.97212),\n",
              " (40.69508, -73.95952),\n",
              " (40.71363, -73.9977),\n",
              " (40.72503, -73.97696),\n",
              " (40.79475, -73.94247),\n",
              " (40.71832, -73.95566),\n",
              " (40.69147, -73.95572),\n",
              " (40.76291, -73.96448),\n",
              " (40.72517, -73.99023),\n",
              " (40.80672, -73.96713),\n",
              " (40.83471, -73.94288),\n",
              " (40.78085, -73.98664),\n",
              " (40.66673, -73.96158),\n",
              " (40.71775, -74.00607),\n",
              " (40.69664, -73.99467),\n",
              " (40.76436, -73.99153),\n",
              " (40.74926, -73.98201),\n",
              " (40.71226, -73.93949),\n",
              " (40.69813, -73.91991),\n",
              " (40.69605, -73.92423),\n",
              " (40.70633, -73.92231),\n",
              " (40.64608, -73.94738),\n",
              " (40.70407, -74.00885),\n",
              " (40.70188, -73.9258),\n",
              " (40.70348, -73.91051),\n",
              " (40.73711, -73.98573),\n",
              " (40.80161, -73.94277),\n",
              " (40.83926, -73.91173),\n",
              " (40.72333, -73.97948),\n",
              " (40.7276, -73.85183),\n",
              " (40.74516, -73.89278),\n",
              " (40.70364, -73.93146),\n",
              " (40.6955, -73.86281),\n",
              " (40.64041, -74.01497),\n",
              " (40.73271, -74.00545),\n",
              " (40.62567, -73.93784),\n",
              " (40.70228, -73.92824),\n",
              " (40.64935, -73.96485),\n",
              " (40.70801, -73.94787),\n",
              " (40.69079, -73.95934),\n",
              " (40.67031, -73.95859),\n",
              " (40.71187, -73.96342),\n",
              " (40.70138, -73.91556),\n",
              " (40.68087, -73.92061),\n",
              " (40.7557, -73.99668),\n",
              " (40.67427, -73.94826),\n",
              " (40.79933, -73.95949),\n",
              " (40.71986, -73.95619),\n",
              " (40.71936, -73.98878),\n",
              " (40.71923, -73.98935),\n",
              " (40.72337, -73.99724),\n",
              " (40.85609, -73.93166),\n",
              " (40.69388, -73.92974),\n",
              " (40.67424, -73.88136),\n",
              " (40.66028, -73.961),\n",
              " (40.81951, -73.93715),\n",
              " (40.76634, -73.98155),\n",
              " (40.68906, -73.98983),\n",
              " (40.7086, -73.94555),\n",
              " (40.6776, -73.95094),\n",
              " (40.68758, -73.9484),\n",
              " (40.68182, -73.97704),\n",
              " (40.69984, -73.93899),\n",
              " (40.62864, -73.89265),\n",
              " (40.7095, -73.94945),\n",
              " (40.78255, -73.95123),\n",
              " (40.8004, -73.96849),\n",
              " (40.74182, -73.97898),\n",
              " (40.72943, -74.00243),\n",
              " (40.71858, -73.98968),\n",
              " (40.67238, -73.95222),\n",
              " (40.71358, -73.96519),\n",
              " (40.81243, -73.9392),\n",
              " (40.68444, -73.91874),\n",
              " (40.7281, -73.84886),\n",
              " (40.67125, -73.94006),\n",
              " (40.76799, -73.8795),\n",
              " (40.6501, -73.97985),\n",
              " (40.80273, -73.96386),\n",
              " (40.75249, -73.97412),\n",
              " (40.69503, -73.94986),\n",
              " (40.67528, -73.95741),\n",
              " (40.70821, -73.95187),\n",
              " (40.72082, -73.98728),\n",
              " (40.65828, -73.98983),\n",
              " (40.72919, -73.98151),\n",
              " (40.75522, -73.96444),\n",
              " (40.77428, -73.95523),\n",
              " (40.74316, -73.98038),\n",
              " (40.69442, -73.94362),\n",
              " (40.65822, -73.95439),\n",
              " (40.66675, -73.92958),\n",
              " (40.6969, -73.9114),\n",
              " (40.7627, -73.98837),\n",
              " (40.80385, -73.96499),\n",
              " (40.79755, -73.93614),\n",
              " (40.80671, -73.95082),\n",
              " (40.68374, -73.9447),\n",
              " (40.70583, -73.91658),\n",
              " (40.69077, -73.95745),\n",
              " (40.65151, -73.94957),\n",
              " (40.79311, -73.93928),\n",
              " (40.68993, -73.91139),\n",
              " (40.71949, -73.95827),\n",
              " (40.67578, -73.94159),\n",
              " (40.78787, -73.97116),\n",
              " (40.72823, -73.9817),\n",
              " (40.75985, -73.88294),\n",
              " (40.81777, -73.95753),\n",
              " (40.71182, -74.00497),\n",
              " (40.69744, -73.90773),\n",
              " (40.75006, -73.97007),\n",
              " (40.79787, -73.96802),\n",
              " (40.76184, -73.94848),\n",
              " (40.70448, -73.94208),\n",
              " (40.60759, -73.96023),\n",
              " (40.5788, -73.95719),\n",
              " (40.70406, -73.95763),\n",
              " (40.71813, -73.98416),\n",
              " (40.71156, -73.96218),\n",
              " (40.76199, -73.98758),\n",
              " (40.76361, -73.91793),\n",
              " (40.76362, -73.88163),\n",
              " (40.7814, -73.95206),\n",
              " (40.69962, -73.90439),\n",
              " (40.67834, -73.99761),\n",
              " (40.72487, -73.98125),\n",
              " (40.76983, -73.98734),\n",
              " (40.69286, -73.93235),\n",
              " (40.76084, -73.98936),\n",
              " (40.73473, -73.95229),\n",
              " (40.70022, -73.91012),\n",
              " (40.73365, -73.95354),\n",
              " (40.67782, -73.94373),\n",
              " (40.69232, -73.95654),\n",
              " (40.69701, -73.97353),\n",
              " (40.70245, -73.9427),\n",
              " (40.79, -73.97318),\n",
              " (40.74124, -74.00025),\n",
              " (40.74832, -73.98814),\n",
              " (40.71488, -74.00687),\n",
              " (40.70741, -74.00656),\n",
              " (40.68343, -74.00371),\n",
              " (40.7017, -73.93716),\n",
              " (40.73774, -73.99725),\n",
              " (40.68825, -73.92951),\n",
              " (40.69735, -73.9327),\n",
              " (40.78307, -73.94578),\n",
              " (40.65531, -73.96161),\n",
              " (40.68594, -73.91448),\n",
              " (40.69887, -73.93564),\n",
              " (40.67112, -73.91685),\n",
              " (40.664, -73.93328),\n",
              " (40.70541, -73.75037),\n",
              " (40.77084, -73.95811),\n",
              " (40.76985, -73.95815),\n",
              " (40.72917, -73.98517),\n",
              " (40.75707, -73.96417),\n",
              " (40.85234, -73.82969),\n",
              " (40.84909, -73.93829),\n",
              " (40.71377, -73.94092),\n",
              " (40.75149, -73.87872),\n",
              " (40.71399, -73.99744),\n",
              " (40.76928, -73.94855),\n",
              " (40.85321, -73.93596),\n",
              " (40.68251, -73.98486),\n",
              " (40.68343, -73.92746),\n",
              " (40.75878, -73.97069),\n",
              " (40.80389, -73.95443),\n",
              " (40.688, -73.97185),\n",
              " (40.69071, -73.94478),\n",
              " (40.73895, -73.9997),\n",
              " (40.75418, -73.9664),\n",
              " (40.65329, -73.92756),\n",
              " (40.69006, -73.95127),\n",
              " (40.6945, -73.94273),\n",
              " (40.66414, -73.98574),\n",
              " (40.75647, -73.99848),\n",
              " (40.69276, -73.98374),\n",
              " (40.76185, -73.9816),\n",
              " (40.74368, -73.99825),\n",
              " (40.7451, -73.94951),\n",
              " (40.80464, -73.92575),\n",
              " (40.7359, -73.95909),\n",
              " (40.72499, -73.98127),\n",
              " (40.76622, -73.95295),\n",
              " (40.80421, -73.96738),\n",
              " (40.77028, -73.92112),\n",
              " (40.80494, -73.95638),\n",
              " (40.67015, -73.95662),\n",
              " (40.7563, -73.92971),\n",
              " (40.64599, -73.96079),\n",
              " (40.77045, -73.94959),\n",
              " (40.72664, -73.98661),\n",
              " (40.74421, -73.99093),\n",
              " (40.69994, -73.93299),\n",
              " (40.6798, -73.99272),\n",
              " (40.78206, -73.94949),\n",
              " (40.77097, -73.94862),\n",
              " (40.57707, -73.96303),\n",
              " (40.67087, -73.91293),\n",
              " (40.7577, -73.91728),\n",
              " (40.78072, -73.94726),\n",
              " (40.83604, -73.93099),\n",
              " (40.76089, -73.8142),\n",
              " (40.77691, -73.98263),\n",
              " (40.62913, -74.01946),\n",
              " (40.79766, -73.94824),\n",
              " (40.6769, -73.9513),\n",
              " (40.70903, -73.95936),\n",
              " (40.73859, -73.89534),\n",
              " (40.62638, -74.01837),\n",
              " (40.6559, -73.95852),\n",
              " (40.73117, -73.98386),\n",
              " (40.70724, -73.91268),\n",
              " (40.78146, -73.97917),\n",
              " (40.72712, -73.95146),\n",
              " (40.7149, -73.93983),\n",
              " (40.60213, -74.0893),\n",
              " (40.81557, -73.95295),\n",
              " (40.78414, -73.9783),\n",
              " (40.6614, -73.93867),\n",
              " (40.67748, -73.76376),\n",
              " (40.72387, -73.97845),\n",
              " (40.68819, -73.91594),\n",
              " (40.66568, -73.95386),\n",
              " (40.68401, -73.89462),\n",
              " (40.74776, -74.00238),\n",
              " (40.75258, -73.99311),\n",
              " (40.77553, -73.95343),\n",
              " (40.68962, -73.95169),\n",
              " (40.76475, -73.90918),\n",
              " (40.66952, -73.98285),\n",
              " (40.68375, -73.87065),\n",
              " (40.71189, -73.9649),\n",
              " (40.74499, -73.99845),\n",
              " (40.68053, -74.00387),\n",
              " (40.66249, -73.95311),\n",
              " (40.68411, -73.94494),\n",
              " (40.725, -73.97903),\n",
              " (40.70936, -73.94109),\n",
              " (40.65867, -73.97971),\n",
              " (40.73608, -73.9857),\n",
              " (40.71893, -73.8761),\n",
              " (40.75669, -73.96848),\n",
              " (40.70821, -73.95352),\n",
              " (40.76794, -73.98781),\n",
              " (40.69369, -73.94214),\n",
              " (40.7681, -73.91651),\n",
              " (40.74569, -73.99687),\n",
              " (40.67305, -73.94788),\n",
              " (40.64512, -73.99839),\n",
              " (40.83368, -73.94314),\n",
              " (40.70464, -73.91556),\n",
              " (40.7303, -73.86674),\n",
              " (40.65195, -73.95645),\n",
              " (40.70317, -73.92724),\n",
              " (40.74929, -73.9812),\n",
              " (40.88229, -73.84295),\n",
              " (40.67666, -73.94087),\n",
              " (40.70695, -73.94913),\n",
              " (40.70759, -74.01242),\n",
              " (40.77396, -73.9842),\n",
              " (40.66485, -73.98343),\n",
              " (40.64145, -73.96642),\n",
              " (40.71296, -73.96148),\n",
              " (40.75664, -73.79975),\n",
              " (40.6703, -73.93241),\n",
              " (40.77024, -73.98746),\n",
              " (40.81615, -73.96156),\n",
              " (40.683, -73.92346),\n",
              " (40.70966, -73.95129),\n",
              " (40.66308, -73.9482),\n",
              " (40.69488, -73.96618),\n",
              " (40.72154, -73.99727),\n",
              " (40.66734, -73.94232),\n",
              " (40.67101, -73.78943),\n",
              " (40.70429, -73.94894),\n",
              " (40.74178, -73.97313),\n",
              " (40.75325, -73.93538),\n",
              " (40.74403, -73.88167),\n",
              " (40.79948, -73.96314),\n",
              " (40.76328, -73.98942),\n",
              " (40.73834, -73.9823),\n",
              " (40.75196, -73.97269),\n",
              " (40.74087, -74.00226),\n",
              " (40.58462, -73.97155),\n",
              " (40.7186, -73.95427),\n",
              " (40.70766, -73.94974),\n",
              " (40.78139, -73.95261),\n",
              " (40.68345, -73.83378),\n",
              " (40.75568, -73.96474),\n",
              " (40.7109, -73.95916),\n",
              " (40.75431, -73.99459),\n",
              " (40.7969, -73.96128),\n",
              " (40.71835, -73.94498),\n",
              " (40.82708, -73.9447),\n",
              " (40.71251, -73.947),\n",
              " (40.74849, -73.97873),\n",
              " (40.72488, -73.98317),\n",
              " (40.764, -73.88718),\n",
              " (40.79298, -73.97249),\n",
              " (40.74631, -73.99121),\n",
              " (40.66896, -73.97641),\n",
              " (40.85338, -73.93232),\n",
              " (40.63314, -74.02896),\n",
              " (40.71867, -73.99709),\n",
              " (40.66402, -73.98282),\n",
              " (40.76496, -73.95801),\n",
              " (40.67923, -73.97659),\n",
              " (40.64682, -74.01515),\n",
              " (40.7093, -73.9497),\n",
              " (40.73396, -73.95537),\n",
              " (40.69706, -73.97498),\n",
              " (40.65551, -73.94206),\n",
              " (40.6812, -73.98186),\n",
              " (40.73632, -73.95445),\n",
              " (40.61465, -73.96065),\n",
              " (40.73268, -74.00314),\n",
              " (40.72153, -73.99493),\n",
              " (40.7148, -73.99248),\n",
              " (40.79371, -73.96708),\n",
              " (40.69032, -73.9871),\n",
              " (40.72804, -73.98726),\n",
              " (40.71584, -73.95868),\n",
              " (40.73726, -74.00085),\n",
              " (40.71525, -73.94742),\n",
              " (40.68615, -73.98056),\n",
              " (40.76135, -73.97785),\n",
              " (40.71673, -73.90009),\n",
              " (40.79166, -73.97319),\n",
              " (40.76172, -73.96074),\n",
              " (40.77086, -73.89578),\n",
              " (40.71213, -73.99661),\n",
              " (40.7294, -73.97751),\n",
              " (40.73082, -73.98445),\n",
              " (40.78242, -73.98381),\n",
              " (40.74241, -73.97954),\n",
              " (40.81338, -73.96042),\n",
              " (40.714, -73.95665),\n",
              " (40.71401, -73.99063),\n",
              " (40.71024, -73.95834),\n",
              " (40.7149, -73.99063),\n",
              " (40.7092, -74.00699),\n",
              " (40.76054, -73.98971),\n",
              " (40.71674, -74.0069),\n",
              " (40.72019, -73.98217),\n",
              " (40.67792, -73.9484),\n",
              " (40.72138, -73.95757),\n",
              " (40.65112, -73.95165),\n",
              " (40.64117, -74.01248),\n",
              " (40.88283, -73.89326),\n",
              " (40.77371, -73.91689),\n",
              " (40.68507, -73.93565),\n",
              " (40.67862, -73.98561),\n",
              " (40.68187, -73.97075),\n",
              " (40.76326, -73.98612),\n",
              " (40.70826, -73.94059),\n",
              " (40.71734, -73.86),\n",
              " (40.76151, -73.97894),\n",
              " (40.81835, -73.91465),\n",
              " (40.6514, -73.9616),\n",
              " (40.80626, -73.85122),\n",
              " (40.67378, -73.98299),\n",
              " (40.71577, -73.94084),\n",
              " (40.80726, -73.92999),\n",
              " (40.75945, -73.99344),\n",
              " (40.67903, -73.91037),\n",
              " (40.75802, -73.96125),\n",
              " (40.73623, -74.00036),\n",
              " (40.70848, -73.80607),\n",
              " (40.8453, -73.93795),\n",
              " (40.69708, -73.91237),\n",
              " (40.76413, -73.98435),\n",
              " (40.67293, -73.96128),\n",
              " (40.74365, -73.97928),\n",
              " (40.67422, -73.95569),\n",
              " (40.78807, -73.97406),\n",
              " (40.6534, -73.9439),\n",
              " (40.84917, -73.94048),\n",
              " (40.75284, -73.9717),\n",
              " (40.75225, -73.97107),\n",
              " (40.61575, -74.08658),\n",
              " (40.67711, -73.98074),\n",
              " (40.66415, -73.95169),\n",
              " (40.76483, -73.99248),\n",
              " (40.7065, -74.01019),\n",
              " (40.74636, -73.97561),\n",
              " (40.80352, -73.95212),\n",
              " (40.69718, -73.92328),\n",
              " (40.74238, -73.99567),\n",
              " (40.80014, -73.96132),\n",
              " (40.7253, -73.99916),\n",
              " (40.74311, -74.00718),\n",
              " (40.81645, -73.86355),\n",
              " (40.66988, -73.94682),\n",
              " (40.71309, -73.99626),\n",
              " (40.77234, -73.96045),\n",
              " (40.81034, -73.93166),\n",
              " (40.81338, -73.85821),\n",
              " (40.74538, -73.94747),\n",
              " (40.75675, -73.98514),\n",
              " (40.70126, -73.90292),\n",
              " (40.69138, -73.92617),\n",
              " (40.68759, -73.99376),\n",
              " (40.69474, -73.94963),\n",
              " (40.76545, -73.95668),\n",
              " (40.67859, -73.96076),\n",
              " (40.70615, -74.00914),\n",
              " (40.77333, -73.95199),\n",
              " (40.73603, -73.87845),\n",
              " (40.69164, -73.99055),\n",
              " (40.72724, -73.95401),\n",
              " (40.745, -73.97942),\n",
              " (40.72324, -73.9769),\n",
              " (40.76147, -73.92549),\n",
              " (40.72035, -73.95355),\n",
              " (40.63515, -74.07929),\n",
              " (40.84658, -73.93979),\n",
              " (40.76617, -73.99169),\n",
              " (40.7558, -73.99677),\n",
              " (40.70735, -74.00971),\n",
              " (40.71645, -73.95721),\n",
              " (40.73123, -74.00684),\n",
              " (40.70794, -73.92168),\n",
              " (40.81793, -73.94017),\n",
              " (40.73193, -73.97971),\n",
              " (40.83482, -73.94617),\n",
              " (40.77408, -73.95504),\n",
              " (40.77556, -73.9483),\n",
              " (40.75464, -73.91755),\n",
              " (40.68425, -73.92214),\n",
              " (40.68041, -73.95838),\n",
              " (40.76382, -73.99435),\n",
              " (40.75134, -73.96807),\n",
              " (40.69945, -73.92148),\n",
              " (40.74572, -73.92198),\n",
              " (40.81771, -73.952),\n",
              " (40.76449, -73.96169),\n",
              " (40.82963, -73.9495),\n",
              " (40.74942, -73.99468),\n",
              " (40.69046, -73.95167),\n",
              " (40.82337, -73.94529),\n",
              " (40.77077, -73.98481),\n",
              " (40.71947, -73.95958),\n",
              " (40.76275, -73.99271),\n",
              " (40.76402, -73.98694),\n",
              " (40.66352, -73.94157),\n",
              " (40.71827, -73.98836),\n",
              " (40.68253, -73.9501),\n",
              " (40.75925, -73.98767),\n",
              " (40.72363, -73.98234),\n",
              " (40.73853, -73.88647),\n",
              " (40.76873, -73.95464),\n",
              " (40.75988, -73.96591),\n",
              " (40.76334, -73.90977),\n",
              " (40.75028, -73.99533),\n",
              " (40.75065, -73.98204),\n",
              " (40.69264, -73.90485),\n",
              " (40.81561, -73.93692),\n",
              " (40.74995, -73.98602),\n",
              " (40.62165, -74.02336),\n",
              " (40.74118, -73.999),\n",
              " (40.75453, -73.96841),\n",
              " (40.88985, -73.90747),\n",
              " (40.72492, -73.98982),\n",
              " (40.6075, -74.06679),\n",
              " (40.72131, -73.98527),\n",
              " (40.75899, -73.82245),\n",
              " (40.67665, -73.97094),\n",
              " (40.64943, -73.96202),\n",
              " (40.67282, -73.77793),\n",
              " (40.72885, -73.98103),\n",
              " (40.69985, -73.91195),\n",
              " (40.71982, -73.98849),\n",
              " (40.66862, -73.94664),\n",
              " (40.71977, -73.98176),\n",
              " (40.70887, -74.01446),\n",
              " (40.67452, -73.9554),\n",
              " (40.68786, -73.98811),\n",
              " (40.71983, -73.98196),\n",
              " (40.71367, -73.94228),\n",
              " (40.68004, -73.94083),\n",
              " (40.7566, -73.98329),\n",
              " (40.71247, -73.96443),\n",
              " (40.68232, -73.96501),\n",
              " (40.76496, -73.9282),\n",
              " (40.62955, -74.02429),\n",
              " (40.77707, -73.95652),\n",
              " (40.76444, -73.92607),\n",
              " (40.68486, -73.98487),\n",
              " (40.69295, -73.90792),\n",
              " (40.7443, -73.99056),\n",
              " (40.68991, -73.93695),\n",
              " (40.73517, -73.98176),\n",
              " (40.75794, -73.96143),\n",
              " (40.72904, -73.99344),\n",
              " (40.74519, -73.98338),\n",
              " (40.75946, -73.99083),\n",
              " (40.78674, -73.97243),\n",
              " (40.70022, -73.89597),\n",
              " (40.7846, -73.97315),\n",
              " (40.77886, -73.98444),\n",
              " (40.85471, -73.93021),\n",
              " (40.68053, -73.90879),\n",
              " (40.68695, -73.94858),\n",
              " (40.67381, -74.00762),\n",
              " (40.69405, -73.92642),\n",
              " (40.82768, -73.94737),\n",
              " (40.68579, -73.95038),\n",
              " (40.73001, -74.00562),\n",
              " (40.67396, -73.87905),\n",
              " (40.76704, -73.98355),\n",
              " (40.64749, -73.97237),\n",
              " (40.73352, -73.85237),\n",
              " (40.66441, -73.97974),\n",
              " (40.71912, -73.9863),\n",
              " (40.73203, -73.95263),\n",
              " (40.64318, -73.96835),\n",
              " (40.69506, -73.93556),\n",
              " ...]"
            ]
          },
          "metadata": {},
          "execution_count": 60
        }
      ]
    },
    {
      "cell_type": "code",
      "source": [
        "map=folium.Map()\n",
        "HeatMap(lat_lan_pairs).add_to(map)\n",
        "map"
      ],
      "metadata": {
        "colab": {
          "base_uri": "https://localhost:8080/",
          "height": 763
        },
        "id": "rcn0bXlA_hZy",
        "outputId": "d59e5a3f-0be3-4aa6-ebc0-318117c14403"
      },
      "execution_count": 61,
      "outputs": [
        {
          "output_type": "execute_result",
          "data": {
            "text/plain": [
              "<folium.folium.Map at 0x7c97c69b6890>"
            ],
            "text/html": [
              "<div style=\"width:100%;\"><div style=\"position:relative;width:100%;height:0;padding-bottom:60%;\"><span style=\"color:#565656\">Make this Notebook Trusted to load map: File -> Trust Notebook</span><iframe srcdoc=\"&lt;!DOCTYPE html&gt;\n",
              "&lt;html&gt;\n",
              "&lt;head&gt;\n",
              "    \n",
              "    &lt;meta http-equiv=&quot;content-type&quot; content=&quot;text/html; charset=UTF-8&quot; /&gt;\n",
              "    \n",
              "        &lt;script&gt;\n",
              "            L_NO_TOUCH = false;\n",
              "            L_DISABLE_3D = false;\n",
              "        &lt;/script&gt;\n",
              "    \n",
              "    &lt;style&gt;html, body {width: 100%;height: 100%;margin: 0;padding: 0;}&lt;/style&gt;\n",
              "    &lt;style&gt;#map {position:absolute;top:0;bottom:0;right:0;left:0;}&lt;/style&gt;\n",
              "    &lt;script src=&quot;https://cdn.jsdelivr.net/npm/leaflet@1.9.3/dist/leaflet.js&quot;&gt;&lt;/script&gt;\n",
              "    &lt;script src=&quot;https://code.jquery.com/jquery-1.12.4.min.js&quot;&gt;&lt;/script&gt;\n",
              "    &lt;script src=&quot;https://cdn.jsdelivr.net/npm/bootstrap@5.2.2/dist/js/bootstrap.bundle.min.js&quot;&gt;&lt;/script&gt;\n",
              "    &lt;script src=&quot;https://cdnjs.cloudflare.com/ajax/libs/Leaflet.awesome-markers/2.0.2/leaflet.awesome-markers.js&quot;&gt;&lt;/script&gt;\n",
              "    &lt;link rel=&quot;stylesheet&quot; href=&quot;https://cdn.jsdelivr.net/npm/leaflet@1.9.3/dist/leaflet.css&quot;/&gt;\n",
              "    &lt;link rel=&quot;stylesheet&quot; href=&quot;https://cdn.jsdelivr.net/npm/bootstrap@5.2.2/dist/css/bootstrap.min.css&quot;/&gt;\n",
              "    &lt;link rel=&quot;stylesheet&quot; href=&quot;https://netdna.bootstrapcdn.com/bootstrap/3.0.0/css/bootstrap.min.css&quot;/&gt;\n",
              "    &lt;link rel=&quot;stylesheet&quot; href=&quot;https://cdn.jsdelivr.net/npm/@fortawesome/fontawesome-free@6.2.0/css/all.min.css&quot;/&gt;\n",
              "    &lt;link rel=&quot;stylesheet&quot; href=&quot;https://cdnjs.cloudflare.com/ajax/libs/Leaflet.awesome-markers/2.0.2/leaflet.awesome-markers.css&quot;/&gt;\n",
              "    &lt;link rel=&quot;stylesheet&quot; href=&quot;https://cdn.jsdelivr.net/gh/python-visualization/folium/folium/templates/leaflet.awesome.rotate.min.css&quot;/&gt;\n",
              "    \n",
              "            &lt;meta name=&quot;viewport&quot; content=&quot;width=device-width,\n",
              "                initial-scale=1.0, maximum-scale=1.0, user-scalable=no&quot; /&gt;\n",
              "            &lt;style&gt;\n",
              "                #map_50361416f56ad9e56beb8b100906c2db {\n",
              "                    position: relative;\n",
              "                    width: 100.0%;\n",
              "                    height: 100.0%;\n",
              "                    left: 0.0%;\n",
              "                    top: 0.0%;\n",
              "                }\n",
              "                .leaflet-container { font-size: 1rem; }\n",
              "            &lt;/style&gt;\n",
              "        \n",
              "    &lt;script src=&quot;https://cdn.jsdelivr.net/gh/python-visualization/folium@main/folium/templates/leaflet_heat.min.js&quot;&gt;&lt;/script&gt;\n",
              "&lt;/head&gt;\n",
              "&lt;body&gt;\n",
              "    \n",
              "    \n",
              "            &lt;div class=&quot;folium-map&quot; id=&quot;map_50361416f56ad9e56beb8b100906c2db&quot; &gt;&lt;/div&gt;\n",
              "        \n",
              "&lt;/body&gt;\n",
              "&lt;script&gt;\n",
              "    \n",
              "    \n",
              "            var map_50361416f56ad9e56beb8b100906c2db = L.map(\n",
              "                &quot;map_50361416f56ad9e56beb8b100906c2db&quot;,\n",
              "                {\n",
              "                    center: [0, 0],\n",
              "                    crs: L.CRS.EPSG3857,\n",
              "                    zoom: 1,\n",
              "                    zoomControl: true,\n",
              "                    preferCanvas: false,\n",
              "                }\n",
              "            );\n",
              "\n",
              "            \n",
              "\n",
              "        \n",
              "    \n",
              "            var tile_layer_fd136d657313ad8664ac1ce94bc3a0fa = L.tileLayer(\n",
              "                &quot;https://{s}.tile.openstreetmap.org/{z}/{x}/{y}.png&quot;,\n",
              "                {&quot;attribution&quot;: &quot;Data by \\u0026copy; \\u003ca target=\\&quot;_blank\\&quot; href=\\&quot;http://openstreetmap.org\\&quot;\\u003eOpenStreetMap\\u003c/a\\u003e, under \\u003ca target=\\&quot;_blank\\&quot; href=\\&quot;http://www.openstreetmap.org/copyright\\&quot;\\u003eODbL\\u003c/a\\u003e.&quot;, &quot;detectRetina&quot;: false, &quot;maxNativeZoom&quot;: 18, &quot;maxZoom&quot;: 18, &quot;minZoom&quot;: 0, &quot;noWrap&quot;: false, &quot;opacity&quot;: 1, &quot;subdomains&quot;: &quot;abc&quot;, &quot;tms&quot;: false}\n",
              "            ).addTo(map_50361416f56ad9e56beb8b100906c2db);\n",
              "        \n",
              "    \n",
              "            var heat_map_217f024d7dc55325b4dad0cc7d5cd67a = L.heatLayer(\n",
              "                [[40.84215, -73.94266], [40.76303, -73.99225], [40.65962, -73.96063], [40.70684, -73.89474], [40.80449, -73.9678], [40.70949, -73.79304], [40.7322, -74.00423], [40.72591, -73.9422], [40.8114, -73.95237], [40.71272, -73.96632], [40.75687, -73.97321], [40.76169, -73.76813], [40.68291, -73.90756], [40.74978, -73.96977], [40.76137, -73.90582], [40.67811, -74.00606], [40.68133, -73.99944], [40.72, -73.95433], [40.7404, -73.99853], [40.69169, -73.9603], [40.67296, -73.79658], [40.72831, -73.98873], [40.75606, -73.99662], [40.59412, -74.06955], [40.73444, -74.00562], [40.68978, -73.95826], [40.71989, -74.00113], [40.68125, -73.94044], [40.68749, -73.98701], [40.66997, -73.92696], [40.72636, -73.98231], [40.67034, -73.92777], [40.66371, -73.9876], [40.72721, -73.98411], [40.81541, -73.94149], [40.75565, -73.9634], [40.67548, -73.96802], [40.75754, -73.73068], [40.67063, -73.97826], [40.82233, -73.94687], [40.67908, -73.97333], [40.67838, -73.92349], [40.71621, -73.93984], [40.72928, -74.00135], [40.76443, -73.99219], [40.75388, -73.96727], [40.80521, -73.94519], [40.70732, -73.94385], [40.80322, -73.94488], [40.70948, -74.00654], [40.76408, -73.92461], [40.84503, -73.93978], [40.6672, -73.98986], [40.68264, -73.94238], [40.79891, -73.96705], [40.80352, -73.95127], [40.79839, -73.96126], [40.59384, -73.79392], [40.64351, -73.91406], [40.73798, -73.99963], [40.75224, -73.81505], [40.80891, -73.94247], [40.74922, -73.81868], [40.77406, -73.94788], [40.83173, -73.92824], [40.72003, -73.98646], [40.86448, -73.92351], [40.83914, -73.78158], [40.71296, -73.93688], [40.72093, -73.98493], [40.75967, -73.88335], [40.70798, -74.00591], [40.67752, -73.96029], [40.72651, -73.86173], [40.70478, -73.9435], [40.77134, -73.95498], [40.72617, -73.81178], [40.79852, -73.93769], [40.65282, -73.97394], [40.77633, -73.95266], [40.72606, -73.97913], [40.70928, -73.89795], [40.82519, -73.90101], [40.71843, -73.94199], [40.76882, -73.94315], [40.70673, -73.92695], [40.74566, -73.99579], [40.7124, -73.96263], [40.77878, -73.95148], [40.7548, -73.99818], [40.82669, -73.94281], [40.65046, -74.00402], [40.78549, -73.94895], [40.67787, -73.98169], [40.67352, -73.95633], [40.67148, -73.97786], [40.70737, -74.01103], [40.67579, -73.9679], [40.78461, -73.97801], [40.71031, -73.93623], [40.7439, -73.91409], [40.69494, -73.95507], [40.67585, -73.99653], [40.68736, -73.97496], [40.70159, -73.92115], [40.71455, -73.9618], [40.76657, -73.98514], [40.77631, -73.9556], [40.78245, -73.98163], [40.77924, -73.94924], [40.70593, -74.0091], [40.74435, -73.99535], [40.63767, -73.94011], [40.86947, -73.85993], [40.69115, -73.94526], [40.78582, -73.95546], [40.82932, -73.94575], [40.73492, -73.99604], [40.68941, -73.75116], [40.6951, -73.92981], [40.72288, -73.98342], [40.67657, -73.91146], [40.73305, -73.98668], [40.75607, -73.9941], [40.70802, -73.94053], [40.71566, -73.94486], [40.77898, -73.94983], [40.82316, -73.94129], [40.79835, -73.9616], [40.81824, -73.93919], [40.71295, -73.82867], [40.67183, -73.95277], [40.71163, -73.82752], [40.65101, -73.95517], [40.71894, -73.98738], [40.74006, -73.7169], [40.6756, -73.92305], [40.75967, -73.91602], [40.73375, -73.98474], [40.78755, -73.95493], [40.6763, -73.95764], [40.7129, -73.94251], [40.71473, -73.96495], [40.86553, -73.83993], [40.74807, -73.9028], [40.72776, -73.98328], [40.68931, -73.95548], [40.72787, -73.98844], [40.75777, -73.81172], [40.68382, -73.91467], [40.76812, -73.95403], [40.66036, -73.98244], [40.81232, -73.94112], [40.69137, -73.80844], [40.67893, -73.97068], [40.68787, -73.91305], [40.70617, -74.00842], [40.86428, -73.92199], [40.75537, -73.995], [40.80133, -73.96574], [40.83021, -73.94114], [40.77515, -73.95173], [40.72508, -73.97978], [40.68471, -73.92627], [40.73079, -73.98117], [40.7745, -73.90406], [40.83758, -73.84382], [40.66626, -73.97933], [40.71702, -73.95732], [40.80369, -73.96238], [40.69932, -73.91576], [40.68813, -73.94045], [40.73399, -73.99002], [40.82458, -73.95223], [40.73482, -73.95399], [40.7195, -73.96084], [40.75966, -73.99277], [40.68852, -73.98697], [40.67898, -73.95725], [40.70019, -73.94098], [40.70676, -74.00612], [40.67075, -73.9769], [40.81052, -73.95973], [40.66907, -73.94168], [40.81795, -73.91178], [40.69035, -73.99633], [40.68125, -73.97974], [40.77645, -73.94865], [40.71854, -73.98362], [40.68647, -73.98197], [40.64851, -73.96121], [40.67878, -73.94446], [40.76394, -73.99466], [40.6876, -73.98472], [40.68477, -73.9509], [40.76934, -73.98782], [40.7666, -73.99256], [40.77883, -73.97494], [40.69423, -73.91993], [40.63602, -73.93105], [40.73677, -73.98084], [40.71871, -73.94499], [40.70612, -73.9079], [40.73289, -73.95203], [40.68434, -73.9064], [40.68631, -73.96802], [40.85289, -73.93508], [40.79881, -73.9596], [40.70257, -73.9847], [40.77156, -73.95716], [40.65588, -73.95062], [40.77796, -73.98191], [40.76245, -73.99831], [40.69341, -73.94177], [40.78771, -73.94197], [40.64476, -73.96473], [40.77907, -73.97887], [40.71355, -73.95003], [40.68632, -73.91793], [40.72045, -73.99016], [40.64307, -73.95455], [40.71906, -73.96338], [40.7112, -74.0094], [40.68743, -73.93045], [40.76411, -73.98074], [40.76356, -73.98814], [40.75455, -73.9695], [40.7713, -73.95443], [40.70644, -73.93759], [40.73409, -73.95752], [40.67764, -73.92241], [40.78162, -73.97941], [40.76695, -73.99103], [40.68417, -73.95343], [40.79626, -73.94429], [40.70821, -73.95001], [40.68724, -73.95068], [40.80167, -73.95781], [40.76515, -73.96662], [40.68739, -73.93208], [40.79584, -73.94747], [40.70571, -74.00833], [40.7043, -74.00923], [40.71515, -73.8158], [40.65511, -74.001], [40.82537, -73.94392], [40.81213, -73.93752], [40.65593, -73.96053], [40.68198, -73.94086], [40.74033, -73.89921], [40.6664, -73.99305], [40.69091, -73.91402], [40.78602, -73.97729], [40.71592, -73.9562], [40.71826, -73.95795], [40.72016, -73.98968], [40.85465, -73.85669], [40.67978, -73.96231], [40.63822, -73.97123], [40.67758, -73.97239], [40.68385, -73.92349], [40.75955, -73.99667], [40.71723, -73.99164], [40.72536, -73.95581], [40.77989, -73.95159], [40.72642, -73.98402], [40.74035, -74.00615], [40.71698, -73.95003], [40.63626, -73.90696], [40.72309, -73.98285], [40.75821, -73.9882], [40.76562, -73.8299], [40.72894, -73.78003], [40.83783, -73.93832], [40.70852, -73.94387], [40.77035, -73.98638], [40.77146, -73.98906], [40.68713, -73.96226], [40.85181, -73.93824], [40.75553, -73.9923], [40.70801, -73.90928], [40.68878, -73.92857], [40.66716, -73.98335], [40.71841, -73.95224], [40.80793, -73.95799], [40.71279, -73.94443], [40.71796, -73.95522], [40.76175, -73.9892], [40.74941, -73.99589], [40.74354, -73.90093], [40.6408, -74.08097], [40.71577, -73.94604], [40.77159, -73.93089], [40.71047, -74.00761], [40.71847, -73.98246], [40.79584, -73.96242], [40.63262, -73.95768], [40.75087, -73.89365], [40.70826, -73.94421], [40.75017, -73.89219], [40.70711, -73.95136], [40.87183, -73.90371], [40.72887, -73.98633], [40.76422, -73.98188], [40.76709, -73.98577], [40.793, -73.94125], [40.72731, -73.95482], [40.58977, -73.79498], [40.72345, -73.94642], [40.74993, -73.977], [40.73079, -73.95353], [40.74217, -73.98398], [40.83792, -73.85526], [40.69951, -73.91352], [40.77216, -73.91252], [40.67335, -73.96], [40.70481, -73.97755], [40.71507, -73.99033], [40.79553, -73.97388], [40.66847, -73.98893], [40.8674, -73.92411], [40.71421, -73.95421], [40.73565, -73.98056], [40.73881, -74.00398], [40.74618, -74.00392], [40.77198, -73.95003], [40.73638, -73.98089], [40.68932, -73.99082], [40.85322, -73.85144], [40.69964, -73.93729], [40.7447, -73.97593], [40.65565, -73.93573], [40.67534, -73.97332], [40.67371, -73.94537], [40.67257, -73.95958], [40.67674, -73.93083], [40.7533, -73.97346], [40.69776, -73.96006], [40.74306, -73.97843], [40.69398, -73.9338], [40.72704, -73.94007], [40.76223, -73.99296], [40.70274, -73.9263], [40.6897, -73.91146], [40.73025, -73.99996], [40.68449, -73.98524], [40.71338, -73.99226], [40.65341, -73.97877], [40.70725, -73.95271], [40.68227, -73.90703], [40.70831, -74.00619], [40.65766, -73.99919], [40.86313, -73.90183], [40.67992, -73.93244], [40.72689, -73.94674], [40.75806, -73.91345], [40.76777, -73.91109], [40.83677, -73.94314], [40.70998, -73.94854], [40.79641, -73.97088], [40.71998, -73.96141], [40.63183, -73.92229], [40.72571, -73.98833], [40.80013, -73.93742], [40.69863, -73.934], [40.72353, -73.97646], [40.68884, -73.95059], [40.65114, -73.96333], [40.69122, -73.96976], [40.76822, -73.90783], [40.69705, -73.97743], [40.69266, -73.94553], [40.71827, -73.94258], [40.78167, -73.95004], [40.69764, -73.93084], [40.69796, -73.92409], [40.75792, -73.99172], [40.7609, -73.92516], [40.82065, -73.95444], [40.80811, -73.94486], [40.70984, -73.95979], [40.66113, -73.95943], [40.70635, -73.93658], [40.58937, -73.81327], [40.84101, -73.92626], [40.69008, -73.78667], [40.68559, -74.0011], [40.76892, -73.96845], [40.7232, -73.98223], [40.79799, -73.97018], [40.66959, -73.91204], [40.72972, -73.9875], [40.67652, -73.94859], [40.7631, -73.92262], [40.72415, -73.97451], [40.71587, -73.96351], [40.71515, -73.95252], [40.72749, -74.0018], [40.73618, -73.92016], [40.80565, -73.94621], [40.71959, -73.95153], [40.67735, -73.99706], [40.7238, -74.00665], [40.73679, -73.98177], [40.72517, -73.76105], [40.71284, -73.99066], [40.70648, -74.00499], [40.75889, -73.82104], [40.71059, -73.9506], [40.7645, -73.99434], [40.74481, -73.97879], [40.80469, -73.96381], [40.68056, -73.94685], [40.7262, -73.95077], [40.74104, -73.98134], [40.76428, -73.98988], [40.76252, -73.98376], [40.70105, -73.91547], [40.73265, -74.00252], [40.67809, -73.95903], [40.71009, -73.95151], [40.79774, -73.97274], [40.8061, -73.9662], [40.68719, -73.99515], [40.68128, -73.96286], [40.79771, -73.96323], [40.66094, -73.94535], [40.79534, -73.94526], [40.80626, -73.94009], [40.70195, -73.98309], [40.71119, -73.96515], [40.89691, -73.85121], [40.7966, -73.97154], [40.68963, -73.95138], [40.70809, -74.0017], [40.74569, -73.94684], [40.80332, -73.94853], [40.7413, -73.98145], [40.78021, -73.98115], [40.81852, -73.9381], [40.8296, -73.88971], [40.69227, -73.95187], [40.76179, -73.99403], [40.74344, -73.97821], [40.68106, -73.88916], [40.76399, -73.92581], [40.74451, -73.99226], [40.72612, -73.99494], [40.76272, -73.99054], [40.68845, -73.91956], [40.72749, -73.86035], [40.82286, -73.94596], [40.71877, -74.0026], [40.78246, -73.98314], [40.78537, -73.95037], [40.72022, -73.95727], [40.73433, -74.00301], [40.74319, -73.99636], [40.66488, -73.98079], [40.66898, -73.97831], [40.68574, -73.97045], [40.69336, -73.9213], [40.76523, -73.9118], [40.81954, -73.92715], [40.6931, -73.9723], [40.70343, -73.93412], [40.62245, -74.02958], [40.70816, -73.93931], [40.78108, -73.95439], [40.67527, -73.90862], [40.681, -73.96827], [40.60795, -73.95218], [40.79638, -73.96332], [40.72429, -73.94534], [40.74751, -73.98725], [40.70226, -73.92895], [40.76139, -73.96208], [40.655, -73.96109], [40.6885, -73.93283], [40.71558, -73.93577], [40.75172, -73.97212], [40.69508, -73.95952], [40.71363, -73.9977], [40.72503, -73.97696], [40.79475, -73.94247], [40.71832, -73.95566], [40.69147, -73.95572], [40.76291, -73.96448], [40.72517, -73.99023], [40.80672, -73.96713], [40.83471, -73.94288], [40.78085, -73.98664], [40.66673, -73.96158], [40.71775, -74.00607], [40.69664, -73.99467], [40.76436, -73.99153], [40.74926, -73.98201], [40.71226, -73.93949], [40.69813, -73.91991], [40.69605, -73.92423], [40.70633, -73.92231], [40.64608, -73.94738], [40.70407, -74.00885], [40.70188, -73.9258], [40.70348, -73.91051], [40.73711, -73.98573], [40.80161, -73.94277], [40.83926, -73.91173], [40.72333, -73.97948], [40.7276, -73.85183], [40.74516, -73.89278], [40.70364, -73.93146], [40.6955, -73.86281], [40.64041, -74.01497], [40.73271, -74.00545], [40.62567, -73.93784], [40.70228, -73.92824], [40.64935, -73.96485], [40.70801, -73.94787], [40.69079, -73.95934], [40.67031, -73.95859], [40.71187, -73.96342], [40.70138, -73.91556], [40.68087, -73.92061], [40.7557, -73.99668], [40.67427, -73.94826], [40.79933, -73.95949], [40.71986, -73.95619], [40.71936, -73.98878], [40.71923, -73.98935], [40.72337, -73.99724], [40.85609, -73.93166], [40.69388, -73.92974], [40.67424, -73.88136], [40.66028, -73.961], [40.81951, -73.93715], [40.76634, -73.98155], [40.68906, -73.98983], [40.7086, -73.94555], [40.6776, -73.95094], [40.68758, -73.9484], [40.68182, -73.97704], [40.69984, -73.93899], [40.62864, -73.89265], [40.7095, -73.94945], [40.78255, -73.95123], [40.8004, -73.96849], [40.74182, -73.97898], [40.72943, -74.00243], [40.71858, -73.98968], [40.67238, -73.95222], [40.71358, -73.96519], [40.81243, -73.9392], [40.68444, -73.91874], [40.7281, -73.84886], [40.67125, -73.94006], [40.76799, -73.8795], [40.6501, -73.97985], [40.80273, -73.96386], [40.75249, -73.97412], [40.69503, -73.94986], [40.67528, -73.95741], [40.70821, -73.95187], [40.72082, -73.98728], [40.65828, -73.98983], [40.72919, -73.98151], [40.75522, -73.96444], [40.77428, -73.95523], [40.74316, -73.98038], [40.69442, -73.94362], [40.65822, -73.95439], [40.66675, -73.92958], [40.6969, -73.9114], [40.7627, -73.98837], [40.80385, -73.96499], [40.79755, -73.93614], [40.80671, -73.95082], [40.68374, -73.9447], [40.70583, -73.91658], [40.69077, -73.95745], [40.65151, -73.94957], [40.79311, -73.93928], [40.68993, -73.91139], [40.71949, -73.95827], [40.67578, -73.94159], [40.78787, -73.97116], [40.72823, -73.9817], [40.75985, -73.88294], [40.81777, -73.95753], [40.71182, -74.00497], [40.69744, -73.90773], [40.75006, -73.97007], [40.79787, -73.96802], [40.76184, -73.94848], [40.70448, -73.94208], [40.60759, -73.96023], [40.5788, -73.95719], [40.70406, -73.95763], [40.71813, -73.98416], [40.71156, -73.96218], [40.76199, -73.98758], [40.76361, -73.91793], [40.76362, -73.88163], [40.7814, -73.95206], [40.69962, -73.90439], [40.67834, -73.99761], [40.72487, -73.98125], [40.76983, -73.98734], [40.69286, -73.93235], [40.76084, -73.98936], [40.73473, -73.95229], [40.70022, -73.91012], [40.73365, -73.95354], [40.67782, -73.94373], [40.69232, -73.95654], [40.69701, -73.97353], [40.70245, -73.9427], [40.79, -73.97318], [40.74124, -74.00025], [40.74832, -73.98814], [40.71488, -74.00687], [40.70741, -74.00656], [40.68343, -74.00371], [40.7017, -73.93716], [40.73774, -73.99725], [40.68825, -73.92951], [40.69735, -73.9327], [40.78307, -73.94578], [40.65531, -73.96161], [40.68594, -73.91448], [40.69887, -73.93564], [40.67112, -73.91685], [40.664, -73.93328], [40.70541, -73.75037], [40.77084, -73.95811], [40.76985, -73.95815], [40.72917, -73.98517], [40.75707, -73.96417], [40.85234, -73.82969], [40.84909, -73.93829], [40.71377, -73.94092], [40.75149, -73.87872], [40.71399, -73.99744], [40.76928, -73.94855], [40.85321, -73.93596], [40.68251, -73.98486], [40.68343, -73.92746], [40.75878, -73.97069], [40.80389, -73.95443], [40.688, -73.97185], [40.69071, -73.94478], [40.73895, -73.9997], [40.75418, -73.9664], [40.65329, -73.92756], [40.69006, -73.95127], [40.6945, -73.94273], [40.66414, -73.98574], [40.75647, -73.99848], [40.69276, -73.98374], [40.76185, -73.9816], [40.74368, -73.99825], [40.7451, -73.94951], [40.80464, -73.92575], [40.7359, -73.95909], [40.72499, -73.98127], [40.76622, -73.95295], [40.80421, -73.96738], [40.77028, -73.92112], [40.80494, -73.95638], [40.67015, -73.95662], [40.7563, -73.92971], [40.64599, -73.96079], [40.77045, -73.94959], [40.72664, -73.98661], [40.74421, -73.99093], [40.69994, -73.93299], [40.6798, -73.99272], [40.78206, -73.94949], [40.77097, -73.94862], [40.57707, -73.96303], [40.67087, -73.91293], [40.7577, -73.91728], [40.78072, -73.94726], [40.83604, -73.93099], [40.76089, -73.8142], [40.77691, -73.98263], [40.62913, -74.01946], [40.79766, -73.94824], [40.6769, -73.9513], [40.70903, -73.95936], [40.73859, -73.89534], [40.62638, -74.01837], [40.6559, -73.95852], [40.73117, -73.98386], [40.70724, -73.91268], [40.78146, -73.97917], [40.72712, -73.95146], [40.7149, -73.93983], [40.60213, -74.0893], [40.81557, -73.95295], [40.78414, -73.9783], [40.6614, -73.93867], [40.67748, -73.76376], [40.72387, -73.97845], [40.68819, -73.91594], [40.66568, -73.95386], [40.68401, -73.89462], [40.74776, -74.00238], [40.75258, -73.99311], [40.77553, -73.95343], [40.68962, -73.95169], [40.76475, -73.90918], [40.66952, -73.98285], [40.68375, -73.87065], [40.71189, -73.9649], [40.74499, -73.99845], [40.68053, -74.00387], [40.66249, -73.95311], [40.68411, -73.94494], [40.725, -73.97903], [40.70936, -73.94109], [40.65867, -73.97971], [40.73608, -73.9857], [40.71893, -73.8761], [40.75669, -73.96848], [40.70821, -73.95352], [40.76794, -73.98781], [40.69369, -73.94214], [40.7681, -73.91651], [40.74569, -73.99687], [40.67305, -73.94788], [40.64512, -73.99839], [40.83368, -73.94314], [40.70464, -73.91556], [40.7303, -73.86674], [40.65195, -73.95645], [40.70317, -73.92724], [40.74929, -73.9812], [40.88229, -73.84295], [40.67666, -73.94087], [40.70695, -73.94913], [40.70759, -74.01242], [40.77396, -73.9842], [40.66485, -73.98343], [40.64145, -73.96642], [40.71296, -73.96148], [40.75664, -73.79975], [40.6703, -73.93241], [40.77024, -73.98746], [40.81615, -73.96156], [40.683, -73.92346], [40.70966, -73.95129], [40.66308, -73.9482], [40.69488, -73.96618], [40.72154, -73.99727], [40.66734, -73.94232], [40.67101, -73.78943], [40.70429, -73.94894], [40.74178, -73.97313], [40.75325, -73.93538], [40.74403, -73.88167], [40.79948, -73.96314], [40.76328, -73.98942], [40.73834, -73.9823], [40.75196, -73.97269], [40.74087, -74.00226], [40.58462, -73.97155], [40.7186, -73.95427], [40.70766, -73.94974], [40.78139, -73.95261], [40.68345, -73.83378], [40.75568, -73.96474], [40.7109, -73.95916], [40.75431, -73.99459], [40.7969, -73.96128], [40.71835, -73.94498], [40.82708, -73.9447], [40.71251, -73.947], [40.74849, -73.97873], [40.72488, -73.98317], [40.764, -73.88718], [40.79298, -73.97249], [40.74631, -73.99121], [40.66896, -73.97641], [40.85338, -73.93232], [40.63314, -74.02896], [40.71867, -73.99709], [40.66402, -73.98282], [40.76496, -73.95801], [40.67923, -73.97659], [40.64682, -74.01515], [40.7093, -73.9497], [40.73396, -73.95537], [40.69706, -73.97498], [40.65551, -73.94206], [40.6812, -73.98186], [40.73632, -73.95445], [40.61465, -73.96065], [40.73268, -74.00314], [40.72153, -73.99493], [40.7148, -73.99248], [40.79371, -73.96708], [40.69032, -73.9871], [40.72804, -73.98726], [40.71584, -73.95868], [40.73726, -74.00085], [40.71525, -73.94742], [40.68615, -73.98056], [40.76135, -73.97785], [40.71673, -73.90009], [40.79166, -73.97319], [40.76172, -73.96074], [40.77086, -73.89578], [40.71213, -73.99661], [40.7294, -73.97751], [40.73082, -73.98445], [40.78242, -73.98381], [40.74241, -73.97954], [40.81338, -73.96042], [40.714, -73.95665], [40.71401, -73.99063], [40.71024, -73.95834], [40.7149, -73.99063], [40.7092, -74.00699], [40.76054, -73.98971], [40.71674, -74.0069], [40.72019, -73.98217], [40.67792, -73.9484], [40.72138, -73.95757], [40.65112, -73.95165], [40.64117, -74.01248], [40.88283, -73.89326], [40.77371, -73.91689], [40.68507, -73.93565], [40.67862, -73.98561], [40.68187, -73.97075], [40.76326, -73.98612], [40.70826, -73.94059], [40.71734, -73.86], [40.76151, -73.97894], [40.81835, -73.91465], [40.6514, -73.9616], [40.80626, -73.85122], [40.67378, -73.98299], [40.71577, -73.94084], [40.80726, -73.92999], [40.75945, -73.99344], [40.67903, -73.91037], [40.75802, -73.96125], [40.73623, -74.00036], [40.70848, -73.80607], [40.8453, -73.93795], [40.69708, -73.91237], [40.76413, -73.98435], [40.67293, -73.96128], [40.74365, -73.97928], [40.67422, -73.95569], [40.78807, -73.97406], [40.6534, -73.9439], [40.84917, -73.94048], [40.75284, -73.9717], [40.75225, -73.97107], [40.61575, -74.08658], [40.67711, -73.98074], [40.66415, -73.95169], [40.76483, -73.99248], [40.7065, -74.01019], [40.74636, -73.97561], [40.80352, -73.95212], [40.69718, -73.92328], [40.74238, -73.99567], [40.80014, -73.96132], [40.7253, -73.99916], [40.74311, -74.00718], [40.81645, -73.86355], [40.66988, -73.94682], [40.71309, -73.99626], [40.77234, -73.96045], [40.81034, -73.93166], [40.81338, -73.85821], [40.74538, -73.94747], [40.75675, -73.98514], [40.70126, -73.90292], [40.69138, -73.92617], [40.68759, -73.99376], [40.69474, -73.94963], [40.76545, -73.95668], [40.67859, -73.96076], [40.70615, -74.00914], [40.77333, -73.95199], [40.73603, -73.87845], [40.69164, -73.99055], [40.72724, -73.95401], [40.745, -73.97942], [40.72324, -73.9769], [40.76147, -73.92549], [40.72035, -73.95355], [40.63515, -74.07929], [40.84658, -73.93979], [40.76617, -73.99169], [40.7558, -73.99677], [40.70735, -74.00971], [40.71645, -73.95721], [40.73123, -74.00684], [40.70794, -73.92168], [40.81793, -73.94017], [40.73193, -73.97971], [40.83482, -73.94617], [40.77408, -73.95504], [40.77556, -73.9483], [40.75464, -73.91755], [40.68425, -73.92214], [40.68041, -73.95838], [40.76382, -73.99435], [40.75134, -73.96807], [40.69945, -73.92148], [40.74572, -73.92198], [40.81771, -73.952], [40.76449, -73.96169], [40.82963, -73.9495], [40.74942, -73.99468], [40.69046, -73.95167], [40.82337, -73.94529], [40.77077, -73.98481], [40.71947, -73.95958], [40.76275, -73.99271], [40.76402, -73.98694], [40.66352, -73.94157], [40.71827, -73.98836], [40.68253, -73.9501], [40.75925, -73.98767], [40.72363, -73.98234], [40.73853, -73.88647], [40.76873, -73.95464], [40.75988, -73.96591], [40.76334, -73.90977], [40.75028, -73.99533], [40.75065, -73.98204], [40.69264, -73.90485], [40.81561, -73.93692], [40.74995, -73.98602], [40.62165, -74.02336], [40.74118, -73.999], [40.75453, -73.96841], [40.88985, -73.90747], [40.72492, -73.98982], [40.6075, -74.06679], [40.72131, -73.98527], [40.75899, -73.82245], [40.67665, -73.97094], [40.64943, -73.96202], [40.67282, -73.77793], [40.72885, -73.98103], [40.69985, -73.91195], [40.71982, -73.98849], [40.66862, -73.94664], [40.71977, -73.98176], [40.70887, -74.01446], [40.67452, -73.9554], [40.68786, -73.98811], [40.71983, -73.98196], [40.71367, -73.94228], [40.68004, -73.94083], [40.7566, -73.98329], [40.71247, -73.96443], [40.68232, -73.96501], [40.76496, -73.9282], [40.62955, -74.02429], [40.77707, -73.95652], [40.76444, -73.92607], [40.68486, -73.98487], [40.69295, -73.90792], [40.7443, -73.99056], [40.68991, -73.93695], [40.73517, -73.98176], [40.75794, -73.96143], [40.72904, -73.99344], [40.74519, -73.98338], [40.75946, -73.99083], [40.78674, -73.97243], [40.70022, -73.89597], [40.7846, -73.97315], [40.77886, -73.98444], [40.85471, -73.93021], [40.68053, -73.90879], [40.68695, -73.94858], [40.67381, -74.00762], [40.69405, -73.92642], [40.82768, -73.94737], [40.68579, -73.95038], [40.73001, -74.00562], [40.67396, -73.87905], [40.76704, -73.98355], [40.64749, -73.97237], [40.73352, -73.85237], [40.66441, -73.97974], [40.71912, -73.9863], [40.73203, -73.95263], [40.64318, -73.96835], [40.69506, -73.93556], [40.74219, -73.92485], [40.74564, -73.98174], [40.80065, -73.96944], [40.70327, -73.76785], [40.76343, -73.92248], [40.74342, -73.91538], [40.73259, -73.88083], [40.76127, -73.99234], [40.68274, -73.91856], [40.79, -73.94964], [40.76287, -73.98073], [40.88511, -73.90831], [40.67905, -73.95612], [40.73849, -73.87606], [40.80309, -73.96883], [40.69211, -73.98102], [40.69943, -73.92858], [40.85244, -73.9405], [40.70308, -73.92765], [40.72414, -73.93967], [40.74788, -73.98376], [40.67032, -73.93957], [40.84749, -73.9391], [40.72493, -74.00193], [40.69807, -73.93466], [40.85257, -73.94161], [40.68123, -73.99558], [40.74888, -74.00481], [40.73185, -74.00589], [40.68623, -73.92231], [40.72757, -73.98336], [40.85811, -73.92921], [40.75705, -73.90697], [40.73323, -73.98859], [40.82029, -73.93861], [40.7232, -73.98152], [40.76447, -73.99103], [40.79115, -73.94663], [40.80188, -73.95695], [40.71947, -73.9552], [40.81964, -73.9468], [40.69417, -73.99443], [40.76965, -73.99001], [40.82003, -73.95745], [40.75951, -73.91963], [40.65438, -73.95624], [40.67356, -73.9321], [40.64425, -74.08056], [40.84916, -73.93759], [40.86794, -73.91629], [40.73197, -73.98674], [40.7307, -73.98299], [40.80203, -73.93885], [40.72727, -73.99322], [40.75909, -73.92005], [40.76578, -73.98383], [40.7123, -73.9956], [40.67323, -73.9619], [40.68701, -73.98842], [40.72836, -73.99953], [40.6542, -74.00159], [40.70523, -73.94072], [40.75253, -73.9315], [40.73247, -74.00378], [40.71699, -73.96167], [40.72626, -73.97822], [40.69324, -73.9094], [40.75733, -73.94176], [40.82498, -73.93629], [40.72245, -73.98527], [40.65246, -73.97369], [40.82823, -73.93925], [40.73499, -73.95513], [40.67811, -74.00102], [40.64136, -74.01709], [40.67654, -73.97144], [40.67619, -73.93866], [40.75965, -73.98582], [40.77507, -73.94785], [40.75401, -73.91757], [40.78031, -73.94653], [40.73867, -73.98039], [40.76043, -73.91465], [40.68068, -73.97938], [40.69062, -73.84747], [40.63037, -73.95671], [40.71613, -73.99266], [40.76642, -73.91637], [40.73097, -73.85736], [40.76384, -73.98492], [40.81286, -73.94385], [40.71948, -73.99603], [40.68882, -73.95969], [40.68392, -73.93123], [40.68898, -73.91358], [40.71923, -73.95684], [40.68795, -73.95203], [40.77988, -73.95482], [40.68587, -73.91435], [40.68192, -73.9908], [40.65267, -73.9485], [40.50868, -74.23986], [40.71765, -73.98452], [40.69012, -73.97252], [40.6733, -73.91235], [40.7561, -73.80622], [40.80528, -73.96547], [40.73921, -73.99717], [40.6967, -73.97477], [40.80878, -73.95777], [40.75881, -73.96295], [40.67539, -73.90207], [40.70843, -73.96833], [40.70631, -73.89698], [40.70482, -73.90342], [40.71475, -73.99257], [40.79918, -73.96607], [40.71378, -73.93762], [40.76976, -73.92627], [40.73398, -74.00369], [40.76364, -73.98859], [40.69499, -73.90994], [40.71633, -73.94138], [40.64487, -73.94919], [40.71002, -73.94796], [40.84878, -73.93449], [40.83242, -73.93931], [40.78999, -73.95226], [40.76896, -73.92404], [40.76872, -73.95513], [40.83298, -73.93938], [40.6913, -73.90998], [40.71857, -73.98973], [40.71859, -73.95284], [40.74607, -73.98547], [40.63835, -73.94621], [40.7533, -73.97162], [40.74285, -73.95597], [40.71668, -73.80588], [40.7842, -73.97467], [40.65565, -73.92705], [40.81831, -73.93833], [40.71417, -73.9591], [40.86355, -73.89234], [40.77122, -73.99111], [40.73352, -73.84721], [40.68162, -73.90593], [40.7342, -74.00854], [40.72756, -73.95628], [40.68891, -73.9548], [40.59754, -73.79949], [40.8206, -73.93779], [40.79964, -73.96437], [40.78864, -73.97452], [40.82932, -73.94696], [40.78116, -73.9786], [40.816, -73.95348], [40.71999, -73.94551], [40.77757, -73.98579], [40.80009, -73.97009], [40.67275, -73.95169], [40.67295, -73.95646], [40.64025, -74.01735], [40.7503, -73.99746], [40.74507, -73.99452], [40.82899, -73.94185], [40.81646, -73.93795], [40.7566, -73.99725], [40.81759, -73.93724], [40.82982, -73.94661], [40.7117, -73.96321], [40.787, -73.97237], [40.70574, -74.01023], [40.88878, -73.86349], [40.67512, -73.94192], [40.84492, -73.93673], [40.74954, -73.97687], [40.74544, -73.9748], [40.7071, -73.86482], [40.68161, -73.90618], [40.68366, -73.9247], [40.7608, -73.97391], [40.6793, -73.91968], [40.68753, -73.95851], [40.68921, -73.95424], [40.71579, -73.93892], [40.70795, -73.94741], [40.72849, -73.98002], [40.61006, -73.99902], [40.8013, -73.95677], [40.6954, -73.96705], [40.6424, -73.95365], [40.7666, -73.98475], [40.68355, -73.90701], [40.65899, -73.97771], [40.76383, -73.97704], [40.76086, -73.99964], [40.70815, -74.00513], [40.70907, -73.96396], [40.79978, -73.96797], [40.80463, -73.96373], [40.83103, -73.94653], [40.6651, -73.76614], [40.68929, -73.90484], [40.73995, -73.98401], [40.75938, -73.97235], [40.71746, -73.9506], [40.75506, -73.96887], [40.71647, -73.99116], [40.66735, -73.78922], [40.73632, -74.00601], [40.59391, -73.78824], [40.6774, -74.00304], [40.75934, -73.99563], [40.73388, -73.99452], [40.6947, -73.99304], [40.74379, -73.98795], [40.69287, -73.94249], [40.65035, -73.94895], [40.66196, -73.99177], [40.62398, -74.02786], [40.71454, -74.00816], [40.67165, -73.95644], [40.70703, -73.95234], [40.80141, -73.94341], [40.71382, -73.99609], [40.72087, -73.99022], [40.74912, -73.99739], [40.68481, -73.9656], [40.74826, -73.98887], [40.69333, -73.965], [40.77343, -73.95651], [40.72008, -73.98268], [40.67959, -73.89209], [40.67665, -73.96985], [40.73047, -73.98048], [40.81005, -73.9572], [40.76088, -73.98971], [40.72219, -74.0014], [40.83712, -73.94664], [40.69872, -73.94635], [40.67505, -73.95969], [40.67969, -73.93974], [40.64714, -73.98107], [40.69747, -73.94498], [40.76284, -73.99003], [40.82831, -73.88746], [40.60733, -73.95322], [40.79454, -73.97541], [40.66222, -73.76324], [40.68993, -73.75695], [40.71049, -74.00869], [40.67497, -73.97913], [40.73245, -74.00355], [40.71172, -73.94556], [40.78333, -73.98089], [40.69143, -73.93436], [40.73293, -73.9836], [40.77811, -73.91065], [40.80477, -73.96486], [40.74136, -73.98146], [40.74294, -73.98009], [40.67, -73.79232], [40.78113, -73.95452], [40.73942, -74.00009], [40.77616, -73.97994], [40.69488, -73.97222], [40.76599, -73.8693], [40.85053, -73.93027], [40.63772, -74.08315], [40.64116, -73.95991], [40.75639, -73.96593], [40.76288, -73.96084], [40.75375, -73.96556], [40.73593, -74.00438], [40.68578, -73.94409], [40.79563, -73.9664], [40.74753, -73.9908], [40.72201, -73.98277], [40.7514, -73.87602], [40.70036, -73.91723], [40.75465, -73.77361], [40.68501, -73.91884], [40.71574, -73.99107], [40.76182, -73.94879], [40.73635, -73.95705], [40.66169, -73.9979], [40.73465, -73.95314], [40.68978, -73.98598], [40.68496, -73.94964], [40.74698, -73.98906], [40.7055, -74.00866], [40.78762, -73.96827], [40.7528, -73.97092], [40.68585, -73.96461], [40.69425, -73.99503], [40.72828, -73.98801], [40.77995, -73.78506], [40.7466, -73.88812], [40.80713, -73.9542], [40.70735, -73.89343], [40.77285, -73.95566], [40.72737, -73.98815], [40.71941, -73.99706], [40.70987, -73.94756], [40.72052, -73.98003], [40.6598, -73.95879], [40.70133, -73.74212], [40.75481, -73.9856], [40.70435, -73.92552], [40.72844, -74.00025], [40.68929, -73.90605], [40.728, -74.00032], [40.76785, -73.91596], [40.7492, -73.99847], [40.74556, -74.00156], [40.85204, -73.92886], [40.68023, -73.93586], [40.73535, -73.99525], [40.80256, -73.95581], [40.72849, -73.98041], [40.79631, -73.94348], [40.8265, -73.87045], [40.71433, -73.99028], [40.71075, -73.95168], [40.76717, -73.90994], [40.65234, -73.95329], [40.80858, -73.93164], [40.66379, -73.88177], [40.77375, -73.94963], [40.84989, -73.93044], [40.70151, -73.92293], [40.64068, -73.9641], [40.73151, -74.00528], [40.74107, -73.98693], [40.70113, -73.91119], [40.68992, -73.90435], [40.69174, -73.96872], [40.76316, -73.80869], [40.73434, -73.99963], [40.77226, -73.95983], [40.74342, -73.92635], [40.71425, -73.96054], [40.82423, -73.95056], [40.67725, -73.99968], [40.7058, -74.0121], [40.77565, -73.98684], [40.7993, -73.94164], [40.77127, -73.95175], [40.68433, -73.94392], [40.72214, -73.99675], [40.77455, -73.94982], [40.65905, -73.8976], [40.777, -73.97708], [40.73136, -73.87402], [40.65587, -73.94187], [40.78339, -73.98018], [40.68781, -73.91377], [40.67072, -73.79534], [40.68349, -73.96153], [40.73181, -74.00606], [40.65886, -73.99054], [40.67425, -73.82018], [40.76618, -73.98279], [40.7428, -73.9956], [40.66261, -73.94673], [40.77166, -73.95797], [40.75329, -73.9888], [40.80023, -73.93822], [40.76607, -73.96165], [40.67835, -73.98209], [40.81041, -73.9445], [40.82502, -73.95155], [40.64296, -74.0056], [40.78761, -73.96862], [40.67915, -73.96913], [40.68439, -73.95231], [40.77687, -73.95173], [40.75125, -73.97105], [40.7292, -73.99964], [40.68992, -73.90951], [40.67929, -73.97097], [40.75452, -73.91458], [40.69067, -73.93917], [40.79831, -73.93961], [40.64919, -73.96129], [40.78822, -73.94871], [40.68384, -73.99065], [40.67619, -73.94389], [40.64447, -73.99574], [40.72612, -73.95691], [40.83658, -73.94088], [40.79481, -73.97185], [40.76642, -73.98326], [40.63294, -74.0273], [40.66197, -73.98907], [40.70248, -73.81937], [40.73847, -74.0062], [40.63275, -74.02946], [40.7383, -73.80867], [40.78779, -73.96881], [40.70125, -73.91051], [40.77595, -73.97966], [40.72347, -73.99302], [40.71152, -73.93902], [40.77221, -73.9875], [40.67923, -74.00651], [40.70198, -73.947], [40.70955, -73.9491], [40.65467, -73.94967], [40.71315, -73.94993], [40.72681, -73.98534], [40.5994, -73.95941], [40.7437, -73.99476], [40.66108, -73.94959], [40.83091, -73.94223], [40.75069, -73.99736], [40.71943, -73.99627], [40.78918, -73.97927], [40.7289, -73.98865], [40.82012, -73.9515], [40.71905, -73.93905], [40.67469, -73.94062], [40.76698, -73.97988], [40.71171, -73.963], [40.72847, -74.00068], [40.73015, -74.00304], [40.67798, -73.93734], [40.69271, -73.92535], [40.65146, -73.93966], [40.70542, -73.82979], [40.80536, -73.96228], [40.70122, -73.91836], [40.79471, -73.93482], [40.78112, -73.95214], [40.80874, -73.94756], [40.79913, -73.95932], [40.72529, -73.98655], [40.6744, -73.95902], [40.79422, -73.94383], [40.80682, -73.95196], [40.68141, -73.92769], [40.75942, -73.98664], [40.73951, -73.9827], [40.70779, -74.01249], [40.70168, -73.92845], [40.67488, -73.9388], [40.73394, -73.95154], [40.74681, -73.97911], [40.64779, -73.97956], [40.76595, -73.92656], [40.62991, -74.02458], [40.65667, -73.97908], [40.74525, -73.87627], [40.67578, -73.92731], [40.68083, -73.94445], [40.68631, -73.95597], [40.81218, -73.96112], [40.68193, -73.97807], [40.72877, -73.98794], [40.68245, -73.91951], [40.72238, -73.99466], [40.70584, -74.0106], [40.63745, -74.02534], [40.70146, -73.98188], [40.7977, -73.93493], [40.71602, -73.94645], [40.7404, -74.00497], [40.76876, -73.95979], [40.68202, -73.92151], [40.83942, -73.93855], [40.68971, -73.92527], [40.80518, -73.95359], [40.7762, -73.98028], [40.67905, -74.00089], [40.70571, -74.00784], [40.69832, -73.93544], [40.72838, -73.98539], [40.73383, -73.99509], [40.64053, -73.95785], [40.78588, -73.97117], [40.76553, -73.98879], [40.76649, -73.82991], [40.78684, -73.96912], [40.73894, -73.86477], [40.73742, -74.00484], [40.73817, -73.98903], [40.76191, -73.99766], [40.88058, -73.90552], [40.77423, -73.96561], [40.81045, -73.95961], [40.70974, -73.93962], [40.6347, -74.02268], [40.72085, -73.94132], [40.70943, -73.95064], [40.6887, -73.82572], [40.7164, -73.95438], [40.68796, -73.99229], [40.68656, -73.91921], [40.77097, -73.95843], [40.74071, -73.99977], [40.66838, -73.99325], [40.61572, -74.08901], [40.81113, -73.94113], [40.70753, -73.9534], [40.79952, -73.93502], [40.76062, -73.99349], [40.75932, -73.79859], [40.72856, -74.00097], [40.75129, -73.88784], [40.77708, -73.95113], [40.81345, -73.94659], [40.6512, -73.95908], [40.68731, -73.9751], [40.71225, -73.94413], [40.67215, -73.94831], [40.72215, -73.9914], [40.68513, -73.95286], [40.72959, -73.98112], [40.7281, -73.98106], [40.75233, -73.97297], [40.66016, -73.95382], [40.68604, -73.95375], [40.67427, -73.97652], [40.67052, -73.93444], [40.71865, -73.96392], [40.73675, -73.998], [40.66036, -73.98214], [40.67828, -73.95646], [40.72446, -73.99966], [40.77915, -73.97794], [40.71735, -73.99095], [40.7704, -73.91701], [40.69181, -73.92462], [40.75622, -73.96467], [40.70729, -73.91697], [40.70192, -73.9168], [40.80543, -73.95739], [40.75777, -73.91577], [40.6923, -73.97123], [40.70844, -73.94415], [40.79456, -73.94345], [40.68013, -73.74734], [40.75047, -73.9408], [40.72865, -73.95937], [40.67657, -73.84083], [40.71368, -73.9536], [40.67417, -73.94028], [40.72317, -73.94856], [40.77149, -73.95121], [40.68475, -73.9871], [40.58296, -73.95879], [40.71102, -73.95123], [40.7272, -73.98186], [40.6849, -73.91811], [40.69892, -73.94645], [40.701, -73.91593], [40.80494, -73.96426], [40.65882, -73.7332], [40.75542, -73.90716], [40.69369, -73.92421], [40.75439, -73.96648], [40.7265, -73.98278], [40.70058, -73.91061], [40.68149, -73.93449], [40.68958, -73.99141], [40.74908, -73.87961], [40.80734, -73.94666], [40.73251, -74.00191], [40.72076, -73.9885], [40.81122, -73.94279], [40.71707, -73.95982], [40.69942, -73.90968], [40.78323, -73.97721], [40.82398, -73.90894], [40.85258, -73.78762], [40.66673, -73.96127], [40.74004, -74.00426], [40.7747, -73.98708], [40.7987, -73.9621], [40.8068, -73.93932], [40.80991, -73.94597], [40.66775, -73.98151], [40.86013, -73.86339], [40.69197, -73.95849], [40.6978, -73.76775], [40.76272, -73.96775], [40.74578, -73.98076], [40.74717, -73.87645], [40.72182, -74.00033], [40.73104, -73.95097], [40.75896, -73.99153], [40.7838, -73.9482], [40.72386, -74.00462], [40.71686, -73.95648], [40.82022, -73.95358], [40.78306, -73.94524], [40.7001, -73.94326], [40.74547, -73.95198], [40.68504, -73.91699], [40.78866, -73.9507], [40.81055, -73.94016], [40.66966, -73.93719], [40.82032, -73.94457], [40.66872, -73.95362], [40.6698, -73.95835], [40.68231, -73.96658], [40.69453, -73.93053], [40.77243, -73.95016], [40.71919, -73.9418], [40.83498, -73.94801], [40.67768, -73.94244], [40.71765, -73.99457], [40.86853, -73.88301], [40.72588, -74.00286], [40.84002, -73.9385], [40.75997, -73.98781], [40.7205, -73.94125], [40.6756, -73.9251], [40.80194, -73.95551], [40.78281, -73.98124], [40.72784, -73.94937], [40.71341, -73.96554], [40.74116, -73.86667], [40.71163, -73.95186], [40.73334, -73.85433], [40.6627, -73.95875], [40.7048, -73.94294], [40.69935, -73.93889], [40.66811, -73.89394], [40.7056, -74.0119], [40.71934, -73.96136], [40.65831, -73.96075], [40.7312, -73.98857], [40.74263, -73.95594], [40.68084, -73.92804], [40.7127, -73.94048], [40.75761, -73.96217], [40.67274, -73.97339], [40.71904, -73.98962], [40.72165, -73.99584], [40.67079, -73.97384], [40.60319, -73.99591], [40.64772, -73.96273], [40.70302, -73.89499], [40.76833, -73.95581], [40.75318, -73.88404], [40.68326, -73.97796], [40.77859, -73.84323], [40.6787, -73.99857], [40.71128, -73.89338], [40.75472, -73.91891], [40.72103, -73.99866], [40.7286, -73.99971], [40.81192, -73.96164], [40.72919, -73.97894], [40.75547, -73.98245], [40.68128, -73.90546], [40.78222, -73.94791], [40.76606, -73.99077], [40.71727, -73.98634], [40.75092, -73.75316], [40.72566, -74.00275], [40.74607, -73.98599], [40.72453, -73.79847], [40.77693, -73.95632], [40.62113, -74.03037], [40.68374, -73.96719], [40.8113, -73.92465], [40.73891, -73.92642], [40.72347, -74.00463], [40.76196, -73.924], [40.80567, -73.95677], [40.57706, -73.98439], [40.60983, -73.95887], [40.76371, -73.92049], [40.67685, -73.94033], [40.80436, -73.94865], [40.8102, -73.93147], [40.74364, -73.94676], [40.74956, -73.99671], [40.75896, -73.9153], [40.71769, -73.98801], [40.71673, -73.94193], [40.75369, -73.99719], [40.71276, -73.95022], [40.79778, -73.97232], [40.84289, -73.93925], [40.74036, -73.98301], [40.76117, -73.93038], [40.65702, -73.96066], [40.71301, -73.90716], [40.76648, -73.94098], [40.77229, -73.94941], [40.81093, -73.95928], [40.62267, -74.02989], [40.72515, -74.00182], [40.71203, -73.99008], [40.65501, -73.95948], [40.79614, -73.93787], [40.81306, -73.94141], [40.70791, -73.93877], [40.67909, -73.93222], [40.64049, -74.00255], [40.85139, -73.93722], [40.75414, -73.96595], [40.64159, -73.9796], [40.67685, -74.00581], [40.75562, -73.80813], [40.8154, -73.94677], [40.74382, -73.98798], [40.86663, -73.92391], [40.83405, -73.94565], [40.63882, -73.96563], [40.72186, -73.85601], [40.75066, -74.00377], [40.68647, -73.97531], [40.76034, -73.98656], [40.80926, -73.95419], [40.69533, -73.9132], [40.7042, -73.94193], [40.70654, -74.00712], [40.74909, -73.89538], [40.65136, -73.9746], [40.67201, -73.9593], [40.73082, -73.98182], [40.81376, -73.95954], [40.86821, -73.92128], [40.66475, -73.99629], [40.82289, -73.954], [40.74161, -73.92505], [40.77205, -73.92997], [40.74611, -74.00014], [40.80039, -73.9361], [40.63894, -74.08069], [40.66802, -73.88724], [40.68295, -73.91472], [40.68838, -73.92208], [40.66002, -73.99073], [40.66933, -73.99158], [40.7637, -73.9268], [40.72564, -73.93989], [40.75271, -73.96575], [40.6947, -73.94319], [40.76183, -73.98948], [40.70406, -74.01227], [40.69474, -73.95498], [40.75004, -73.97089], [40.68323, -73.95108], [40.68833, -73.91676], [40.69114, -73.94601], [40.80096, -73.96671], [40.67943, -73.98387], [40.72515, -73.98422], [40.78728, -73.94976], [40.67925, -73.9688], [40.6886, -73.94153], [40.61922, -73.99399], [40.63639, -73.95814], [40.68423, -73.96242], [40.72924, -73.98113], [40.79326, -73.93988], [40.71164, -73.95173], [40.64962, -74.0035], [40.64086, -73.9547], [40.74986, -73.98709], [40.68411, -73.93208], [40.76711, -73.92046], [40.76143, -73.92122], [40.70994, -74.00706], [40.67305, -73.96824], [40.75775, -73.97956], [40.70545, -73.90393], [40.80639, -73.94834], [40.68116, -73.96559], [40.73113, -73.98295], [40.72541, -73.95279], [40.71762, -73.98334], [40.72094, -73.98649], [40.65319, -73.97621], [40.68652, -73.91365], [40.68578, -73.93965], [40.7699, -73.91156], [40.78466, -73.97276], [40.68411, -73.93875], [40.75534, -73.99668], [40.71645, -73.85035], [40.64844, -73.95032], [40.68244, -73.93908], [40.74379, -73.91277], [40.68599, -73.9394], [40.76295, -73.95725], [40.59279, -73.79993], [40.64538, -74.01624], [40.6543, -73.91488], [40.73416, -74.00424], [40.6417, -73.95251], [40.71826, -73.99079], [40.72712, -74.00065], [40.63584, -74.00578], [40.68365, -73.90517], [40.76774, -73.98503], [40.69414, -73.82538], [40.79422, -73.97565], [40.70653, -73.80561], [40.79622, -73.94825], [40.72247, -73.97947], [40.73168, -73.98662], [40.76666, -73.98156], [40.711, -73.95827], [40.82513, -73.94617], [40.77975, -73.92087], [40.63568, -73.97383], [40.58409, -73.81665], [40.75957, -73.99535], [40.7653, -73.98737], [40.66748, -73.92554], [40.65551, -73.93942], [40.74144, -73.98079], [40.63348, -74.03088], [40.68245, -73.93417], [40.80183, -73.94358], [40.74575, -73.9449], [40.81548, -73.95931], [40.68968, -73.85219], [40.80576, -73.95832], [40.69081, -73.93025], [40.71946, -73.99761], [40.79045, -73.97361], [40.7689, -73.98993], [40.74749, -73.98873], [40.79838, -73.97076], [40.70787, -74.0078], [40.74684, -73.98698], [40.73408, -73.98163], [40.7418, -73.8861], [40.7733, -73.90569], [40.68527, -73.95307], [40.71022, -73.79665], [40.72304, -73.97696], [40.69258, -73.94063], [40.69309, -73.93051], [40.68229, -73.99369], [40.69984, -73.92163], [40.79967, -73.96109], [40.82703, -73.94311], [40.72552, -73.94195], [40.71692, -73.83439], [40.70944, -73.9492], [40.70312, -73.94464], [40.85084, -73.93905], [40.76355, -73.99391], [40.69509, -73.83203], [40.66757, -73.92981], [40.75233, -73.9941], [40.74769, -73.9784], [40.69185, -73.95896], [40.61752, -74.03174], [40.73846, -73.92273], [40.77963, -73.94864], [40.70678, -73.80613], [40.74433, -73.98318], [40.71883, -73.99716], [40.69453, -73.90667], [40.74053, -73.97874], [40.786, -73.94571], [40.7446, -73.98399], [40.71965, -73.98448], [40.76546, -73.9806], [40.6396, -74.1661], [40.71235, -73.99071], [40.66568, -73.9774], [40.76677, -73.91169], [40.75637, -73.81576], [40.69693, -73.97396], [40.78688, -73.97403], [40.716, -73.94434], [40.7962, -73.94894], [40.68135, -73.93709], [40.76978, -73.98936], [40.82521, -73.93811], [40.77672, -73.90878], [40.74363, -73.9773], [40.76035, -73.98189], [40.75538, -74.00441], [40.76635, -73.9205], [40.66809, -73.93373], [40.62801, -74.00328], [40.67154, -73.96221], [40.80017, -73.96882], [40.71759, -73.95935], [40.64576, -73.95871], [40.76973, -73.9566], [40.68229, -73.94287], [40.7416, -74.00082], [40.76477, -73.98542], [40.69867, -73.91134], [40.67954, -73.90788], [40.82823, -73.90114], [40.69612, -73.97361], [40.64759, -73.99812], [40.76459, -73.98167], [40.6363, -74.15911], [40.70039, -73.92867], [40.66876, -73.98448], [40.7894, -73.9762], [40.71683, -73.99172], [40.7211, -73.9893], [40.74688, -73.98701], [40.69538, -73.9701], [40.84346, -73.91151], [40.80168, -73.96253], [40.68895, -73.96902], [40.82527, -73.95359], [40.72923, -73.98197], [40.7459, -73.99867], [40.77044, -73.99126], [40.61357, -74.13566], [40.74685, -73.9841], [40.73334, -74.00104], [40.74317, -73.98605], [40.80622, -73.93875], [40.7153, -73.93906], [40.7817, -73.982], [40.83839, -73.93819], [40.74373, -73.90804], [40.75179, -73.98606], [40.67339, -73.96519], [40.79951, -73.95257], [40.76107, -73.86664], [40.68211, -73.9236], [40.80098, -73.96025], [40.80195, -73.96714], [40.69334, -73.94608], [40.81816, -73.94305], [40.74129, -73.95004], [40.7288, -73.98147], [40.77497, -73.98788], [40.74398, -73.99624], [40.67615, -73.94752], [40.77669, -73.97696], [40.69166, -73.90928], [40.76438, -73.99482], [40.74468, -73.97335], [40.71204, -73.95628], [40.77547, -73.9623], [40.63649, -73.96508], [40.67438, -73.94071], [40.75518, -73.99904], [40.76227, -73.99035], [40.80855, -73.93841], [40.7223, -73.99607], [40.71881, -73.95369], [40.75516, -73.99603], [40.84697, -73.93776], [40.76805, -73.95424], [40.72748, -73.9795], [40.68021, -73.74167], [40.76638, -73.99013], [40.71162, -73.82799], [40.73546, -73.98057], [40.73152, -73.98676], [40.70631, -74.00886], [40.823, -73.93966], [40.72105, -73.73444], [40.64342, -73.97851], [40.72134, -73.99104], [40.72874, -74.00088], [40.67244, -73.92267], [40.81049, -73.95311], [40.71353, -73.96216], [40.82607, -73.95124], [40.71509, -73.98992], [40.77927, -73.95071], [40.65513, -73.95641], [40.68432, -73.98867], [40.76219, -73.97646], [40.80325, -73.96433], [40.69433, -73.90649], [40.6961, -73.99329], [40.6889, -73.92469], [40.60106, -74.00933], [40.71939, -73.96056], [40.63284, -74.02272], [40.63939, -73.94988], [40.68748, -73.90751], [40.69542, -73.93258], [40.76615, -73.98408], [40.69278, -73.95987], [40.76296, -73.80724], [40.86253, -73.9277], [40.7771, -73.97729], [40.64902, -73.9286], [40.73924, -73.99586], [40.67824, -73.96966], [40.74976, -73.97748], [40.80797, -73.92865], [40.80931, -73.94343], [40.67958, -73.90858], [40.8241, -73.95259], [40.84946, -73.93126], [40.67395, -73.96333], [40.68797, -73.94696], [40.71971, -73.95998], [40.68635, -73.91187], [40.76125, -73.99859], [40.79939, -73.95218], [40.6969, -73.93435], [40.73453, -74.00238], [40.74615, -73.98872], [40.68677, -73.97298], [40.68261, -73.95187], [40.66888, -73.95292], [40.74814, -73.98956], [40.77849, -73.98527], [40.7097, -73.94001], [40.72441, -73.98683], [40.73288, -73.97984], [40.71357, -73.98553], [40.70249, -73.93025], [40.81024, -73.9525], [40.72639, -73.98827], [40.60742, -74.14388], [40.77327, -73.97953], [40.73708, -73.98455], [40.69977, -73.93966], [40.69566, -73.91611], [40.68545, -73.93074], [40.59486, -73.73837], [40.75605, -73.99711], [40.76043, -73.97075], [40.73626, -73.98104], [40.85269, -73.93616], [40.74334, -73.99204], [40.77161, -73.95295], [40.77297, -73.91604], [40.76128, -73.99617], [40.82374, -73.91555], [40.72533, -73.99143], [40.68672, -73.97555], [40.81748, -73.94484], [40.71345, -73.85658], [40.79717, -73.93519], [40.74609, -73.83175], [40.72107, -73.94316], [40.87066, -73.89317], [40.73709, -73.98027], [40.81899, -73.94714], [40.66197, -73.86794], [40.70073, -73.92913], [40.86918, -73.8905], [40.82206, -73.95573], [40.71226, -73.99416], [40.71127, -73.96465], [40.6628, -73.93397], [40.65888, -73.98013], [40.81192, -73.85334], [40.72695, -73.99012], [40.80421, -73.94037], [40.74708, -73.99131], [40.70494, -74.01692], [40.64361, -73.95367], [40.7338, -74.00328], [40.78802, -73.95026], [40.67695, -73.95554], [40.68466, -73.92576], [40.75921, -73.97361], [40.85114, -73.93754], [40.74321, -73.89988], [40.66872, -73.98648], [40.73086, -73.85663], [40.73532, -73.99874], [40.81083, -73.95188], [40.72165, -73.98693], [40.87039, -73.91611], [40.80371, -73.94377], [40.82442, -73.95203], [40.74523, -73.97334], [40.6872, -73.95773], [40.74757, -73.98564], [40.73894, -74.00067], [40.7029, -73.91174], [40.7216, -73.98204], [40.70506, -73.91731], [40.74444, -73.83281], [40.75833, -73.9919], [40.72658, -73.97827], [40.69983, -73.92814], [40.71564, -73.94497], [40.69544, -73.93221], [40.78936, -73.97502], [40.68407, -73.96715], [40.70669, -73.93578], [40.80078, -73.94335], [40.72732, -73.94076], [40.71326, -73.9542], [40.69248, -73.96983], [40.79639, -73.93319], [40.79511, -73.9373], [40.64941, -73.93451], [40.70589, -73.94749], [40.68695, -73.84101], [40.70575, -73.92075], [40.67607, -73.95121], [40.76357, -73.92829], [40.72891, -73.98797], [40.76974, -73.91819], [40.71447, -73.99433], [40.69098, -73.92622], [40.7664, -73.8227], [40.71324, -73.95099], [40.70847, -73.96837], [40.75268, -73.88595], [40.67648, -73.93881], [40.74011, -73.98185], [40.71311, -73.98482], [40.75044, -73.93961], [40.72603, -73.98897], [40.68118, -73.96126], [40.72616, -74.00102], [40.77355, -73.92552], [40.78769, -73.94691], [40.71773, -73.94359], [40.69421, -73.93834], [40.75129, -73.99561], [40.76575, -73.98938], [40.71865, -73.99587], [40.72929, -73.95067], [40.7924, -73.97265], [40.68398, -73.87039], [40.7555, -73.99399], [40.72685, -73.98638], [40.73907, -73.82943], [40.72626, -73.98824], [40.76417, -73.94865], [40.7432, -73.91238], [40.65994, -73.95892], [40.70124, -73.90774], [40.6845, -73.91193], [40.69054, -73.92793], [40.67862, -73.94687], [40.5954, -73.7764], [40.65589, -73.95539], [40.72435, -73.98715], [40.69079, -73.93344], [40.67981, -73.91022], [40.67143, -73.94929], [40.72163, -73.98715], [40.7786, -73.98554], [40.67316, -73.95812], [40.59823, -73.95909], [40.8014, -73.95793], [40.7154, -73.98473], [40.68731, -73.91669], [40.6978, -73.92589], [40.71842, -73.95718], [40.70468, -73.91683], [40.76596, -73.98926], [40.8062, -73.95528], [40.84519, -73.941], [40.66641, -73.99078], [40.85667, -73.86543], [40.71867, -73.98612], [40.72831, -73.99327], [40.79913, -73.94226], [40.70787, -73.90961], [40.6433, -73.97386], [40.71675, -73.99092], [40.72155, -73.94671], [40.71255, -73.99147], [40.86084, -73.90288], [40.77617, -73.94677], [40.73369, -73.95197], [40.76807, -73.98342], [40.80469, -73.94594], [40.78278, -73.9482], [40.7159, -74.00834], [40.70705, -73.83346], [40.7155, -73.95632], [40.73183, -73.89787], [40.73624, -74.00311], [40.66837, -73.92454], [40.73366, -73.99805], [40.70451, -74.00671], [40.7592, -73.92155], [40.69639, -73.9343], [40.71708, -73.94852], [40.7121, -73.93705], [40.69846, -73.99312], [40.69471, -73.93736], [40.74427, -73.95477], [40.72397, -73.98329], [40.80535, -73.95407], [40.71361, -73.95703], [40.72768, -73.99917], [40.68017, -73.95182], [40.76588, -73.95834], [40.7326, -73.95739], [40.77669, -73.94822], [40.6427, -73.91266], [40.67933, -73.96912], [40.68186, -73.94113], [40.75829, -73.98833], [40.67623, -73.91144], [40.86556, -73.92656], [40.67489, -73.97963], [40.85497, -73.93469], [40.6, -73.95612], [40.66866, -73.98214], [40.80092, -73.96195], [40.70645, -74.01186], [40.72643, -73.86083], [40.80486, -73.94754], [40.79113, -73.96645], [40.75083, -73.97151], [40.78361, -73.97645], [40.68863, -73.98935], [40.68336, -73.96122], [40.76498, -73.8301], [40.76072, -73.99818], [40.72566, -73.98323], [40.64516, -73.89684], [40.86707, -73.90712], [40.73587, -73.92027], [40.69092, -73.90443], [40.72594, -73.94852], [40.74727, -74.00261], [40.72316, -73.99329], [40.73506, -73.99728], [40.69883, -73.85257], [40.75993, -73.96056], [40.71653, -73.94131], [40.71906, -73.98433], [40.6675, -73.75245], [40.75584, -73.96979], [40.726, -74.00204], [40.7246, -73.85744], [40.75475, -73.97243], [40.77326, -73.92677], [40.65192, -73.95243], [40.70487, -73.92533], [40.72556, -73.94104], [40.81207, -73.94335], [40.84114, -73.93639], [40.72295, -73.98487], [40.75988, -73.98667], [40.76295, -73.99432], [40.71682, -73.96369], [40.64876, -73.96279], [40.71925, -73.99301], [40.69037, -73.92694], [40.80827, -73.95329], [40.7385, -73.79241], [40.6853, -73.9722], [40.79525, -73.94912], [40.74497, -74.00571], [40.69531, -73.93276], [40.81027, -73.94639], [40.68114, -73.92065], [40.66971, -73.7473], [40.78572, -73.94468], [40.74295, -73.82544], [40.69571, -73.91637], [40.71214, -73.94423], [40.69175, -73.90932], [40.74584, -74.00279], [40.76422, -73.99382], [40.66737, -73.87551], [40.68712, -73.95876], [40.57776, -73.98313], [40.82865, -73.94621], [40.71389, -73.98239], [40.76602, -73.98795], [40.71044, -73.953], [40.71215, -73.95177], [40.63994, -73.9516], [40.82696, -73.94598], [40.66604, -73.95914], [40.77121, -73.9171], [40.76518, -73.98406], [40.71391, -73.98938], [40.70665, -73.90969], [40.7442, -73.97355], [40.79078, -73.94547], [40.72258, -74.00358], [40.71388, -73.94999], [40.72115, -73.94841], [40.7524, -73.97153], [40.67714, -73.9486], [40.80882, -73.94654], [40.71014, -73.96384], [40.64156, -73.93177], [40.71499, -73.94634], [40.67252, -73.96154], [40.75359, -73.97305], [40.70112, -73.91201], [40.69385, -73.90296], [40.65595, -73.95412], [40.62106, -74.03384], [40.80829, -73.9426], [40.86118, -73.92758], [40.76364, -73.97589], [40.69585, -73.90967], [40.70393, -73.90851], [40.68117, -73.97461], [40.75613, -73.97056], [40.71771, -73.95831], [40.76012, -73.9092], [40.79535, -73.93274], [40.68545, -73.96048], [40.77327, -73.94982], [40.69503, -73.99475], [40.76039, -73.99028], [40.79274, -73.94286], [40.74438, -73.97744], [40.68583, -73.94112], [40.68312, -73.9592], [40.68503, -73.95385], [40.71592, -73.99332], [40.6654, -73.94864], [40.76608, -73.99203], [40.73018, -73.95464], [40.76893, -73.87712], [40.71118, -73.9151], [40.80172, -73.96177], [40.74488, -73.98245], [40.69118, -73.9554], [40.74021, -73.97992], [40.616, -74.02973], [40.77837, -73.95318], [40.73121, -73.98693], [40.71303, -73.96574], [40.74613, -73.94141], [40.71072, -73.94207], [40.66322, -73.95142], [40.73245, -73.98848], [40.68375, -73.97839], [40.72276, -73.85683], [40.74462, -73.97838], [40.69348, -73.95927], [40.73854, -74.00147], [40.70609, -74.01219], [40.71196, -73.95424], [40.78561, -73.97637], [40.69559, -73.90796], [40.76591, -73.99016], [40.70288, -73.92796], [40.79185, -73.94139], [40.66892, -73.96079], [40.69384, -73.90674], [40.6597, -73.94863], [40.7941, -73.94045], [40.7411, -74.00184], [40.73214, -74.00531], [40.70835, -73.95226], [40.67728, -73.95676], [40.70734, -74.01097], [40.63649, -73.95614], [40.69436, -73.95526], [40.71528, -73.95033], [40.71852, -73.99803], [40.68742, -73.92212], [40.76427, -73.962], [40.79827, -73.97321], [40.59972, -74.07701], [40.60985, -73.95927], [40.71451, -73.95068], [40.80646, -73.94829], [40.69496, -73.9243], [40.85536, -73.90242], [40.71283, -73.94278], [40.58952, -74.15587], [40.70573, -74.00855], [40.69664, -73.92921], [40.73022, -73.97998], [40.68188, -73.98978], [40.68618, -73.94367], [40.6788, -73.97643], [40.79439, -73.94129], [40.64335, -73.96316], [40.7218, -73.98723], [40.82759, -73.92081], [40.61489, -73.94541], [40.68185, -73.88128], [40.70743, -73.92294], [40.63968, -73.95215], [40.75017, -73.97687], [40.7367, -73.98985], [40.69696, -73.93433], [40.69001, -73.95136], [40.74579, -73.88904], [40.67844, -73.93831], [40.75351, -73.97196], [40.69806, -73.94544], [40.75926, -73.99304], [40.73376, -73.95443], [40.74255, -73.86659], [40.68001, -73.97865], [40.71916, -73.94215], [40.69216, -73.96011], [40.661, -73.9598], [40.67629, -73.97654], [40.72709, -73.99074], [40.675, -73.95885], [40.68327, -73.93858], [40.75293, -73.97173], [40.70509, -73.92988], [40.74674, -73.92194], [40.64221, -73.98126], [40.64172, -73.93073], [40.72176, -74.00448], [40.69353, -73.9711], [40.80348, -73.95775], [40.80068, -73.94072], [40.77481, -73.98144], [40.67435, -73.9891], [40.75248, -73.97332], [40.74936, -73.88698], [40.82257, -73.94543], [40.72842, -73.9421], [40.68885, -73.91353], [40.85648, -73.88501], [40.7829, -73.94721], [40.72236, -73.97689], [40.78819, -73.94234], [40.78352, -73.97482], [40.71529, -73.99088], [40.70179, -73.93689], [40.65969, -73.99248], [40.72191, -73.78207], [40.77002, -73.92332], [40.73007, -73.89766], [40.80672, -73.96547], [40.75226, -73.94089], [40.66501, -73.98112], [40.67317, -73.94104], [40.72935, -73.98465], [40.70896, -73.95383], [40.77839, -73.90866], [40.81691, -73.94124], [40.80364, -73.95025], [40.78231, -73.94571], [40.71686, -74.00484], [40.71646, -73.95996], [40.76769, -73.988], [40.72569, -73.95179], [40.75388, -73.97308], [40.68612, -73.94384], [40.88798, -73.86474], [40.56028, -74.10678], [40.70477, -73.80335], [40.86609, -73.92638], [40.71865, -73.8538], [40.7108, -73.96226], [40.75129, -73.99538], [40.67092, -73.95301], [40.6954, -73.92723], [40.7547, -73.81238], [40.71025, -74.00756], [40.80778, -73.94561], [40.67484, -73.94084], [40.62646, -73.94554], [40.72085, -73.96116], [40.69336, -73.93857], [40.76401, -73.95929], [40.72428, -73.94686], [40.7124, -73.99054], [40.71341, -73.98856], [40.69082, -73.99281], [40.8291, -73.94816], [40.85099, -73.92822], [40.83498, -73.94214], [40.72966, -74.00243], [40.68602, -73.97386], [40.69095, -73.93444], [40.71346, -73.99592], [40.67362, -73.9568], [40.72246, -73.99552], [40.79967, -73.95444], [40.7992, -73.97158], [40.68191, -73.95136], [40.79765, -73.94022], [40.74197, -73.99702], [40.75782, -73.8844], [40.82179, -73.94777], [40.67844, -73.98136], [40.64769, -73.97435], [40.74501, -73.98668], [40.67144, -73.91457], [40.7317, -73.9833], [40.82383, -73.94037], [40.73177, -74.00162], [40.66658, -73.76581], [40.76258, -73.86855], [40.68338, -73.95289], [40.746, -73.87506], [40.64717, -73.96189], [40.72411, -73.99865], [40.72637, -73.86829], [40.73267, -73.98259], [40.74869, -73.88293], [40.6683, -73.94977], [40.8805, -73.86178], [40.85531, -73.9283], [40.81858, -73.9559], [40.82231, -73.95626], [40.69585, -73.96344], [40.76125, -73.99546], [40.75925, -73.92506], [40.76944, -73.95252], [40.64692, -73.97706], [40.86958, -73.84872], [40.69238, -73.95724], [40.68477, -73.99825], [40.68413, -73.96542], [40.689, -73.94445], [40.74157, -73.88389], [40.71173, -73.96646], [40.72189, -73.98219], [40.6676, -73.90954], [40.66798, -73.9761], [40.7722, -73.93105], [40.79917, -73.93716], [40.70388, -73.88012], [40.66325, -73.94978], [40.7767, -73.98291], [40.68338, -73.95075], [40.59495, -73.78869], [40.66987, -73.93433], [40.70818, -73.92256], [40.67711, -73.8054], [40.75651, -73.91485], [40.70846, -73.92088], [40.70669, -73.94943], [40.69422, -73.94616], [40.74686, -73.91283], [40.77706, -73.98407], [40.79598, -73.94838], [40.74572, -73.95679], [40.65099, -73.95596], [40.74585, -73.98237], [40.74182, -73.88875], [40.63992, -74.0076], [40.75215, -74.00426], [40.74464, -73.8791], [40.77509, -73.98159], [40.68695, -73.8045], [40.8092, -73.94421], [40.73318, -73.98436], [40.68379, -73.94648], [40.7074, -74.01043], [40.67061, -73.88004], [40.82931, -73.94183], [40.58848, -73.795], [40.81906, -73.92806], [40.76633, -73.98145], [40.76488, -73.91813], [40.81693, -73.94562], [40.6751, -73.91035], [40.80926, -73.95455], [40.70747, -73.95304], [40.74136, -73.92476], [40.75393, -73.99667], [40.67587, -73.9793], [40.73828, -73.98954], [40.75897, -73.9617], [40.79541, -73.94465], [40.76292, -73.98128], [40.74652, -73.90738], [40.82578, -73.95397], [40.70091, -73.81359], [40.81041, -73.94337], [40.57717, -73.9608], [40.71973, -73.99338], [40.74811, -73.97868], [40.67786, -73.93254], [40.68168, -73.9368], [40.75702, -73.99458], [40.80224, -73.95168], [40.64811, -74.01366], [40.70671, -73.94774], [40.76473, -73.99003], [40.71768, -73.94027], [40.73272, -74.00797], [40.70014, -73.93664], [40.76382, -73.98902], [40.79889, -73.97182], [40.73616, -73.95511], [40.68511, -73.76884], [40.67629, -73.96208], [40.70649, -73.94505], [40.71436, -73.98856], [40.68135, -73.92122], [40.71131, -73.87376], [40.75948, -73.8341], [40.69574, -73.93111], [40.67296, -73.9501], [40.72049, -73.95894], [40.79222, -73.94607], [40.69358, -73.96966], [40.74379, -73.97803], [40.7052, -73.91549], [40.68213, -73.9538], [40.68182, -73.9659], [40.74824, -73.91361], [40.71989, -74.00668], [40.72949, -73.98012], [40.75257, -73.97148], [40.83365, -73.94459], [40.68184, -73.99359], [40.76267, -73.9261], [40.71852, -73.84577], [40.81033, -73.95897], [40.71223, -73.95681], [40.7221, -73.98259], [40.70037, -73.89344], [40.69097, -73.92166], [40.71334, -73.99025], [40.71749, -73.95246], [40.71095, -73.95239], [40.72454, -73.97573], [40.73708, -73.92634], [40.64557, -73.98097], [40.76541, -73.98179], [40.73879, -74.00425], [40.72183, -73.98803], [40.73622, -73.8466], [40.71018, -73.94988], [40.69387, -73.99412], [40.72236, -73.98534], [40.71026, -73.94744], [40.67747, -73.9466], [40.6328, -74.02748], [40.67826, -73.96379], [40.71975, -73.94613], [40.72011, -73.95847], [40.76714, -73.9834], [40.82112, -73.95112], [40.77718, -73.98023], [40.72438, -74.00114], [40.74923, -73.95031], [40.73006, -74.00713], [40.67372, -73.91648], [40.69636, -73.94638], [40.90281, -73.85201], [40.76904, -73.95435], [40.76097, -73.98181], [40.70703, -73.90907], [40.79528, -73.94418], [40.75383, -73.96777], [40.67497, -73.94973], [40.68396, -73.95267], [40.68788, -73.98551], [40.65182, -73.98043], [40.77293, -73.91846], [40.81132, -73.94496], [40.64478, -74.07897], [40.78177, -73.97878], [40.748, -73.98831], [40.7667, -73.98692], [40.77032, -73.92621], [40.72268, -73.9893], [40.74844, -73.97344], [40.72091, -73.96133], [40.77888, -73.97967], [40.74437, -73.97295], [40.80521, -73.95137], [40.71064, -74.00754], [40.75679, -73.99547], [40.78519, -73.97032], [40.80292, -73.96692], [40.68843, -73.92536], [40.7087, -73.91452], [40.72675, -73.9554], [40.77722, -73.97834], [40.80461, -73.92276], [40.72569, -73.99519], [40.67592, -73.98107], [40.62063, -74.13001], [40.75786, -73.99485], [40.75941, -73.98794], [40.71104, -73.95917], [40.80842, -73.93136], [40.82977, -73.94071], [40.75836, -73.96289], [40.81694, -73.89627], [40.69058, -73.91303], [40.84572, -73.91023], [40.68018, -73.96572], [40.74386, -74.00106], [40.70485, -73.94472], [40.70076, -73.92878], [40.67704, -73.93955], [40.72313, -73.99438], [40.67626, -73.92936], [40.82584, -73.94673], [40.77269, -73.90626], [40.73204, -73.98364], [40.76824, -73.98538], [40.74753, -73.94054], [40.76437, -73.9195], [40.76198, -73.99739], [40.71014, -73.96253], [40.64356, -73.96318], [40.79699, -73.93882], [40.76291, -73.91871], [40.76517, -73.96665], [40.73436, -73.99994], [40.73774, -73.97343], [40.7201, -73.9841], [40.70508, -73.90217], [40.83155, -73.94489], [40.69551, -73.93951], [40.71214, -73.96866], [40.70458, -74.00755], [40.76258, -73.98575], [40.74612, -73.97417], [40.77531, -73.95165], [40.76235, -73.9626], [40.75194, -73.97068], [40.63704, -73.96693], [40.69604, -73.94504], [40.80948, -73.95514], [40.70248, -73.93225], [40.67152, -73.94712], [40.73144, -74.00523], [40.70739, -73.94726], [40.72294, -73.9857], [40.86739, -73.92], [40.70062, -73.90796], [40.7287, -74.00327], [40.71313, -73.98665], [40.65475, -74.01211], [40.7374, -74.00409], [40.76805, -73.94929], [40.6955, -73.96446], [40.75169, -73.97335], [40.74042, -73.97822], [40.74961, -73.97846], [40.82528, -73.86004], [40.82536, -73.94923], [40.68171, -73.92858], [40.6679, -73.9872], [40.56933, -74.09493], [40.74538, -73.98313], [40.66644, -73.94665], [40.73587, -73.8616], [40.79068, -73.94461], [40.7902, -73.9463], [40.80393, -73.95205], [40.69932, -73.91191], [40.68, -73.95526], [40.71353, -73.96442], [40.72043, -73.94253], [40.6943, -73.9481], [40.74419, -73.99861], [40.85081, -73.9368], [40.76777, -73.87733], [40.76428, -73.83225], [40.85612, -73.93024], [40.73141, -73.98737], [40.83044, -73.94839], [40.70801, -73.95902], [40.73969, -73.98962], [40.74423, -73.97742], [40.72931, -73.98258], [40.82083, -73.95436], [40.71259, -73.94163], [40.68981, -73.9604], [40.68608, -73.92987], [40.74166, -73.92658], [40.68927, -73.96957], [40.69414, -73.94118], [40.79884, -73.95962], [40.70736, -73.94331], [40.71981, -73.99154], [40.67613, -73.97095], [40.63376, -73.95148], [40.86615, -73.84185], [40.65698, -73.89212], [40.64314, -73.95817], [40.85129, -73.92954], [40.67225, -73.97357], [40.74358, -74.00027], [40.69132, -73.93866], [40.60059, -73.95899], [40.71591, -73.99721], [40.76221, -73.99028], [40.69433, -73.93262], [40.73939, -73.983], [40.68294, -73.92672], [40.75609, -73.96684], [40.72092, -74.00018], [40.83029, -73.94191], [40.78161, -73.94852], [40.71054, -73.94691], [40.71996, -73.98729], [40.71783, -73.96141], [40.66891, -73.93495], [40.71409, -74.00977], [40.76565, -73.99392], [40.73182, -73.87579], [40.74786, -73.99527], [40.7302, -74.00165], [40.67396, -73.96083], [40.72513, -73.94829], [40.68521, -73.95184], [40.65978, -73.99406], [40.82458, -73.93883], [40.72745, -74.0025], [40.73804, -73.98178], [40.67102, -73.93999], [40.78398, -73.97795], [40.69164, -73.90577], [40.66729, -73.98359], [40.70127, -73.91764], [40.71498, -73.96104], [40.67887, -73.79243], [40.77221, -73.94819], [40.73304, -74.00059], [40.76194, -73.99824], [40.67229, -73.92729], [40.70783, -73.94346], [40.82424, -73.94664], [40.74513, -73.8825], [40.76493, -73.98066], [40.73625, -73.98597], [40.70133, -73.92074], [40.80056, -73.96035], [40.6905, -73.90834], [40.67529, -73.93671], [40.83135, -73.94442], [40.62531, -73.93414], [40.74596, -73.98195], [40.85083, -73.94093], [40.73713, -73.9987], [40.60556, -74.08274], [40.63268, -73.96059], [40.72283, -73.95232], [40.68634, -73.93817], [40.57645, -74.01065], [40.79083, -73.97531], [40.73744, -73.87247], [40.6896, -73.9266], [40.68252, -73.90651], [40.66847, -73.94875], [40.67455, -73.93968], [40.74508, -73.92198], [40.67759, -73.9523], [40.76193, -73.99147], [40.74915, -73.97557], [40.70095, -73.98006], [40.70985, -73.94462], [40.71811, -73.83368], [40.72203, -73.94709], [40.74339, -73.98205], [40.67564, -73.94798], [40.71115, -73.95825], [40.76358, -73.96464], [40.77024, -73.99266], [40.68425, -73.9567], [40.6966, -73.94339], [40.69936, -73.9242], [40.82389, -73.95014], [40.76769, -73.99405], [40.70044, -73.93909], [40.7278, -73.99205], [40.6831, -73.95473], [40.77317, -73.82405], [40.71819, -73.95414], [40.71247, -73.94915], [40.76027, -73.90768], [40.77267, -73.92871], [40.71111, -74.00936], [40.6756, -73.95232], [40.69726, -73.91587], [40.71606, -73.95526], [40.70847, -73.9491], [40.74381, -73.89726], [40.68524, -73.94427], [40.67167, -73.93088], [40.76078, -73.99683], [40.72478, -73.85579], [40.79303, -73.94662], [40.77076, -73.98671], [40.63826, -73.96815], [40.76868, -73.78871], [40.68257, -73.9279], [40.70167, -73.91913], [40.80315, -73.94017], [40.71483, -73.94935], [40.71932, -73.98995], [40.83049, -73.87354], [40.71275, -73.98682], [40.71953, -74.00401], [40.7589, -73.99165], [40.69653, -73.91492], [40.74153, -73.91806], [40.72644, -73.98403], [40.68687, -73.76809], [40.6418, -73.93947], [40.83048, -73.9437], [40.71321, -73.95073], [40.7255, -73.94428], [40.76455, -73.97959], [40.76413, -73.92374], [40.68361, -73.98671], [40.82765, -73.94889], [40.85176, -73.93009], [40.67063, -73.9337], [40.7348, -73.98312], [40.70429, -73.98773], [40.75608, -73.93048], [40.80878, -73.95206], [40.74512, -73.98041], [40.77845, -73.97985], [40.70329, -73.92213], [40.74577, -74.0022], [40.73431, -73.95928], [40.693, -73.91078], [40.67735, -73.96581], [40.72434, -73.93971], [40.70429, -74.00714], [40.6984, -73.91476], [40.70816, -73.9222], [40.72815, -73.98059], [40.73943, -73.87475], [40.759, -73.9159], [40.67771, -73.90969], [40.77915, -73.90902], [40.69688, -73.93396], [40.77329, -73.9163], [40.75395, -73.99593], [40.73134, -73.8521], [40.70749, -73.93916], [40.65989, -73.95386], [40.6854, -73.94614], [40.82177, -73.95472], [40.89637, -73.8555], [40.81244, -73.95261], [40.71272, -73.95599], [40.67864, -73.91413], [40.69956, -73.91888], [40.78417, -73.83875], [40.74125, -73.89035], [40.75928, -73.99036], [40.70653, -73.90877], [40.72261, -73.98196], [40.57458, -73.96514], [40.84414, -73.94099], [40.71274, -73.94521], [40.77388, -73.9568], [40.80791, -73.947], [40.71331, -73.99822], [40.75651, -73.93441], [40.69262, -73.91198], [40.7161, -73.95427], [40.74825, -73.98101], [40.79398, -73.94159], [40.72137, -73.97786], [40.72681, -73.99346], [40.71391, -73.99076], [40.68725, -73.93068], [40.72096, -73.95528], [40.76066, -73.96372], [40.74735, -73.97671], [40.70807, -73.89483], [40.70083, -73.90802], [40.71972, -73.99986], [40.7129, -73.94896], [40.70788, -74.00459], [40.71713, -73.98541], [40.73932, -73.99264], [40.71257, -73.98671], [40.69748, -73.92319], [40.69306, -73.96813], [40.7231, -73.9927], [40.69962, -73.94102], [40.76468, -73.98514], [40.67418, -73.97918], [40.70081, -73.92494], [40.8152, -73.95175], [40.74356, -73.88813], [40.82185, -73.9413], [40.71576, -73.86268], [40.70985, -73.94738], [40.88364, -73.83561], [40.72177, -73.9961], [40.76472, -73.98813], [40.72268, -73.99205], [40.67037, -73.85899], [40.68475, -73.97986], [40.66151, -73.9455], [40.80431, -73.96615], [40.71291, -73.99463], [40.71681, -73.9408], [40.71624, -73.99015], [40.77338, -73.98887], [40.78143, -73.98321], [40.81387, -73.96205], [40.75097, -73.99562], [40.84813, -73.94349], [40.72011, -73.99465], [40.72472, -73.98665], [40.701, -73.90607], [40.69709, -73.91003], [40.75953, -73.99019], [40.75093, -73.98096], [40.72613, -73.93915], [40.77608, -73.94364], [40.83218, -73.91951], [40.68609, -73.92932], [40.65836, -73.96161], [40.70734, -74.01056], [40.76129, -73.9652], [40.73683, -73.9543], [40.79636, -73.94342], [40.69487, -73.9263], [40.72413, -73.9509], [40.75552, -73.83012], [40.79816, -73.9619], [40.76814, -73.98476], [40.69074, -73.93858], [40.78528, -73.98091], [40.75361, -73.97202], [40.65559, -73.97797], [40.80238, -73.96737], [40.68465, -73.95644], [40.69951, -73.92848], [40.83089, -73.94541], [40.7709, -73.95561], [40.70776, -74.01239], [40.81047, -73.95735], [40.69789, -73.98259], [40.71038, -73.94779], [40.70126, -73.918], [40.83532, -73.94428], [40.71694, -74.00076], [40.85333, -73.9305], [40.72173, -73.9918], [40.71237, -73.9598], [40.74867, -73.96734], [40.71443, -73.99348], [40.69176, -73.97413], [40.76499, -73.98888], [40.68403, -73.93088], [40.77818, -73.98959], [40.71952, -73.98535], [40.80291, -73.95832], [40.6368, -73.96857], [40.6927, -73.94656], [40.74533, -73.97956], [40.68856, -73.9547], [40.76501, -73.98076], [40.69801, -73.93357], [40.71241, -73.95354], [40.79335, -73.94527], [40.69393, -73.94689], [40.76295, -73.98866], [40.70792, -73.89808], [40.76368, -73.98881], [40.66316, -73.74804], [40.70548, -73.93698], [40.75688, -73.99862], [40.79491, -73.94162], [40.68476, -73.95471], [40.62602, -74.023], [40.7666, -73.95903], [40.81949, -73.95676], [40.68194, -73.92896], [40.68019, -73.93042], [40.68102, -73.93686], [40.68919, -73.92553], [40.75809, -73.8693], [40.73192, -73.95839], [40.72888, -73.98193], [40.76873, -73.94397], [40.67504, -73.95273], [40.73631, -73.97512], [40.717, -73.96183], [40.71628, -73.95737], [40.8107, -73.95842], [40.76289, -73.98003], [40.67968, -73.94715], [40.67817, -73.99495], [40.67631, -73.92912], [40.74781, -73.99436], [40.78271, -73.9454], [40.73073, -73.98652], [40.71627, -73.83768], [40.59707, -73.76506], [40.7126, -73.93982], [40.83534, -73.94354], [40.69301, -73.92683], [40.73474, -73.99527], [40.67918, -73.97408], [40.79247, -73.94892], [40.6874, -73.94186], [40.7258, -73.97963], [40.69462, -73.94499], [40.7444, -73.98031], [40.67628, -73.96425], [40.70458, -73.92753], [40.68553, -73.94466], [40.82414, -73.93912], [40.74356, -73.91685], [40.63705, -74.07722], [40.68977, -73.95603], [40.75732, -73.99312], [40.75572, -73.92632], [40.80129, -73.96611], [40.76269, -73.96053], [40.75571, -73.99647], [40.71338, -73.95738], [40.78333, -73.94996], [40.73219, -73.95563], [40.72062, -73.9555], [40.71715, -74.00368], [40.76914, -73.98757], [40.6836, -73.93495], [40.66757, -73.98498], [40.7368, -73.98518], [40.70679, -74.00689], [40.76333, -73.82879], [40.71197, -73.95804], [40.70306, -73.90363], [40.78592, -73.97447], [40.5771, -73.96499], [40.74948, -73.97685], [40.68574, -73.95492], [40.77057, -73.95759], [40.66788, -73.95111], [40.67561, -73.97823], [40.7441, -73.98834], [40.70569, -73.95301], [40.74441, -74.00765], [40.66767, -73.9828], [40.79795, -73.9442], [40.73865, -73.9788], [40.71213, -73.78778], [40.77026, -73.87561], [40.64841, -73.95178], [40.83217, -73.93148], [40.71293, -73.9603], [40.76496, -73.99415], [40.59894, -73.75629], [40.70986, -73.95927], [40.6403, -73.94959], [40.69301, -73.93098], [40.69441, -73.94848], [40.79887, -73.96343], [40.65345, -73.95476], [40.71911, -73.98414], [40.80076, -73.96236], [40.85324, -73.92143], [40.83379, -73.94141], [40.68615, -73.87646], [40.69343, -73.96387], [40.70893, -73.94662], [40.74068, -74.00279], [40.82796, -73.94088], [40.71373, -73.94958], [40.71587, -73.9989], [40.75747, -73.99039], [40.69563, -73.93206], [40.68736, -73.93827], [40.85762, -73.93175], [40.68014, -73.94048], [40.72756, -73.97939], [40.7672, -73.98457], [40.76813, -73.84542], [40.77418, -73.93545], [40.78327, -73.97343], [40.75089, -73.9706], [40.75518, -73.99568], [40.71564, -73.95821], [40.69358, -73.97065], [40.77439, -73.95489], [40.67627, -73.77059], [40.6987, -73.91578], [40.6888, -73.95665], [40.68656, -73.9522], [40.80034, -73.95941], [40.69904, -73.91282], [40.69691, -73.96713], [40.74086, -73.86618], [40.58996, -73.95835], [40.72734, -73.97528], [40.73857, -73.99787], [40.70615, -74.01243], [40.74653, -73.98717], [40.78208, -73.959], [40.70817, -74.00675], [40.73629, -73.98753], [40.78565, -73.94268], [40.76244, -73.96215], [40.70728, -73.95461], [40.71967, -73.99583], [40.87093, -73.91737], [40.74341, -73.90041], [40.6897, -73.9064], [40.68219, -73.97259], [40.71595, -73.96467], [40.78502, -73.94763], [40.68005, -73.85552], [40.65989, -73.99536], [40.68701, -73.96174], [40.7465, -73.97734], [40.67096, -73.95261], [40.6801, -73.94072], [40.71171, -73.9454], [40.7908, -73.94491], [40.76044, -73.96068], [40.76792, -73.96724], [40.7211, -73.85968], [40.70713, -74.01205], [40.81822, -73.90812], [40.72075, -73.98733], [40.76036, -73.924], [40.76193, -73.95895], [40.77484, -73.98659], [40.74025, -73.98323], [40.64532, -74.02063], [40.75579, -73.9148], [40.69239, -73.91443], [40.71216, -73.95683], [40.73866, -73.98322], [40.72348, -73.98322], [40.66615, -73.98554], [40.72113, -74.00478], [40.70664, -73.83395], [40.75645, -73.91458], [40.63518, -74.08546], [40.72174, -74.00354], [40.81143, -73.94935], [40.65628, -73.83172], [40.73887, -73.86562], [40.66932, -73.7514], [40.70045, -73.93832], [40.69489, -73.98322], [40.70719, -73.95228], [40.69342, -73.91116], [40.66171, -73.89891], [40.76039, -73.9736], [40.68669, -73.98498], [40.71315, -73.95695], [40.70569, -74.00403], [40.6735, -73.95486], [40.76675, -73.95428], [40.57641, -74.12931], [40.69675, -73.92964], [40.76292, -73.99219], [40.72566, -73.94823], [40.76418, -73.9555], [40.75665, -73.99838], [40.71606, -73.95527], [40.73313, -74.00336], [40.73889, -73.89706], [40.66678, -73.98822], [40.6942, -73.92024], [40.67413, -73.95916], [40.7986, -73.96229], [40.81724, -73.88878], [40.64843, -73.93549], [40.62692, -74.1299], [40.71064, -73.96497], [40.70796, -73.92412], [40.78179, -73.95209], [40.69211, -73.97224], [40.67801, -73.8459], [40.77306, -73.98637], [40.75375, -73.97416], [40.73478, -74.00015], [40.8017, -73.96991], [40.75417, -73.99435], [40.66051, -73.92964], [40.72469, -73.99111], [40.70373, -73.90873], [40.75599, -73.93415], [40.65022, -73.96281], [40.77739, -73.94916], [40.64925, -74.01147], [40.81847, -73.95259], [40.72477, -73.9859], [40.64099, -73.98029], [40.6939, -73.73104], [40.81713, -73.94217], [40.69217, -73.90768], [40.70485, -74.00934], [40.7233, -73.94065], [40.65046, -73.95067], [40.72681, -73.97994], [40.72021, -73.96246], [40.86239, -73.84362], [40.7622, -73.99673], [40.67912, -74.00227], [40.8028, -73.96678], [40.84326, -73.93901], [40.72159, -73.9962], [40.72152, -73.99476], [40.83051, -73.82511], [40.80625, -73.96176], [40.79931, -73.95238], [40.74459, -73.99061], [40.73689, -73.95488], [40.69232, -73.9534], [40.75074, -73.89339], [40.74188, -73.90146], [40.7539, -73.93419], [40.68903, -73.93192], [40.65798, -73.95985], [40.80133, -73.95251], [40.69722, -73.97204], [40.66392, -73.95994], [40.74913, -73.99575], [40.8251, -73.93899], [40.80427, -73.9506], [40.80029, -73.96626], [40.62203, -74.0303], [40.67619, -73.94936], [40.74422, -73.98172], [40.68063, -73.91375], [40.64017, -73.9105], [40.80489, -73.95171], [40.74428, -73.8333], [40.76236, -73.96642], [40.8216, -73.95583], [40.71599, -73.95514], [40.86014, -73.86301], [40.70192, -73.92464], [40.75811, -73.82504], [40.71509, -73.9967], [40.68818, -73.99483], [40.70312, -73.98416], [40.78321, -73.95646], [40.75175, -73.98499], [40.7648, -73.92081], [40.72612, -73.98946], [40.70451, -73.92588], [40.70388, -74.00633], [40.82219, -73.9448], [40.81127, -73.95922], [40.82859, -73.9497], [40.75913, -73.98991], [40.72697, -73.9805], [40.6882, -73.94645], [40.70817, -73.83595], [40.76532, -73.9615], [40.74236, -73.95641], [40.72054, -73.95919], [40.66842, -73.95601], [40.76228, -73.99026], [40.67522, -73.91938], [40.76914, -73.92118], [40.67904, -73.94837], [40.78929, -73.94178], [40.7176, -73.95234], [40.72204, -73.99705], [40.6858, -73.94654], [40.70281, -73.93188], [40.66349, -73.94222], [40.68155, -73.98947], [40.6332, -73.94267], [40.70937, -73.95903], [40.71881, -73.96397], [40.72759, -73.98619], [40.73506, -74.00518], [40.86717, -73.9194], [40.76986, -73.98673], [40.72244, -73.99461], [40.74294, -73.99795], [40.7159, -73.94397], [40.67868, -73.97307], [40.79496, -73.97349], [40.73449, -73.98473], [40.67613, -73.94578], [40.68944, -73.98904], [40.74245, -73.99348], [40.72625, -73.97822], [40.76263, -73.98271], [40.68874, -73.99855], [40.71452, -73.9534], [40.71545, -73.95406], [40.83515, -73.94226], [40.87192, -73.84676], [40.76497, -73.98201], [40.68966, -73.97311], [40.64922, -73.93301], [40.68811, -73.97539], [40.80839, -73.95269], [40.73929, -73.99777], [40.69305, -73.93185], [40.79962, -73.95359], [40.73861, -73.95485], [40.64595, -73.97578], [40.76636, -73.91366], [40.71841, -73.94343], [40.68558, -73.9281], [40.75697, -73.91847], [40.83619, -73.84916], [40.72945, -74.00321], [40.70757, -73.95387], [40.76506, -73.98507], [40.72308, -73.95071], [40.77619, -73.95325], [40.8022, -73.96483], [40.65871, -73.95263], [40.76504, -73.99491], [40.72015, -74.00435], [40.74751, -73.99483], [40.63294, -73.99475], [40.66938, -73.91831], [40.8213, -73.95318], [40.68366, -73.96563], [40.70339, -73.92945], [40.72713, -73.98402], [40.65514, -73.95956], [40.664, -73.99233], [40.77698, -73.95864], [40.71378, -73.96257], [40.7063, -73.89884], [40.72201, -73.98775], [40.80526, -73.93818], [40.72316, -73.9844], [40.77029, -73.92493], [40.66827, -73.93255], [40.83719, -73.92015], [40.67766, -73.93934], [40.78824, -73.94687], [40.73983, -74.00102], [40.67151, -73.95789], [40.72245, -73.99416], [40.76309, -73.99154], [40.68995, -73.95167], [40.76575, -73.92092], [40.76279, -73.99463], [40.67939, -73.91825], [40.74453, -73.99196], [40.76577, -73.87131], [40.84221, -73.93705], [40.72273, -74.01049], [40.76423, -73.98187], [40.72915, -73.98565], [40.70796, -74.01206], [40.73393, -73.99306], [40.66949, -73.92172], [40.75491, -73.91445], [40.76135, -73.80724], [40.749, -73.94161], [40.66519, -73.98264], [40.79954, -73.9626], [40.71189, -73.94632], [40.77379, -73.91875], [40.722, -73.98396], [40.73556, -73.95726], [40.78086, -73.95029], [40.68315, -73.92913], [40.68639, -73.9202], [40.68402, -73.96094], [40.78101, -73.98533], [40.71603, -73.96426], [40.61402, -73.94467], [40.59722, -73.75937], [40.77688, -73.94687], [40.68623, -73.93807], [40.82005, -73.93949], [40.6589, -73.95969], [40.67835, -73.96846], [40.74996, -73.99488], [40.64487, -73.96233], [40.74391, -73.97151], [40.68134, -73.9072], [40.76264, -73.98569], [40.72891, -73.97977], [40.80801, -73.9582], [40.7135, -73.99121], [40.66817, -73.98774], [40.7052, -74.00974], [40.7637, -73.97422], [40.81435, -73.94588], [40.72333, -73.98838], [40.68285, -73.93862], [40.82612, -73.95216], [40.7132, -73.99103], [40.82671, -73.90643], [40.70407, -73.93562], [40.70688, -73.90981], [40.80063, -73.95223], [40.8235, -73.94332], [40.72157, -73.94002], [40.80551, -73.93654], [40.68459, -73.94993], [40.6831, -73.94962], [40.68084, -73.94779], [40.76206, -73.9998], [40.71876, -73.94341], [40.74147, -73.99908], [40.66664, -73.92805], [40.72785, -73.95452], [40.67415, -73.95627], [40.74677, -73.98698], [40.72827, -73.98041], [40.71572, -73.94058], [40.65985, -73.94985], [40.72202, -73.98858], [40.67729, -73.99164], [40.74584, -73.98894], [40.82427, -73.94428], [40.76714, -73.99229], [40.78857, -73.94952], [40.68758, -73.91321], [40.68795, -73.94173], [40.84762, -73.93898], [40.81032, -73.95415], [40.7655, -73.98237], [40.77176, -73.94903], [40.7457, -73.97672], [40.6776, -73.93504], [40.71566, -73.941], [40.69063, -73.93947], [40.68322, -73.91702], [40.72372, -73.99318], [40.81524, -73.94168], [40.66168, -73.86665], [40.69012, -73.75349], [40.76297, -73.91696], [40.75408, -73.96568], [40.68357, -73.95449], [40.80135, -73.96643], [40.79013, -73.94473], [40.80476, -73.95416], [40.62375, -74.07373], [40.69689, -73.92566], [40.7286, -73.97952], [40.78296, -73.97743], [40.6991, -73.89796], [40.64003, -73.955], [40.69072, -73.99034], [40.65685, -73.95287], [40.78866, -73.97878], [40.67759, -73.94991], [40.67868, -73.97157], [40.70586, -73.94135], [40.73052, -73.95876], [40.74042, -73.99883], [40.77903, -73.95238], [40.79832, -73.94214], [40.71329, -73.93993], [40.72764, -73.98712], [40.81993, -73.94704], [40.68419, -73.92217], [40.70153, -73.94709], [40.75163, -73.9722], [40.75264, -73.96543], [40.76206, -73.94904], [40.83176, -73.9298], [40.83299, -73.94527], [40.67278, -73.95688], [40.67729, -73.98122], [40.8506, -73.90231], [40.78614, -73.95541], [40.64879, -73.95079], [40.68891, -73.97284], [40.83819, -73.94373], [40.7123, -73.99946], [40.72602, -74.00318], [40.82094, -73.95366], [40.71913, -73.816], [40.71751, -73.95839], [40.77771, -73.98023], [40.67206, -73.93446], [40.64179, -74.01147], [40.71339, -73.95546], [40.79795, -73.96199], [40.83456, -73.94344], [40.62827, -74.01078], [40.75803, -73.96224], [40.69729, -73.90571], [40.66406, -73.9949], [40.68772, -73.90808], [40.68421, -73.92608], [40.70741, -73.80838], [40.82195, -73.9368], [40.72528, -73.74738], [40.75645, -73.97828], [40.7421, -73.98319], [40.82347, -73.95452], [40.76554, -73.98245], [40.63549, -73.95817], [40.8058, -73.9647], [40.80995, -73.93801], [40.80298, -73.95375], [40.74766, -73.81942], [40.75399, -73.96967], [40.76736, -73.98383], [40.60111, -73.95702], [40.72475, -73.98345], [40.70227, -73.92264], [40.71736, -73.95845], [40.76038, -73.95085], [40.74665, -73.98042], [40.6406, -74.11702], [40.82823, -73.94971], [40.64865, -73.97947], [40.69203, -73.83012], [40.68789, -73.75117], [40.71084, -73.95875], [40.75749, -73.99657], [40.76207, -73.90541], [40.7463, -73.91388], [40.78572, -73.95018], [40.74906, -73.98276], [40.64917, -73.96236], [40.6795, -73.90899], [40.82739, -73.88176], [40.72686, -73.95246], [40.80171, -73.95122], [40.71398, -73.81834], [40.81635, -73.94467], [40.73372, -73.99704], [40.70144, -73.92094], [40.68388, -73.95019], [40.68707, -73.93247], [40.72614, -74.00076], [40.66209, -73.92913], [40.69097, -73.94721], [40.67453, -73.96785], [40.78136, -73.97988], [40.68697, -73.92271], [40.68466, -73.92523], [40.72733, -73.99037], [40.7209, -74.00229], [40.73304, -73.95125], [40.72266, -73.98337], [40.67336, -73.95383], [40.62776, -73.94137], [40.77315, -73.95848], [40.68147, -73.95814], [40.83088, -73.92779], [40.80196, -73.95261], [40.71616, -73.95552], [40.82565, -73.94815], [40.80863, -73.95503], [40.67454, -73.89652], [40.7437, -73.91983], [40.79966, -73.9417], [40.71448, -73.85286], [40.63076, -73.95851], [40.65625, -73.91901], [40.82414, -73.95393], [40.7723, -73.94746], [40.65062, -73.93487], [40.7277, -74.00375], [40.74248, -73.99568], [40.73327, -73.98503], [40.68015, -73.98795], [40.80212, -73.9692], [40.77273, -73.96344], [40.66858, -73.92661], [40.71293, -73.88402], [40.74843, -73.98259], [40.71635, -73.94609], [40.76574, -73.98188], [40.67881, -73.97166], [40.75588, -73.93117], [40.66199, -73.96294], [40.70779, -73.92129], [40.73861, -73.99482], [40.7357, -73.98087], [40.73261, -74.01043], [40.76647, -73.98146], [40.77587, -73.91775], [40.70598, -74.01069], [40.70696, -73.91155], [40.57608, -73.9614], [40.68469, -73.90794], [40.74229, -73.98165], [40.77734, -73.9877], [40.67175, -73.92117], [40.78569, -73.91522], [40.66023, -73.98259], [40.68778, -73.91381], [40.73505, -73.86144], [40.70395, -73.93367], [40.73443, -73.95678], [40.73613, -74.00711], [40.71702, -73.99566], [40.69508, -73.93359], [40.74789, -73.91428], [40.80668, -73.93828], [40.76777, -73.98932], [40.73597, -73.90072], [40.78179, -73.94693], [40.64455, -73.97826], [40.87066, -73.88227], [40.82565, -73.91095], [40.75652, -73.81368], [40.77311, -73.95508], [40.68045, -73.9064], [40.84316, -73.94062], [40.71917, -73.96079], [40.63867, -73.96571], [40.72574, -73.98498], [40.78323, -73.98105], [40.71603, -73.95432], [40.66186, -73.99505], [40.86039, -73.92663], [40.80403, -73.96479], [40.70161, -73.90556], [40.80661, -73.9576], [40.7651, -73.95812], [40.72792, -74.00323], [40.63213, -73.94598], [40.75994, -73.98812], [40.69008, -73.92661], [40.63808, -73.9001], [40.68996, -73.92669], [40.77785, -73.9454], [40.73675, -73.95382], [40.72929, -73.8574], [40.80118, -73.96783], [40.70986, -73.95125], [40.72011, -73.99729], [40.69561, -73.96269], [40.70707, -74.00557], [40.69094, -73.99293], [40.69632, -73.9193], [40.7394, -73.97996], [40.82875, -73.94371], [40.82976, -73.94867], [40.82205, -73.94523], [40.75252, -73.96667], [40.70674, -73.9201], [40.6404, -73.9612], [40.73384, -73.95782], [40.64127, -73.89119], [40.713, -73.99645], [40.73455, -74.00312], [40.63909, -74.01815], [40.78763, -73.95111], [40.69898, -73.75518], [40.74467, -73.8726], [40.64222, -73.95067], [40.66955, -73.98174], [40.85394, -73.89641], [40.72998, -73.99999], [40.83021, -73.94765], [40.85147, -73.93771], [40.75066, -73.97037], [40.71405, -73.99291], [40.65255, -73.9568], [40.71492, -73.94397], [40.79551, -73.97221], [40.75183, -73.97337], [40.66566, -73.93282], [40.7188, -73.99458], [40.73334, -74.00098], [40.74047, -73.99508], [40.72886, -73.9863], [40.69369, -73.9629], [40.68946, -73.94181], [40.66069, -73.94732], [40.76096, -73.9672], [40.69209, -73.99421], [40.61957, -73.9936], [40.59601, -73.96862], [40.68914, -73.92408], [40.66289, -73.99584], [40.60825, -73.75695], [40.6789, -73.97909], [40.76127, -73.95034], [40.73813, -73.98098], [40.74568, -73.98321], [40.77344, -73.94911], [40.72937, -73.95671], [40.78608, -73.97252], [40.71571, -73.98699], [40.72276, -73.98741], [40.64264, -73.97855], [40.85308, -73.92878], [40.66929, -73.98707], [40.7347, -73.98665], [40.87085, -73.89318], [40.60544, -74.00137], [40.69191, -73.97151], [40.71544, -73.95433], [40.64444, -74.08302], [40.72554, -73.94781], [40.76186, -73.97324], [40.74939, -73.98292], [40.72685, -73.98349], [40.59029, -73.79032], [40.75693, -73.93044], [40.78878, -73.97386], [40.71521, -73.96164], [40.69458, -73.96757], [40.87268, -73.85424], [40.68609, -73.91525], [40.67961, -73.92461], [40.6904, -73.98502], [40.74942, -73.9817], [40.75471, -73.98781], [40.7916, -73.94686], [40.70202, -73.92675], [40.83296, -73.88668], [40.69715, -73.92865], [40.67018, -73.98752], [40.67425, -73.96514], [40.69228, -73.99768], [40.7425, -73.99427], [40.69453, -73.94725], [40.66926, -73.991], [40.59813, -73.95432], [40.75636, -73.99675], [40.69494, -73.96888], [40.715, -74.0094], [40.6847, -73.9435], [40.75613, -73.99785], [40.71202, -73.96602], [40.69206, -73.94072], [40.73449, -73.89227], [40.76236, -73.99261], [40.68404, -74.004], [40.78539, -73.95062], [40.69233, -73.94688], [40.70168, -73.92593], [40.70605, -74.01042], [40.78671, -73.97825], [40.69521, -73.90959], [40.72158, -73.98998], [40.73697, -73.98074], [40.74311, -73.98675], [40.76591, -73.99493], [40.68036, -73.99247], [40.75115, -73.98607], [40.6986, -73.99322], [40.67596, -73.93201], [40.79592, -73.97024], [40.72871, -74.00009], [40.6682, -73.95261], [40.65927, -73.97832], [40.76616, -73.98411], [40.66175, -73.98731], [40.72815, -74.00111], [40.69293, -73.99679], [40.73804, -74.00416], [40.86383, -73.92905], [40.64687, -73.98182], [40.68502, -73.93893], [40.68651, -73.933], [40.82417, -73.94496], [40.71324, -73.73318], [40.80657, -73.95532], [40.76452, -73.9251], [40.75572, -73.98331], [40.71058, -73.95191], [40.81509, -73.96019], [40.64509, -73.94825], [40.66561, -73.98843], [40.59607, -73.75911], [40.7157, -73.95353], [40.74081, -73.99616], [40.72413, -73.97277], [40.70861, -73.95414], [40.72848, -74.00116], [40.73274, -73.95575], [40.8434, -73.94139], [40.68619, -73.79229], [40.85268, -73.92716], [40.65068, -73.96073], [40.67051, -73.77693], [40.70107, -73.91983], [40.75903, -73.92943], [40.68978, -73.93751], [40.74928, -73.99633], [40.74557, -73.99871], [40.77998, -73.98218], [40.76264, -73.91156], [40.7135, -73.988], [40.67067, -73.95693], [40.79386, -73.97223], [40.68514, -73.93207], [40.67585, -73.87307], [40.70286, -73.98911], [40.76311, -73.99388], [40.79694, -73.96268], [40.68574, -73.79008], [40.71286, -73.95648], [40.72686, -73.9797], [40.75575, -73.83261], [40.66565, -73.99172], [40.73652, -74.00876], [40.73068, -73.98949], [40.79838, -73.96388], [40.72229, -73.97901], [40.68699, -73.96049], [40.7102, -73.96222], [40.74084, -73.98008], [40.71271, -73.94284], [40.63369, -74.09489], [40.75417, -73.97279], [40.63488, -73.89015], [40.70946, -73.94966], [40.8212, -73.95479], [40.68565, -73.93249], [40.75349, -73.96545], [40.67018, -73.88867], [40.66999, -73.98079], [40.69002, -73.93733], [40.76406, -73.9349], [40.77472, -73.98641], [40.70528, -73.90896], [40.75592, -73.96891], [40.69155, -73.93662], [40.71973, -73.98993], [40.68515, -73.93255], [40.68813, -73.95773], [40.64056, -73.96571], [40.73976, -74.00953], [40.72504, -73.98242], [40.70803, -73.9591], [40.63195, -74.0214], [40.66375, -73.92974], [40.74711, -73.88188], [40.7482, -73.98776], [40.77372, -73.94803], [40.79517, -73.97392], [40.66469, -73.95125], [40.79997, -73.96529], [40.7041, -73.93415], [40.82507, -73.8204], [40.68569, -73.93038], [40.74845, -73.97446], [40.71412, -73.93829], [40.77156, -73.90521], [40.76616, -73.98611], [40.66437, -73.9823], [40.76833, -73.96156], [40.74915, -73.9761], [40.73217, -73.98801], [40.64399, -73.89315], [40.7484, -73.94651], [40.7452, -73.9535], [40.68234, -73.98129], [40.71357, -73.85138], [40.72108, -73.95215], [40.66458, -73.73464], [40.72129, -74.0019], [40.73125, -73.98675], [40.6618, -73.87908], [40.69044, -73.92636], [40.71521, -73.99169], [40.60467, -73.94243], [40.73628, -73.98549], [40.69764, -73.94929], [40.77497, -73.91425], [40.70803, -73.95475], [40.68248, -73.79417], [40.70878, -73.91727], [40.80921, -73.94019], [40.79288, -73.9723], [40.65255, -73.9454], [40.72256, -73.97925], [40.75774, -73.99371], [40.79197, -73.94711], [40.67728, -73.94536], [40.70599, -74.00503], [40.74702, -73.82618], [40.74163, -73.99857], [40.64405, -73.99125], [40.75709, -73.96327], [40.70365, -73.89572], [40.80442, -73.96362], [40.72224, -73.99438], [40.79527, -73.96486], [40.68411, -73.95169], [40.6897, -73.921], [40.8101, -73.94453], [40.72912, -74.00298], [40.85735, -73.9298], [40.65457, -73.97512], [40.70087, -73.93904], [40.68117, -73.93537], [40.87277, -73.90268], [40.77776, -73.91455], [40.76221, -73.97787], [40.6329, -73.92784], [40.81623, -73.94907], [40.85488, -73.93194], [40.67762, -73.96539], [40.70084, -73.90843], [40.64931, -73.9733], [40.73805, -73.98415], [40.67289, -73.98316], [40.80732, -73.93775], [40.70659, -74.00426], [40.80279, -73.94736], [40.76294, -73.91545], [40.83736, -73.92318], [40.7602, -73.99868], [40.74911, -74.00125], [40.74392, -73.98072], [40.70627, -73.95484], [40.70412, -73.93555], [40.76126, -73.99117], [40.75663, -73.96681], [40.67664, -73.91163], [40.69202, -73.91487], [40.69602, -73.99253], [40.70737, -73.93961], [40.67541, -73.95221], [40.61401, -73.92112], [40.89604, -73.85877], [40.72903, -74.00028], [40.65116, -73.94525], [40.71626, -74.00694], [40.73958, -73.98258], [40.65527, -73.97853], [40.6898, -73.91774], [40.67398, -73.92787], [40.71259, -73.96037], [40.58718, -73.81541], [40.78954, -73.97222], [40.67562, -73.87763], [40.70459, -73.89574], [40.7296, -73.98479], [40.77114, -73.95913], [40.67822, -73.9389], [40.69297, -73.95158], [40.69911, -73.94162], [40.72555, -73.95323], [40.6705, -73.77787], [40.63926, -73.96416], [40.7185, -73.94888], [40.61703, -73.97055], [40.68171, -73.99765], [40.75463, -73.97062], [40.666, -73.76333], [40.78672, -73.9488], [40.76211, -73.99873], [40.83439, -73.8585], [40.71578, -73.98201], [40.64524, -74.08088], [40.74989, -73.87829], [40.73539, -74.00818], [40.68907, -73.95217], [40.71283, -73.99703], [40.74258, -73.9031], [40.74447, -73.83186], [40.76999, -73.9477], [40.81294, -73.94609], [40.72822, -73.74119], [40.68468, -73.92408], [40.80419, -73.94792], [40.71054, -73.95669], [40.70369, -73.93284], [40.68779, -73.90521], [40.77782, -73.97848], [40.77667, -73.95335], [40.72283, -73.99472], [40.78482, -73.95191], [40.70703, -73.95396], [40.75246, -73.97171], [40.72488, -73.94085], [40.68574, -73.92975], [40.79421, -73.97097], [40.75654, -73.99425], [40.8753, -73.9116], [40.75134, -73.85219], [40.73316, -74.00782], [40.68898, -73.97707], [40.663, -73.86723], [40.64015, -74.08127], [40.67541, -73.94917], [40.76195, -73.98771], [40.7279, -73.94494], [40.75771, -73.91385], [40.77389, -73.951], [40.62379, -73.92995], [40.75009, -73.87799], [40.81419, -73.94717], [40.72765, -73.98199], [40.73759, -73.92127], [40.80356, -73.9698], [40.75138, -73.81515], [40.70537, -74.00784], [40.68462, -73.93724], [40.68164, -73.98631], [40.68004, -73.94699], [40.79931, -73.94726], [40.75637, -73.89729], [40.72917, -73.95131], [40.69328, -73.92085], [40.68448, -73.96385], [40.73419, -73.95675], [40.76218, -73.98002], [40.69037, -73.9184], [40.66189, -73.93309], [40.68235, -73.90381], [40.65021, -73.96293], [40.7023, -73.91911], [40.6626, -73.96003], [40.70584, -74.01045], [40.68422, -73.92314], [40.76118, -73.98628], [40.7239, -73.98312], [40.71901, -73.9571], [40.78615, -73.94295], [40.72569, -74.00849], [40.71825, -73.99651], [40.76072, -73.98582], [40.76559, -73.99221], [40.70735, -73.94032], [40.69471, -73.90687], [40.8029, -73.95576], [40.6732, -73.92146], [40.72003, -73.94147], [40.71886, -73.99746], [40.71425, -73.96276], [40.72654, -73.86077], [40.66648, -73.76286], [40.73002, -74.00653], [40.76385, -73.9905], [40.69261, -73.99252], [40.65937, -73.95906], [40.7568, -73.83055], [40.73362, -73.9892], [40.71916, -73.99754], [40.72327, -73.98105], [40.72916, -73.98228], [40.72785, -73.98684], [40.75524, -73.90701], [40.76564, -73.94528], [40.68108, -73.99381], [40.72723, -73.95728], [40.84606, -73.93325], [40.75055, -73.88366], [40.71889, -73.99231], [40.67668, -74.00247], [40.65465, -73.93383], [40.69491, -73.99355], [40.7198, -73.98209], [40.65059, -73.94506], [40.69961, -73.84158], [40.71921, -73.95628], [40.68382, -73.9204], [40.69585, -73.93094], [40.742, -73.98154], [40.69949, -73.92621], [40.79466, -73.97173], [40.72026, -73.96111], [40.78343, -73.9823], [40.67729, -73.87996], [40.73908, -74.00378], [40.76161, -73.99452], [40.80952, -73.93025], [40.59689, -73.93353], [40.74089, -74.00002], [40.75554, -73.96533], [40.71595, -73.99329], [40.66272, -73.76849], [40.67651, -73.98007], [40.73968, -73.80601], [40.67157, -73.93434], [40.68764, -73.91445], [40.798, -73.96317], [40.66209, -73.98671], [40.73829, -73.97896], [40.72925, -73.98459], [40.80268, -73.94244], [40.69617, -73.92588], [40.66244, -73.95813], [40.82039, -73.95514], [40.6759, -73.95274], [40.81055, -73.95549], [40.75511, -73.99532], [40.69433, -73.9432], [40.76877, -73.95479], [40.70564, -73.93646], [40.73474, -74.00101], [40.69025, -73.9303], [40.71597, -73.95223], [40.63481, -74.08519], [40.77437, -73.91854], [40.73857, -73.95299], [40.76341, -73.99051], [40.72263, -73.99622], [40.68607, -73.92392], [40.69144, -73.93493], [40.72053, -73.98901], [40.73057, -74.00458], [40.72357, -73.95057], [40.69703, -73.93207], [40.80761, -73.95841], [40.72666, -73.97969], [40.72754, -73.95674], [40.70789, -73.74073], [40.66911, -73.95982], [40.64117, -73.96038], [40.76103, -73.98666], [40.77771, -73.98244], [40.68736, -73.97639], [40.67253, -73.9223], [40.8141, -73.93602], [40.69995, -73.93884], [40.83424, -73.94275], [40.68217, -73.8723], [40.75041, -73.93761], [40.70645, -74.01175], [40.77896, -73.97849], [40.68817, -73.96852], [40.67718, -73.95852], [40.82921, -73.93802], [40.74479, -73.89199], [40.75996, -73.99798], [40.66946, -73.95008], [40.80227, -73.9579], [40.70078, -73.9075], [40.82195, -73.95373], [40.7219, -73.98717], [40.80439, -73.96263], [40.79952, -73.93764], [40.79312, -73.96595], [40.71431, -73.9532], [40.80369, -73.94764], [40.81415, -73.88671], [40.70784, -74.0107], [40.73842, -73.95312], [40.71181, -73.96677], [40.80276, -73.94976], [40.71866, -73.96417], [40.74279, -74.00193], [40.69888, -73.93075], [40.72733, -73.9404], [40.66115, -73.89352], [40.68966, -73.95353], [40.72354, -73.99333], [40.84941, -73.93432], [40.65068, -73.91811], [40.71407, -73.93856], [40.68373, -73.95016], [40.79678, -73.96545], [40.70743, -73.96786], [40.748, -73.97943], [40.77068, -73.98674], [40.73233, -74.00244], [40.77995, -73.98342], [40.74299, -73.92441], [40.62646, -73.92754], [40.72861, -73.97734], [40.75017, -73.97241], [40.75987, -73.986], [40.80268, -73.969], [40.79213, -73.9704], [40.73161, -73.9896], [40.66012, -73.98343], [40.7246, -73.98953], [40.72132, -73.98369], [40.87045, -73.9183], [40.7188, -73.99452], [40.65729, -73.99917], [40.64734, -73.97334], [40.73572, -73.98736], [40.76027, -73.98831], [40.68384, -73.96042], [40.72752, -73.98969], [40.6758, -73.93932], [40.73742, -74.00171], [40.68411, -73.92973], [40.73386, -73.95873], [40.65931, -73.95371], [40.67394, -73.924], [40.70171, -73.91344], [40.76164, -73.99804], [40.73627, -73.9802], [40.79167, -73.97273], [40.81998, -73.90325], [40.59731, -73.93381], [40.76642, -73.97107], [40.76194, -73.99122], [40.57093, -74.12429], [40.74589, -74.0048], [40.71826, -73.98455], [40.71943, -73.99712], [40.71171, -73.96694], [40.69175, -73.92834], [40.68943, -73.96635], [40.69874, -73.92969], [40.72061, -73.99472], [40.77508, -73.9799], [40.70165, -73.92938], [40.71927, -73.95591], [40.70428, -74.01067], [40.7196, -73.95956], [40.70498, -74.01063], [40.70659, -73.94049], [40.77408, -73.98181], [40.73729, -73.85595], [40.64487, -73.94711], [40.69209, -73.98499], [40.76476, -73.9762], [40.71331, -73.98189], [40.69284, -73.96065], [40.87938, -73.86349], [40.68713, -73.98592], [40.81859, -73.93997], [40.68323, -73.94694], [40.76242, -73.9925], [40.75225, -73.99508], [40.83039, -73.94721], [40.67091, -73.78204], [40.77079, -73.95949], [40.70491, -74.00978], [40.69335, -73.9369], [40.68636, -73.90731], [40.71258, -73.96392], [40.76322, -73.94899], [40.71348, -73.94447], [40.78654, -73.97663], [40.718, -73.96603], [40.78172, -73.97825], [40.6746, -73.87293], [40.6531, -73.94965], [40.74197, -73.98328], [40.6726, -73.93992], [40.7335, -73.99834], [40.6881, -73.95356], [40.69375, -73.96697], [40.67698, -73.94414], [40.77209, -73.95083], [40.77007, -73.9569], [40.7125, -73.99661], [40.68519, -73.94176], [40.65766, -73.97927], [40.71545, -73.94383], [40.70653, -73.93864], [40.76312, -73.96624], [40.76607, -73.9826], [40.7133, -73.94602], [40.85749, -73.93258], [40.74182, -73.99904], [40.66458, -73.98722], [40.67986, -73.9945], [40.72316, -73.99577], [40.76008, -73.98846], [40.70253, -73.91889], [40.64699, -74.0156], [40.76218, -73.94897], [40.78966, -73.9776], [40.71045, -73.9441], [40.63504, -73.96603], [40.57941, -73.975], [40.68372, -73.91994], [40.7126, -73.96347], [40.66257, -73.92355], [40.65053, -73.97438], [40.83107, -73.9486], [40.72394, -73.99583], [40.71749, -73.95747], [40.84536, -73.93564], [40.72182, -73.95576], [40.76287, -73.9957], [40.70946, -73.74837], [40.68886, -73.92879], [40.80708, -73.95211], [40.78429, -73.97815], [40.81915, -73.9425], [40.74281, -73.97981], [40.69544, -73.93046], [40.67739, -73.95561], [40.83219, -73.94334], [40.7242, -73.94235], [40.70359, -73.74859], [40.74471, -73.88075], [40.70973, -73.9626], [40.77292, -73.95015], [40.82469, -73.95032], [40.7197, -73.95741], [40.75583, -73.96836], [40.82291, -73.94171], [40.69064, -73.76009], [40.75725, -73.9959], [40.6961, -73.9307], [40.72652, -74.00032], [40.63043, -73.89553], [40.72951, -73.98576], [40.75296, -73.93716], [40.71693, -73.94267], [40.69403, -73.92673], [40.73403, -73.95746], [40.86648, -73.9263], [40.7392, -73.99578], [40.76671, -73.98666], [40.67933, -73.94103], [40.72837, -73.98546], [40.68158, -73.95798], [40.75766, -73.99089], [40.69315, -73.96412], [40.78111, -73.97923], [40.68765, -73.90821], [40.69161, -73.94417], [40.80463, -73.95044], [40.7613, -73.96414], [40.75524, -73.96755], [40.83113, -73.94924], [40.81489, -73.95842], [40.67597, -73.94857], [40.71438, -73.94359], [40.65704, -73.9603], [40.71813, -74.00538], [40.78635, -73.97616], [40.68655, -73.92112], [40.74158, -73.99585], [40.72697, -73.98373], [40.65411, -73.83191], [40.73735, -74.0004], [40.71043, -73.95575], [40.70764, -73.94231], [40.72674, -73.95495], [40.81953, -73.95665], [40.77617, -73.98188], [40.78949, -73.94461], [40.76986, -73.80515], [40.87847, -73.90268], [40.70849, -73.9619], [40.65552, -73.97493], [40.81217, -73.94406], [40.72975, -74.0042], [40.65616, -74.00091], [40.64593, -73.97745], [40.70659, -74.01002], [40.7804, -73.94556], [40.71245, -73.79806], [40.70234, -74.01047], [40.76375, -73.99201], [40.74493, -73.9537], [40.68659, -73.91883], [40.63584, -74.08542], [40.57721, -73.96076], [40.73808, -74.00254], [40.82996, -73.94714], [40.80719, -73.94088], [40.71, -73.96775], [40.75906, -73.87771], [40.73133, -73.98747], [40.7155, -74.00754], [40.68429, -73.93623], [40.80801, -73.94011], [40.80091, -73.95912], [40.76934, -73.9863], [40.6951, -73.92898], [40.79913, -73.96057], [40.7128, -73.96244], [40.76651, -73.95155], [40.71962, -73.99178], [40.72683, -73.97993], [40.7316, -73.98507], [40.86743, -73.92643], [40.82399, -73.94382], [40.6804, -73.93183], [40.71963, -73.98499], [40.68374, -73.9456], [40.72899, -73.97792], [40.74768, -73.99625], [40.81953, -73.95476], [40.76266, -73.93929], [40.8127, -73.94367], [40.68348, -73.90817], [40.57509, -73.96603], [40.73889, -73.87713], [40.6748, -73.79242], [40.6541, -73.93834], [40.68511, -73.96638], [40.76343, -73.99381], [40.67192, -73.97444], [40.72577, -73.98535], [40.74558, -74.00325], [40.72168, -73.99183], [40.82359, -73.95508], [40.76015, -73.96378], [40.73145, -74.00184], [40.76829, -73.92625], [40.71727, -73.95753], [40.74249, -73.92466], [40.66379, -73.95239], [40.7663, -73.98359], [40.7968, -73.93611], [40.81575, -73.9537], [40.6785, -73.98209], [40.80691, -73.94626], [40.7898, -73.9708], [40.71197, -73.99019], [40.80062, -73.96169], [40.65214, -73.93126], [40.73103, -73.98233], [40.81864, -73.94108], [40.71605, -73.85854], [40.71124, -73.96451], [40.74056, -73.98077], [40.71055, -73.95553], [40.71086, -73.96088], [40.80047, -73.96064], [40.74233, -73.99865], [40.76269, -73.99139], [40.67999, -73.94618], [40.67995, -73.90922], [40.83613, -73.94472], [40.71536, -73.99794], [40.64426, -73.99555], [40.69038, -73.91462], [40.66852, -73.9425], [40.75985, -73.99799], [40.75372, -73.99332], [40.71239, -73.96178], [40.72281, -73.97768], [40.7823, -73.98081], [40.73939, -73.99747], [40.85547, -73.92912], [40.76332, -73.9884], [40.707, -74.00782], [40.61472, -73.99143], [40.67897, -73.94192], [40.81254, -73.94204], [40.65496, -73.94405], [40.75569, -73.98154], [40.75547, -73.96467], [40.68897, -73.98765], [40.85783, -73.93117], [40.73545, -74.00529], [40.74666, -73.97358], [40.72535, -73.99341], [40.72485, -73.94582], [40.85413, -73.83065], [40.66051, -73.99081], [40.77837, -73.94802], [40.67784, -73.77299], [40.71191, -73.90631], [40.76563, -73.98242], [40.76994, -73.90659], [40.65135, -74.00487], [40.70781, -73.92184], [40.72726, -73.98037], [40.75381, -73.92559], [40.71939, -73.99662], [40.8258, -73.94405], [40.72713, -73.98159], [40.67471, -73.9616], [40.77834, -73.95193], [40.86763, -73.92259], [40.71523, -73.98489], [40.75192, -73.94074], [40.61208, -74.00181], [40.68538, -73.90878], [40.68517, -73.99545], [40.66561, -73.81103], [40.71935, -73.96049], [40.76205, -73.91379], [40.84176, -73.93738], [40.75008, -73.97752], [40.76106, -73.98627], [40.79584, -73.97156], [40.74509, -73.9236], [40.76638, -73.93236], [40.69898, -73.92266], [40.69872, -73.9301], [40.76239, -73.99003], [40.70254, -73.92471], [40.77816, -73.97735], [40.66255, -73.94676], [40.66166, -73.94084], [40.73036, -73.99358], [40.71989, -73.95837], [40.79739, -73.96945], [40.68039, -74.01729], [40.7983, -73.96115], [40.76646, -73.98704], [40.7659, -73.98557], [40.77141, -73.94985], [40.75784, -73.83181], [40.74527, -73.94629], [40.80389, -73.96541], [40.6848, -73.94939], [40.72728, -73.95313], [40.69004, -73.83368], [40.72186, -73.99696], [40.67289, -73.76699], [40.73384, -73.99616], [40.58989, -73.79117], [40.78569, -73.97048], [40.80094, -73.96163], [40.68893, -73.95354], [40.63476, -74.0894], [40.77374, -73.91903], [40.73194, -74.00254], [40.71322, -73.83493], [40.62652, -74.0196], [40.69636, -73.92482], [40.6626, -73.76349], [40.71058, -73.95294], [40.79971, -73.96037], [40.80012, -73.96896], [40.69406, -73.98102], [40.71581, -73.95543], [40.79416, -73.97044], [40.85391, -73.93649], [40.77411, -73.92731], [40.79368, -73.96373], [40.68055, -73.78263], [40.68216, -73.99504], [40.67265, -73.94728], [40.78189, -73.9455], [40.71734, -73.95952], [40.73674, -73.92973], [40.74466, -73.99504], [40.75334, -73.97278], [40.69671, -73.94896], [40.7949, -73.93627], [40.68375, -73.91503], [40.69702, -73.93269], [40.71563, -73.94085], [40.86191, -73.92726], [40.85241, -73.9368], [40.69217, -73.95823], [40.67933, -73.99562], [40.61543, -74.08513], [40.72058, -73.98674], [40.66132, -73.99192], [40.78758, -73.95026], [40.7178, -73.98504], [40.69161, -73.76326], [40.67395, -73.94874], [40.61679, -73.96016], [40.68457, -73.9262], [40.71971, -73.98761], [40.80741, -73.96658], [40.66709, -73.9514], [40.76435, -73.99337], [40.78369, -73.95154], [40.67335, -73.91881], [40.70742, -74.01544], [40.82434, -73.91377], [40.79733, -73.93955], [40.74283, -73.90303], [40.71032, -73.95687], [40.67127, -73.99006], [40.71727, -74.00335], [40.7363, -73.98338], [40.65813, -73.95788], [40.73926, -73.98758], [40.75228, -73.88699], [40.70709, -73.92071], [40.65114, -73.96246], [40.71684, -73.94578], [40.70041, -73.93957], [40.67418, -73.94661], [40.76582, -73.97958], [40.76061, -73.9967], [40.73536, -73.98433], [40.71742, -73.95777], [40.74676, -73.97682], [40.70959, -74.00646], [40.68809, -73.90641], [40.77829, -73.95093], [40.71833, -73.99443], [40.68655, -73.93673], [40.68893, -73.97016], [40.80467, -73.9405], [40.71742, -74.00396], [40.71895, -73.99793], [40.69415, -73.96581], [40.74673, -73.97343], [40.70713, -73.92918], [40.69611, -73.92258], [40.69202, -73.95456], [40.88871, -73.86175], [40.69081, -73.92679], [40.68023, -73.91047], [40.82443, -73.95175], [40.72918, -73.99889], [40.68277, -73.92012], [40.69234, -73.97219], [40.66913, -73.94028], [40.72038, -73.99818], [40.77912, -73.98029], [40.69872, -73.99338], [40.67916, -73.90628], [40.70675, -73.94984], [40.68653, -73.9449], [40.68085, -73.94224], [40.72283, -73.98356], [40.6847, -73.91762], [40.72618, -73.94971], [40.84433, -73.93948], [40.7456, -74.00107], [40.76947, -73.94303], [40.76523, -73.86966], [40.6907, -73.95004], [40.77472, -73.98323], [40.75922, -73.9969], [40.76246, -73.99032], [40.7999, -73.95962], [40.75321, -74.00238], [40.75885, -73.98996], [40.58817, -73.79513], [40.77997, -73.95214], [40.67302, -73.94815], [40.71167, -73.81812], [40.84405, -73.93796], [40.78484, -73.97707], [40.81525, -73.94552], [40.82417, -73.90156], [40.6336, -74.02884], [40.78073, -73.94976], [40.67171, -73.97607], [40.70558, -73.9418], [40.78602, -73.97537], [40.65882, -73.92947], [40.71891, -74.00024], [40.80066, -73.96813], [40.71671, -73.94069], [40.76982, -73.93501], [40.70306, -73.92526], [40.68293, -73.93437], [40.73509, -74.00323], [40.68237, -73.95257], [40.69615, -73.93302], [40.82974, -73.94193], [40.70979, -73.96631], [40.86912, -73.92183], [40.68993, -73.99204], [40.6855, -73.95677], [40.70006, -73.95388], [40.66921, -73.93521], [40.79153, -73.97174], [40.73278, -73.95368], [40.6748, -74.00006], [40.65022, -73.97247], [40.83513, -73.94738], [40.76338, -73.98911], [40.83414, -73.94565], [40.75, -73.81489], [40.70192, -73.91556], [40.796, -73.94863], [40.70103, -73.91018], [40.70091, -73.92215], [40.76382, -73.99498], [40.76532, -73.99061], [40.61283, -74.06625], [40.74177, -73.88445], [40.71654, -73.99485], [40.86681, -73.84073], [40.69235, -73.97369], [40.60948, -73.95803], [40.74796, -73.97949], [40.78079, -73.98826], [40.70563, -74.0078], [40.77776, -73.91612], [40.76216, -73.96195], [40.7381, -73.9976], [40.68408, -73.95659], [40.75706, -73.91834], [40.86387, -73.92711], [40.74432, -73.99985], [40.71445, -73.94593], [40.77964, -73.95474], [40.64497, -74.08267], [40.72839, -73.98613], [40.73159, -73.95713], [40.72608, -74.00336], [40.69528, -73.95603], [40.72712, -73.8308], [40.7429, -73.99344], [40.69974, -73.91935], [40.6966, -73.93592], [40.6656, -73.98575], [40.74739, -73.92058], [40.64741, -73.97102], [40.74578, -73.89328], [40.85823, -73.93612], [40.72339, -73.99477], [40.6926, -73.99832], [40.74072, -73.98133], [40.68508, -73.98413], [40.68542, -73.98916], [40.79949, -73.93531], [40.71732, -73.95048], [40.71568, -73.94415], [40.72149, -73.99815], [40.67293, -73.96678], [40.68881, -73.91992], [40.74561, -73.88514], [40.70587, -74.0118], [40.68302, -73.92119], [40.80581, -73.95], [40.70647, -73.93265], [40.7476, -73.97632], [40.72401, -73.98061], [40.7195, -73.98022], [40.68468, -73.96303], [40.74725, -73.99515], [40.723, -73.94237], [40.72736, -74.00192], [40.69838, -73.84228], [40.71857, -73.98867], [40.88764, -73.90449], [40.7448, -74.00761], [40.72818, -73.98075], [40.7665, -73.98673], [40.66801, -73.98142], [40.76276, -73.92508], [40.72383, -73.98289], [40.67477, -74.01046], [40.85712, -73.9277], [40.64929, -73.92647], [40.66611, -73.93708], [40.71086, -74.00464], [40.6682, -73.88541], [40.74779, -73.98734], [40.75378, -73.93449], [40.65331, -74.00814], [40.72591, -73.98], [40.7008, -73.9394], [40.72766, -73.94393], [40.82601, -73.9433], [40.80185, -73.96807], [40.78471, -73.9716], [40.84543, -73.94283], [40.75871, -73.99659], [40.66136, -73.8678], [40.76724, -73.9232], [40.74827, -73.97851], [40.64076, -73.88298], [40.67723, -73.91618], [40.8522, -73.93456], [40.7471, -73.97263], [40.71733, -73.9531], [40.76199, -73.92684], [40.86952, -73.89447], [40.68703, -73.97575], [40.66075, -73.94549], [40.72593, -74.00185], [40.66338, -73.99879], [40.81619, -73.93798], [40.68527, -73.95014], [40.81657, -73.94262], [40.67873, -73.98236], [40.64408, -73.96979], [40.6898, -73.95205], [40.71186, -73.95098], [40.82491, -73.94774], [40.79365, -73.9349], [40.72646, -73.98498], [40.68451, -73.96052], [40.70631, -73.94467], [40.71046, -73.98839], [40.80244, -73.96592], [40.63359, -74.02302], [40.78471, -73.95054], [40.7242, -73.95126], [40.70575, -73.90171], [40.68774, -73.93699], [40.66284, -73.76962], [40.74296, -73.98691], [40.6697, -73.95831], [40.71508, -73.94586], [40.76352, -73.91353], [40.68858, -73.78961], [40.72917, -73.98811], [40.79813, -73.93132], [40.87905, -73.85243], [40.83121, -73.8483], [40.74568, -73.90844], [40.71728, -73.94394], [40.66173, -73.95382], [40.71479, -74.00671], [40.73207, -74.01087], [40.79114, -73.97787], [40.69606, -73.9095], [40.72147, -73.98774], [40.74513, -73.87237], [40.59291, -73.78708], [40.82372, -73.95122], [40.76609, -73.99305], [40.6881, -73.94516], [40.81561, -73.94823], [40.67901, -73.78876], [40.84021, -73.94191], [40.72003, -73.98928], [40.68257, -73.77949]],\n",
              "                {&quot;blur&quot;: 15, &quot;maxZoom&quot;: 18, &quot;minOpacity&quot;: 0.5, &quot;radius&quot;: 25}\n",
              "            ).addTo(map_50361416f56ad9e56beb8b100906c2db);\n",
              "        \n",
              "&lt;/script&gt;\n",
              "&lt;/html&gt;\" style=\"position:absolute;width:100%;height:100%;left:0;top:0;border:none !important;\" allowfullscreen webkitallowfullscreen mozallowfullscreen></iframe></div></div>"
            ]
          },
          "metadata": {},
          "execution_count": 61
        }
      ]
    },
    {
      "cell_type": "markdown",
      "source": [
        "##### 1. Why did you pick the specific chart?"
      ],
      "metadata": {
        "id": "QHF8YVU7Yuh3"
      }
    },
    {
      "cell_type": "markdown",
      "source": [
        "To show the most booked location on Airbnb"
      ],
      "metadata": {
        "id": "dcxuIMRPYuh3"
      }
    },
    {
      "cell_type": "markdown",
      "source": [
        "#####2. What is/are the insight(s) found from the chart?"
      ],
      "metadata": {
        "id": "5YlcZfZdY9Kq"
      }
    },
    {
      "cell_type": "markdown",
      "source": [
        "Here, we can see that the number of Airbnb booking is done for near new york city"
      ],
      "metadata": {
        "id": "F67Or72DZCE0"
      }
    },
    {
      "cell_type": "markdown",
      "source": [
        "#### Price"
      ],
      "metadata": {
        "id": "OH-pJp9IphqM"
      }
    },
    {
      "cell_type": "code",
      "source": [
        "# Chart - 6 visualization code\n",
        "df.price"
      ],
      "metadata": {
        "id": "kuRf4wtuphqN",
        "colab": {
          "base_uri": "https://localhost:8080/"
        },
        "outputId": "6f05578d-5d3a-4c88-8b53-560af70cb4be"
      },
      "execution_count": 62,
      "outputs": [
        {
          "output_type": "execute_result",
          "data": {
            "text/plain": [
              "0        149\n",
              "1        225\n",
              "2        150\n",
              "3         89\n",
              "4         80\n",
              "        ... \n",
              "48890     70\n",
              "48891     40\n",
              "48892    115\n",
              "48893     55\n",
              "48894     90\n",
              "Name: price, Length: 48895, dtype: int64"
            ]
          },
          "metadata": {},
          "execution_count": 62
        }
      ]
    },
    {
      "cell_type": "code",
      "source": [
        "price=df.price.value_counts()\n",
        "price\n"
      ],
      "metadata": {
        "colab": {
          "base_uri": "https://localhost:8080/"
        },
        "id": "sDU2jKvABKu3",
        "outputId": "cce1fe55-659e-48d8-f14f-10badc9a7f45"
      },
      "execution_count": 63,
      "outputs": [
        {
          "output_type": "execute_result",
          "data": {
            "text/plain": [
              "100    2051\n",
              "150    2047\n",
              "50     1534\n",
              "60     1458\n",
              "200    1401\n",
              "       ... \n",
              "780       1\n",
              "386       1\n",
              "888       1\n",
              "483       1\n",
              "338       1\n",
              "Name: price, Length: 674, dtype: int64"
            ]
          },
          "metadata": {},
          "execution_count": 63
        }
      ]
    },
    {
      "cell_type": "code",
      "source": [
        "sns.histplot(price)"
      ],
      "metadata": {
        "colab": {
          "base_uri": "https://localhost:8080/",
          "height": 466
        },
        "id": "FKRXNcCRBWMl",
        "outputId": "29a95954-40ed-46f1-ebe5-7a050fcc2271"
      },
      "execution_count": 64,
      "outputs": [
        {
          "output_type": "execute_result",
          "data": {
            "text/plain": [
              "<Axes: xlabel='price', ylabel='Count'>"
            ]
          },
          "metadata": {},
          "execution_count": 64
        },
        {
          "output_type": "display_data",
          "data": {
            "text/plain": [
              "<Figure size 640x480 with 1 Axes>"
            ],
            "image/png": "[encoded data removed]"
          },
          "metadata": {}
        }
      ]
    },
    {
      "cell_type": "markdown",
      "source": [
        "##### 1. Why did you pick the specific chart?"
      ],
      "metadata": {
        "id": "bbFf2-_FphqN"
      }
    },
    {
      "cell_type": "markdown",
      "source": [
        "In this chart, we have seen price by Airbnb hotel has booked"
      ],
      "metadata": {
        "id": "loh7H2nzphqN"
      }
    },
    {
      "cell_type": "markdown",
      "source": [
        "##### 2. What is/are the insight(s) found from the chart?"
      ],
      "metadata": {
        "id": "_ouA3fa0phqN"
      }
    },
    {
      "cell_type": "markdown",
      "source": [
        "0 - 250 airbnb prices has been used most frequently to book hotel by the guest."
      ],
      "metadata": {
        "id": "VECbqPI7phqN"
      }
    },
    {
      "cell_type": "markdown",
      "source": [
        "##### 3. Will the gained insights help creating a positive business impact?\n",
        "Are there any insights that lead to negative growth? Justify with specific reason."
      ],
      "metadata": {
        "id": "Seke61FWphqN"
      }
    },
    {
      "cell_type": "markdown",
      "source": [
        "Yes, it is creating positive business impact that guests are prefered price range between 0 to  250 more to book hotels."
      ],
      "metadata": {
        "id": "DW4_bGpfphqN"
      }
    },
    {
      "cell_type": "markdown",
      "source": [
        "##**1. What can we learn about different hosts and areas?**"
      ],
      "metadata": {
        "id": "k4Y3NwdMatPX"
      }
    },
    {
      "cell_type": "code",
      "source": [
        "# Chart - 7 visualization code\n",
        "hosts_areas = df.groupby(['host_name','neighbourhood_group'])['calculated_host_listings_count'].max().reset_index()\n",
        "hosts_areas.sort_values(by='calculated_host_listings_count', ascending=False).head(5)\n"
      ],
      "metadata": {
        "id": "lqAIGUfyphqO",
        "colab": {
          "base_uri": "https://localhost:8080/",
          "height": 206
        },
        "outputId": "1c418a59-5b1a-4f49-af79-970afb4ba8be"
      },
      "execution_count": 65,
      "outputs": [
        {
          "output_type": "execute_result",
          "data": {
            "text/plain": [
              "          host_name neighbourhood_group  calculated_host_listings_count\n",
              "13217  Sonder (NYC)           Manhattan                             327\n",
              "1834     Blueground           Manhattan                             232\n",
              "1833     Blueground            Brooklyn                             232\n",
              "7275           Kara           Manhattan                             121\n",
              "7480         Kazuya              Queens                             103"
            ],
            "text/html": [
              "\n",
              "\n",
              "  <div id=\"df-ce904dad-ddb6-42ed-a0b0-a06fd36f40ff\">\n",
              "    <div class=\"colab-df-container\">\n",
              "      <div>\n",
              "<style scoped>\n",
              "    .dataframe tbody tr th:only-of-type {\n",
              "        vertical-align: middle;\n",
              "    }\n",
              "\n",
              "    .dataframe tbody tr th {\n",
              "        vertical-align: top;\n",
              "    }\n",
              "\n",
              "    .dataframe thead th {\n",
              "        text-align: right;\n",
              "    }\n",
              "</style>\n",
              "<table border=\"1\" class=\"dataframe\">\n",
              "  <thead>\n",
              "    <tr style=\"text-align: right;\">\n",
              "      <th></th>\n",
              "      <th>host_name</th>\n",
              "      <th>neighbourhood_group</th>\n",
              "      <th>calculated_host_listings_count</th>\n",
              "    </tr>\n",
              "  </thead>\n",
              "  <tbody>\n",
              "    <tr>\n",
              "      <th>13217</th>\n",
              "      <td>Sonder (NYC)</td>\n",
              "      <td>Manhattan</td>\n",
              "      <td>327</td>\n",
              "    </tr>\n",
              "    <tr>\n",
              "      <th>1834</th>\n",
              "      <td>Blueground</td>\n",
              "      <td>Manhattan</td>\n",
              "      <td>232</td>\n",
              "    </tr>\n",
              "    <tr>\n",
              "      <th>1833</th>\n",
              "      <td>Blueground</td>\n",
              "      <td>Brooklyn</td>\n",
              "      <td>232</td>\n",
              "    </tr>\n",
              "    <tr>\n",
              "      <th>7275</th>\n",
              "      <td>Kara</td>\n",
              "      <td>Manhattan</td>\n",
              "      <td>121</td>\n",
              "    </tr>\n",
              "    <tr>\n",
              "      <th>7480</th>\n",
              "      <td>Kazuya</td>\n",
              "      <td>Queens</td>\n",
              "      <td>103</td>\n",
              "    </tr>\n",
              "  </tbody>\n",
              "</table>\n",
              "</div>\n",
              "      <button class=\"colab-df-convert\" onclick=\"convertToInteractive('df-ce904dad-ddb6-42ed-a0b0-a06fd36f40ff')\"\n",
              "              title=\"Convert this dataframe to an interactive table.\"\n",
              "              style=\"display:none;\">\n",
              "\n",
              "  <svg xmlns=\"http://www.w3.org/2000/svg\" height=\"24px\"viewBox=\"0 0 24 24\"\n",
              "       width=\"24px\">\n",
              "    <path d=\"M0 0h24v24H0V0z\" fill=\"none\"/>\n",
              "    <path d=\"M18.56 5.44l.94 2.06.94-2.06 2.06-.94-2.06-.94-.94-2.06-.94 2.06-2.06.94zm-11 1L8.5 8.5l.94-2.06 2.06-.94-2.06-.94L8.5 2.5l-.94 2.06-2.06.94zm10 10l.94 2.06.94-2.06 2.06-.94-2.06-.94-.94-2.06-.94 2.06-2.06.94z\"/><path d=\"M17.41 7.96l-1.37-1.37c-.4-.4-.92-.59-1.43-.59-.52 0-1.04.2-1.43.59L10.3 9.45l-7.72 7.72c-.78.78-.78 2.05 0 2.83L4 21.41c.39.39.9.59 1.41.59.51 0 1.02-.2 1.41-.59l7.78-7.78 2.81-2.81c.8-.78.8-2.07 0-2.86zM5.41 20L4 18.59l7.72-7.72 1.47 1.35L5.41 20z\"/>\n",
              "  </svg>\n",
              "      </button>\n",
              "\n",
              "\n",
              "\n",
              "    <div id=\"df-64cf3300-3514-4cc0-a6c5-a90c5ce8aca1\">\n",
              "      <button class=\"colab-df-quickchart\" onclick=\"quickchart('df-64cf3300-3514-4cc0-a6c5-a90c5ce8aca1')\"\n",
              "              title=\"Suggest charts.\"\n",
              "              style=\"display:none;\">\n",
              "\n",
              "<svg xmlns=\"http://www.w3.org/2000/svg\" height=\"24px\"viewBox=\"0 0 24 24\"\n",
              "     width=\"24px\">\n",
              "    <g>\n",
              "        <path d=\"M19 3H5c-1.1 0-2 .9-2 2v14c0 1.1.9 2 2 2h14c1.1 0 2-.9 2-2V5c0-1.1-.9-2-2-2zM9 17H7v-7h2v7zm4 0h-2V7h2v10zm4 0h-2v-4h2v4z\"/>\n",
              "    </g>\n",
              "</svg>\n",
              "      </button>\n",
              "    </div>\n",
              "\n",
              "<style>\n",
              "  .colab-df-quickchart {\n",
              "    background-color: #E8F0FE;\n",
              "    border: none;\n",
              "    border-radius: 50%;\n",
              "    cursor: pointer;\n",
              "    display: none;\n",
              "    fill: #1967D2;\n",
              "    height: 32px;\n",
              "    padding: 0 0 0 0;\n",
              "    width: 32px;\n",
              "  }\n",
              "\n",
              "  .colab-df-quickchart:hover {\n",
              "    background-color: #E2EBFA;\n",
              "    box-shadow: 0px 1px 2px rgba(60, 64, 67, 0.3), 0px 1px 3px 1px rgba(60, 64, 67, 0.15);\n",
              "    fill: #174EA6;\n",
              "  }\n",
              "\n",
              "  [theme=dark] .colab-df-quickchart {\n",
              "    background-color: #3B4455;\n",
              "    fill: #D2E3FC;\n",
              "  }\n",
              "\n",
              "  [theme=dark] .colab-df-quickchart:hover {\n",
              "    background-color: #434B5C;\n",
              "    box-shadow: 0px 1px 3px 1px rgba(0, 0, 0, 0.15);\n",
              "    filter: drop-shadow(0px 1px 2px rgba(0, 0, 0, 0.3));\n",
              "    fill: #FFFFFF;\n",
              "  }\n",
              "</style>\n",
              "\n",
              "    <script>\n",
              "      async function quickchart(key) {\n",
              "        const containerElement = document.querySelector('#' + key);\n",
              "        const charts = await google.colab.kernel.invokeFunction(\n",
              "            'suggestCharts', [key], {});\n",
              "      }\n",
              "    </script>\n",
              "\n",
              "      <script>\n",
              "\n",
              "function displayQuickchartButton(domScope) {\n",
              "  let quickchartButtonEl =\n",
              "    domScope.querySelector('#df-64cf3300-3514-4cc0-a6c5-a90c5ce8aca1 button.colab-df-quickchart');\n",
              "  quickchartButtonEl.style.display =\n",
              "    google.colab.kernel.accessAllowed ? 'block' : 'none';\n",
              "}\n",
              "\n",
              "        displayQuickchartButton(document);\n",
              "      </script>\n",
              "      <style>\n",
              "    .colab-df-container {\n",
              "      display:flex;\n",
              "      flex-wrap:wrap;\n",
              "      gap: 12px;\n",
              "    }\n",
              "\n",
              "    .colab-df-convert {\n",
              "      background-color: #E8F0FE;\n",
              "      border: none;\n",
              "      border-radius: 50%;\n",
              "      cursor: pointer;\n",
              "      display: none;\n",
              "      fill: #1967D2;\n",
              "      height: 32px;\n",
              "      padding: 0 0 0 0;\n",
              "      width: 32px;\n",
              "    }\n",
              "\n",
              "    .colab-df-convert:hover {\n",
              "      background-color: #E2EBFA;\n",
              "      box-shadow: 0px 1px 2px rgba(60, 64, 67, 0.3), 0px 1px 3px 1px rgba(60, 64, 67, 0.15);\n",
              "      fill: #174EA6;\n",
              "    }\n",
              "\n",
              "    [theme=dark] .colab-df-convert {\n",
              "      background-color: #3B4455;\n",
              "      fill: #D2E3FC;\n",
              "    }\n",
              "\n",
              "    [theme=dark] .colab-df-convert:hover {\n",
              "      background-color: #434B5C;\n",
              "      box-shadow: 0px 1px 3px 1px rgba(0, 0, 0, 0.15);\n",
              "      filter: drop-shadow(0px 1px 2px rgba(0, 0, 0, 0.3));\n",
              "      fill: #FFFFFF;\n",
              "    }\n",
              "  </style>\n",
              "\n",
              "      <script>\n",
              "        const buttonEl =\n",
              "          document.querySelector('#df-ce904dad-ddb6-42ed-a0b0-a06fd36f40ff button.colab-df-convert');\n",
              "        buttonEl.style.display =\n",
              "          google.colab.kernel.accessAllowed ? 'block' : 'none';\n",
              "\n",
              "        async function convertToInteractive(key) {\n",
              "          const element = document.querySelector('#df-ce904dad-ddb6-42ed-a0b0-a06fd36f40ff');\n",
              "          const dataTable =\n",
              "            await google.colab.kernel.invokeFunction('convertToInteractive',\n",
              "                                                     [key], {});\n",
              "          if (!dataTable) return;\n",
              "\n",
              "          const docLinkHtml = 'Like what you see? Visit the ' +\n",
              "            '<a target=\"_blank\" href=https://colab.research.google.com/notebooks/data_table.ipynb>data table notebook</a>'\n",
              "            + ' to learn more about interactive tables.';\n",
              "          element.innerHTML = '';\n",
              "          dataTable['output_type'] = 'display_data';\n",
              "          await google.colab.output.renderOutput(dataTable, element);\n",
              "          const docLink = document.createElement('div');\n",
              "          docLink.innerHTML = docLinkHtml;\n",
              "          element.appendChild(docLink);\n",
              "        }\n",
              "      </script>\n",
              "    </div>\n",
              "  </div>\n"
            ]
          },
          "metadata": {},
          "execution_count": 65
        }
      ]
    },
    {
      "cell_type": "markdown",
      "source": [
        "##### 1. What is/are the insight(s) found from the chart?\n",
        "\n",
        "\n"
      ],
      "metadata": {
        "id": "r2jJGEOYphqO"
      }
    },
    {
      "cell_type": "markdown",
      "source": [
        "As we can see most number of listings are from **Manhattan** created Sonder (NYC), Blueground , kara, kazuya"
      ],
      "metadata": {
        "id": "Po6ZPi4hphqO"
      }
    },
    {
      "cell_type": "markdown",
      "source": [
        "##**2. What can we learn from predictions? (ex: locations, prices, reviews, etc)**"
      ],
      "metadata": {
        "id": "5EqXOe3afsWZ"
      }
    },
    {
      "cell_type": "code",
      "source": [
        "areas_reviews = df.groupby(['neighbourhood_group'])['number_of_reviews'].max().reset_index()\n",
        "areas_reviews"
      ],
      "metadata": {
        "colab": {
          "base_uri": "https://localhost:8080/",
          "height": 206
        },
        "id": "NCrhfBBrf5du",
        "outputId": "32c8f7b1-a288-4d05-c3f9-1fc9b75dc894"
      },
      "execution_count": 66,
      "outputs": [
        {
          "output_type": "execute_result",
          "data": {
            "text/plain": [
              "  neighbourhood_group  number_of_reviews\n",
              "0               Bronx                321\n",
              "1            Brooklyn                488\n",
              "2           Manhattan                607\n",
              "3              Queens                629\n",
              "4       Staten Island                333"
            ],
            "text/html": [
              "\n",
              "\n",
              "  <div id=\"df-4f796247-790e-46c4-980b-98c155a451c7\">\n",
              "    <div class=\"colab-df-container\">\n",
              "      <div>\n",
              "<style scoped>\n",
              "    .dataframe tbody tr th:only-of-type {\n",
              "        vertical-align: middle;\n",
              "    }\n",
              "\n",
              "    .dataframe tbody tr th {\n",
              "        vertical-align: top;\n",
              "    }\n",
              "\n",
              "    .dataframe thead th {\n",
              "        text-align: right;\n",
              "    }\n",
              "</style>\n",
              "<table border=\"1\" class=\"dataframe\">\n",
              "  <thead>\n",
              "    <tr style=\"text-align: right;\">\n",
              "      <th></th>\n",
              "      <th>neighbourhood_group</th>\n",
              "      <th>number_of_reviews</th>\n",
              "    </tr>\n",
              "  </thead>\n",
              "  <tbody>\n",
              "    <tr>\n",
              "      <th>0</th>\n",
              "      <td>Bronx</td>\n",
              "      <td>321</td>\n",
              "    </tr>\n",
              "    <tr>\n",
              "      <th>1</th>\n",
              "      <td>Brooklyn</td>\n",
              "      <td>488</td>\n",
              "    </tr>\n",
              "    <tr>\n",
              "      <th>2</th>\n",
              "      <td>Manhattan</td>\n",
              "      <td>607</td>\n",
              "    </tr>\n",
              "    <tr>\n",
              "      <th>3</th>\n",
              "      <td>Queens</td>\n",
              "      <td>629</td>\n",
              "    </tr>\n",
              "    <tr>\n",
              "      <th>4</th>\n",
              "      <td>Staten Island</td>\n",
              "      <td>333</td>\n",
              "    </tr>\n",
              "  </tbody>\n",
              "</table>\n",
              "</div>\n",
              "      <button class=\"colab-df-convert\" onclick=\"convertToInteractive('df-4f796247-790e-46c4-980b-98c155a451c7')\"\n",
              "              title=\"Convert this dataframe to an interactive table.\"\n",
              "              style=\"display:none;\">\n",
              "\n",
              "  <svg xmlns=\"http://www.w3.org/2000/svg\" height=\"24px\"viewBox=\"0 0 24 24\"\n",
              "       width=\"24px\">\n",
              "    <path d=\"M0 0h24v24H0V0z\" fill=\"none\"/>\n",
              "    <path d=\"M18.56 5.44l.94 2.06.94-2.06 2.06-.94-2.06-.94-.94-2.06-.94 2.06-2.06.94zm-11 1L8.5 8.5l.94-2.06 2.06-.94-2.06-.94L8.5 2.5l-.94 2.06-2.06.94zm10 10l.94 2.06.94-2.06 2.06-.94-2.06-.94-.94-2.06-.94 2.06-2.06.94z\"/><path d=\"M17.41 7.96l-1.37-1.37c-.4-.4-.92-.59-1.43-.59-.52 0-1.04.2-1.43.59L10.3 9.45l-7.72 7.72c-.78.78-.78 2.05 0 2.83L4 21.41c.39.39.9.59 1.41.59.51 0 1.02-.2 1.41-.59l7.78-7.78 2.81-2.81c.8-.78.8-2.07 0-2.86zM5.41 20L4 18.59l7.72-7.72 1.47 1.35L5.41 20z\"/>\n",
              "  </svg>\n",
              "      </button>\n",
              "\n",
              "\n",
              "\n",
              "    <div id=\"df-810ba26c-7495-4a0b-b37b-418099ebca84\">\n",
              "      <button class=\"colab-df-quickchart\" onclick=\"quickchart('df-810ba26c-7495-4a0b-b37b-418099ebca84')\"\n",
              "              title=\"Suggest charts.\"\n",
              "              style=\"display:none;\">\n",
              "\n",
              "<svg xmlns=\"http://www.w3.org/2000/svg\" height=\"24px\"viewBox=\"0 0 24 24\"\n",
              "     width=\"24px\">\n",
              "    <g>\n",
              "        <path d=\"M19 3H5c-1.1 0-2 .9-2 2v14c0 1.1.9 2 2 2h14c1.1 0 2-.9 2-2V5c0-1.1-.9-2-2-2zM9 17H7v-7h2v7zm4 0h-2V7h2v10zm4 0h-2v-4h2v4z\"/>\n",
              "    </g>\n",
              "</svg>\n",
              "      </button>\n",
              "    </div>\n",
              "\n",
              "<style>\n",
              "  .colab-df-quickchart {\n",
              "    background-color: #E8F0FE;\n",
              "    border: none;\n",
              "    border-radius: 50%;\n",
              "    cursor: pointer;\n",
              "    display: none;\n",
              "    fill: #1967D2;\n",
              "    height: 32px;\n",
              "    padding: 0 0 0 0;\n",
              "    width: 32px;\n",
              "  }\n",
              "\n",
              "  .colab-df-quickchart:hover {\n",
              "    background-color: #E2EBFA;\n",
              "    box-shadow: 0px 1px 2px rgba(60, 64, 67, 0.3), 0px 1px 3px 1px rgba(60, 64, 67, 0.15);\n",
              "    fill: #174EA6;\n",
              "  }\n",
              "\n",
              "  [theme=dark] .colab-df-quickchart {\n",
              "    background-color: #3B4455;\n",
              "    fill: #D2E3FC;\n",
              "  }\n",
              "\n",
              "  [theme=dark] .colab-df-quickchart:hover {\n",
              "    background-color: #434B5C;\n",
              "    box-shadow: 0px 1px 3px 1px rgba(0, 0, 0, 0.15);\n",
              "    filter: drop-shadow(0px 1px 2px rgba(0, 0, 0, 0.3));\n",
              "    fill: #FFFFFF;\n",
              "  }\n",
              "</style>\n",
              "\n",
              "    <script>\n",
              "      async function quickchart(key) {\n",
              "        const containerElement = document.querySelector('#' + key);\n",
              "        const charts = await google.colab.kernel.invokeFunction(\n",
              "            'suggestCharts', [key], {});\n",
              "      }\n",
              "    </script>\n",
              "\n",
              "      <script>\n",
              "\n",
              "function displayQuickchartButton(domScope) {\n",
              "  let quickchartButtonEl =\n",
              "    domScope.querySelector('#df-810ba26c-7495-4a0b-b37b-418099ebca84 button.colab-df-quickchart');\n",
              "  quickchartButtonEl.style.display =\n",
              "    google.colab.kernel.accessAllowed ? 'block' : 'none';\n",
              "}\n",
              "\n",
              "        displayQuickchartButton(document);\n",
              "      </script>\n",
              "      <style>\n",
              "    .colab-df-container {\n",
              "      display:flex;\n",
              "      flex-wrap:wrap;\n",
              "      gap: 12px;\n",
              "    }\n",
              "\n",
              "    .colab-df-convert {\n",
              "      background-color: #E8F0FE;\n",
              "      border: none;\n",
              "      border-radius: 50%;\n",
              "      cursor: pointer;\n",
              "      display: none;\n",
              "      fill: #1967D2;\n",
              "      height: 32px;\n",
              "      padding: 0 0 0 0;\n",
              "      width: 32px;\n",
              "    }\n",
              "\n",
              "    .colab-df-convert:hover {\n",
              "      background-color: #E2EBFA;\n",
              "      box-shadow: 0px 1px 2px rgba(60, 64, 67, 0.3), 0px 1px 3px 1px rgba(60, 64, 67, 0.15);\n",
              "      fill: #174EA6;\n",
              "    }\n",
              "\n",
              "    [theme=dark] .colab-df-convert {\n",
              "      background-color: #3B4455;\n",
              "      fill: #D2E3FC;\n",
              "    }\n",
              "\n",
              "    [theme=dark] .colab-df-convert:hover {\n",
              "      background-color: #434B5C;\n",
              "      box-shadow: 0px 1px 3px 1px rgba(0, 0, 0, 0.15);\n",
              "      filter: drop-shadow(0px 1px 2px rgba(0, 0, 0, 0.3));\n",
              "      fill: #FFFFFF;\n",
              "    }\n",
              "  </style>\n",
              "\n",
              "      <script>\n",
              "        const buttonEl =\n",
              "          document.querySelector('#df-4f796247-790e-46c4-980b-98c155a451c7 button.colab-df-convert');\n",
              "        buttonEl.style.display =\n",
              "          google.colab.kernel.accessAllowed ? 'block' : 'none';\n",
              "\n",
              "        async function convertToInteractive(key) {\n",
              "          const element = document.querySelector('#df-4f796247-790e-46c4-980b-98c155a451c7');\n",
              "          const dataTable =\n",
              "            await google.colab.kernel.invokeFunction('convertToInteractive',\n",
              "                                                     [key], {});\n",
              "          if (!dataTable) return;\n",
              "\n",
              "          const docLinkHtml = 'Like what you see? Visit the ' +\n",
              "            '<a target=\"_blank\" href=https://colab.research.google.com/notebooks/data_table.ipynb>data table notebook</a>'\n",
              "            + ' to learn more about interactive tables.';\n",
              "          element.innerHTML = '';\n",
              "          dataTable['output_type'] = 'display_data';\n",
              "          await google.colab.output.renderOutput(dataTable, element);\n",
              "          const docLink = document.createElement('div');\n",
              "          docLink.innerHTML = docLinkHtml;\n",
              "          element.appendChild(docLink);\n",
              "        }\n",
              "      </script>\n",
              "    </div>\n",
              "  </div>\n"
            ]
          },
          "metadata": {},
          "execution_count": 66
        }
      ]
    },
    {
      "cell_type": "code",
      "source": [
        "area = areas_reviews['neighbourhood_group']\n",
        "review = areas_reviews['number_of_reviews']\n",
        "\n",
        "fig = plt.figure(figsize = (10, 5))\n",
        "\n",
        "#creating the bar plot\n",
        "plt.bar(area, review, color ='maroon',\n",
        "        width = 0.4)\n",
        "\n",
        "plt.xlabel(\"area\")\n",
        "plt.ylabel(\"review\")\n",
        "plt.title(\"Area vs Number of reviews\")\n",
        "plt.show()\n"
      ],
      "metadata": {
        "colab": {
          "base_uri": "https://localhost:8080/",
          "height": 487
        },
        "id": "GNmf_kb2gHac",
        "outputId": "935ffec9-4897-45e6-bf00-d6f7ea5dd406"
      },
      "execution_count": 67,
      "outputs": [
        {
          "output_type": "display_data",
          "data": {
            "text/plain": [
              "<Figure size 1000x500 with 1 Axes>"
            ],
            "image/png": "[encoded data removed]"
          },
          "metadata": {}
        }
      ]
    },
    {
      "cell_type": "code",
      "source": [
        "price_area = df.groupby(['price'])['number_of_reviews'].max().reset_index()\n",
        "price_area.head(5)"
      ],
      "metadata": {
        "colab": {
          "base_uri": "https://localhost:8080/",
          "height": 206
        },
        "id": "XaiRGFY-gLDr",
        "outputId": "ca7698d7-0d52-4f1c-cc2a-7626e7355739"
      },
      "execution_count": 68,
      "outputs": [
        {
          "output_type": "execute_result",
          "data": {
            "text/plain": [
              "   price  number_of_reviews\n",
              "0      0                 95\n",
              "1     10                 93\n",
              "2     11                113\n",
              "3     12                  8\n",
              "4     13                  9"
            ],
            "text/html": [
              "\n",
              "\n",
              "  <div id=\"df-1106c2fc-a3bb-47d4-a48b-7fa69736ef69\">\n",
              "    <div class=\"colab-df-container\">\n",
              "      <div>\n",
              "<style scoped>\n",
              "    .dataframe tbody tr th:only-of-type {\n",
              "        vertical-align: middle;\n",
              "    }\n",
              "\n",
              "    .dataframe tbody tr th {\n",
              "        vertical-align: top;\n",
              "    }\n",
              "\n",
              "    .dataframe thead th {\n",
              "        text-align: right;\n",
              "    }\n",
              "</style>\n",
              "<table border=\"1\" class=\"dataframe\">\n",
              "  <thead>\n",
              "    <tr style=\"text-align: right;\">\n",
              "      <th></th>\n",
              "      <th>price</th>\n",
              "      <th>number_of_reviews</th>\n",
              "    </tr>\n",
              "  </thead>\n",
              "  <tbody>\n",
              "    <tr>\n",
              "      <th>0</th>\n",
              "      <td>0</td>\n",
              "      <td>95</td>\n",
              "    </tr>\n",
              "    <tr>\n",
              "      <th>1</th>\n",
              "      <td>10</td>\n",
              "      <td>93</td>\n",
              "    </tr>\n",
              "    <tr>\n",
              "      <th>2</th>\n",
              "      <td>11</td>\n",
              "      <td>113</td>\n",
              "    </tr>\n",
              "    <tr>\n",
              "      <th>3</th>\n",
              "      <td>12</td>\n",
              "      <td>8</td>\n",
              "    </tr>\n",
              "    <tr>\n",
              "      <th>4</th>\n",
              "      <td>13</td>\n",
              "      <td>9</td>\n",
              "    </tr>\n",
              "  </tbody>\n",
              "</table>\n",
              "</div>\n",
              "      <button class=\"colab-df-convert\" onclick=\"convertToInteractive('df-1106c2fc-a3bb-47d4-a48b-7fa69736ef69')\"\n",
              "              title=\"Convert this dataframe to an interactive table.\"\n",
              "              style=\"display:none;\">\n",
              "\n",
              "  <svg xmlns=\"http://www.w3.org/2000/svg\" height=\"24px\"viewBox=\"0 0 24 24\"\n",
              "       width=\"24px\">\n",
              "    <path d=\"M0 0h24v24H0V0z\" fill=\"none\"/>\n",
              "    <path d=\"M18.56 5.44l.94 2.06.94-2.06 2.06-.94-2.06-.94-.94-2.06-.94 2.06-2.06.94zm-11 1L8.5 8.5l.94-2.06 2.06-.94-2.06-.94L8.5 2.5l-.94 2.06-2.06.94zm10 10l.94 2.06.94-2.06 2.06-.94-2.06-.94-.94-2.06-.94 2.06-2.06.94z\"/><path d=\"M17.41 7.96l-1.37-1.37c-.4-.4-.92-.59-1.43-.59-.52 0-1.04.2-1.43.59L10.3 9.45l-7.72 7.72c-.78.78-.78 2.05 0 2.83L4 21.41c.39.39.9.59 1.41.59.51 0 1.02-.2 1.41-.59l7.78-7.78 2.81-2.81c.8-.78.8-2.07 0-2.86zM5.41 20L4 18.59l7.72-7.72 1.47 1.35L5.41 20z\"/>\n",
              "  </svg>\n",
              "      </button>\n",
              "\n",
              "\n",
              "\n",
              "    <div id=\"df-7d13e3b0-3a2b-47cb-8774-28900f7760f5\">\n",
              "      <button class=\"colab-df-quickchart\" onclick=\"quickchart('df-7d13e3b0-3a2b-47cb-8774-28900f7760f5')\"\n",
              "              title=\"Suggest charts.\"\n",
              "              style=\"display:none;\">\n",
              "\n",
              "<svg xmlns=\"http://www.w3.org/2000/svg\" height=\"24px\"viewBox=\"0 0 24 24\"\n",
              "     width=\"24px\">\n",
              "    <g>\n",
              "        <path d=\"M19 3H5c-1.1 0-2 .9-2 2v14c0 1.1.9 2 2 2h14c1.1 0 2-.9 2-2V5c0-1.1-.9-2-2-2zM9 17H7v-7h2v7zm4 0h-2V7h2v10zm4 0h-2v-4h2v4z\"/>\n",
              "    </g>\n",
              "</svg>\n",
              "      </button>\n",
              "    </div>\n",
              "\n",
              "<style>\n",
              "  .colab-df-quickchart {\n",
              "    background-color: #E8F0FE;\n",
              "    border: none;\n",
              "    border-radius: 50%;\n",
              "    cursor: pointer;\n",
              "    display: none;\n",
              "    fill: #1967D2;\n",
              "    height: 32px;\n",
              "    padding: 0 0 0 0;\n",
              "    width: 32px;\n",
              "  }\n",
              "\n",
              "  .colab-df-quickchart:hover {\n",
              "    background-color: #E2EBFA;\n",
              "    box-shadow: 0px 1px 2px rgba(60, 64, 67, 0.3), 0px 1px 3px 1px rgba(60, 64, 67, 0.15);\n",
              "    fill: #174EA6;\n",
              "  }\n",
              "\n",
              "  [theme=dark] .colab-df-quickchart {\n",
              "    background-color: #3B4455;\n",
              "    fill: #D2E3FC;\n",
              "  }\n",
              "\n",
              "  [theme=dark] .colab-df-quickchart:hover {\n",
              "    background-color: #434B5C;\n",
              "    box-shadow: 0px 1px 3px 1px rgba(0, 0, 0, 0.15);\n",
              "    filter: drop-shadow(0px 1px 2px rgba(0, 0, 0, 0.3));\n",
              "    fill: #FFFFFF;\n",
              "  }\n",
              "</style>\n",
              "\n",
              "    <script>\n",
              "      async function quickchart(key) {\n",
              "        const containerElement = document.querySelector('#' + key);\n",
              "        const charts = await google.colab.kernel.invokeFunction(\n",
              "            'suggestCharts', [key], {});\n",
              "      }\n",
              "    </script>\n",
              "\n",
              "      <script>\n",
              "\n",
              "function displayQuickchartButton(domScope) {\n",
              "  let quickchartButtonEl =\n",
              "    domScope.querySelector('#df-7d13e3b0-3a2b-47cb-8774-28900f7760f5 button.colab-df-quickchart');\n",
              "  quickchartButtonEl.style.display =\n",
              "    google.colab.kernel.accessAllowed ? 'block' : 'none';\n",
              "}\n",
              "\n",
              "        displayQuickchartButton(document);\n",
              "      </script>\n",
              "      <style>\n",
              "    .colab-df-container {\n",
              "      display:flex;\n",
              "      flex-wrap:wrap;\n",
              "      gap: 12px;\n",
              "    }\n",
              "\n",
              "    .colab-df-convert {\n",
              "      background-color: #E8F0FE;\n",
              "      border: none;\n",
              "      border-radius: 50%;\n",
              "      cursor: pointer;\n",
              "      display: none;\n",
              "      fill: #1967D2;\n",
              "      height: 32px;\n",
              "      padding: 0 0 0 0;\n",
              "      width: 32px;\n",
              "    }\n",
              "\n",
              "    .colab-df-convert:hover {\n",
              "      background-color: #E2EBFA;\n",
              "      box-shadow: 0px 1px 2px rgba(60, 64, 67, 0.3), 0px 1px 3px 1px rgba(60, 64, 67, 0.15);\n",
              "      fill: #174EA6;\n",
              "    }\n",
              "\n",
              "    [theme=dark] .colab-df-convert {\n",
              "      background-color: #3B4455;\n",
              "      fill: #D2E3FC;\n",
              "    }\n",
              "\n",
              "    [theme=dark] .colab-df-convert:hover {\n",
              "      background-color: #434B5C;\n",
              "      box-shadow: 0px 1px 3px 1px rgba(0, 0, 0, 0.15);\n",
              "      filter: drop-shadow(0px 1px 2px rgba(0, 0, 0, 0.3));\n",
              "      fill: #FFFFFF;\n",
              "    }\n",
              "  </style>\n",
              "\n",
              "      <script>\n",
              "        const buttonEl =\n",
              "          document.querySelector('#df-1106c2fc-a3bb-47d4-a48b-7fa69736ef69 button.colab-df-convert');\n",
              "        buttonEl.style.display =\n",
              "          google.colab.kernel.accessAllowed ? 'block' : 'none';\n",
              "\n",
              "        async function convertToInteractive(key) {\n",
              "          const element = document.querySelector('#df-1106c2fc-a3bb-47d4-a48b-7fa69736ef69');\n",
              "          const dataTable =\n",
              "            await google.colab.kernel.invokeFunction('convertToInteractive',\n",
              "                                                     [key], {});\n",
              "          if (!dataTable) return;\n",
              "\n",
              "          const docLinkHtml = 'Like what you see? Visit the ' +\n",
              "            '<a target=\"_blank\" href=https://colab.research.google.com/notebooks/data_table.ipynb>data table notebook</a>'\n",
              "            + ' to learn more about interactive tables.';\n",
              "          element.innerHTML = '';\n",
              "          dataTable['output_type'] = 'display_data';\n",
              "          await google.colab.output.renderOutput(dataTable, element);\n",
              "          const docLink = document.createElement('div');\n",
              "          docLink.innerHTML = docLinkHtml;\n",
              "          element.appendChild(docLink);\n",
              "        }\n",
              "      </script>\n",
              "    </div>\n",
              "  </div>\n"
            ]
          },
          "metadata": {},
          "execution_count": 68
        }
      ]
    },
    {
      "cell_type": "code",
      "source": [
        "area = price_area['price']\n",
        "price = price_area['number_of_reviews']\n",
        "\n",
        "fig = plt.figure(figsize = (10, 5))\n",
        "\n",
        "# creating the bar plot\n",
        "plt.scatter(area, price)\n",
        "\n",
        "plt.xlabel(\"Price\")\n",
        "plt.ylabel(\"Number of Review\")\n",
        "plt.title(\"Price vs Number of Reviews\")\n",
        "plt.show()"
      ],
      "metadata": {
        "colab": {
          "base_uri": "https://localhost:8080/",
          "height": 487
        },
        "id": "vo9bWGz5gS_Z",
        "outputId": "4fbba272-a99f-4d65-bbc7-139afa445eb5"
      },
      "execution_count": 69,
      "outputs": [
        {
          "output_type": "display_data",
          "data": {
            "text/plain": [
              "<Figure size 1000x500 with 1 Axes>"
            ],
            "image/png": "[encoded data removed]"
          },
          "metadata": {}
        }
      ]
    },
    {
      "cell_type": "markdown",
      "source": [
        "##### 1. What is/are the insight(s) found from the chart?"
      ],
      "metadata": {
        "id": "0t5aEE5ngkzY"
      }
    },
    {
      "cell_type": "markdown",
      "source": [
        "From the above Analysis we can say that most people prefer to stay in place where price is less ."
      ],
      "metadata": {
        "id": "FI4Of9GBgmYI"
      }
    },
    {
      "cell_type": "markdown",
      "source": [
        "##**3.Which hosts are the busiest and why?**"
      ],
      "metadata": {
        "id": "ZhAGp-_HonEh"
      }
    },
    {
      "cell_type": "code",
      "source": [
        "busiest_hosts = df.groupby(['host_name','host_id','room_type'])['number_of_reviews'].max().reset_index()\n",
        "busiest_hosts = busiest_hosts.sort_values(by='number_of_reviews', ascending=False).head(10)\n",
        "busiest_hosts"
      ],
      "metadata": {
        "colab": {
          "base_uri": "https://localhost:8080/",
          "height": 363
        },
        "id": "t1nsU-PZow2m",
        "outputId": "3e443a65-da4b-4868-8666-6c96e8b75599"
      },
      "execution_count": 70,
      "outputs": [
        {
          "output_type": "execute_result",
          "data": {
            "text/plain": [
              "      host_name   host_id        room_type  number_of_reviews\n",
              "10279      Dona  47621202     Private room                629\n",
              "17708        Jj   4734398     Private room                607\n",
              "25566      Maya  37312959     Private room                543\n",
              "6235      Carol   2369681     Private room                540\n",
              "8947   Danielle  26432133     Private room                510\n",
              "3950        Asa  12949460  Entire home/apt                488\n",
              "37748     Wanda    792159     Private room                480\n",
              "22499     Linda   2680820     Private room                474\n",
              "8625       Dani     42273  Entire home/apt                467\n",
              "2942     Angela  23591164     Private room                466"
            ],
            "text/html": [
              "\n",
              "\n",
              "  <div id=\"df-d012814e-7529-48ce-ba17-ab5b66036aa9\">\n",
              "    <div class=\"colab-df-container\">\n",
              "      <div>\n",
              "<style scoped>\n",
              "    .dataframe tbody tr th:only-of-type {\n",
              "        vertical-align: middle;\n",
              "    }\n",
              "\n",
              "    .dataframe tbody tr th {\n",
              "        vertical-align: top;\n",
              "    }\n",
              "\n",
              "    .dataframe thead th {\n",
              "        text-align: right;\n",
              "    }\n",
              "</style>\n",
              "<table border=\"1\" class=\"dataframe\">\n",
              "  <thead>\n",
              "    <tr style=\"text-align: right;\">\n",
              "      <th></th>\n",
              "      <th>host_name</th>\n",
              "      <th>host_id</th>\n",
              "      <th>room_type</th>\n",
              "      <th>number_of_reviews</th>\n",
              "    </tr>\n",
              "  </thead>\n",
              "  <tbody>\n",
              "    <tr>\n",
              "      <th>10279</th>\n",
              "      <td>Dona</td>\n",
              "      <td>47621202</td>\n",
              "      <td>Private room</td>\n",
              "      <td>629</td>\n",
              "    </tr>\n",
              "    <tr>\n",
              "      <th>17708</th>\n",
              "      <td>Jj</td>\n",
              "      <td>4734398</td>\n",
              "      <td>Private room</td>\n",
              "      <td>607</td>\n",
              "    </tr>\n",
              "    <tr>\n",
              "      <th>25566</th>\n",
              "      <td>Maya</td>\n",
              "      <td>37312959</td>\n",
              "      <td>Private room</td>\n",
              "      <td>543</td>\n",
              "    </tr>\n",
              "    <tr>\n",
              "      <th>6235</th>\n",
              "      <td>Carol</td>\n",
              "      <td>2369681</td>\n",
              "      <td>Private room</td>\n",
              "      <td>540</td>\n",
              "    </tr>\n",
              "    <tr>\n",
              "      <th>8947</th>\n",
              "      <td>Danielle</td>\n",
              "      <td>26432133</td>\n",
              "      <td>Private room</td>\n",
              "      <td>510</td>\n",
              "    </tr>\n",
              "    <tr>\n",
              "      <th>3950</th>\n",
              "      <td>Asa</td>\n",
              "      <td>12949460</td>\n",
              "      <td>Entire home/apt</td>\n",
              "      <td>488</td>\n",
              "    </tr>\n",
              "    <tr>\n",
              "      <th>37748</th>\n",
              "      <td>Wanda</td>\n",
              "      <td>792159</td>\n",
              "      <td>Private room</td>\n",
              "      <td>480</td>\n",
              "    </tr>\n",
              "    <tr>\n",
              "      <th>22499</th>\n",
              "      <td>Linda</td>\n",
              "      <td>2680820</td>\n",
              "      <td>Private room</td>\n",
              "      <td>474</td>\n",
              "    </tr>\n",
              "    <tr>\n",
              "      <th>8625</th>\n",
              "      <td>Dani</td>\n",
              "      <td>42273</td>\n",
              "      <td>Entire home/apt</td>\n",
              "      <td>467</td>\n",
              "    </tr>\n",
              "    <tr>\n",
              "      <th>2942</th>\n",
              "      <td>Angela</td>\n",
              "      <td>23591164</td>\n",
              "      <td>Private room</td>\n",
              "      <td>466</td>\n",
              "    </tr>\n",
              "  </tbody>\n",
              "</table>\n",
              "</div>\n",
              "      <button class=\"colab-df-convert\" onclick=\"convertToInteractive('df-d012814e-7529-48ce-ba17-ab5b66036aa9')\"\n",
              "              title=\"Convert this dataframe to an interactive table.\"\n",
              "              style=\"display:none;\">\n",
              "\n",
              "  <svg xmlns=\"http://www.w3.org/2000/svg\" height=\"24px\"viewBox=\"0 0 24 24\"\n",
              "       width=\"24px\">\n",
              "    <path d=\"M0 0h24v24H0V0z\" fill=\"none\"/>\n",
              "    <path d=\"M18.56 5.44l.94 2.06.94-2.06 2.06-.94-2.06-.94-.94-2.06-.94 2.06-2.06.94zm-11 1L8.5 8.5l.94-2.06 2.06-.94-2.06-.94L8.5 2.5l-.94 2.06-2.06.94zm10 10l.94 2.06.94-2.06 2.06-.94-2.06-.94-.94-2.06-.94 2.06-2.06.94z\"/><path d=\"M17.41 7.96l-1.37-1.37c-.4-.4-.92-.59-1.43-.59-.52 0-1.04.2-1.43.59L10.3 9.45l-7.72 7.72c-.78.78-.78 2.05 0 2.83L4 21.41c.39.39.9.59 1.41.59.51 0 1.02-.2 1.41-.59l7.78-7.78 2.81-2.81c.8-.78.8-2.07 0-2.86zM5.41 20L4 18.59l7.72-7.72 1.47 1.35L5.41 20z\"/>\n",
              "  </svg>\n",
              "      </button>\n",
              "\n",
              "\n",
              "\n",
              "    <div id=\"df-f2b709b0-5449-4f43-96c0-54ae78bc2b2f\">\n",
              "      <button class=\"colab-df-quickchart\" onclick=\"quickchart('df-f2b709b0-5449-4f43-96c0-54ae78bc2b2f')\"\n",
              "              title=\"Suggest charts.\"\n",
              "              style=\"display:none;\">\n",
              "\n",
              "<svg xmlns=\"http://www.w3.org/2000/svg\" height=\"24px\"viewBox=\"0 0 24 24\"\n",
              "     width=\"24px\">\n",
              "    <g>\n",
              "        <path d=\"M19 3H5c-1.1 0-2 .9-2 2v14c0 1.1.9 2 2 2h14c1.1 0 2-.9 2-2V5c0-1.1-.9-2-2-2zM9 17H7v-7h2v7zm4 0h-2V7h2v10zm4 0h-2v-4h2v4z\"/>\n",
              "    </g>\n",
              "</svg>\n",
              "      </button>\n",
              "    </div>\n",
              "\n",
              "<style>\n",
              "  .colab-df-quickchart {\n",
              "    background-color: #E8F0FE;\n",
              "    border: none;\n",
              "    border-radius: 50%;\n",
              "    cursor: pointer;\n",
              "    display: none;\n",
              "    fill: #1967D2;\n",
              "    height: 32px;\n",
              "    padding: 0 0 0 0;\n",
              "    width: 32px;\n",
              "  }\n",
              "\n",
              "  .colab-df-quickchart:hover {\n",
              "    background-color: #E2EBFA;\n",
              "    box-shadow: 0px 1px 2px rgba(60, 64, 67, 0.3), 0px 1px 3px 1px rgba(60, 64, 67, 0.15);\n",
              "    fill: #174EA6;\n",
              "  }\n",
              "\n",
              "  [theme=dark] .colab-df-quickchart {\n",
              "    background-color: #3B4455;\n",
              "    fill: #D2E3FC;\n",
              "  }\n",
              "\n",
              "  [theme=dark] .colab-df-quickchart:hover {\n",
              "    background-color: #434B5C;\n",
              "    box-shadow: 0px 1px 3px 1px rgba(0, 0, 0, 0.15);\n",
              "    filter: drop-shadow(0px 1px 2px rgba(0, 0, 0, 0.3));\n",
              "    fill: #FFFFFF;\n",
              "  }\n",
              "</style>\n",
              "\n",
              "    <script>\n",
              "      async function quickchart(key) {\n",
              "        const containerElement = document.querySelector('#' + key);\n",
              "        const charts = await google.colab.kernel.invokeFunction(\n",
              "            'suggestCharts', [key], {});\n",
              "      }\n",
              "    </script>\n",
              "\n",
              "      <script>\n",
              "\n",
              "function displayQuickchartButton(domScope) {\n",
              "  let quickchartButtonEl =\n",
              "    domScope.querySelector('#df-f2b709b0-5449-4f43-96c0-54ae78bc2b2f button.colab-df-quickchart');\n",
              "  quickchartButtonEl.style.display =\n",
              "    google.colab.kernel.accessAllowed ? 'block' : 'none';\n",
              "}\n",
              "\n",
              "        displayQuickchartButton(document);\n",
              "      </script>\n",
              "      <style>\n",
              "    .colab-df-container {\n",
              "      display:flex;\n",
              "      flex-wrap:wrap;\n",
              "      gap: 12px;\n",
              "    }\n",
              "\n",
              "    .colab-df-convert {\n",
              "      background-color: #E8F0FE;\n",
              "      border: none;\n",
              "      border-radius: 50%;\n",
              "      cursor: pointer;\n",
              "      display: none;\n",
              "      fill: #1967D2;\n",
              "      height: 32px;\n",
              "      padding: 0 0 0 0;\n",
              "      width: 32px;\n",
              "    }\n",
              "\n",
              "    .colab-df-convert:hover {\n",
              "      background-color: #E2EBFA;\n",
              "      box-shadow: 0px 1px 2px rgba(60, 64, 67, 0.3), 0px 1px 3px 1px rgba(60, 64, 67, 0.15);\n",
              "      fill: #174EA6;\n",
              "    }\n",
              "\n",
              "    [theme=dark] .colab-df-convert {\n",
              "      background-color: #3B4455;\n",
              "      fill: #D2E3FC;\n",
              "    }\n",
              "\n",
              "    [theme=dark] .colab-df-convert:hover {\n",
              "      background-color: #434B5C;\n",
              "      box-shadow: 0px 1px 3px 1px rgba(0, 0, 0, 0.15);\n",
              "      filter: drop-shadow(0px 1px 2px rgba(0, 0, 0, 0.3));\n",
              "      fill: #FFFFFF;\n",
              "    }\n",
              "  </style>\n",
              "\n",
              "      <script>\n",
              "        const buttonEl =\n",
              "          document.querySelector('#df-d012814e-7529-48ce-ba17-ab5b66036aa9 button.colab-df-convert');\n",
              "        buttonEl.style.display =\n",
              "          google.colab.kernel.accessAllowed ? 'block' : 'none';\n",
              "\n",
              "        async function convertToInteractive(key) {\n",
              "          const element = document.querySelector('#df-d012814e-7529-48ce-ba17-ab5b66036aa9');\n",
              "          const dataTable =\n",
              "            await google.colab.kernel.invokeFunction('convertToInteractive',\n",
              "                                                     [key], {});\n",
              "          if (!dataTable) return;\n",
              "\n",
              "          const docLinkHtml = 'Like what you see? Visit the ' +\n",
              "            '<a target=\"_blank\" href=https://colab.research.google.com/notebooks/data_table.ipynb>data table notebook</a>'\n",
              "            + ' to learn more about interactive tables.';\n",
              "          element.innerHTML = '';\n",
              "          dataTable['output_type'] = 'display_data';\n",
              "          await google.colab.output.renderOutput(dataTable, element);\n",
              "          const docLink = document.createElement('div');\n",
              "          docLink.innerHTML = docLinkHtml;\n",
              "          element.appendChild(docLink);\n",
              "        }\n",
              "      </script>\n",
              "    </div>\n",
              "  </div>\n"
            ]
          },
          "metadata": {},
          "execution_count": 70
        }
      ]
    },
    {
      "cell_type": "code",
      "source": [
        "name = busiest_hosts['host_name']\n",
        "reviews = busiest_hosts['number_of_reviews']\n",
        "\n",
        "fig = plt.figure(figsize = (10, 5))\n",
        "\n",
        "# creating the bar plot\n",
        "plt.bar(name, reviews, color ='orange',\n",
        "        width = 0.4)\n",
        "\n",
        "plt.xlabel(\"Name of the Host\")\n",
        "plt.ylabel(\"Number of Reviews\")\n",
        "plt.title(\"Busiest Hosts\")\n",
        "plt.show()"
      ],
      "metadata": {
        "colab": {
          "base_uri": "https://localhost:8080/",
          "height": 487
        },
        "id": "hekXJD3Go5zj",
        "outputId": "77aa8b94-d404-4b46-d653-1adb6274ef19"
      },
      "execution_count": 80,
      "outputs": [
        {
          "output_type": "display_data",
          "data": {
            "text/plain": [
              "<Figure size 1000x500 with 1 Axes>"
            ],
            "image/png": "[encoded data removed]"
          },
          "metadata": {}
        }
      ]
    },
    {
      "cell_type": "markdown",
      "source": [
        "**Busiest hosts are:**\n",
        "\n",
        "- Dona\n",
        "- Ji\n",
        "- Maya\n",
        "- Carol\n",
        "- Danielle"
      ],
      "metadata": {
        "id": "6DzWfsxKo-5C"
      }
    },
    {
      "cell_type": "markdown",
      "source": [
        "**Because these hosts listed room type as Entire home and Private room which is preferred by most number of people.**"
      ],
      "metadata": {
        "id": "yPESxaSypOD5"
      }
    },
    {
      "cell_type": "markdown",
      "source": [
        "##**4. Is there any noticeable difference of traffic among different areas and what could be the reason for it?**"
      ],
      "metadata": {
        "id": "TIBzOmfjpSII"
      }
    },
    {
      "cell_type": "code",
      "source": [
        "traffic_areas = df.groupby(['neighbourhood_group','room_type'])['minimum_nights'].count().reset_index()\n",
        "traffic_areas = traffic_areas.sort_values(by='minimum_nights', ascending=False)\n",
        "traffic_areas"
      ],
      "metadata": {
        "colab": {
          "base_uri": "https://localhost:8080/",
          "height": 520
        },
        "id": "Z_e8otcXpXyX",
        "outputId": "4d624316-c760-4366-feff-fbb4c74d7c36"
      },
      "execution_count": 72,
      "outputs": [
        {
          "output_type": "execute_result",
          "data": {
            "text/plain": [
              "   neighbourhood_group        room_type  minimum_nights\n",
              "6            Manhattan  Entire home/apt           13199\n",
              "4             Brooklyn     Private room           10132\n",
              "3             Brooklyn  Entire home/apt            9559\n",
              "7            Manhattan     Private room            7982\n",
              "10              Queens     Private room            3372\n",
              "9               Queens  Entire home/apt            2096\n",
              "1                Bronx     Private room             652\n",
              "8            Manhattan      Shared room             480\n",
              "5             Brooklyn      Shared room             413\n",
              "0                Bronx  Entire home/apt             379\n",
              "11              Queens      Shared room             198\n",
              "13       Staten Island     Private room             188\n",
              "12       Staten Island  Entire home/apt             176\n",
              "2                Bronx      Shared room              60\n",
              "14       Staten Island      Shared room               9"
            ],
            "text/html": [
              "\n",
              "\n",
              "  <div id=\"df-5161e55b-b107-4a6e-8301-e46d918a890d\">\n",
              "    <div class=\"colab-df-container\">\n",
              "      <div>\n",
              "<style scoped>\n",
              "    .dataframe tbody tr th:only-of-type {\n",
              "        vertical-align: middle;\n",
              "    }\n",
              "\n",
              "    .dataframe tbody tr th {\n",
              "        vertical-align: top;\n",
              "    }\n",
              "\n",
              "    .dataframe thead th {\n",
              "        text-align: right;\n",
              "    }\n",
              "</style>\n",
              "<table border=\"1\" class=\"dataframe\">\n",
              "  <thead>\n",
              "    <tr style=\"text-align: right;\">\n",
              "      <th></th>\n",
              "      <th>neighbourhood_group</th>\n",
              "      <th>room_type</th>\n",
              "      <th>minimum_nights</th>\n",
              "    </tr>\n",
              "  </thead>\n",
              "  <tbody>\n",
              "    <tr>\n",
              "      <th>6</th>\n",
              "      <td>Manhattan</td>\n",
              "      <td>Entire home/apt</td>\n",
              "      <td>13199</td>\n",
              "    </tr>\n",
              "    <tr>\n",
              "      <th>4</th>\n",
              "      <td>Brooklyn</td>\n",
              "      <td>Private room</td>\n",
              "      <td>10132</td>\n",
              "    </tr>\n",
              "    <tr>\n",
              "      <th>3</th>\n",
              "      <td>Brooklyn</td>\n",
              "      <td>Entire home/apt</td>\n",
              "      <td>9559</td>\n",
              "    </tr>\n",
              "    <tr>\n",
              "      <th>7</th>\n",
              "      <td>Manhattan</td>\n",
              "      <td>Private room</td>\n",
              "      <td>7982</td>\n",
              "    </tr>\n",
              "    <tr>\n",
              "      <th>10</th>\n",
              "      <td>Queens</td>\n",
              "      <td>Private room</td>\n",
              "      <td>3372</td>\n",
              "    </tr>\n",
              "    <tr>\n",
              "      <th>9</th>\n",
              "      <td>Queens</td>\n",
              "      <td>Entire home/apt</td>\n",
              "      <td>2096</td>\n",
              "    </tr>\n",
              "    <tr>\n",
              "      <th>1</th>\n",
              "      <td>Bronx</td>\n",
              "      <td>Private room</td>\n",
              "      <td>652</td>\n",
              "    </tr>\n",
              "    <tr>\n",
              "      <th>8</th>\n",
              "      <td>Manhattan</td>\n",
              "      <td>Shared room</td>\n",
              "      <td>480</td>\n",
              "    </tr>\n",
              "    <tr>\n",
              "      <th>5</th>\n",
              "      <td>Brooklyn</td>\n",
              "      <td>Shared room</td>\n",
              "      <td>413</td>\n",
              "    </tr>\n",
              "    <tr>\n",
              "      <th>0</th>\n",
              "      <td>Bronx</td>\n",
              "      <td>Entire home/apt</td>\n",
              "      <td>379</td>\n",
              "    </tr>\n",
              "    <tr>\n",
              "      <th>11</th>\n",
              "      <td>Queens</td>\n",
              "      <td>Shared room</td>\n",
              "      <td>198</td>\n",
              "    </tr>\n",
              "    <tr>\n",
              "      <th>13</th>\n",
              "      <td>Staten Island</td>\n",
              "      <td>Private room</td>\n",
              "      <td>188</td>\n",
              "    </tr>\n",
              "    <tr>\n",
              "      <th>12</th>\n",
              "      <td>Staten Island</td>\n",
              "      <td>Entire home/apt</td>\n",
              "      <td>176</td>\n",
              "    </tr>\n",
              "    <tr>\n",
              "      <th>2</th>\n",
              "      <td>Bronx</td>\n",
              "      <td>Shared room</td>\n",
              "      <td>60</td>\n",
              "    </tr>\n",
              "    <tr>\n",
              "      <th>14</th>\n",
              "      <td>Staten Island</td>\n",
              "      <td>Shared room</td>\n",
              "      <td>9</td>\n",
              "    </tr>\n",
              "  </tbody>\n",
              "</table>\n",
              "</div>\n",
              "      <button class=\"colab-df-convert\" onclick=\"convertToInteractive('df-5161e55b-b107-4a6e-8301-e46d918a890d')\"\n",
              "              title=\"Convert this dataframe to an interactive table.\"\n",
              "              style=\"display:none;\">\n",
              "\n",
              "  <svg xmlns=\"http://www.w3.org/2000/svg\" height=\"24px\"viewBox=\"0 0 24 24\"\n",
              "       width=\"24px\">\n",
              "    <path d=\"M0 0h24v24H0V0z\" fill=\"none\"/>\n",
              "    <path d=\"M18.56 5.44l.94 2.06.94-2.06 2.06-.94-2.06-.94-.94-2.06-.94 2.06-2.06.94zm-11 1L8.5 8.5l.94-2.06 2.06-.94-2.06-.94L8.5 2.5l-.94 2.06-2.06.94zm10 10l.94 2.06.94-2.06 2.06-.94-2.06-.94-.94-2.06-.94 2.06-2.06.94z\"/><path d=\"M17.41 7.96l-1.37-1.37c-.4-.4-.92-.59-1.43-.59-.52 0-1.04.2-1.43.59L10.3 9.45l-7.72 7.72c-.78.78-.78 2.05 0 2.83L4 21.41c.39.39.9.59 1.41.59.51 0 1.02-.2 1.41-.59l7.78-7.78 2.81-2.81c.8-.78.8-2.07 0-2.86zM5.41 20L4 18.59l7.72-7.72 1.47 1.35L5.41 20z\"/>\n",
              "  </svg>\n",
              "      </button>\n",
              "\n",
              "\n",
              "\n",
              "    <div id=\"df-ad3541c7-303a-4869-a3e3-e550421b5299\">\n",
              "      <button class=\"colab-df-quickchart\" onclick=\"quickchart('df-ad3541c7-303a-4869-a3e3-e550421b5299')\"\n",
              "              title=\"Suggest charts.\"\n",
              "              style=\"display:none;\">\n",
              "\n",
              "<svg xmlns=\"http://www.w3.org/2000/svg\" height=\"24px\"viewBox=\"0 0 24 24\"\n",
              "     width=\"24px\">\n",
              "    <g>\n",
              "        <path d=\"M19 3H5c-1.1 0-2 .9-2 2v14c0 1.1.9 2 2 2h14c1.1 0 2-.9 2-2V5c0-1.1-.9-2-2-2zM9 17H7v-7h2v7zm4 0h-2V7h2v10zm4 0h-2v-4h2v4z\"/>\n",
              "    </g>\n",
              "</svg>\n",
              "      </button>\n",
              "    </div>\n",
              "\n",
              "<style>\n",
              "  .colab-df-quickchart {\n",
              "    background-color: #E8F0FE;\n",
              "    border: none;\n",
              "    border-radius: 50%;\n",
              "    cursor: pointer;\n",
              "    display: none;\n",
              "    fill: #1967D2;\n",
              "    height: 32px;\n",
              "    padding: 0 0 0 0;\n",
              "    width: 32px;\n",
              "  }\n",
              "\n",
              "  .colab-df-quickchart:hover {\n",
              "    background-color: #E2EBFA;\n",
              "    box-shadow: 0px 1px 2px rgba(60, 64, 67, 0.3), 0px 1px 3px 1px rgba(60, 64, 67, 0.15);\n",
              "    fill: #174EA6;\n",
              "  }\n",
              "\n",
              "  [theme=dark] .colab-df-quickchart {\n",
              "    background-color: #3B4455;\n",
              "    fill: #D2E3FC;\n",
              "  }\n",
              "\n",
              "  [theme=dark] .colab-df-quickchart:hover {\n",
              "    background-color: #434B5C;\n",
              "    box-shadow: 0px 1px 3px 1px rgba(0, 0, 0, 0.15);\n",
              "    filter: drop-shadow(0px 1px 2px rgba(0, 0, 0, 0.3));\n",
              "    fill: #FFFFFF;\n",
              "  }\n",
              "</style>\n",
              "\n",
              "    <script>\n",
              "      async function quickchart(key) {\n",
              "        const containerElement = document.querySelector('#' + key);\n",
              "        const charts = await google.colab.kernel.invokeFunction(\n",
              "            'suggestCharts', [key], {});\n",
              "      }\n",
              "    </script>\n",
              "\n",
              "      <script>\n",
              "\n",
              "function displayQuickchartButton(domScope) {\n",
              "  let quickchartButtonEl =\n",
              "    domScope.querySelector('#df-ad3541c7-303a-4869-a3e3-e550421b5299 button.colab-df-quickchart');\n",
              "  quickchartButtonEl.style.display =\n",
              "    google.colab.kernel.accessAllowed ? 'block' : 'none';\n",
              "}\n",
              "\n",
              "        displayQuickchartButton(document);\n",
              "      </script>\n",
              "      <style>\n",
              "    .colab-df-container {\n",
              "      display:flex;\n",
              "      flex-wrap:wrap;\n",
              "      gap: 12px;\n",
              "    }\n",
              "\n",
              "    .colab-df-convert {\n",
              "      background-color: #E8F0FE;\n",
              "      border: none;\n",
              "      border-radius: 50%;\n",
              "      cursor: pointer;\n",
              "      display: none;\n",
              "      fill: #1967D2;\n",
              "      height: 32px;\n",
              "      padding: 0 0 0 0;\n",
              "      width: 32px;\n",
              "    }\n",
              "\n",
              "    .colab-df-convert:hover {\n",
              "      background-color: #E2EBFA;\n",
              "      box-shadow: 0px 1px 2px rgba(60, 64, 67, 0.3), 0px 1px 3px 1px rgba(60, 64, 67, 0.15);\n",
              "      fill: #174EA6;\n",
              "    }\n",
              "\n",
              "    [theme=dark] .colab-df-convert {\n",
              "      background-color: #3B4455;\n",
              "      fill: #D2E3FC;\n",
              "    }\n",
              "\n",
              "    [theme=dark] .colab-df-convert:hover {\n",
              "      background-color: #434B5C;\n",
              "      box-shadow: 0px 1px 3px 1px rgba(0, 0, 0, 0.15);\n",
              "      filter: drop-shadow(0px 1px 2px rgba(0, 0, 0, 0.3));\n",
              "      fill: #FFFFFF;\n",
              "    }\n",
              "  </style>\n",
              "\n",
              "      <script>\n",
              "        const buttonEl =\n",
              "          document.querySelector('#df-5161e55b-b107-4a6e-8301-e46d918a890d button.colab-df-convert');\n",
              "        buttonEl.style.display =\n",
              "          google.colab.kernel.accessAllowed ? 'block' : 'none';\n",
              "\n",
              "        async function convertToInteractive(key) {\n",
              "          const element = document.querySelector('#df-5161e55b-b107-4a6e-8301-e46d918a890d');\n",
              "          const dataTable =\n",
              "            await google.colab.kernel.invokeFunction('convertToInteractive',\n",
              "                                                     [key], {});\n",
              "          if (!dataTable) return;\n",
              "\n",
              "          const docLinkHtml = 'Like what you see? Visit the ' +\n",
              "            '<a target=\"_blank\" href=https://colab.research.google.com/notebooks/data_table.ipynb>data table notebook</a>'\n",
              "            + ' to learn more about interactive tables.';\n",
              "          element.innerHTML = '';\n",
              "          dataTable['output_type'] = 'display_data';\n",
              "          await google.colab.output.renderOutput(dataTable, element);\n",
              "          const docLink = document.createElement('div');\n",
              "          docLink.innerHTML = docLinkHtml;\n",
              "          element.appendChild(docLink);\n",
              "        }\n",
              "      </script>\n",
              "    </div>\n",
              "  </div>\n"
            ]
          },
          "metadata": {},
          "execution_count": 72
        }
      ]
    },
    {
      "cell_type": "code",
      "source": [
        "room_type = traffic_areas['room_type']\n",
        "stayed = traffic_areas['minimum_nights']\n",
        "\n",
        "fig = plt.figure(figsize = (10, 5))\n",
        "\n",
        "# creating the bar plot\n",
        "plt.bar(room_type, stayed, color ='black',\n",
        "        width = 0.3)\n",
        "\n",
        "plt.xlabel(\"Room Type\")\n",
        "plt.ylabel(\"Minimum number of nights stayed\")\n",
        "plt.title(\"Traffic Areas\")\n",
        "plt.show()"
      ],
      "metadata": {
        "colab": {
          "base_uri": "https://localhost:8080/",
          "height": 487
        },
        "id": "Ff2RRRHpph9A",
        "outputId": "8e43b7e2-346c-446d-822a-b1ece1f0a0a8"
      },
      "execution_count": 81,
      "outputs": [
        {
          "output_type": "display_data",
          "data": {
            "text/plain": [
              "<Figure size 1000x500 with 1 Axes>"
            ],
            "image/png": "[encoded data removed]"
          },
          "metadata": {}
        }
      ]
    },
    {
      "cell_type": "markdown",
      "source": [
        "#### Chart - 14 - Correlation Heatmap"
      ],
      "metadata": {
        "id": "NC_X3p0fY2L0"
      }
    },
    {
      "cell_type": "code",
      "source": [
        "df.columns"
      ],
      "metadata": {
        "colab": {
          "base_uri": "https://localhost:8080/"
        },
        "id": "ZEWU6zAtFBU3",
        "outputId": "209fdbb1-5ea9-44b4-b3db-348a70cc7066"
      },
      "execution_count": 76,
      "outputs": [
        {
          "output_type": "execute_result",
          "data": {
            "text/plain": [
              "Index(['id', 'name', 'host_id', 'host_name', 'neighbourhood_group',\n",
              "       'neighbourhood', 'latitude', 'longitude', 'room_type', 'price',\n",
              "       'minimum_nights', 'number_of_reviews', 'last_review',\n",
              "       'reviews_per_month', 'calculated_host_listings_count',\n",
              "       'availability_365'],\n",
              "      dtype='object')"
            ]
          },
          "metadata": {},
          "execution_count": 76
        }
      ]
    },
    {
      "cell_type": "code",
      "source": [
        "numerics=['int16','int32','int64','float16','float32','float64']\n",
        "num_df=df.select_dtypes(include=numerics)\n",
        "num_df"
      ],
      "metadata": {
        "colab": {
          "base_uri": "https://localhost:8080/",
          "height": 468
        },
        "id": "oUrysmfQF82Y",
        "outputId": "4c17987a-fd02-41c8-e4e6-c8ce68fb8895"
      },
      "execution_count": 77,
      "outputs": [
        {
          "output_type": "execute_result",
          "data": {
            "text/plain": [
              "             id   host_id  latitude  longitude  price  minimum_nights  \\\n",
              "0          2539      2787  40.64749  -73.97237    149               1   \n",
              "1          2595      2845  40.75362  -73.98377    225               1   \n",
              "2          3647      4632  40.80902  -73.94190    150               3   \n",
              "3          3831      4869  40.68514  -73.95976     89               1   \n",
              "4          5022      7192  40.79851  -73.94399     80              10   \n",
              "...         ...       ...       ...        ...    ...             ...   \n",
              "48890  36484665   8232441  40.67853  -73.94995     70               2   \n",
              "48891  36485057   6570630  40.70184  -73.93317     40               4   \n",
              "48892  36485431  23492952  40.81475  -73.94867    115              10   \n",
              "48893  36485609  30985759  40.75751  -73.99112     55               1   \n",
              "48894  36487245  68119814  40.76404  -73.98933     90               7   \n",
              "\n",
              "       number_of_reviews  reviews_per_month  calculated_host_listings_count  \\\n",
              "0                      9               0.21                               6   \n",
              "1                     45               0.38                               2   \n",
              "2                      0                NaN                               1   \n",
              "3                    270               4.64                               1   \n",
              "4                      9               0.10                               1   \n",
              "...                  ...                ...                             ...   \n",
              "48890                  0                NaN                               2   \n",
              "48891                  0                NaN                               2   \n",
              "48892                  0                NaN                               1   \n",
              "48893                  0                NaN                               6   \n",
              "48894                  0                NaN                               1   \n",
              "\n",
              "       availability_365  \n",
              "0                   365  \n",
              "1                   355  \n",
              "2                   365  \n",
              "3                   194  \n",
              "4                     0  \n",
              "...                 ...  \n",
              "48890                 9  \n",
              "48891                36  \n",
              "48892                27  \n",
              "48893                 2  \n",
              "48894                23  \n",
              "\n",
              "[48895 rows x 10 columns]"
            ],
            "text/html": [
              "\n",
              "\n",
              "  <div id=\"df-dca4e2a7-cf55-442b-9ce5-6154d5259f04\">\n",
              "    <div class=\"colab-df-container\">\n",
              "      <div>\n",
              "<style scoped>\n",
              "    .dataframe tbody tr th:only-of-type {\n",
              "        vertical-align: middle;\n",
              "    }\n",
              "\n",
              "    .dataframe tbody tr th {\n",
              "        vertical-align: top;\n",
              "    }\n",
              "\n",
              "    .dataframe thead th {\n",
              "        text-align: right;\n",
              "    }\n",
              "</style>\n",
              "<table border=\"1\" class=\"dataframe\">\n",
              "  <thead>\n",
              "    <tr style=\"text-align: right;\">\n",
              "      <th></th>\n",
              "      <th>id</th>\n",
              "      <th>host_id</th>\n",
              "      <th>latitude</th>\n",
              "      <th>longitude</th>\n",
              "      <th>price</th>\n",
              "      <th>minimum_nights</th>\n",
              "      <th>number_of_reviews</th>\n",
              "      <th>reviews_per_month</th>\n",
              "      <th>calculated_host_listings_count</th>\n",
              "      <th>availability_365</th>\n",
              "    </tr>\n",
              "  </thead>\n",
              "  <tbody>\n",
              "    <tr>\n",
              "      <th>0</th>\n",
              "      <td>2539</td>\n",
              "      <td>2787</td>\n",
              "      <td>40.64749</td>\n",
              "      <td>-73.97237</td>\n",
              "      <td>149</td>\n",
              "      <td>1</td>\n",
              "      <td>9</td>\n",
              "      <td>0.21</td>\n",
              "      <td>6</td>\n",
              "      <td>365</td>\n",
              "    </tr>\n",
              "    <tr>\n",
              "      <th>1</th>\n",
              "      <td>2595</td>\n",
              "      <td>2845</td>\n",
              "      <td>40.75362</td>\n",
              "      <td>-73.98377</td>\n",
              "      <td>225</td>\n",
              "      <td>1</td>\n",
              "      <td>45</td>\n",
              "      <td>0.38</td>\n",
              "      <td>2</td>\n",
              "      <td>355</td>\n",
              "    </tr>\n",
              "    <tr>\n",
              "      <th>2</th>\n",
              "      <td>3647</td>\n",
              "      <td>4632</td>\n",
              "      <td>40.80902</td>\n",
              "      <td>-73.94190</td>\n",
              "      <td>150</td>\n",
              "      <td>3</td>\n",
              "      <td>0</td>\n",
              "      <td>NaN</td>\n",
              "      <td>1</td>\n",
              "      <td>365</td>\n",
              "    </tr>\n",
              "    <tr>\n",
              "      <th>3</th>\n",
              "      <td>3831</td>\n",
              "      <td>4869</td>\n",
              "      <td>40.68514</td>\n",
              "      <td>-73.95976</td>\n",
              "      <td>89</td>\n",
              "      <td>1</td>\n",
              "      <td>270</td>\n",
              "      <td>4.64</td>\n",
              "      <td>1</td>\n",
              "      <td>194</td>\n",
              "    </tr>\n",
              "    <tr>\n",
              "      <th>4</th>\n",
              "      <td>5022</td>\n",
              "      <td>7192</td>\n",
              "      <td>40.79851</td>\n",
              "      <td>-73.94399</td>\n",
              "      <td>80</td>\n",
              "      <td>10</td>\n",
              "      <td>9</td>\n",
              "      <td>0.10</td>\n",
              "      <td>1</td>\n",
              "      <td>0</td>\n",
              "    </tr>\n",
              "    <tr>\n",
              "      <th>...</th>\n",
              "      <td>...</td>\n",
              "      <td>...</td>\n",
              "      <td>...</td>\n",
              "      <td>...</td>\n",
              "      <td>...</td>\n",
              "      <td>...</td>\n",
              "      <td>...</td>\n",
              "      <td>...</td>\n",
              "      <td>...</td>\n",
              "      <td>...</td>\n",
              "    </tr>\n",
              "    <tr>\n",
              "      <th>48890</th>\n",
              "      <td>36484665</td>\n",
              "      <td>8232441</td>\n",
              "      <td>40.67853</td>\n",
              "      <td>-73.94995</td>\n",
              "      <td>70</td>\n",
              "      <td>2</td>\n",
              "      <td>0</td>\n",
              "      <td>NaN</td>\n",
              "      <td>2</td>\n",
              "      <td>9</td>\n",
              "    </tr>\n",
              "    <tr>\n",
              "      <th>48891</th>\n",
              "      <td>36485057</td>\n",
              "      <td>6570630</td>\n",
              "      <td>40.70184</td>\n",
              "      <td>-73.93317</td>\n",
              "      <td>40</td>\n",
              "      <td>4</td>\n",
              "      <td>0</td>\n",
              "      <td>NaN</td>\n",
              "      <td>2</td>\n",
              "      <td>36</td>\n",
              "    </tr>\n",
              "    <tr>\n",
              "      <th>48892</th>\n",
              "      <td>36485431</td>\n",
              "      <td>23492952</td>\n",
              "      <td>40.81475</td>\n",
              "      <td>-73.94867</td>\n",
              "      <td>115</td>\n",
              "      <td>10</td>\n",
              "      <td>0</td>\n",
              "      <td>NaN</td>\n",
              "      <td>1</td>\n",
              "      <td>27</td>\n",
              "    </tr>\n",
              "    <tr>\n",
              "      <th>48893</th>\n",
              "      <td>36485609</td>\n",
              "      <td>30985759</td>\n",
              "      <td>40.75751</td>\n",
              "      <td>-73.99112</td>\n",
              "      <td>55</td>\n",
              "      <td>1</td>\n",
              "      <td>0</td>\n",
              "      <td>NaN</td>\n",
              "      <td>6</td>\n",
              "      <td>2</td>\n",
              "    </tr>\n",
              "    <tr>\n",
              "      <th>48894</th>\n",
              "      <td>36487245</td>\n",
              "      <td>68119814</td>\n",
              "      <td>40.76404</td>\n",
              "      <td>-73.98933</td>\n",
              "      <td>90</td>\n",
              "      <td>7</td>\n",
              "      <td>0</td>\n",
              "      <td>NaN</td>\n",
              "      <td>1</td>\n",
              "      <td>23</td>\n",
              "    </tr>\n",
              "  </tbody>\n",
              "</table>\n",
              "<p>48895 rows × 10 columns</p>\n",
              "</div>\n",
              "      <button class=\"colab-df-convert\" onclick=\"convertToInteractive('df-dca4e2a7-cf55-442b-9ce5-6154d5259f04')\"\n",
              "              title=\"Convert this dataframe to an interactive table.\"\n",
              "              style=\"display:none;\">\n",
              "\n",
              "  <svg xmlns=\"http://www.w3.org/2000/svg\" height=\"24px\"viewBox=\"0 0 24 24\"\n",
              "       width=\"24px\">\n",
              "    <path d=\"M0 0h24v24H0V0z\" fill=\"none\"/>\n",
              "    <path d=\"M18.56 5.44l.94 2.06.94-2.06 2.06-.94-2.06-.94-.94-2.06-.94 2.06-2.06.94zm-11 1L8.5 8.5l.94-2.06 2.06-.94-2.06-.94L8.5 2.5l-.94 2.06-2.06.94zm10 10l.94 2.06.94-2.06 2.06-.94-2.06-.94-.94-2.06-.94 2.06-2.06.94z\"/><path d=\"M17.41 7.96l-1.37-1.37c-.4-.4-.92-.59-1.43-.59-.52 0-1.04.2-1.43.59L10.3 9.45l-7.72 7.72c-.78.78-.78 2.05 0 2.83L4 21.41c.39.39.9.59 1.41.59.51 0 1.02-.2 1.41-.59l7.78-7.78 2.81-2.81c.8-.78.8-2.07 0-2.86zM5.41 20L4 18.59l7.72-7.72 1.47 1.35L5.41 20z\"/>\n",
              "  </svg>\n",
              "      </button>\n",
              "\n",
              "\n",
              "\n",
              "    <div id=\"df-1e065277-8cec-45b8-a6b6-17f08dfab7a8\">\n",
              "      <button class=\"colab-df-quickchart\" onclick=\"quickchart('df-1e065277-8cec-45b8-a6b6-17f08dfab7a8')\"\n",
              "              title=\"Suggest charts.\"\n",
              "              style=\"display:none;\">\n",
              "\n",
              "<svg xmlns=\"http://www.w3.org/2000/svg\" height=\"24px\"viewBox=\"0 0 24 24\"\n",
              "     width=\"24px\">\n",
              "    <g>\n",
              "        <path d=\"M19 3H5c-1.1 0-2 .9-2 2v14c0 1.1.9 2 2 2h14c1.1 0 2-.9 2-2V5c0-1.1-.9-2-2-2zM9 17H7v-7h2v7zm4 0h-2V7h2v10zm4 0h-2v-4h2v4z\"/>\n",
              "    </g>\n",
              "</svg>\n",
              "      </button>\n",
              "    </div>\n",
              "\n",
              "<style>\n",
              "  .colab-df-quickchart {\n",
              "    background-color: #E8F0FE;\n",
              "    border: none;\n",
              "    border-radius: 50%;\n",
              "    cursor: pointer;\n",
              "    display: none;\n",
              "    fill: #1967D2;\n",
              "    height: 32px;\n",
              "    padding: 0 0 0 0;\n",
              "    width: 32px;\n",
              "  }\n",
              "\n",
              "  .colab-df-quickchart:hover {\n",
              "    background-color: #E2EBFA;\n",
              "    box-shadow: 0px 1px 2px rgba(60, 64, 67, 0.3), 0px 1px 3px 1px rgba(60, 64, 67, 0.15);\n",
              "    fill: #174EA6;\n",
              "  }\n",
              "\n",
              "  [theme=dark] .colab-df-quickchart {\n",
              "    background-color: #3B4455;\n",
              "    fill: #D2E3FC;\n",
              "  }\n",
              "\n",
              "  [theme=dark] .colab-df-quickchart:hover {\n",
              "    background-color: #434B5C;\n",
              "    box-shadow: 0px 1px 3px 1px rgba(0, 0, 0, 0.15);\n",
              "    filter: drop-shadow(0px 1px 2px rgba(0, 0, 0, 0.3));\n",
              "    fill: #FFFFFF;\n",
              "  }\n",
              "</style>\n",
              "\n",
              "    <script>\n",
              "      async function quickchart(key) {\n",
              "        const containerElement = document.querySelector('#' + key);\n",
              "        const charts = await google.colab.kernel.invokeFunction(\n",
              "            'suggestCharts', [key], {});\n",
              "      }\n",
              "    </script>\n",
              "\n",
              "      <script>\n",
              "\n",
              "function displayQuickchartButton(domScope) {\n",
              "  let quickchartButtonEl =\n",
              "    domScope.querySelector('#df-1e065277-8cec-45b8-a6b6-17f08dfab7a8 button.colab-df-quickchart');\n",
              "  quickchartButtonEl.style.display =\n",
              "    google.colab.kernel.accessAllowed ? 'block' : 'none';\n",
              "}\n",
              "\n",
              "        displayQuickchartButton(document);\n",
              "      </script>\n",
              "      <style>\n",
              "    .colab-df-container {\n",
              "      display:flex;\n",
              "      flex-wrap:wrap;\n",
              "      gap: 12px;\n",
              "    }\n",
              "\n",
              "    .colab-df-convert {\n",
              "      background-color: #E8F0FE;\n",
              "      border: none;\n",
              "      border-radius: 50%;\n",
              "      cursor: pointer;\n",
              "      display: none;\n",
              "      fill: #1967D2;\n",
              "      height: 32px;\n",
              "      padding: 0 0 0 0;\n",
              "      width: 32px;\n",
              "    }\n",
              "\n",
              "    .colab-df-convert:hover {\n",
              "      background-color: #E2EBFA;\n",
              "      box-shadow: 0px 1px 2px rgba(60, 64, 67, 0.3), 0px 1px 3px 1px rgba(60, 64, 67, 0.15);\n",
              "      fill: #174EA6;\n",
              "    }\n",
              "\n",
              "    [theme=dark] .colab-df-convert {\n",
              "      background-color: #3B4455;\n",
              "      fill: #D2E3FC;\n",
              "    }\n",
              "\n",
              "    [theme=dark] .colab-df-convert:hover {\n",
              "      background-color: #434B5C;\n",
              "      box-shadow: 0px 1px 3px 1px rgba(0, 0, 0, 0.15);\n",
              "      filter: drop-shadow(0px 1px 2px rgba(0, 0, 0, 0.3));\n",
              "      fill: #FFFFFF;\n",
              "    }\n",
              "  </style>\n",
              "\n",
              "      <script>\n",
              "        const buttonEl =\n",
              "          document.querySelector('#df-dca4e2a7-cf55-442b-9ce5-6154d5259f04 button.colab-df-convert');\n",
              "        buttonEl.style.display =\n",
              "          google.colab.kernel.accessAllowed ? 'block' : 'none';\n",
              "\n",
              "        async function convertToInteractive(key) {\n",
              "          const element = document.querySelector('#df-dca4e2a7-cf55-442b-9ce5-6154d5259f04');\n",
              "          const dataTable =\n",
              "            await google.colab.kernel.invokeFunction('convertToInteractive',\n",
              "                                                     [key], {});\n",
              "          if (!dataTable) return;\n",
              "\n",
              "          const docLinkHtml = 'Like what you see? Visit the ' +\n",
              "            '<a target=\"_blank\" href=https://colab.research.google.com/notebooks/data_table.ipynb>data table notebook</a>'\n",
              "            + ' to learn more about interactive tables.';\n",
              "          element.innerHTML = '';\n",
              "          dataTable['output_type'] = 'display_data';\n",
              "          await google.colab.output.renderOutput(dataTable, element);\n",
              "          const docLink = document.createElement('div');\n",
              "          docLink.innerHTML = docLinkHtml;\n",
              "          element.appendChild(docLink);\n",
              "        }\n",
              "      </script>\n",
              "    </div>\n",
              "  </div>\n"
            ]
          },
          "metadata": {},
          "execution_count": 77
        }
      ]
    },
    {
      "cell_type": "code",
      "source": [
        "# Correlation Heatmap visualization code\n",
        "\n",
        "corr_df = df[['price','minimum_nights', 'number_of_reviews', 'reviews_per_month', 'calculated_host_listings_count','availability_365']].corr()\n",
        "f, ax = plt.subplots(figsize=(12, 12))\n",
        "sns.heatmap(corr_df, annot = True, fmt='.2f', annot_kws={'size': 10},  vmax=1, square=True, cmap=\"YlGnBu\")"
      ],
      "metadata": {
        "id": "xyC9zolEZNRQ",
        "colab": {
          "base_uri": "https://localhost:8080/",
          "height": 1000
        },
        "outputId": "07aa1d46-679c-477b-921f-da8592c54d54"
      },
      "execution_count": 78,
      "outputs": [
        {
          "output_type": "execute_result",
          "data": {
            "text/plain": [
              "<Axes: >"
            ]
          },
          "metadata": {},
          "execution_count": 78
        },
        {
          "output_type": "display_data",
          "data": {
            "text/plain": [
              "<Figure size 1200x1200 with 2 Axes>"
            ],
            "image/png": "[encoded data removed]"
          },
          "metadata": {}
        }
      ]
    },
    {
      "cell_type": "markdown",
      "source": [
        "##### 1. Why did you pick the specific chart?"
      ],
      "metadata": {
        "id": "UV0SzAkaZNRQ"
      }
    },
    {
      "cell_type": "markdown",
      "source": [
        "To understand the relationsip between different numerical values ."
      ],
      "metadata": {
        "id": "DVPuT8LYZNRQ"
      }
    },
    {
      "cell_type": "markdown",
      "source": [
        "##### 2. What is/are the insight(s) found from the chart?"
      ],
      "metadata": {
        "id": "YPEH6qLeZNRQ"
      }
    },
    {
      "cell_type": "markdown",
      "source": [
        "**Highest corelation value between axis is 55% positive & lowest corelation value between the axis is -12% negative.**"
      ],
      "metadata": {
        "id": "bfSqtnDqZNRR"
      }
    },
    {
      "cell_type": "markdown",
      "source": [
        "## **5. Solution to Business Objective**"
      ],
      "metadata": {
        "id": "JcMwzZxoAimU"
      }
    },
    {
      "cell_type": "markdown",
      "source": [
        "**Business objective attained as follows:**\n",
        "\n",
        "1.  One of the primary objectives is to maximize revenue and profitability. By analyzing Airbnb bookings, organizations can identify pricing trends, demand patterns, and seasonal variations to optimize pricing strategies and maximize occupancy rates\n",
        "\n",
        "2. This analysis can help hosts and property managers adjust their pricing strategies, offer discounts during low-demand periods, and set competitive rates to attract more bookings.\n",
        "\n",
        "3. Analyzing Airbnb bookings allows businesses to identify different customer segments based on demographics, preferences, and booking patterns.\n",
        "\n",
        "4. Analysis provides valuable insights into the performance of individual properties or portfolios. Hosts and property managers can evaluate the booking rates, guest reviews, and revenue generated by each property.\n",
        "\n",
        "5. This analysis enables them to identify high-performing properties, understand the factors contributing to their success, and replicate those strategies across other properties.\n"
      ],
      "metadata": {
        "id": "9Z2xyuj0qu95"
      }
    },
    {
      "cell_type": "markdown",
      "source": [
        "# **Conclusion**"
      ],
      "metadata": {
        "id": "gCX9965dhzqZ"
      }
    },
    {
      "cell_type": "markdown",
      "source": [
        "1. The people who prefer to stay in Entire home or Apartment they are going to stay bit longer in that particular Neighbourhood only.\n",
        "\n",
        "2. The people who prefer to stay in Private room they won't stay longer as compared to Home or Apartment.\n",
        "\n",
        "3. Most people prefer to pay less price.\n",
        "\n",
        "4. If there are more number of Reviews for particular Neighbourhood group that means that place is a tourist place.\n",
        "\n",
        "5. If people are not staying more then one night means they are travellers."
      ],
      "metadata": {
        "id": "Fjb1IsQkh3yE"
      }
    },
    {
      "cell_type": "markdown",
      "source": [
        "### ***Hurrah! You have successfully completed your EDA Capstone Project !!!***"
      ],
      "metadata": {
        "id": "gIfDvo9L0UH2"
      }
    }
  ]
}