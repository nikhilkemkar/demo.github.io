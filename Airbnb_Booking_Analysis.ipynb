{
  "nbformat": 4,
  "nbformat_minor": 0,
  "metadata": {
    "colab": {
      "provenance": [],
      "collapsed_sections": [
        "w6K7xa23Elo4",
        "mDgbUHAGgjLW",
        "35m5QtbWiB9F",
        "PoPl-ycgm1ru",
        "MSa1f5Uengrz",
        "K5QZ13OEpz2H",
        "lQ7QKXXCp7Bj",
        "448CDAPjqfQr",
        "t6dVpIINYklI",
        "ijmpgYnKYklI",
        "-JiQyfWJYklI",
        "EM7whBJCYoAo",
        "fge-S5ZAYoAp",
        "85gYPyotYoAp",
        "RoGjAbkUYoAp",
        "4Of9eVA-YrdM",
        "iky9q4vBYrdO",
        "F6T5p64dYrdO",
        "bamQiAODYuh1",
        "QHF8YVU7Yuh3",
        "OH-pJp9IphqM",
        "bbFf2-_FphqN",
        "_ouA3fa0phqN",
        "Seke61FWphqN",
        "t27r6nlMphqO",
        "r2jJGEOYphqO",
        "b0JNsNcRphqO",
        "BZR9WyysphqO",
        "jj7wYXLtphqO",
        "eZrbJ2SmphqO",
        "rFu4xreNphqO",
        "NC_X3p0fY2L0",
        "UV0SzAkaZNRQ",
        "YPEH6qLeZNRQ",
        "JcMwzZxoAimU",
        "8G2x9gOozGDZ",
        "gCX9965dhzqZ",
        "gIfDvo9L0UH2"
      ],
      "include_colab_link": true
    },
    "kernelspec": {
      "name": "python3",
      "display_name": "Python 3"
    },
    "language_info": {
      "name": "python"
    }
  },
  "cells": [
    {
      "cell_type": "markdown",
      "metadata": {
        "id": "view-in-github",
        "colab_type": "text"
      },
      "source": [
        "<a href=\"https://colab.research.google.com/github/nikhilkemkar/demo.github.io/blob/main/Airbnb_Booking_Analysis.ipynb\" target=\"_parent\"><img src=\"https://colab.research.google.com/assets/colab-badge.svg\" alt=\"Open In Colab\"/></a>"
      ]
    },
    {
      "cell_type": "markdown",
      "source": [
        "# **Project Name**    - Airbnb_Booking_Analysis\n",
        "\n"
      ],
      "metadata": {
        "id": "vncDsAP0Gaoa"
      }
    },
    {
      "cell_type": "markdown",
      "source": [
        "##### **Project Type**    - Exloritory Data Analysis\n",
        "##### **Contribution**    - Team\n",
        "##### **Team Member 1 -** Nikhil Kemkar\n",
        "##### **Team Member 2 -** Aditya Sakhre\n",
        "##### **Team Member 3 -** Anup Tharkude\n"
      ],
      "metadata": {
        "id": "beRrZCGUAJYm"
      }
    },
    {
      "cell_type": "markdown",
      "source": [
        "# **Project Summary -**"
      ],
      "metadata": {
        "id": "FJNUwmbgGyua"
      }
    },
    {
      "cell_type": "markdown",
      "source": [
        "Since 2008, guests and hosts have used Airbnb to expand on traveling possibilities and present a more unique, personalized way of experiencing the world. Today, Airbnb became one of a kind service that is used and recognized by the whole world.\n",
        "\n",
        " Data analysis on millions of listings provided through Airbnb is a crucial factor for the company. These millions of listings generate a lot of data  data that can be analyzed and used for security, business decisions, understanding of customers' and providers' (hosts) behavior and performance on the platform, guiding marketing initiatives, implementation of innovative additional services and much more.\n",
        "\n",
        "This dataset has around 49,000 observations in it with 16 columns and it is a mix between categorical and numeric values.\n",
        "\n",
        "\n",
        "\n",
        "\n",
        "\n"
      ],
      "metadata": {
        "id": "F6v_1wHtG2nS"
      }
    },
    {
      "cell_type": "markdown",
      "source": [
        "# **GitHub Link -**"
      ],
      "metadata": {
        "id": "w6K7xa23Elo4"
      }
    },
    {
      "cell_type": "markdown",
      "source": [
        "Provide your GitHub Link here."
      ],
      "metadata": {
        "id": "h1o69JH3Eqqn"
      }
    },
    {
      "cell_type": "markdown",
      "source": [
        "# **Problem Statement**\n"
      ],
      "metadata": {
        "id": "yQaldy8SH6Dl"
      }
    },
    {
      "cell_type": "markdown",
      "source": [
        "**Explore and analyze the data to discover key understandings (not limited to these) such as :**\n",
        "\n",
        "Analyse the data on Airbnb Booking to gain insights on the different factors that affect the booking.\n",
        "- What can we learn about different hosts and areas?\n",
        "- What can we learn from predictions? (ex: locations, prices, reviews, etc)\n",
        "- Which hosts are the busiest and why?\n",
        "- Is there any noticeable difference of traffic among different areas and what could be the reason for it?\n",
        "\n",
        "\n",
        "\n",
        "\n"
      ],
      "metadata": {
        "id": "DpeJGUA3kjGy"
      }
    },
    {
      "cell_type": "markdown",
      "source": [
        "# **General Guidelines** : -  "
      ],
      "metadata": {
        "id": "mDgbUHAGgjLW"
      }
    },
    {
      "cell_type": "markdown",
      "source": [
        "1.   Well-structured, formatted, and commented code is required.\n",
        "2.   Exception Handling, Production Grade Code & Deployment Ready Code will be a plus. Those students will be awarded some additional credits.\n",
        "     \n",
        "     The additional credits will have advantages over other students during Star Student selection.\n",
        "       \n",
        "             [ Note: - Deployment Ready Code is defined as, the whole .ipynb notebook should be executable in one go\n",
        "                       without a single error logged. ]\n",
        "\n",
        "3.   Each and every logic should have proper comments.\n",
        "4. You may add as many number of charts you want. Make Sure for each and every chart the following format should be answered.\n",
        "        \n",
        "\n",
        "```\n",
        "# Chart visualization code\n",
        "```\n",
        "            \n",
        "\n",
        "*   Why did you pick the specific chart?\n",
        "*   What is/are the insight(s) found from the chart?\n",
        "* Will the gained insights help creating a positive business impact?\n",
        "Are there any insights that lead to negative growth? Justify with specific reason.\n",
        "\n",
        "5. You have to create at least 20 logical & meaningful charts having important insights.\n",
        "\n",
        "\n",
        "[ Hints : - Do the Vizualization in  a structured way while following \"UBM\" Rule.\n",
        "\n",
        "U - Univariate Analysis,\n",
        "\n",
        "B - Bivariate Analysis (Numerical - Categorical, Numerical - Numerical, Categorical - Categorical)\n",
        "\n",
        "M - Multivariate Analysis\n",
        " ]\n",
        "\n",
        "\n",
        "\n"
      ],
      "metadata": {
        "id": "ZrxVaUj-hHfC"
      }
    },
    {
      "cell_type": "markdown",
      "source": [
        "# ***Let's Begin !***"
      ],
      "metadata": {
        "id": "O_i_v8NEhb9l"
      }
    },
    {
      "cell_type": "markdown",
      "source": [
        "## ***1. Know Your Data***"
      ],
      "metadata": {
        "id": "HhfV-JJviCcP"
      }
    },
    {
      "cell_type": "markdown",
      "source": [
        "### Import Libraries"
      ],
      "metadata": {
        "id": "Y3lxredqlCYt"
      }
    },
    {
      "cell_type": "code",
      "source": [
        "# Import Libraries\n",
        "import numpy as np\n",
        "import pandas as pd\n",
        "import matplotlib.pyplot as plt\n",
        "import seaborn as sns\n",
        "\n"
      ],
      "metadata": {
        "id": "M8Vqi-pPk-HR"
      },
      "execution_count": null,
      "outputs": []
    },
    {
      "cell_type": "markdown",
      "source": [
        "### Dataset Loading"
      ],
      "metadata": {
        "id": "3RnN4peoiCZX"
      }
    },
    {
      "cell_type": "code",
      "source": [
        "# Load Dataset\n",
        "path='/content/Airbnb NYC 2019.csv'\n",
        "df=pd.read_csv(path)\n"
      ],
      "metadata": {
        "id": "4CkvbW_SlZ_R"
      },
      "execution_count": null,
      "outputs": []
    },
    {
      "cell_type": "markdown",
      "source": [
        "### Dataset First View"
      ],
      "metadata": {
        "id": "x71ZqKXriCWQ"
      }
    },
    {
      "cell_type": "code",
      "source": [
        "# Dataset First Look\n",
        "df.head()\n"
      ],
      "metadata": {
        "id": "LWNFOSvLl09H",
        "colab": {
          "base_uri": "https://localhost:8080/",
          "height": 461
        },
        "outputId": "63a4d099-ee9a-4960-c7a3-e85bf5ea8b73"
      },
      "execution_count": null,
      "outputs": [
        {
          "output_type": "execute_result",
          "data": {
            "text/plain": [
              "     id                                              name  host_id  \\\n",
              "0  2539                Clean & quiet apt home by the park     2787   \n",
              "1  2595                             Skylit Midtown Castle     2845   \n",
              "2  3647               THE VILLAGE OF HARLEM....NEW YORK !     4632   \n",
              "3  3831                   Cozy Entire Floor of Brownstone     4869   \n",
              "4  5022  Entire Apt: Spacious Studio/Loft by central park     7192   \n",
              "\n",
              "     host_name neighbourhood_group neighbourhood  latitude  longitude  \\\n",
              "0         John            Brooklyn    Kensington  40.64749  -73.97237   \n",
              "1     Jennifer           Manhattan       Midtown  40.75362  -73.98377   \n",
              "2    Elisabeth           Manhattan        Harlem  40.80902  -73.94190   \n",
              "3  LisaRoxanne            Brooklyn  Clinton Hill  40.68514  -73.95976   \n",
              "4        Laura           Manhattan   East Harlem  40.79851  -73.94399   \n",
              "\n",
              "         room_type  price  minimum_nights  number_of_reviews last_review  \\\n",
              "0     Private room  149.0             1.0                9.0  2018-10-19   \n",
              "1  Entire home/apt  225.0             1.0               45.0  2019-05-21   \n",
              "2     Private room  150.0             3.0                0.0         NaN   \n",
              "3  Entire home/apt   89.0             1.0              270.0  2019-07-05   \n",
              "4  Entire home/apt   80.0            10.0                9.0  2018-11-19   \n",
              "\n",
              "   reviews_per_month  calculated_host_listings_count  availability_365  \n",
              "0               0.21                             6.0             365.0  \n",
              "1               0.38                             2.0             355.0  \n",
              "2                NaN                             1.0             365.0  \n",
              "3               4.64                             1.0             194.0  \n",
              "4               0.10                             1.0               0.0  "
            ],
            "text/html": [
              "\n",
              "\n",
              "  <div id=\"df-4be5477d-8c43-4ac3-8bc6-6d380368f1e4\">\n",
              "    <div class=\"colab-df-container\">\n",
              "      <div>\n",
              "<style scoped>\n",
              "    .dataframe tbody tr th:only-of-type {\n",
              "        vertical-align: middle;\n",
              "    }\n",
              "\n",
              "    .dataframe tbody tr th {\n",
              "        vertical-align: top;\n",
              "    }\n",
              "\n",
              "    .dataframe thead th {\n",
              "        text-align: right;\n",
              "    }\n",
              "</style>\n",
              "<table border=\"1\" class=\"dataframe\">\n",
              "  <thead>\n",
              "    <tr style=\"text-align: right;\">\n",
              "      <th></th>\n",
              "      <th>id</th>\n",
              "      <th>name</th>\n",
              "      <th>host_id</th>\n",
              "      <th>host_name</th>\n",
              "      <th>neighbourhood_group</th>\n",
              "      <th>neighbourhood</th>\n",
              "      <th>latitude</th>\n",
              "      <th>longitude</th>\n",
              "      <th>room_type</th>\n",
              "      <th>price</th>\n",
              "      <th>minimum_nights</th>\n",
              "      <th>number_of_reviews</th>\n",
              "      <th>last_review</th>\n",
              "      <th>reviews_per_month</th>\n",
              "      <th>calculated_host_listings_count</th>\n",
              "      <th>availability_365</th>\n",
              "    </tr>\n",
              "  </thead>\n",
              "  <tbody>\n",
              "    <tr>\n",
              "      <th>0</th>\n",
              "      <td>2539</td>\n",
              "      <td>Clean &amp; quiet apt home by the park</td>\n",
              "      <td>2787</td>\n",
              "      <td>John</td>\n",
              "      <td>Brooklyn</td>\n",
              "      <td>Kensington</td>\n",
              "      <td>40.64749</td>\n",
              "      <td>-73.97237</td>\n",
              "      <td>Private room</td>\n",
              "      <td>149.0</td>\n",
              "      <td>1.0</td>\n",
              "      <td>9.0</td>\n",
              "      <td>2018-10-19</td>\n",
              "      <td>0.21</td>\n",
              "      <td>6.0</td>\n",
              "      <td>365.0</td>\n",
              "    </tr>\n",
              "    <tr>\n",
              "      <th>1</th>\n",
              "      <td>2595</td>\n",
              "      <td>Skylit Midtown Castle</td>\n",
              "      <td>2845</td>\n",
              "      <td>Jennifer</td>\n",
              "      <td>Manhattan</td>\n",
              "      <td>Midtown</td>\n",
              "      <td>40.75362</td>\n",
              "      <td>-73.98377</td>\n",
              "      <td>Entire home/apt</td>\n",
              "      <td>225.0</td>\n",
              "      <td>1.0</td>\n",
              "      <td>45.0</td>\n",
              "      <td>2019-05-21</td>\n",
              "      <td>0.38</td>\n",
              "      <td>2.0</td>\n",
              "      <td>355.0</td>\n",
              "    </tr>\n",
              "    <tr>\n",
              "      <th>2</th>\n",
              "      <td>3647</td>\n",
              "      <td>THE VILLAGE OF HARLEM....NEW YORK !</td>\n",
              "      <td>4632</td>\n",
              "      <td>Elisabeth</td>\n",
              "      <td>Manhattan</td>\n",
              "      <td>Harlem</td>\n",
              "      <td>40.80902</td>\n",
              "      <td>-73.94190</td>\n",
              "      <td>Private room</td>\n",
              "      <td>150.0</td>\n",
              "      <td>3.0</td>\n",
              "      <td>0.0</td>\n",
              "      <td>NaN</td>\n",
              "      <td>NaN</td>\n",
              "      <td>1.0</td>\n",
              "      <td>365.0</td>\n",
              "    </tr>\n",
              "    <tr>\n",
              "      <th>3</th>\n",
              "      <td>3831</td>\n",
              "      <td>Cozy Entire Floor of Brownstone</td>\n",
              "      <td>4869</td>\n",
              "      <td>LisaRoxanne</td>\n",
              "      <td>Brooklyn</td>\n",
              "      <td>Clinton Hill</td>\n",
              "      <td>40.68514</td>\n",
              "      <td>-73.95976</td>\n",
              "      <td>Entire home/apt</td>\n",
              "      <td>89.0</td>\n",
              "      <td>1.0</td>\n",
              "      <td>270.0</td>\n",
              "      <td>2019-07-05</td>\n",
              "      <td>4.64</td>\n",
              "      <td>1.0</td>\n",
              "      <td>194.0</td>\n",
              "    </tr>\n",
              "    <tr>\n",
              "      <th>4</th>\n",
              "      <td>5022</td>\n",
              "      <td>Entire Apt: Spacious Studio/Loft by central park</td>\n",
              "      <td>7192</td>\n",
              "      <td>Laura</td>\n",
              "      <td>Manhattan</td>\n",
              "      <td>East Harlem</td>\n",
              "      <td>40.79851</td>\n",
              "      <td>-73.94399</td>\n",
              "      <td>Entire home/apt</td>\n",
              "      <td>80.0</td>\n",
              "      <td>10.0</td>\n",
              "      <td>9.0</td>\n",
              "      <td>2018-11-19</td>\n",
              "      <td>0.10</td>\n",
              "      <td>1.0</td>\n",
              "      <td>0.0</td>\n",
              "    </tr>\n",
              "  </tbody>\n",
              "</table>\n",
              "</div>\n",
              "      <button class=\"colab-df-convert\" onclick=\"convertToInteractive('df-4be5477d-8c43-4ac3-8bc6-6d380368f1e4')\"\n",
              "              title=\"Convert this dataframe to an interactive table.\"\n",
              "              style=\"display:none;\">\n",
              "\n",
              "  <svg xmlns=\"http://www.w3.org/2000/svg\" height=\"24px\"viewBox=\"0 0 24 24\"\n",
              "       width=\"24px\">\n",
              "    <path d=\"M0 0h24v24H0V0z\" fill=\"none\"/>\n",
              "    <path d=\"M18.56 5.44l.94 2.06.94-2.06 2.06-.94-2.06-.94-.94-2.06-.94 2.06-2.06.94zm-11 1L8.5 8.5l.94-2.06 2.06-.94-2.06-.94L8.5 2.5l-.94 2.06-2.06.94zm10 10l.94 2.06.94-2.06 2.06-.94-2.06-.94-.94-2.06-.94 2.06-2.06.94z\"/><path d=\"M17.41 7.96l-1.37-1.37c-.4-.4-.92-.59-1.43-.59-.52 0-1.04.2-1.43.59L10.3 9.45l-7.72 7.72c-.78.78-.78 2.05 0 2.83L4 21.41c.39.39.9.59 1.41.59.51 0 1.02-.2 1.41-.59l7.78-7.78 2.81-2.81c.8-.78.8-2.07 0-2.86zM5.41 20L4 18.59l7.72-7.72 1.47 1.35L5.41 20z\"/>\n",
              "  </svg>\n",
              "      </button>\n",
              "\n",
              "\n",
              "\n",
              "    <div id=\"df-d3574fbe-8454-4557-96e6-f81af98a8ba5\">\n",
              "      <button class=\"colab-df-quickchart\" onclick=\"quickchart('df-d3574fbe-8454-4557-96e6-f81af98a8ba5')\"\n",
              "              title=\"Suggest charts.\"\n",
              "              style=\"display:none;\">\n",
              "\n",
              "<svg xmlns=\"http://www.w3.org/2000/svg\" height=\"24px\"viewBox=\"0 0 24 24\"\n",
              "     width=\"24px\">\n",
              "    <g>\n",
              "        <path d=\"M19 3H5c-1.1 0-2 .9-2 2v14c0 1.1.9 2 2 2h14c1.1 0 2-.9 2-2V5c0-1.1-.9-2-2-2zM9 17H7v-7h2v7zm4 0h-2V7h2v10zm4 0h-2v-4h2v4z\"/>\n",
              "    </g>\n",
              "</svg>\n",
              "      </button>\n",
              "    </div>\n",
              "\n",
              "<style>\n",
              "  .colab-df-quickchart {\n",
              "    background-color: #E8F0FE;\n",
              "    border: none;\n",
              "    border-radius: 50%;\n",
              "    cursor: pointer;\n",
              "    display: none;\n",
              "    fill: #1967D2;\n",
              "    height: 32px;\n",
              "    padding: 0 0 0 0;\n",
              "    width: 32px;\n",
              "  }\n",
              "\n",
              "  .colab-df-quickchart:hover {\n",
              "    background-color: #E2EBFA;\n",
              "    box-shadow: 0px 1px 2px rgba(60, 64, 67, 0.3), 0px 1px 3px 1px rgba(60, 64, 67, 0.15);\n",
              "    fill: #174EA6;\n",
              "  }\n",
              "\n",
              "  [theme=dark] .colab-df-quickchart {\n",
              "    background-color: #3B4455;\n",
              "    fill: #D2E3FC;\n",
              "  }\n",
              "\n",
              "  [theme=dark] .colab-df-quickchart:hover {\n",
              "    background-color: #434B5C;\n",
              "    box-shadow: 0px 1px 3px 1px rgba(0, 0, 0, 0.15);\n",
              "    filter: drop-shadow(0px 1px 2px rgba(0, 0, 0, 0.3));\n",
              "    fill: #FFFFFF;\n",
              "  }\n",
              "</style>\n",
              "\n",
              "    <script>\n",
              "      async function quickchart(key) {\n",
              "        const containerElement = document.querySelector('#' + key);\n",
              "        const charts = await google.colab.kernel.invokeFunction(\n",
              "            'suggestCharts', [key], {});\n",
              "      }\n",
              "    </script>\n",
              "\n",
              "      <script>\n",
              "\n",
              "function displayQuickchartButton(domScope) {\n",
              "  let quickchartButtonEl =\n",
              "    domScope.querySelector('#df-d3574fbe-8454-4557-96e6-f81af98a8ba5 button.colab-df-quickchart');\n",
              "  quickchartButtonEl.style.display =\n",
              "    google.colab.kernel.accessAllowed ? 'block' : 'none';\n",
              "}\n",
              "\n",
              "        displayQuickchartButton(document);\n",
              "      </script>\n",
              "      <style>\n",
              "    .colab-df-container {\n",
              "      display:flex;\n",
              "      flex-wrap:wrap;\n",
              "      gap: 12px;\n",
              "    }\n",
              "\n",
              "    .colab-df-convert {\n",
              "      background-color: #E8F0FE;\n",
              "      border: none;\n",
              "      border-radius: 50%;\n",
              "      cursor: pointer;\n",
              "      display: none;\n",
              "      fill: #1967D2;\n",
              "      height: 32px;\n",
              "      padding: 0 0 0 0;\n",
              "      width: 32px;\n",
              "    }\n",
              "\n",
              "    .colab-df-convert:hover {\n",
              "      background-color: #E2EBFA;\n",
              "      box-shadow: 0px 1px 2px rgba(60, 64, 67, 0.3), 0px 1px 3px 1px rgba(60, 64, 67, 0.15);\n",
              "      fill: #174EA6;\n",
              "    }\n",
              "\n",
              "    [theme=dark] .colab-df-convert {\n",
              "      background-color: #3B4455;\n",
              "      fill: #D2E3FC;\n",
              "    }\n",
              "\n",
              "    [theme=dark] .colab-df-convert:hover {\n",
              "      background-color: #434B5C;\n",
              "      box-shadow: 0px 1px 3px 1px rgba(0, 0, 0, 0.15);\n",
              "      filter: drop-shadow(0px 1px 2px rgba(0, 0, 0, 0.3));\n",
              "      fill: #FFFFFF;\n",
              "    }\n",
              "  </style>\n",
              "\n",
              "      <script>\n",
              "        const buttonEl =\n",
              "          document.querySelector('#df-4be5477d-8c43-4ac3-8bc6-6d380368f1e4 button.colab-df-convert');\n",
              "        buttonEl.style.display =\n",
              "          google.colab.kernel.accessAllowed ? 'block' : 'none';\n",
              "\n",
              "        async function convertToInteractive(key) {\n",
              "          const element = document.querySelector('#df-4be5477d-8c43-4ac3-8bc6-6d380368f1e4');\n",
              "          const dataTable =\n",
              "            await google.colab.kernel.invokeFunction('convertToInteractive',\n",
              "                                                     [key], {});\n",
              "          if (!dataTable) return;\n",
              "\n",
              "          const docLinkHtml = 'Like what you see? Visit the ' +\n",
              "            '<a target=\"_blank\" href=https://colab.research.google.com/notebooks/data_table.ipynb>data table notebook</a>'\n",
              "            + ' to learn more about interactive tables.';\n",
              "          element.innerHTML = '';\n",
              "          dataTable['output_type'] = 'display_data';\n",
              "          await google.colab.output.renderOutput(dataTable, element);\n",
              "          const docLink = document.createElement('div');\n",
              "          docLink.innerHTML = docLinkHtml;\n",
              "          element.appendChild(docLink);\n",
              "        }\n",
              "      </script>\n",
              "    </div>\n",
              "  </div>\n"
            ]
          },
          "metadata": {},
          "execution_count": 5
        }
      ]
    },
    {
      "cell_type": "markdown",
      "source": [
        "### Dataset Rows & Columns count"
      ],
      "metadata": {
        "id": "7hBIi_osiCS2"
      }
    },
    {
      "cell_type": "code",
      "source": [
        "# Dataset Rows\n",
        "len(df)"
      ],
      "metadata": {
        "id": "Kllu7SJgmLij",
        "colab": {
          "base_uri": "https://localhost:8080/"
        },
        "outputId": "9b17bf5c-7f33-4317-ee69-b8d69c3fb4ef"
      },
      "execution_count": null,
      "outputs": [
        {
          "output_type": "execute_result",
          "data": {
            "text/plain": [
              "14884"
            ]
          },
          "metadata": {},
          "execution_count": 6
        }
      ]
    },
    {
      "cell_type": "code",
      "source": [
        "# Dataet Columns\n",
        "len(df.columns)"
      ],
      "metadata": {
        "colab": {
          "base_uri": "https://localhost:8080/"
        },
        "id": "vbseH75ebfx_",
        "outputId": "6baa5430-d26d-43ba-e510-b8b20e246c18"
      },
      "execution_count": null,
      "outputs": [
        {
          "output_type": "execute_result",
          "data": {
            "text/plain": [
              "16"
            ]
          },
          "metadata": {},
          "execution_count": 7
        }
      ]
    },
    {
      "cell_type": "markdown",
      "source": [
        "### Dataset Information"
      ],
      "metadata": {
        "id": "JlHwYmJAmNHm"
      }
    },
    {
      "cell_type": "code",
      "source": [
        "# Dataset Info\n",
        "df.info()"
      ],
      "metadata": {
        "id": "e9hRXRi6meOf",
        "colab": {
          "base_uri": "https://localhost:8080/"
        },
        "outputId": "41fed594-33ab-4a33-839d-105207ccef4c"
      },
      "execution_count": null,
      "outputs": [
        {
          "output_type": "stream",
          "name": "stdout",
          "text": [
            "<class 'pandas.core.frame.DataFrame'>\n",
            "RangeIndex: 14884 entries, 0 to 14883\n",
            "Data columns (total 16 columns):\n",
            " #   Column                          Non-Null Count  Dtype  \n",
            "---  ------                          --------------  -----  \n",
            " 0   id                              14884 non-null  int64  \n",
            " 1   name                            14872 non-null  object \n",
            " 2   host_id                         14884 non-null  int64  \n",
            " 3   host_name                       14871 non-null  object \n",
            " 4   neighbourhood_group             14883 non-null  object \n",
            " 5   neighbourhood                   14883 non-null  object \n",
            " 6   latitude                        14883 non-null  float64\n",
            " 7   longitude                       14883 non-null  float64\n",
            " 8   room_type                       14883 non-null  object \n",
            " 9   price                           14883 non-null  float64\n",
            " 10  minimum_nights                  14883 non-null  float64\n",
            " 11  number_of_reviews               14883 non-null  float64\n",
            " 12  last_review                     12428 non-null  object \n",
            " 13  reviews_per_month               12428 non-null  float64\n",
            " 14  calculated_host_listings_count  14883 non-null  float64\n",
            " 15  availability_365                14883 non-null  float64\n",
            "dtypes: float64(8), int64(2), object(6)\n",
            "memory usage: 1.8+ MB\n"
          ]
        }
      ]
    },
    {
      "cell_type": "markdown",
      "source": [
        "#### Duplicate Values"
      ],
      "metadata": {
        "id": "35m5QtbWiB9F"
      }
    },
    {
      "cell_type": "code",
      "source": [
        "# Dataset Duplicate Value Count\n",
        "df.duplicated().sum()"
      ],
      "metadata": {
        "id": "1sLdpKYkmox0",
        "colab": {
          "base_uri": "https://localhost:8080/"
        },
        "outputId": "87a01177-750a-4ef3-b1fc-b57d6a792744"
      },
      "execution_count": null,
      "outputs": [
        {
          "output_type": "execute_result",
          "data": {
            "text/plain": [
              "0"
            ]
          },
          "metadata": {},
          "execution_count": 9
        }
      ]
    },
    {
      "cell_type": "markdown",
      "source": [
        "#### Missing Values/Null Values"
      ],
      "metadata": {
        "id": "PoPl-ycgm1ru"
      }
    },
    {
      "cell_type": "code",
      "source": [
        "# Missing Values/Null Values Count\n",
        "missing=df.isnull().sum().sort_values(ascending=False)\n",
        "missing"
      ],
      "metadata": {
        "id": "GgHWkxvamxVg",
        "colab": {
          "base_uri": "https://localhost:8080/"
        },
        "outputId": "873bb1d4-2ace-407b-ae94-80a05ccb7a72"
      },
      "execution_count": null,
      "outputs": [
        {
          "output_type": "execute_result",
          "data": {
            "text/plain": [
              "last_review                       2456\n",
              "reviews_per_month                 2456\n",
              "host_name                           13\n",
              "name                                12\n",
              "neighbourhood_group                  1\n",
              "neighbourhood                        1\n",
              "latitude                             1\n",
              "longitude                            1\n",
              "room_type                            1\n",
              "price                                1\n",
              "minimum_nights                       1\n",
              "number_of_reviews                    1\n",
              "calculated_host_listings_count       1\n",
              "availability_365                     1\n",
              "id                                   0\n",
              "host_id                              0\n",
              "dtype: int64"
            ]
          },
          "metadata": {},
          "execution_count": 10
        }
      ]
    },
    {
      "cell_type": "code",
      "source": [
        "missing1=missing[missing!=0]\n",
        "\n",
        "missing1"
      ],
      "metadata": {
        "colab": {
          "base_uri": "https://localhost:8080/"
        },
        "id": "QvhqKmgudMbu",
        "outputId": "4329e8df-2dcf-4fba-a1fa-e2ab072a257b"
      },
      "execution_count": null,
      "outputs": [
        {
          "output_type": "execute_result",
          "data": {
            "text/plain": [
              "last_review                       2456\n",
              "reviews_per_month                 2456\n",
              "host_name                           13\n",
              "name                                12\n",
              "neighbourhood_group                  1\n",
              "neighbourhood                        1\n",
              "latitude                             1\n",
              "longitude                            1\n",
              "room_type                            1\n",
              "price                                1\n",
              "minimum_nights                       1\n",
              "number_of_reviews                    1\n",
              "calculated_host_listings_count       1\n",
              "availability_365                     1\n",
              "dtype: int64"
            ]
          },
          "metadata": {},
          "execution_count": 11
        }
      ]
    },
    {
      "cell_type": "code",
      "source": [
        "# Visualizing the missing values\n",
        "missing1.plot(kind='barh')"
      ],
      "metadata": {
        "id": "3q5wnI3om9sJ",
        "colab": {
          "base_uri": "https://localhost:8080/",
          "height": 447
        },
        "outputId": "2b77e5b7-1535-4d64-b0e6-892e8d78f5e7"
      },
      "execution_count": null,
      "outputs": [
        {
          "output_type": "execute_result",
          "data": {
            "text/plain": [
              "<Axes: >"
            ]
          },
          "metadata": {},
          "execution_count": 12
        },
        {
          "output_type": "display_data",
          "data": {
            "text/plain": [
              "<Figure size 640x480 with 1 Axes>"
            ],
            "image/png": "[encoded data removed]"
          },
          "metadata": {}
        }
      ]
    },
    {
      "cell_type": "markdown",
      "source": [
        "### What did you know about your dataset?"
      ],
      "metadata": {
        "id": "H0kj-8xxnORC"
      }
    },
    {
      "cell_type": "markdown",
      "source": [
        "This data set contains a single file which compares various booking information .Includes information such as location of booking , length of nightsto be paid for ,  the number checks per month, and the number of rviews per months , among other things. The dataset contains a total of 14884 rows and 16 columns. In this dataset we find data types of every columns i.e (Int, float ,string) and observe that some columns data types is not accurate and missing remove later .We find unique value of every columns it means what actual values in every columns"
      ],
      "metadata": {
        "id": "gfoNAAC-nUe_"
      }
    },
    {
      "cell_type": "markdown",
      "source": [
        "## ***2. Understanding Your Variables***"
      ],
      "metadata": {
        "id": "nA9Y7ga8ng1Z"
      }
    },
    {
      "cell_type": "markdown",
      "source": [
        "**let's get all columns**"
      ],
      "metadata": {
        "id": "iA3R4OPpASkT"
      }
    },
    {
      "cell_type": "code",
      "source": [
        "# Dataset Columns\n",
        "df.columns"
      ],
      "metadata": {
        "id": "j7xfkqrt5Ag5",
        "colab": {
          "base_uri": "https://localhost:8080/"
        },
        "outputId": "79770d34-f063-45e4-d8d1-d2fdaeb3f34e"
      },
      "execution_count": null,
      "outputs": [
        {
          "output_type": "execute_result",
          "data": {
            "text/plain": [
              "Index(['id', 'name', 'host_id', 'host_name', 'neighbourhood_group',\n",
              "       'neighbourhood', 'latitude', 'longitude', 'room_type', 'price',\n",
              "       'minimum_nights', 'number_of_reviews', 'last_review',\n",
              "       'reviews_per_month', 'calculated_host_listings_count',\n",
              "       'availability_365'],\n",
              "      dtype='object')"
            ]
          },
          "metadata": {},
          "execution_count": 13
        }
      ]
    },
    {
      "cell_type": "markdown",
      "source": [
        "**Let's describe data for insights**\n",
        "\n",
        "\n"
      ],
      "metadata": {
        "id": "Vaa8n8zmAjH9"
      }
    },
    {
      "cell_type": "code",
      "source": [
        "# Dataset Describe\n",
        "df.describe()"
      ],
      "metadata": {
        "id": "DnOaZdaE5Q5t",
        "colab": {
          "base_uri": "https://localhost:8080/"
        },
        "outputId": "2561817e-74ce-4c5e-c666-f29685664be2"
      },
      "execution_count": null,
      "outputs": [
        {
          "output_type": "execute_result",
          "data": {
            "text/plain": [
              "                 id       host_id      latitude     longitude         price  \\\n",
              "count  1.488400e+04  1.488400e+04  14883.000000  14883.000000  14883.000000   \n",
              "mean   5.521759e+06  1.599426e+07     40.729763    -73.958634    155.733118   \n",
              "std    3.492695e+06  1.597834e+07      0.052082      0.036243    247.072148   \n",
              "min    2.539000e+03  2.571000e+03     40.499790    -74.240840     10.000000   \n",
              "25%    2.243752e+06  2.921051e+06     40.689645    -73.983615     75.000000   \n",
              "50%    5.538382e+06  9.916160e+06     40.723370    -73.958900    117.000000   \n",
              "75%    8.646907e+06  2.482611e+07     40.763960    -73.942780    176.000000   \n",
              "max    1.180424e+07  6.285283e+07     40.908040    -73.712990  10000.000000   \n",
              "\n",
              "       minimum_nights  number_of_reviews  reviews_per_month  \\\n",
              "count    14883.000000       14883.000000       12428.000000   \n",
              "mean         7.485252          39.405832           0.877399   \n",
              "std         25.980234          64.194251           1.209976   \n",
              "min          1.000000           0.000000           0.010000   \n",
              "25%          1.000000           1.000000           0.090000   \n",
              "50%          3.000000          10.000000           0.330000   \n",
              "75%          5.000000          49.000000           1.202500   \n",
              "max       1250.000000         629.000000          14.580000   \n",
              "\n",
              "       calculated_host_listings_count  availability_365  \n",
              "count                    14883.000000      14883.000000  \n",
              "mean                         3.124504        107.324531  \n",
              "std                         10.488179        134.440878  \n",
              "min                          1.000000          0.000000  \n",
              "25%                          1.000000          0.000000  \n",
              "50%                          1.000000         11.000000  \n",
              "75%                          2.000000        238.000000  \n",
              "max                        121.000000        365.000000  "
            ],
            "text/html": [
              "\n",
              "\n",
              "  <div id=\"df-b5f808d4-6824-4ceb-8d12-a2cfa5bb56da\">\n",
              "    <div class=\"colab-df-container\">\n",
              "      <div>\n",
              "<style scoped>\n",
              "    .dataframe tbody tr th:only-of-type {\n",
              "        vertical-align: middle;\n",
              "    }\n",
              "\n",
              "    .dataframe tbody tr th {\n",
              "        vertical-align: top;\n",
              "    }\n",
              "\n",
              "    .dataframe thead th {\n",
              "        text-align: right;\n",
              "    }\n",
              "</style>\n",
              "<table border=\"1\" class=\"dataframe\">\n",
              "  <thead>\n",
              "    <tr style=\"text-align: right;\">\n",
              "      <th></th>\n",
              "      <th>id</th>\n",
              "      <th>host_id</th>\n",
              "      <th>latitude</th>\n",
              "      <th>longitude</th>\n",
              "      <th>price</th>\n",
              "      <th>minimum_nights</th>\n",
              "      <th>number_of_reviews</th>\n",
              "      <th>reviews_per_month</th>\n",
              "      <th>calculated_host_listings_count</th>\n",
              "      <th>availability_365</th>\n",
              "    </tr>\n",
              "  </thead>\n",
              "  <tbody>\n",
              "    <tr>\n",
              "      <th>count</th>\n",
              "      <td>1.488400e+04</td>\n",
              "      <td>1.488400e+04</td>\n",
              "      <td>14883.000000</td>\n",
              "      <td>14883.000000</td>\n",
              "      <td>14883.000000</td>\n",
              "      <td>14883.000000</td>\n",
              "      <td>14883.000000</td>\n",
              "      <td>12428.000000</td>\n",
              "      <td>14883.000000</td>\n",
              "      <td>14883.000000</td>\n",
              "    </tr>\n",
              "    <tr>\n",
              "      <th>mean</th>\n",
              "      <td>5.521759e+06</td>\n",
              "      <td>1.599426e+07</td>\n",
              "      <td>40.729763</td>\n",
              "      <td>-73.958634</td>\n",
              "      <td>155.733118</td>\n",
              "      <td>7.485252</td>\n",
              "      <td>39.405832</td>\n",
              "      <td>0.877399</td>\n",
              "      <td>3.124504</td>\n",
              "      <td>107.324531</td>\n",
              "    </tr>\n",
              "    <tr>\n",
              "      <th>std</th>\n",
              "      <td>3.492695e+06</td>\n",
              "      <td>1.597834e+07</td>\n",
              "      <td>0.052082</td>\n",
              "      <td>0.036243</td>\n",
              "      <td>247.072148</td>\n",
              "      <td>25.980234</td>\n",
              "      <td>64.194251</td>\n",
              "      <td>1.209976</td>\n",
              "      <td>10.488179</td>\n",
              "      <td>134.440878</td>\n",
              "    </tr>\n",
              "    <tr>\n",
              "      <th>min</th>\n",
              "      <td>2.539000e+03</td>\n",
              "      <td>2.571000e+03</td>\n",
              "      <td>40.499790</td>\n",
              "      <td>-74.240840</td>\n",
              "      <td>10.000000</td>\n",
              "      <td>1.000000</td>\n",
              "      <td>0.000000</td>\n",
              "      <td>0.010000</td>\n",
              "      <td>1.000000</td>\n",
              "      <td>0.000000</td>\n",
              "    </tr>\n",
              "    <tr>\n",
              "      <th>25%</th>\n",
              "      <td>2.243752e+06</td>\n",
              "      <td>2.921051e+06</td>\n",
              "      <td>40.689645</td>\n",
              "      <td>-73.983615</td>\n",
              "      <td>75.000000</td>\n",
              "      <td>1.000000</td>\n",
              "      <td>1.000000</td>\n",
              "      <td>0.090000</td>\n",
              "      <td>1.000000</td>\n",
              "      <td>0.000000</td>\n",
              "    </tr>\n",
              "    <tr>\n",
              "      <th>50%</th>\n",
              "      <td>5.538382e+06</td>\n",
              "      <td>9.916160e+06</td>\n",
              "      <td>40.723370</td>\n",
              "      <td>-73.958900</td>\n",
              "      <td>117.000000</td>\n",
              "      <td>3.000000</td>\n",
              "      <td>10.000000</td>\n",
              "      <td>0.330000</td>\n",
              "      <td>1.000000</td>\n",
              "      <td>11.000000</td>\n",
              "    </tr>\n",
              "    <tr>\n",
              "      <th>75%</th>\n",
              "      <td>8.646907e+06</td>\n",
              "      <td>2.482611e+07</td>\n",
              "      <td>40.763960</td>\n",
              "      <td>-73.942780</td>\n",
              "      <td>176.000000</td>\n",
              "      <td>5.000000</td>\n",
              "      <td>49.000000</td>\n",
              "      <td>1.202500</td>\n",
              "      <td>2.000000</td>\n",
              "      <td>238.000000</td>\n",
              "    </tr>\n",
              "    <tr>\n",
              "      <th>max</th>\n",
              "      <td>1.180424e+07</td>\n",
              "      <td>6.285283e+07</td>\n",
              "      <td>40.908040</td>\n",
              "      <td>-73.712990</td>\n",
              "      <td>10000.000000</td>\n",
              "      <td>1250.000000</td>\n",
              "      <td>629.000000</td>\n",
              "      <td>14.580000</td>\n",
              "      <td>121.000000</td>\n",
              "      <td>365.000000</td>\n",
              "    </tr>\n",
              "  </tbody>\n",
              "</table>\n",
              "</div>\n",
              "      <button class=\"colab-df-convert\" onclick=\"convertToInteractive('df-b5f808d4-6824-4ceb-8d12-a2cfa5bb56da')\"\n",
              "              title=\"Convert this dataframe to an interactive table.\"\n",
              "              style=\"display:none;\">\n",
              "\n",
              "  <svg xmlns=\"http://www.w3.org/2000/svg\" height=\"24px\"viewBox=\"0 0 24 24\"\n",
              "       width=\"24px\">\n",
              "    <path d=\"M0 0h24v24H0V0z\" fill=\"none\"/>\n",
              "    <path d=\"M18.56 5.44l.94 2.06.94-2.06 2.06-.94-2.06-.94-.94-2.06-.94 2.06-2.06.94zm-11 1L8.5 8.5l.94-2.06 2.06-.94-2.06-.94L8.5 2.5l-.94 2.06-2.06.94zm10 10l.94 2.06.94-2.06 2.06-.94-2.06-.94-.94-2.06-.94 2.06-2.06.94z\"/><path d=\"M17.41 7.96l-1.37-1.37c-.4-.4-.92-.59-1.43-.59-.52 0-1.04.2-1.43.59L10.3 9.45l-7.72 7.72c-.78.78-.78 2.05 0 2.83L4 21.41c.39.39.9.59 1.41.59.51 0 1.02-.2 1.41-.59l7.78-7.78 2.81-2.81c.8-.78.8-2.07 0-2.86zM5.41 20L4 18.59l7.72-7.72 1.47 1.35L5.41 20z\"/>\n",
              "  </svg>\n",
              "      </button>\n",
              "\n",
              "\n",
              "\n",
              "    <div id=\"df-2fd814a9-9a06-4de8-849f-b47e321b99f7\">\n",
              "      <button class=\"colab-df-quickchart\" onclick=\"quickchart('df-2fd814a9-9a06-4de8-849f-b47e321b99f7')\"\n",
              "              title=\"Suggest charts.\"\n",
              "              style=\"display:none;\">\n",
              "\n",
              "<svg xmlns=\"http://www.w3.org/2000/svg\" height=\"24px\"viewBox=\"0 0 24 24\"\n",
              "     width=\"24px\">\n",
              "    <g>\n",
              "        <path d=\"M19 3H5c-1.1 0-2 .9-2 2v14c0 1.1.9 2 2 2h14c1.1 0 2-.9 2-2V5c0-1.1-.9-2-2-2zM9 17H7v-7h2v7zm4 0h-2V7h2v10zm4 0h-2v-4h2v4z\"/>\n",
              "    </g>\n",
              "</svg>\n",
              "      </button>\n",
              "    </div>\n",
              "\n",
              "<style>\n",
              "  .colab-df-quickchart {\n",
              "    background-color: #E8F0FE;\n",
              "    border: none;\n",
              "    border-radius: 50%;\n",
              "    cursor: pointer;\n",
              "    display: none;\n",
              "    fill: #1967D2;\n",
              "    height: 32px;\n",
              "    padding: 0 0 0 0;\n",
              "    width: 32px;\n",
              "  }\n",
              "\n",
              "  .colab-df-quickchart:hover {\n",
              "    background-color: #E2EBFA;\n",
              "    box-shadow: 0px 1px 2px rgba(60, 64, 67, 0.3), 0px 1px 3px 1px rgba(60, 64, 67, 0.15);\n",
              "    fill: #174EA6;\n",
              "  }\n",
              "\n",
              "  [theme=dark] .colab-df-quickchart {\n",
              "    background-color: #3B4455;\n",
              "    fill: #D2E3FC;\n",
              "  }\n",
              "\n",
              "  [theme=dark] .colab-df-quickchart:hover {\n",
              "    background-color: #434B5C;\n",
              "    box-shadow: 0px 1px 3px 1px rgba(0, 0, 0, 0.15);\n",
              "    filter: drop-shadow(0px 1px 2px rgba(0, 0, 0, 0.3));\n",
              "    fill: #FFFFFF;\n",
              "  }\n",
              "</style>\n",
              "\n",
              "    <script>\n",
              "      async function quickchart(key) {\n",
              "        const containerElement = document.querySelector('#' + key);\n",
              "        const charts = await google.colab.kernel.invokeFunction(\n",
              "            'suggestCharts', [key], {});\n",
              "      }\n",
              "    </script>\n",
              "\n",
              "      <script>\n",
              "\n",
              "function displayQuickchartButton(domScope) {\n",
              "  let quickchartButtonEl =\n",
              "    domScope.querySelector('#df-2fd814a9-9a06-4de8-849f-b47e321b99f7 button.colab-df-quickchart');\n",
              "  quickchartButtonEl.style.display =\n",
              "    google.colab.kernel.accessAllowed ? 'block' : 'none';\n",
              "}\n",
              "\n",
              "        displayQuickchartButton(document);\n",
              "      </script>\n",
              "      <style>\n",
              "    .colab-df-container {\n",
              "      display:flex;\n",
              "      flex-wrap:wrap;\n",
              "      gap: 12px;\n",
              "    }\n",
              "\n",
              "    .colab-df-convert {\n",
              "      background-color: #E8F0FE;\n",
              "      border: none;\n",
              "      border-radius: 50%;\n",
              "      cursor: pointer;\n",
              "      display: none;\n",
              "      fill: #1967D2;\n",
              "      height: 32px;\n",
              "      padding: 0 0 0 0;\n",
              "      width: 32px;\n",
              "    }\n",
              "\n",
              "    .colab-df-convert:hover {\n",
              "      background-color: #E2EBFA;\n",
              "      box-shadow: 0px 1px 2px rgba(60, 64, 67, 0.3), 0px 1px 3px 1px rgba(60, 64, 67, 0.15);\n",
              "      fill: #174EA6;\n",
              "    }\n",
              "\n",
              "    [theme=dark] .colab-df-convert {\n",
              "      background-color: #3B4455;\n",
              "      fill: #D2E3FC;\n",
              "    }\n",
              "\n",
              "    [theme=dark] .colab-df-convert:hover {\n",
              "      background-color: #434B5C;\n",
              "      box-shadow: 0px 1px 3px 1px rgba(0, 0, 0, 0.15);\n",
              "      filter: drop-shadow(0px 1px 2px rgba(0, 0, 0, 0.3));\n",
              "      fill: #FFFFFF;\n",
              "    }\n",
              "  </style>\n",
              "\n",
              "      <script>\n",
              "        const buttonEl =\n",
              "          document.querySelector('#df-b5f808d4-6824-4ceb-8d12-a2cfa5bb56da button.colab-df-convert');\n",
              "        buttonEl.style.display =\n",
              "          google.colab.kernel.accessAllowed ? 'block' : 'none';\n",
              "\n",
              "        async function convertToInteractive(key) {\n",
              "          const element = document.querySelector('#df-b5f808d4-6824-4ceb-8d12-a2cfa5bb56da');\n",
              "          const dataTable =\n",
              "            await google.colab.kernel.invokeFunction('convertToInteractive',\n",
              "                                                     [key], {});\n",
              "          if (!dataTable) return;\n",
              "\n",
              "          const docLinkHtml = 'Like what you see? Visit the ' +\n",
              "            '<a target=\"_blank\" href=https://colab.research.google.com/notebooks/data_table.ipynb>data table notebook</a>'\n",
              "            + ' to learn more about interactive tables.';\n",
              "          element.innerHTML = '';\n",
              "          dataTable['output_type'] = 'display_data';\n",
              "          await google.colab.output.renderOutput(dataTable, element);\n",
              "          const docLink = document.createElement('div');\n",
              "          docLink.innerHTML = docLinkHtml;\n",
              "          element.appendChild(docLink);\n",
              "        }\n",
              "      </script>\n",
              "    </div>\n",
              "  </div>\n"
            ]
          },
          "metadata": {},
          "execution_count": 14
        }
      ]
    },
    {
      "cell_type": "markdown",
      "source": [
        "### Variables Description"
      ],
      "metadata": {
        "id": "PBTbrJXOngz2"
      }
    },
    {
      "cell_type": "markdown",
      "source": [
        "### **Description of individual Variable**\n",
        "**The columns and the data it represents are listed below:**\n",
        "\n",
        "**id**-     Unique ID\n",
        "\n",
        "**name-**     Name of the listing\n",
        "\n",
        "**host_id**      -Unique host_id\n",
        "\n",
        "**host_name-**     Name of the host\n",
        "\n",
        "**neighbourhood_group**   -location\n",
        "\n",
        "**neighborhood** - area\n",
        "\n",
        "**latitude**-Latitude range\n",
        "\n",
        "**longitude** -Longitude range\n",
        "\n",
        "**room_type** -Type of listing\n",
        "\n",
        "**price**  -Price of listing\n",
        "\n",
        "**minimum nights** -Number of reviews\n",
        "\n",
        "**last_review** -reeviews_per_month\n",
        "\n",
        "**calculated_host_listing_count** -availability 365\n",
        "\n",
        "**Minimum nights to be paid for**  -number of nights customer stayed\n",
        "\n",
        "**Content of the last review**  -Number of checks per month\n",
        "\n",
        "**Total count**  -Availability around the year"
      ],
      "metadata": {
        "id": "aJV4KIxSnxay"
      }
    },
    {
      "cell_type": "markdown",
      "source": [
        "### Check Unique Values for each variable."
      ],
      "metadata": {
        "id": "u3PMJOP6ngxN"
      }
    },
    {
      "cell_type": "code",
      "source": [
        "# Check Unique Values for each variable.\n",
        "df.nunique()"
      ],
      "metadata": {
        "id": "zms12Yq5n-jE",
        "colab": {
          "base_uri": "https://localhost:8080/"
        },
        "outputId": "8aa027fd-452b-467c-b6eb-d79872489822"
      },
      "execution_count": null,
      "outputs": [
        {
          "output_type": "execute_result",
          "data": {
            "text/plain": [
              "id                                14884\n",
              "name                              14724\n",
              "host_id                           12748\n",
              "host_name                          4919\n",
              "neighbourhood_group                   5\n",
              "neighbourhood                       189\n",
              "latitude                          10044\n",
              "longitude                          7913\n",
              "room_type                             3\n",
              "price                               433\n",
              "minimum_nights                       82\n",
              "number_of_reviews                   383\n",
              "last_review                        1676\n",
              "reviews_per_month                   593\n",
              "calculated_host_listings_count       31\n",
              "availability_365                    366\n",
              "dtype: int64"
            ]
          },
          "metadata": {},
          "execution_count": 15
        }
      ]
    },
    {
      "cell_type": "markdown",
      "source": [
        "## 3. ***Data Wrangling***"
      ],
      "metadata": {
        "id": "dauF4eBmngu3"
      }
    },
    {
      "cell_type": "markdown",
      "source": [
        "### Data Wrangling Code"
      ],
      "metadata": {
        "id": "bKJF3rekwFvQ"
      }
    },
    {
      "cell_type": "code",
      "source": [
        "#to fill the NaN value in the column, let's check which colomns has null value, we have already stored the same.\n",
        "missing1[:4]"
      ],
      "metadata": {
        "colab": {
          "base_uri": "https://localhost:8080/"
        },
        "id": "ZlCq_mufDe3R",
        "outputId": "69c8c7fa-3d23-46ef-b9f4-07133c963b8e"
      },
      "execution_count": null,
      "outputs": [
        {
          "output_type": "execute_result",
          "data": {
            "text/plain": [
              "last_review          2456\n",
              "reviews_per_month    2456\n",
              "host_name              13\n",
              "name                   12\n",
              "dtype: int64"
            ]
          },
          "metadata": {},
          "execution_count": 16
        }
      ]
    },
    {
      "cell_type": "code",
      "source": [
        "#lets check, what is the percentage of null value in each column, starting from last review\n",
        "percentage_review_null = missing1[0] / len(df)*100\n",
        "percentage_review_null"
      ],
      "metadata": {
        "colab": {
          "base_uri": "https://localhost:8080/"
        },
        "id": "8N2ZwQI5D0ez",
        "outputId": "b5ceb044-ae32-4bfa-f1e0-85be279aa4fe"
      },
      "execution_count": null,
      "outputs": [
        {
          "output_type": "execute_result",
          "data": {
            "text/plain": [
              "16.500940607363614"
            ]
          },
          "metadata": {},
          "execution_count": 47
        }
      ]
    },
    {
      "cell_type": "code",
      "source": [
        "# now let's check for reviews per month\n",
        "percentage_review_month_null = missing1[1] / len(df)*100\n",
        "percentage_review_month_null"
      ],
      "metadata": {
        "colab": {
          "base_uri": "https://localhost:8080/"
        },
        "id": "yQzzw6J0Ek8Y",
        "outputId": "22012cab-1bba-4c5b-fe0e-340b4bacd5c4"
      },
      "execution_count": null,
      "outputs": [
        {
          "output_type": "execute_result",
          "data": {
            "text/plain": [
              "16.500940607363614"
            ]
          },
          "metadata": {},
          "execution_count": 50
        }
      ]
    },
    {
      "cell_type": "code",
      "source": [
        "#Check the percentage null value in host name column\n",
        "percentage_hostname_null = missing1[2] / len(df)*100\n",
        "percentage_hostname_null\n"
      ],
      "metadata": {
        "colab": {
          "base_uri": "https://localhost:8080/"
        },
        "id": "C4Omb83TE07v",
        "outputId": "5cc7caac-509d-480e-c434-d41f16065ab4"
      },
      "execution_count": null,
      "outputs": [
        {
          "output_type": "execute_result",
          "data": {
            "text/plain": [
              "0.08734211233539371"
            ]
          },
          "metadata": {},
          "execution_count": 51
        }
      ]
    },
    {
      "cell_type": "code",
      "source": [
        "#Check the percentage null value in name\n",
        "percentage_name_null = missing1[3] / len(df)*100\n",
        "percentage_name_null"
      ],
      "metadata": {
        "colab": {
          "base_uri": "https://localhost:8080/"
        },
        "id": "Ds6QpXPCFNmn",
        "outputId": "4fbb7614-b067-4a80-a7dd-2943d6340ca0"
      },
      "execution_count": null,
      "outputs": [
        {
          "output_type": "execute_result",
          "data": {
            "text/plain": [
              "0.08062348830959419"
            ]
          },
          "metadata": {},
          "execution_count": 52
        }
      ]
    },
    {
      "cell_type": "code",
      "source": [
        "# As we have seen, there is minimul null values in datasets , so lets drop aal null values and make dataset ready for analysis\n",
        "\n",
        "new_df=df.dropna()\n",
        "new_df.isnull().sum()"
      ],
      "metadata": {
        "id": "wk-9a2fpoLcV",
        "colab": {
          "base_uri": "https://localhost:8080/"
        },
        "outputId": "0359ae10-6291-48ee-ebf3-becf2ac46c22"
      },
      "execution_count": null,
      "outputs": [
        {
          "output_type": "execute_result",
          "data": {
            "text/plain": [
              "id                                0\n",
              "name                              0\n",
              "host_id                           0\n",
              "host_name                         0\n",
              "neighbourhood_group               0\n",
              "neighbourhood                     0\n",
              "latitude                          0\n",
              "longitude                         0\n",
              "room_type                         0\n",
              "price                             0\n",
              "minimum_nights                    0\n",
              "number_of_reviews                 0\n",
              "last_review                       0\n",
              "reviews_per_month                 0\n",
              "calculated_host_listings_count    0\n",
              "availability_365                  0\n",
              "dtype: int64"
            ]
          },
          "metadata": {},
          "execution_count": 17
        }
      ]
    },
    {
      "cell_type": "markdown",
      "source": [
        "### What all manipulations have you done and insights you found?"
      ],
      "metadata": {
        "id": "MSa1f5Uengrz"
      }
    },
    {
      "cell_type": "markdown",
      "source": [
        "**We have done few manipulations in the Data.**\n",
        "\n",
        "**Removed is_null values & duplicate entries**\n",
        "\n",
        "- Before visualize any data from the data set we have to do data wrangling. For that, we have checked the null value in all the columns. After checking, when we are getting a column which has more number of null values, dropped that column by using the 'drop' method.\n",
        "\n",
        "- In the same, we have checked if there is any duplicacy in data & we found that there are few rows have duplicate data. So we have removed those row from data set by using .drop_duplicates() method.\n",
        "\n",
        "**In this way, we have removed unneccesary data & make our data clean and ready to analyse.**"
      ],
      "metadata": {
        "id": "LbyXE7I1olp8"
      }
    },
    {
      "cell_type": "markdown",
      "source": [
        "## ***4. Data Vizualization, Storytelling & Experimenting with charts : Understand the relationships between variables***\n",
        "\n",
        "Columns to analyse :\n",
        "\n",
        "- host_id\n",
        "- room_type\n",
        "- minimun nights\n",
        "- latitude longitude\n",
        "- price\n"
      ],
      "metadata": {
        "id": "GF8Ens_Soomf"
      }
    },
    {
      "cell_type": "code",
      "source": [
        "df.columns"
      ],
      "metadata": {
        "colab": {
          "base_uri": "https://localhost:8080/"
        },
        "id": "SBjRhVOWqK9v",
        "outputId": "d890b12a-ce18-44ee-dca7-4b340d134225"
      },
      "execution_count": null,
      "outputs": [
        {
          "output_type": "execute_result",
          "data": {
            "text/plain": [
              "Index(['id', 'name', 'host_id', 'host_name', 'neighbourhood_group',\n",
              "       'neighbourhood', 'latitude', 'longitude', 'room_type', 'price',\n",
              "       'minimum_nights', 'number_of_reviews', 'last_review',\n",
              "       'reviews_per_month', 'calculated_host_listings_count',\n",
              "       'availability_365'],\n",
              "      dtype='object')"
            ]
          },
          "metadata": {},
          "execution_count": 18
        }
      ]
    },
    {
      "cell_type": "markdown",
      "source": [
        "#### host_id"
      ],
      "metadata": {
        "id": "0wOQAZs5pc--"
      }
    },
    {
      "cell_type": "code",
      "source": [
        "# Chart - 1 visualization code\n",
        "df.host_id"
      ],
      "metadata": {
        "id": "7v_ESjsspbW7",
        "colab": {
          "base_uri": "https://localhost:8080/"
        },
        "outputId": "e42753cd-5054-45a4-9c79-b380614f17ca"
      },
      "execution_count": null,
      "outputs": [
        {
          "output_type": "execute_result",
          "data": {
            "text/plain": [
              "0            2787\n",
              "1            2845\n",
              "2            4632\n",
              "3            4869\n",
              "4            7192\n",
              "           ...   \n",
              "14879    24232061\n",
              "14880    62852828\n",
              "14881    26377263\n",
              "14882    26377263\n",
              "14883    26377263\n",
              "Name: host_id, Length: 14884, dtype: int64"
            ]
          },
          "metadata": {},
          "execution_count": 19
        }
      ]
    },
    {
      "cell_type": "code",
      "source": [
        "repeat_cust=df.host_id.value_counts()\n",
        "repeat_cust"
      ],
      "metadata": {
        "colab": {
          "base_uri": "https://localhost:8080/"
        },
        "id": "WQL65j6sj0S_",
        "outputId": "c40baeba-fe8c-42ae-e8f9-950546b77829"
      },
      "execution_count": null,
      "outputs": [
        {
          "output_type": "execute_result",
          "data": {
            "text/plain": [
              "7503643     50\n",
              "30283594    44\n",
              "1475015     41\n",
              "16098958    39\n",
              "2119276     34\n",
              "            ..\n",
              "2222500      1\n",
              "1277222      1\n",
              "12971995     1\n",
              "11495251     1\n",
              "62852828     1\n",
              "Name: host_id, Length: 12748, dtype: int64"
            ]
          },
          "metadata": {},
          "execution_count": 20
        }
      ]
    },
    {
      "cell_type": "code",
      "source": [
        "repeated =repeat_cust[repeat_cust >=30 ]\n",
        "repeated"
      ],
      "metadata": {
        "colab": {
          "base_uri": "https://localhost:8080/"
        },
        "id": "7-ugsa2iltu9",
        "outputId": "6120c129-a5c6-4274-bb93-f56a3404b0d4"
      },
      "execution_count": null,
      "outputs": [
        {
          "output_type": "execute_result",
          "data": {
            "text/plain": [
              "7503643     50\n",
              "30283594    44\n",
              "1475015     41\n",
              "16098958    39\n",
              "2119276     34\n",
              "Name: host_id, dtype: int64"
            ]
          },
          "metadata": {},
          "execution_count": 21
        }
      ]
    },
    {
      "cell_type": "code",
      "source": [
        "repeated.plot(kind='barh')"
      ],
      "metadata": {
        "colab": {
          "base_uri": "https://localhost:8080/",
          "height": 447
        },
        "id": "IPn_dANoljBp",
        "outputId": "adba8558-5433-40b9-e494-280b15929ddb"
      },
      "execution_count": null,
      "outputs": [
        {
          "output_type": "execute_result",
          "data": {
            "text/plain": [
              "<Axes: >"
            ]
          },
          "metadata": {},
          "execution_count": 22
        },
        {
          "output_type": "display_data",
          "data": {
            "text/plain": [
              "<Figure size 640x480 with 1 Axes>"
            ],
            "image/png": "[encoded data removed]"
          },
          "metadata": {}
        }
      ]
    },
    {
      "cell_type": "markdown",
      "source": [
        "X axis belongs to host_id of Customer\n",
        "\n",
        "Y axis belongs to Number of times they visited"
      ],
      "metadata": {
        "id": "T-cDKFckmOO5"
      }
    },
    {
      "cell_type": "markdown",
      "source": [
        "##### 1. Why did you pick the specific chart?"
      ],
      "metadata": {
        "id": "K5QZ13OEpz2H"
      }
    },
    {
      "cell_type": "markdown",
      "source": [
        "In this chart, we presented the host_id of some customers those who repeatedly visited ."
      ],
      "metadata": {
        "id": "XESiWehPqBRc"
      }
    },
    {
      "cell_type": "markdown",
      "source": [
        "##### 2. What is/are the insight(s) found from the chart?"
      ],
      "metadata": {
        "id": "lQ7QKXXCp7Bj"
      }
    },
    {
      "cell_type": "markdown",
      "source": [
        "Here, we found that some customers are repeatedly visit our place , so we can give interesting offers to them ."
      ],
      "metadata": {
        "id": "M-M3m-ACm7qf"
      }
    },
    {
      "cell_type": "markdown",
      "source": [
        "##### 3. Will the gained insights help creating a positive business impact?\n",
        "Are there any insights that lead to negative growth? Justify with specific reason."
      ],
      "metadata": {
        "id": "448CDAPjqfQr"
      }
    },
    {
      "cell_type": "markdown",
      "source": [
        "Yes, for booking , this data making some positive business impact : -\n",
        "\n",
        "- Provided more offers to attract more guest to increase more revenue."
      ],
      "metadata": {
        "id": "3cspy4FjqxJW"
      }
    },
    {
      "cell_type": "markdown",
      "source": [
        "bold text#### Chart - 2"
      ],
      "metadata": {
        "id": "KSlN3yHqYklG"
      }
    },
    {
      "cell_type": "code",
      "source": [
        "# Chart - 2 visualization code"
      ],
      "metadata": {
        "id": "R4YgtaqtYklH"
      },
      "execution_count": null,
      "outputs": []
    },
    {
      "cell_type": "markdown",
      "source": [
        "##### 1. Why did you pick the specific chart?"
      ],
      "metadata": {
        "id": "t6dVpIINYklI"
      }
    },
    {
      "cell_type": "markdown",
      "source": [
        "Answer Here."
      ],
      "metadata": {
        "id": "5aaW0BYyYklI"
      }
    },
    {
      "cell_type": "markdown",
      "source": [
        "##### 2. What is/are the insight(s) found from the chart?"
      ],
      "metadata": {
        "id": "ijmpgYnKYklI"
      }
    },
    {
      "cell_type": "markdown",
      "source": [
        "Answer Here"
      ],
      "metadata": {
        "id": "PSx9atu2YklI"
      }
    },
    {
      "cell_type": "markdown",
      "source": [
        "##### 3. Will the gained insights help creating a positive business impact?\n",
        "Are there any insights that lead to negative growth? Justify with specific reason."
      ],
      "metadata": {
        "id": "-JiQyfWJYklI"
      }
    },
    {
      "cell_type": "markdown",
      "source": [
        "Answer Here"
      ],
      "metadata": {
        "id": "BcBbebzrYklV"
      }
    },
    {
      "cell_type": "markdown",
      "source": [
        "#### Room_type"
      ],
      "metadata": {
        "id": "EM7whBJCYoAo"
      }
    },
    {
      "cell_type": "code",
      "source": [
        "# Chart - 3 visualization code\n",
        "df.room_type"
      ],
      "metadata": {
        "id": "t6GMdE67YoAp",
        "colab": {
          "base_uri": "https://localhost:8080/"
        },
        "outputId": "be863463-370c-4589-e819-d7c59e95d946"
      },
      "execution_count": null,
      "outputs": [
        {
          "output_type": "execute_result",
          "data": {
            "text/plain": [
              "0           Private room\n",
              "1        Entire home/apt\n",
              "2           Private room\n",
              "3        Entire home/apt\n",
              "4        Entire home/apt\n",
              "              ...       \n",
              "14879       Private room\n",
              "14880    Entire home/apt\n",
              "14881       Private room\n",
              "14882       Private room\n",
              "14883                NaN\n",
              "Name: room_type, Length: 14884, dtype: object"
            ]
          },
          "metadata": {},
          "execution_count": 24
        }
      ]
    },
    {
      "cell_type": "code",
      "source": [
        "df.room_type.value_counts()"
      ],
      "metadata": {
        "colab": {
          "base_uri": "https://localhost:8080/"
        },
        "id": "CaiOL1_Vnvpg",
        "outputId": "6e427804-20d7-4e48-b712-a7b5bb41fe80"
      },
      "execution_count": null,
      "outputs": [
        {
          "output_type": "execute_result",
          "data": {
            "text/plain": [
              "Entire home/apt    8478\n",
              "Private room       6191\n",
              "Shared room         214\n",
              "Name: room_type, dtype: int64"
            ]
          },
          "metadata": {},
          "execution_count": 25
        }
      ]
    },
    {
      "cell_type": "code",
      "source": [
        "df.room_type.value_counts().plot(kind='pie')"
      ],
      "metadata": {
        "colab": {
          "base_uri": "https://localhost:8080/"
        },
        "id": "X2GkqcKXn6of",
        "outputId": "5b757416-ddc8-4d05-aa2a-570681d84a7b"
      },
      "execution_count": null,
      "outputs": [
        {
          "output_type": "execute_result",
          "data": {
            "text/plain": [
              "<Axes: ylabel='room_type'>"
            ]
          },
          "metadata": {},
          "execution_count": 26
        },
        {
          "output_type": "display_data",
          "data": {
            "text/plain": [
              "<Figure size 640x480 with 1 Axes>"
            ],
            "image/png": "[encoded data removed]"
          },
          "metadata": {}
        }
      ]
    },
    {
      "cell_type": "markdown",
      "source": [
        "**In room_type**\n",
        "\n",
        "- Entire home/apt   : 12102\n",
        "- Private room       : 9610\n",
        "- Shared room        :  346"
      ],
      "metadata": {
        "id": "fqQNefL-oMJl"
      }
    },
    {
      "cell_type": "markdown",
      "source": [
        "##### 1. Why did you pick the specific chart?"
      ],
      "metadata": {
        "id": "fge-S5ZAYoAp"
      }
    },
    {
      "cell_type": "markdown",
      "source": [
        "In this chart, we presented which type of room people are more likely to book .\n",
        "\n",
        "\n"
      ],
      "metadata": {
        "id": "5dBItgRVYoAp"
      }
    },
    {
      "cell_type": "markdown",
      "source": [
        "##### 2. What is/are the insight(s) found from the chart?"
      ],
      "metadata": {
        "id": "85gYPyotYoAp"
      }
    },
    {
      "cell_type": "markdown",
      "source": [
        "From above anlysis, we can say that people are prefering Entire home/apt and Private room rather than shared room"
      ],
      "metadata": {
        "id": "4jstXR6OYoAp"
      }
    },
    {
      "cell_type": "markdown",
      "source": [
        "##### 3. Will the gained insights help creating a positive business impact?\n",
        "Are there any insights that lead to negative growth? Justify with specific reason."
      ],
      "metadata": {
        "id": "RoGjAbkUYoAp"
      }
    },
    {
      "cell_type": "markdown",
      "source": [
        "Here, we can see, that more people like to book Entire home/apt and Private room\n",
        "rather than shared room .\n",
        "\n",
        "Solution: We can increase the number of Entire home/apt and private rooms on our Website ."
      ],
      "metadata": {
        "id": "zfJ8IqMcYoAp"
      }
    },
    {
      "cell_type": "markdown",
      "source": [
        "#### Minimum Nights"
      ],
      "metadata": {
        "id": "4Of9eVA-YrdM"
      }
    },
    {
      "cell_type": "code",
      "source": [
        "# Chart - 4 visualization code\n",
        "df.minimum_nights"
      ],
      "metadata": {
        "id": "irlUoxc8YrdO",
        "colab": {
          "base_uri": "https://localhost:8080/"
        },
        "outputId": "6651ae6f-6120-4d0c-ce26-21682132984a"
      },
      "execution_count": null,
      "outputs": [
        {
          "output_type": "execute_result",
          "data": {
            "text/plain": [
              "0         1.0\n",
              "1         1.0\n",
              "2         3.0\n",
              "3         1.0\n",
              "4        10.0\n",
              "         ... \n",
              "14879     9.0\n",
              "14880     3.0\n",
              "14881    30.0\n",
              "14882    30.0\n",
              "14883     NaN\n",
              "Name: minimum_nights, Length: 14884, dtype: float64"
            ]
          },
          "metadata": {},
          "execution_count": 27
        }
      ]
    },
    {
      "cell_type": "code",
      "source": [
        "nights=df.minimum_nights.value_counts()\n",
        "nights"
      ],
      "metadata": {
        "colab": {
          "base_uri": "https://localhost:8080/"
        },
        "id": "RRsL6snVqS_n",
        "outputId": "1f56a962-3cae-4f92-e1d9-98d392f6028b"
      },
      "execution_count": null,
      "outputs": [
        {
          "output_type": "execute_result",
          "data": {
            "text/plain": [
              "1.0      3780\n",
              "2.0      3079\n",
              "3.0      2549\n",
              "5.0      1123\n",
              "4.0      1122\n",
              "         ... \n",
              "240.0       1\n",
              "122.0       1\n",
              "65.0        1\n",
              "44.0        1\n",
              "186.0       1\n",
              "Name: minimum_nights, Length: 82, dtype: int64"
            ]
          },
          "metadata": {},
          "execution_count": 28
        }
      ]
    },
    {
      "cell_type": "code",
      "source": [
        "min=nights[nights > 29]\n",
        "min"
      ],
      "metadata": {
        "colab": {
          "base_uri": "https://localhost:8080/"
        },
        "id": "x5VfzL0zrEEr",
        "outputId": "7104cfad-bf81-47ab-e1c7-ca04e4bed30c"
      },
      "execution_count": null,
      "outputs": [
        {
          "output_type": "execute_result",
          "data": {
            "text/plain": [
              "1.0     3780\n",
              "2.0     3079\n",
              "3.0     2549\n",
              "5.0     1123\n",
              "4.0     1122\n",
              "30.0    1037\n",
              "7.0      737\n",
              "6.0      272\n",
              "14.0     226\n",
              "10.0     182\n",
              "15.0      87\n",
              "20.0      70\n",
              "28.0      67\n",
              "21.0      50\n",
              "8.0       50\n",
              "31.0      47\n",
              "60.0      35\n",
              "29.0      33\n",
              "90.0      32\n",
              "12.0      30\n",
              "25.0      30\n",
              "Name: minimum_nights, dtype: int64"
            ]
          },
          "metadata": {},
          "execution_count": 29
        }
      ]
    },
    {
      "cell_type": "code",
      "source": [
        "sns.histplot(nights)"
      ],
      "metadata": {
        "colab": {
          "base_uri": "https://localhost:8080/"
        },
        "id": "BnFpAc3_qlSP",
        "outputId": "9650a336-7272-4e79-a5f2-ce17f10ce95b"
      },
      "execution_count": null,
      "outputs": [
        {
          "output_type": "execute_result",
          "data": {
            "text/plain": [
              "<Axes: xlabel='minimum_nights', ylabel='Count'>"
            ]
          },
          "metadata": {},
          "execution_count": 30
        },
        {
          "output_type": "display_data",
          "data": {
            "text/plain": [
              "<Figure size 640x480 with 1 Axes>"
            ],
            "image/png": "[encoded data removed]"
          },
          "metadata": {}
        }
      ]
    },
    {
      "cell_type": "markdown",
      "source": [
        "##### 1. Why did you pick the specific chart?"
      ],
      "metadata": {
        "id": "iky9q4vBYrdO"
      }
    },
    {
      "cell_type": "markdown",
      "source": [
        "\n",
        "To show the number of minimum nights that more clients are spend ."
      ],
      "metadata": {
        "id": "aJRCwT6DYrdO"
      }
    },
    {
      "cell_type": "markdown",
      "source": [
        "##### 2. What is/are the insight(s) found from the chart?"
      ],
      "metadata": {
        "id": "F6T5p64dYrdO"
      }
    },
    {
      "cell_type": "markdown",
      "source": [
        "Here, we can see that more customer are likely to spend 1 and 2 nights rather  more than that ."
      ],
      "metadata": {
        "id": "Xx8WAJvtYrdO"
      }
    },
    {
      "cell_type": "markdown",
      "source": [
        "#### latitude longitude"
      ],
      "metadata": {
        "id": "bamQiAODYuh1"
      }
    },
    {
      "cell_type": "code",
      "source": [
        "# Chart - 5 visualization code\n",
        "df.latitude"
      ],
      "metadata": {
        "id": "TIJwrbroYuh3",
        "colab": {
          "base_uri": "https://localhost:8080/"
        },
        "outputId": "1a113967-a051-4cb6-9341-9c5df191d23f"
      },
      "execution_count": null,
      "outputs": [
        {
          "output_type": "execute_result",
          "data": {
            "text/plain": [
              "0        40.64749\n",
              "1        40.75362\n",
              "2        40.80902\n",
              "3        40.68514\n",
              "4        40.79851\n",
              "           ...   \n",
              "14879    40.77189\n",
              "14880    40.82443\n",
              "14881    40.68906\n",
              "14882    40.69006\n",
              "14883         NaN\n",
              "Name: latitude, Length: 14884, dtype: float64"
            ]
          },
          "metadata": {},
          "execution_count": 31
        }
      ]
    },
    {
      "cell_type": "code",
      "source": [
        "df.longitude"
      ],
      "metadata": {
        "colab": {
          "base_uri": "https://localhost:8080/"
        },
        "id": "21f4k-0W-ELe",
        "outputId": "e969e51d-11bf-43c6-d5b8-60a62eeba528"
      },
      "execution_count": null,
      "outputs": [
        {
          "output_type": "execute_result",
          "data": {
            "text/plain": [
              "0       -73.97237\n",
              "1       -73.98377\n",
              "2       -73.94190\n",
              "3       -73.95976\n",
              "4       -73.94399\n",
              "           ...   \n",
              "14879   -73.95540\n",
              "14880   -73.95265\n",
              "14881   -73.97763\n",
              "14882   -73.98056\n",
              "14883         NaN\n",
              "Name: longitude, Length: 14884, dtype: float64"
            ]
          },
          "metadata": {},
          "execution_count": 32
        }
      ]
    },
    {
      "cell_type": "code",
      "source": [
        "sample_df=df.sample(int(0.1*len(df)))\n",
        "sns.scatterplot(x=sample_df.latitude,y=sample_df.longitude,size=0.001)"
      ],
      "metadata": {
        "colab": {
          "base_uri": "https://localhost:8080/"
        },
        "id": "ciAT4fPy-HXG",
        "outputId": "ab991aa6-d7af-424f-b228-7cb68d8765bd"
      },
      "execution_count": null,
      "outputs": [
        {
          "output_type": "execute_result",
          "data": {
            "text/plain": [
              "<Axes: xlabel='latitude', ylabel='longitude'>"
            ]
          },
          "metadata": {},
          "execution_count": 33
        },
        {
          "output_type": "display_data",
          "data": {
            "text/plain": [
              "<Figure size 640x480 with 1 Axes>"
            ],
            "image/png": "[encoded data removed]"
          },
          "metadata": {}
        }
      ]
    },
    {
      "cell_type": "code",
      "source": [
        "import folium\n",
        "from folium.plugins import HeatMap"
      ],
      "metadata": {
        "id": "jYWpGsuF-h_v"
      },
      "execution_count": null,
      "outputs": []
    },
    {
      "cell_type": "code",
      "source": [
        "lat_lan_pairs=list(zip(list(sample_df.latitude),list(sample_df.longitude)))\n",
        "lat_lan_pairs"
      ],
      "metadata": {
        "colab": {
          "base_uri": "https://localhost:8080/"
        },
        "id": "SC4Xjc_o-v5Q",
        "outputId": "20508ad4-3757-4850-ccdf-43c8b1750884"
      },
      "execution_count": null,
      "outputs": [
        {
          "output_type": "execute_result",
          "data": {
            "text/plain": [
              "[(40.69562, -73.93792),\n",
              " (40.80109, -73.96128),\n",
              " (40.77209, -73.95083),\n",
              " (40.67837, -73.95517),\n",
              " (40.7416, -73.90684),\n",
              " (40.70907, -73.96396),\n",
              " (40.6918, -73.9729),\n",
              " (40.74537, -73.97652),\n",
              " (40.72853, -73.95533),\n",
              " (40.8327, -73.94028),\n",
              " (40.72117, -73.98126),\n",
              " (40.69793, -73.92775),\n",
              " (40.72828, -73.98602),\n",
              " (40.73321, -73.95587),\n",
              " (40.75774, -73.99371),\n",
              " (40.67657, -73.84083),\n",
              " (40.72676, -73.95529),\n",
              " (40.77188, -73.91555),\n",
              " (40.655, -74.00676),\n",
              " (40.9008, -73.90639),\n",
              " (40.76859, -73.9872),\n",
              " (40.7034, -73.9296),\n",
              " (40.70564, -73.93646),\n",
              " (40.76197, -73.99308),\n",
              " (40.77208, -73.98907),\n",
              " (40.72774, -74.00004),\n",
              " (40.73268, -73.98551),\n",
              " (40.74417, -73.94964),\n",
              " (40.69223, -73.96879),\n",
              " (40.76096, -73.9672),\n",
              " (40.74092, -73.97817),\n",
              " (40.71886, -73.98497),\n",
              " (40.68015, -73.978),\n",
              " (40.58581, -73.9383),\n",
              " (40.72297, -73.97973),\n",
              " (40.77472, -73.90993),\n",
              " (40.72521, -74.00213),\n",
              " (40.73628, -73.98549),\n",
              " (40.6863, -73.91378),\n",
              " (40.70071, -73.92913),\n",
              " (40.77636, -73.95099),\n",
              " (40.67986, -73.9945),\n",
              " (40.65403, -73.95904),\n",
              " (40.74365, -73.91632),\n",
              " (40.8241, -73.95259),\n",
              " (40.81541, -73.94149),\n",
              " (40.6874, -73.94339),\n",
              " (40.71542, -73.95652),\n",
              " (40.82765, -73.94889),\n",
              " (40.79967, -73.95444),\n",
              " (40.7487, -73.99514),\n",
              " (40.80334, -73.94805),\n",
              " (40.81831, -73.93833),\n",
              " (40.76127, -73.99161),\n",
              " (40.72449, -73.95149),\n",
              " (40.74188, -73.99729),\n",
              " (40.71558, -73.93926),\n",
              " (40.85068, -73.93046),\n",
              " (40.88241, -73.83422),\n",
              " (40.71116, -73.94014),\n",
              " (40.72613, -73.93915),\n",
              " (40.72293, -73.99413),\n",
              " (40.76175, -73.99041),\n",
              " (40.68363, -73.96305),\n",
              " (40.69731, -73.92417),\n",
              " (40.73947, -73.98593),\n",
              " (40.77281, -73.95822),\n",
              " (40.81777, -73.95753),\n",
              " (40.74494, -73.9998),\n",
              " (40.6764, -73.96218),\n",
              " (40.80446, -73.96366),\n",
              " (40.69634, -73.97296),\n",
              " (40.71255, -73.94881),\n",
              " (40.70123, -73.91865),\n",
              " (40.65591, -73.95866),\n",
              " (40.61077, -74.06824),\n",
              " (40.74964, -73.99158),\n",
              " (40.75705, -73.99265),\n",
              " (40.73352, -73.85237),\n",
              " (40.70146, -73.92792),\n",
              " (40.76372, -73.97692),\n",
              " (40.68581, -73.95218),\n",
              " (40.73271, -73.98638),\n",
              " (40.6682, -73.94927),\n",
              " (40.74054, -73.97626),\n",
              " (40.65713, -73.9537),\n",
              " (40.8014, -73.95469),\n",
              " (40.75871, -73.91112),\n",
              " (40.7598, -73.96684),\n",
              " (40.78482, -73.95191),\n",
              " (40.6631, -73.98603),\n",
              " (40.78974, -73.97018),\n",
              " (40.84503, -73.93978),\n",
              " (40.72522, -73.94124),\n",
              " (40.8261, -73.95074),\n",
              " (40.71448, -73.99157),\n",
              " (40.71992, -73.98773),\n",
              " (40.68869, -73.98899),\n",
              " (40.78087, -73.97812),\n",
              " (40.6, -73.95612),\n",
              " (40.72625, -73.98173),\n",
              " (40.66065, -73.98817),\n",
              " (40.71471, -73.94045),\n",
              " (40.68316, -73.93906),\n",
              " (40.7091, -74.01286),\n",
              " (40.76293, -73.98981),\n",
              " (40.80196, -73.95261),\n",
              " (40.72245, -73.98527),\n",
              " (40.67998, -73.9452),\n",
              " (40.76247, -73.99294),\n",
              " (40.6435, -73.96208),\n",
              " (40.6774, -73.94888),\n",
              " (40.76039, -73.99002),\n",
              " (40.74961, -73.97846),\n",
              " (40.68989, -73.95428),\n",
              " (40.78622, -73.97586),\n",
              " (40.69964, -73.99299),\n",
              " (40.66864, -73.99484),\n",
              " (40.80091, -73.91449),\n",
              " (40.77823, -73.97637),\n",
              " (40.72352, -73.99498),\n",
              " (40.73737, -74.00591),\n",
              " (40.66893, -73.99404),\n",
              " (40.64573, -73.98013),\n",
              " (40.73485, -74.00637),\n",
              " (40.6458, -73.97097),\n",
              " (40.67679, -73.95639),\n",
              " (40.72322, -73.98283),\n",
              " (40.70022, -73.93032),\n",
              " (40.69023, -73.98086),\n",
              " (40.68379, -73.94648),\n",
              " (40.78147, -73.98315),\n",
              " (40.68337, -73.8431),\n",
              " (40.66145, -73.96005),\n",
              " (40.74726, -74.00213),\n",
              " (40.71561, -73.94835),\n",
              " (40.77018, -73.98643),\n",
              " (40.73695, -74.00572),\n",
              " (40.73789, -73.97493),\n",
              " (40.73158, -73.98303),\n",
              " (40.76625, -73.99387),\n",
              " (40.67993, -74.00688),\n",
              " (40.87207, -73.90193),\n",
              " (40.71198, -73.96114),\n",
              " (40.67859, -73.96076),\n",
              " (40.72795, -73.98539),\n",
              " (40.72105, -73.98519),\n",
              " (40.67106, -73.74833),\n",
              " (40.76751, -73.96309),\n",
              " (40.7041, -73.92476),\n",
              " (40.76309, -73.99155),\n",
              " (40.79826, -73.96113),\n",
              " (40.74873, -73.99557),\n",
              " (40.84098, -73.94085),\n",
              " (40.72904, -74.00116),\n",
              " (40.73371, -73.98576),\n",
              " (40.67343, -73.98338),\n",
              " (40.62419, -73.96287),\n",
              " (40.75624, -73.96417),\n",
              " (40.67886, -73.96802),\n",
              " (40.70997, -73.9647),\n",
              " (40.71657, -73.9597),\n",
              " (40.66773, -73.96144),\n",
              " (40.80394, -73.9506),\n",
              " (40.67785, -73.95217),\n",
              " (40.72057, -73.99976),\n",
              " (40.63682, -73.9676),\n",
              " (40.66882, -73.95396),\n",
              " (40.7131, -73.94422),\n",
              " (40.72671, -73.98437),\n",
              " (40.7941, -73.94045),\n",
              " (40.70098, -73.98211),\n",
              " (40.71154, -73.96112),\n",
              " (40.68902, -73.98632),\n",
              " (40.70862, -73.95432),\n",
              " (40.79791, -73.96951),\n",
              " (40.76236, -73.96642),\n",
              " (40.68879, -73.98127),\n",
              " (40.7109, -73.95236),\n",
              " (40.74342, -73.92635),\n",
              " (40.69585, -73.83098),\n",
              " (40.75529, -73.83043),\n",
              " (40.73971, -74.00221),\n",
              " (40.68403, -73.93641),\n",
              " (40.66953, -73.92686),\n",
              " (40.81344, -73.95007),\n",
              " (40.69276, -73.97061),\n",
              " (40.6857, -73.99183),\n",
              " (40.80307, -73.95048),\n",
              " (40.71914, -73.96477),\n",
              " (40.71074, -73.95429),\n",
              " (40.66226, -73.98956),\n",
              " (40.76871, -73.95479),\n",
              " (40.75537, -73.91648),\n",
              " (40.69309, -73.95921),\n",
              " (40.67319, -73.95987),\n",
              " (40.86789, -73.85999),\n",
              " (40.82639, -73.90363),\n",
              " (40.69088, -73.97307),\n",
              " (40.80562, -73.95978),\n",
              " (40.71131, -73.96813),\n",
              " (40.66948, -73.95157),\n",
              " (40.71128, -73.954),\n",
              " (40.67815, -73.91518),\n",
              " (40.76549, -73.92934),\n",
              " (40.67143, -73.97538),\n",
              " (40.79526, -73.9655),\n",
              " (40.74461, -74.00172),\n",
              " (40.7363, -74.00317),\n",
              " (40.6838, -73.99849),\n",
              " (40.69286, -73.96993),\n",
              " (40.68799, -73.97314),\n",
              " (40.72555, -73.94846),\n",
              " (40.76626, -73.93054),\n",
              " (40.76022, -73.9744),\n",
              " (40.6626, -73.96003),\n",
              " (40.66266, -73.98885),\n",
              " (40.80565, -73.94621),\n",
              " (40.68355, -73.94129),\n",
              " (40.68338, -73.98231),\n",
              " (40.68247, -73.97837),\n",
              " (40.67473, -73.94494),\n",
              " (40.8215, -73.95006),\n",
              " (40.7166, -73.96379),\n",
              " (40.68255, -73.96167),\n",
              " (40.83771, -73.94638),\n",
              " (40.78293, -73.97667),\n",
              " (40.86345, -73.92039),\n",
              " (40.72832, -73.99916),\n",
              " (40.69494, -73.95507),\n",
              " (40.76032, -73.99076),\n",
              " (40.69345, -73.93304),\n",
              " (40.59244, -73.95633),\n",
              " (40.6801, -73.92873),\n",
              " (40.68544, -73.93872),\n",
              " (40.76481, -73.93163),\n",
              " (40.76143, -73.99223),\n",
              " (40.72747, -73.98833),\n",
              " (40.81388, -73.95105),\n",
              " (40.77849, -73.98527),\n",
              " (40.8469, -73.94522),\n",
              " (40.72962, -73.98932),\n",
              " (40.67648, -73.9634),\n",
              " (40.80016, -73.96448),\n",
              " (40.6824, -73.98824),\n",
              " (40.72742, -73.98968),\n",
              " (40.66671, -73.94981),\n",
              " (40.77896, -73.97849),\n",
              " (40.82173, -73.95548),\n",
              " (40.71759, -73.9842),\n",
              " (40.71186, -73.96115),\n",
              " (40.72919, -73.94512),\n",
              " (40.62841, -73.92591),\n",
              " (40.70007, -73.99091),\n",
              " (40.68008, -73.99392),\n",
              " (40.66552, -73.99019),\n",
              " (40.7783, -73.98807),\n",
              " (40.65621, -73.95696),\n",
              " (40.75535, -73.92609),\n",
              " (40.74033, -74.00872),\n",
              " (40.75103, -73.98349),\n",
              " (40.70982, -73.9642),\n",
              " (40.77789, -73.95731),\n",
              " (40.76429, -73.95774),\n",
              " (40.76917, -73.98488),\n",
              " (40.68443, -73.96737),\n",
              " (40.83525, -73.9452),\n",
              " (40.72137, -73.97786),\n",
              " (40.71813, -73.99063),\n",
              " (40.79678, -73.96545),\n",
              " (40.72278, -73.98497),\n",
              " (40.71273, -73.95749),\n",
              " (40.72124, -73.93673),\n",
              " (40.72482, -73.98097),\n",
              " (40.78987, -73.94883),\n",
              " (40.71632, -73.88297),\n",
              " (40.71854, -74.00439),\n",
              " (40.69145, -73.93536),\n",
              " (40.68905, -73.92685),\n",
              " (40.71675, -73.99092),\n",
              " (40.84687, -73.94004),\n",
              " (40.7206, -73.87382),\n",
              " (40.77933, -73.94862),\n",
              " (40.70158, -73.92724),\n",
              " (40.66539, -73.96041),\n",
              " (40.75674, -73.99774),\n",
              " (40.67763, -73.95943),\n",
              " (40.72599, -73.94172),\n",
              " (40.76308, -73.99),\n",
              " (40.73296, -74.00235),\n",
              " (40.71741, -73.95555),\n",
              " (40.68356, -73.94042),\n",
              " (40.79295, -73.93997),\n",
              " (40.68735, -73.9196),\n",
              " (40.67621, -73.94913),\n",
              " (40.71765, -73.95189),\n",
              " (40.6553, -73.9607),\n",
              " (40.76832, -73.92346),\n",
              " (40.7631, -73.98753),\n",
              " (40.77792, -73.9539),\n",
              " (40.8046, -73.9654),\n",
              " (40.7252, -74.00279),\n",
              " (40.71818, -73.84944),\n",
              " (40.68249, -73.97139),\n",
              " (40.6922, -73.92399),\n",
              " (40.8002, -73.94079),\n",
              " (40.6681, -73.98319),\n",
              " (40.71915, -73.94061),\n",
              " (40.82884, -73.94868),\n",
              " (40.71061, -73.94971),\n",
              " (40.77877, -73.97872),\n",
              " (40.68968, -73.85219),\n",
              " (40.6101, -73.99591),\n",
              " (40.76166, -73.99675),\n",
              " (40.71962, -73.98434),\n",
              " (40.62637, -74.02989),\n",
              " (40.72693, -73.98521),\n",
              " (40.76389, -73.99072),\n",
              " (40.76118, -73.98535),\n",
              " (40.71254, -73.98535),\n",
              " (40.68177, -73.99393),\n",
              " (40.67939, -73.99398),\n",
              " (40.70365, -73.92711),\n",
              " (40.70163, -73.90867),\n",
              " (40.78587, -73.94764),\n",
              " (40.82505, -73.95294),\n",
              " (40.76444, -73.98728),\n",
              " (40.73194, -74.00241),\n",
              " (40.6641, -73.98036),\n",
              " (40.80014, -73.9637),\n",
              " (40.63777, -74.02497),\n",
              " (40.69213, -73.92371),\n",
              " (40.68234, -73.98088),\n",
              " (40.67689, -73.93967),\n",
              " (40.8506, -73.90231),\n",
              " (40.78073, -73.94976),\n",
              " (40.67767, -73.95162),\n",
              " (40.6798, -73.93908),\n",
              " (40.69315, -73.95998),\n",
              " (40.76163, -73.91783),\n",
              " (40.7337, -73.95427),\n",
              " (40.61135, -74.06356),\n",
              " (40.68411, -73.92079),\n",
              " (40.72858, -73.99951),\n",
              " (40.77924, -73.95405),\n",
              " (40.72578, -73.99998),\n",
              " (40.79823, -73.9326),\n",
              " (40.72853, -73.99914),\n",
              " (40.72987, -74.00082),\n",
              " (40.68698, -73.96572),\n",
              " (40.76371, -73.98204),\n",
              " (40.84405, -73.93796),\n",
              " (40.77054, -73.95497),\n",
              " (40.73923, -73.99827),\n",
              " (40.76404, -73.91174),\n",
              " (40.79442, -73.93433),\n",
              " (40.73858, -73.98882),\n",
              " (40.68549, -73.93532),\n",
              " (40.66258, -73.95205),\n",
              " (40.77103, -73.89461),\n",
              " (40.72401, -73.72901),\n",
              " (40.78148, -73.97869),\n",
              " (40.73776, -73.99996),\n",
              " (40.74463, -73.91918),\n",
              " (40.68768, -73.97611),\n",
              " (40.81387, -73.88797),\n",
              " (40.83174, -73.94686),\n",
              " (40.71726, -74.01134),\n",
              " (40.76304, -73.92777),\n",
              " (40.68034, -73.97321),\n",
              " (40.74064, -73.89956),\n",
              " (40.79254, -73.97531),\n",
              " (40.69334, -73.94608),\n",
              " (40.79665, -73.94824),\n",
              " (40.71097, -73.95886),\n",
              " (40.67665, -73.97094),\n",
              " (40.71905, -73.94937),\n",
              " (40.76021, -73.96157),\n",
              " (40.81333, -73.94194),\n",
              " (40.75145, -73.97162),\n",
              " (40.67851, -73.95566),\n",
              " (40.70545, -73.91929),\n",
              " (40.80738, -73.95855),\n",
              " (40.69297, -73.99758),\n",
              " (40.65758, -73.95866),\n",
              " (40.74501, -73.99725),\n",
              " (40.7095, -73.78828),\n",
              " (40.78583, -73.9768),\n",
              " (40.7484, -73.94651),\n",
              " (40.67542, -73.98142),\n",
              " (40.69424, -73.99313),\n",
              " (40.73075, -73.99265),\n",
              " (40.73669, -74.00375),\n",
              " (40.63013, -73.90809),\n",
              " (40.76132, -73.96612),\n",
              " (40.71295, -73.9623),\n",
              " (40.71234, -73.94085),\n",
              " (40.7484, -73.97298),\n",
              " (40.72428, -73.94348),\n",
              " (40.71364, -73.96427),\n",
              " (40.7576, -73.92134),\n",
              " (40.79903, -73.96451),\n",
              " (40.74181, -73.90783),\n",
              " (40.70788, -73.93889),\n",
              " (40.67677, -73.94804),\n",
              " (40.68817, -73.96852),\n",
              " (40.72172, -73.8881),\n",
              " (40.73294, -73.98282),\n",
              " (40.67659, -74.01551),\n",
              " (40.83436, -73.94735),\n",
              " (40.72268, -74.00269),\n",
              " (40.74077, -73.98085),\n",
              " (40.71323, -73.94866),\n",
              " (40.64307, -73.95455),\n",
              " (40.79793, -73.93612),\n",
              " (40.68581, -73.94689),\n",
              " (40.69902, -73.93102),\n",
              " (40.74819, -73.9856),\n",
              " (40.67487, -73.98459),\n",
              " (40.72982, -73.98316),\n",
              " (40.76206, -73.94904),\n",
              " (40.7069, -73.95467),\n",
              " (40.72255, -73.97813),\n",
              " (40.71702, -73.94339),\n",
              " (40.67998, -73.96743),\n",
              " (40.67729, -73.99164),\n",
              " (40.75643, -73.99046),\n",
              " (40.76355, -73.99391),\n",
              " (40.73303, -74.00118),\n",
              " (40.68003, -73.92094),\n",
              " (40.71991, -74.00641),\n",
              " (40.70431, -73.94528),\n",
              " (40.74611, -73.99209),\n",
              " (40.78419, -73.94851),\n",
              " (40.72771, -73.98172),\n",
              " (40.80739, -73.95159),\n",
              " (40.75873, -73.76244),\n",
              " (40.76559, -73.99221),\n",
              " (40.7456, -73.99852),\n",
              " (40.79733, -73.93955),\n",
              " (40.71697, -73.83396),\n",
              " (40.80419, -73.95582),\n",
              " (40.81622, -73.95885),\n",
              " (40.69081, -73.95627),\n",
              " (40.7802, -73.90913),\n",
              " (40.68833, -73.97606),\n",
              " (40.74573, -73.92261),\n",
              " (40.72347, -73.94199),\n",
              " (40.68914, -73.9776),\n",
              " (40.69545, -73.96796),\n",
              " (40.71062, -74.01537),\n",
              " (40.6863, -73.98572),\n",
              " (40.77648, -73.91595),\n",
              " (40.58426, -73.95949),\n",
              " (40.77497, -73.91425),\n",
              " (40.6815, -73.97309),\n",
              " (40.72367, -73.98131),\n",
              " (40.64802, -73.97095),\n",
              " (40.7252, -73.98261),\n",
              " (40.67138, -73.95577),\n",
              " (40.71023, -73.96665),\n",
              " (40.69437, -73.95841),\n",
              " (40.67786, -73.99871),\n",
              " (40.69333, -73.94184),\n",
              " (40.69947, -73.82795),\n",
              " (40.82446, -73.95274),\n",
              " (40.78674, -73.97243),\n",
              " (40.69022, -73.93077),\n",
              " (40.72696, -73.98406),\n",
              " (40.73376, -73.95443),\n",
              " (40.71845, -74.01183),\n",
              " (40.67731, -73.96402),\n",
              " (40.77672, -73.90878),\n",
              " (40.74128, -73.98428),\n",
              " (40.74262, -73.97945),\n",
              " (40.69418, -73.9677),\n",
              " (40.74673, -73.98667),\n",
              " (40.84764, -73.93875),\n",
              " (40.6465, -73.96066),\n",
              " (40.79826, -73.94145),\n",
              " (40.75283, -73.92915),\n",
              " (40.85081, -73.93118),\n",
              " (40.80302, -73.94477),\n",
              " (40.72828, -73.98801),\n",
              " (40.72297, -73.99539),\n",
              " (40.68459, -73.93985),\n",
              " (40.73085, -73.99421),\n",
              " (40.76602, -73.91742),\n",
              " (40.68775, -73.9521),\n",
              " (40.79994, -73.97001),\n",
              " (40.73016, -74.00259),\n",
              " (40.7254, -73.94136),\n",
              " (40.71596, -73.93938),\n",
              " (40.66974, -73.958),\n",
              " (40.80392, -73.94685),\n",
              " (40.68666, -73.91972),\n",
              " (40.70248, -73.93225),\n",
              " (40.86717, -73.91943),\n",
              " (40.68509, -73.93854),\n",
              " (40.68608, -73.92987),\n",
              " (40.71532, -73.94581),\n",
              " (40.68599, -73.95182),\n",
              " (40.71754, -73.96228),\n",
              " (40.7709, -73.95561),\n",
              " (40.70007, -73.94338),\n",
              " (40.78728, -73.94976),\n",
              " (40.63562, -74.0235),\n",
              " (40.73879, -73.97994),\n",
              " (40.83353, -73.94393),\n",
              " (40.73057, -73.98726),\n",
              " (40.71788, -73.98975),\n",
              " (40.76904, -73.95435),\n",
              " (40.76914, -73.92118),\n",
              " (40.76792, -73.91175),\n",
              " (40.69856, -73.94368),\n",
              " (40.69276, -73.9963),\n",
              " (40.7262, -73.97913),\n",
              " (40.71334, -73.99025),\n",
              " (40.73385, -73.95418),\n",
              " (40.756, -73.9205),\n",
              " (40.71577, -73.94604),\n",
              " (40.79651, -73.93184),\n",
              " (40.76455, -73.99297),\n",
              " (40.7241, -73.97992),\n",
              " (40.67708, -73.96649),\n",
              " (40.72797, -73.97787),\n",
              " (40.72652, -74.00266),\n",
              " (40.71934, -73.98196),\n",
              " (40.66347, -73.98438),\n",
              " (40.62578, -74.07356),\n",
              " (40.77231, -73.95588),\n",
              " (40.6845, -73.91193),\n",
              " (40.72808, -73.98763),\n",
              " (40.77274, -73.95732),\n",
              " (40.73369, -73.95854),\n",
              " (40.67579, -73.99968),\n",
              " (40.71762, -73.99328),\n",
              " (40.76881, -73.98832),\n",
              " (40.73689, -73.95488),\n",
              " (40.74314, -73.9957),\n",
              " (40.84309, -73.94127),\n",
              " (40.78158, -73.94808),\n",
              " (40.71362, -73.93561),\n",
              " (40.7105, -73.9438),\n",
              " (40.72691, -73.94802),\n",
              " (40.69414, -73.82538),\n",
              " (40.70969, -73.9592),\n",
              " (40.76415, -73.99067),\n",
              " (40.77804, -73.97611),\n",
              " (40.74612, -73.98948),\n",
              " (40.73763, -73.97284),\n",
              " (40.80489, -73.95171),\n",
              " (40.74361, -73.91662),\n",
              " (40.74423, -73.97742),\n",
              " (40.73377, -74.0057),\n",
              " (40.68171, -73.92085),\n",
              " (40.76374, -73.98872),\n",
              " (40.68194, -73.92757),\n",
              " (40.79802, -73.94003),\n",
              " (40.73158, -73.99254),\n",
              " (40.74773, -73.98079),\n",
              " (40.76838, -73.95481),\n",
              " (40.70949, -73.94221),\n",
              " (40.69207, -73.92312),\n",
              " (40.66388, -73.9905),\n",
              " (40.68215, -73.96121),\n",
              " (40.71314, -73.96719),\n",
              " (40.70663, -74.0117),\n",
              " (40.72545, -73.99492),\n",
              " (40.77139, -73.95766),\n",
              " (40.77643, -73.95086),\n",
              " (40.78728, -73.94579),\n",
              " (40.76254, -73.98712),\n",
              " (40.70234, -73.91849),\n",
              " (40.70437, -74.00952),\n",
              " (40.7962, -73.96156),\n",
              " (40.76542, -73.98081),\n",
              " (40.68995, -73.92844),\n",
              " (40.70978, -73.96854),\n",
              " (40.78859, -73.94715),\n",
              " (40.58851, -73.9558),\n",
              " (40.71526, -74.01044),\n",
              " (40.76956, -73.91787),\n",
              " (40.67847, -73.96694),\n",
              " (40.68732, -73.98254),\n",
              " (40.72485, -73.98349),\n",
              " (40.72891, -73.82588),\n",
              " (40.81757, -73.94709),\n",
              " (40.79512, -73.97092),\n",
              " (40.71969, -74.00876),\n",
              " (40.7016, -73.91868),\n",
              " (40.69588, -73.93944),\n",
              " (40.77439, -73.94965),\n",
              " (40.70336, -73.92416),\n",
              " (40.81056, -73.94627),\n",
              " (40.7151, -73.96037),\n",
              " (40.81813, -73.9398),\n",
              " (40.73557, -74.006),\n",
              " (40.68229, -73.91574),\n",
              " (40.80849, -73.9446),\n",
              " (40.68073, -73.96369),\n",
              " (40.75453, -73.96473),\n",
              " (40.80504, -73.96454),\n",
              " (40.80049, -73.95533),\n",
              " (40.71278, -73.96471),\n",
              " (40.57645, -74.01065),\n",
              " (40.71813, -73.98715),\n",
              " (40.71963, -73.98499),\n",
              " (40.72959, -73.98245),\n",
              " (40.71594, -73.95649),\n",
              " (40.67404, -74.01021),\n",
              " (40.81915, -73.93964),\n",
              " (40.75091, -73.99414),\n",
              " (40.74966, -73.98781),\n",
              " (40.66052, -73.9939),\n",
              " (40.64697, -73.96465),\n",
              " (40.80395, -73.95519),\n",
              " (40.83075, -73.93058),\n",
              " (40.77772, -73.98514),\n",
              " (40.72503, -73.97696),\n",
              " (40.86083, -73.92626),\n",
              " (40.7696, -73.95275),\n",
              " (40.67494, -73.95841),\n",
              " (40.81307, -73.93854),\n",
              " (40.66732, -73.98233),\n",
              " (40.71425, -73.84503),\n",
              " (40.68338, -73.95289),\n",
              " (40.76797, -73.92858),\n",
              " (40.76735, -73.81801),\n",
              " (40.71435, -73.98924),\n",
              " (40.76422, -73.93169),\n",
              " (40.80796, -73.95623),\n",
              " (40.67762, -73.9159),\n",
              " (40.64492, -73.99612),\n",
              " (40.71157, -73.9636),\n",
              " (40.72917, -73.94354),\n",
              " (40.71546, -73.9896),\n",
              " (40.8022, -73.95737),\n",
              " (40.80445, -73.9649),\n",
              " (40.71281, -73.9657),\n",
              " (40.77065, -73.95163),\n",
              " (40.73858, -74.00145),\n",
              " (40.70731, -73.94344),\n",
              " (40.70518, -73.89133),\n",
              " (40.69763, -73.93102),\n",
              " (40.7033, -73.94305),\n",
              " (40.72571, -73.98833),\n",
              " (40.72774, -73.97934),\n",
              " (40.67861, -73.9453),\n",
              " (40.68902, -73.9156),\n",
              " (40.72999, -73.98764),\n",
              " (40.66012, -73.98343),\n",
              " (40.67874, -73.96842),\n",
              " (40.71074, -73.96276),\n",
              " (40.7068, -73.93772),\n",
              " (40.68549, -73.94724),\n",
              " (40.70406, -74.01227),\n",
              " (40.83034, -73.94902),\n",
              " (40.67632, -73.99204),\n",
              " (40.68928, -73.95976),\n",
              " (40.82939, -73.86514),\n",
              " (40.64117, -73.96167),\n",
              " (40.69673, -73.97584),\n",
              " (40.82909, -73.94183),\n",
              " (40.69814, -73.92996),\n",
              " (40.7138, -73.94581),\n",
              " (40.69639, -73.91008),\n",
              " (40.74462, -73.98272),\n",
              " (40.82569, -73.94277),\n",
              " (40.70415, -74.00688),\n",
              " (40.68534, -73.95533),\n",
              " (40.78215, -73.98349),\n",
              " (40.62961, -73.9572),\n",
              " (40.73974, -73.99985),\n",
              " (40.74668, -73.89723),\n",
              " (40.71908, -74.00546),\n",
              " (40.73727, -74.00213),\n",
              " (40.77056, -73.92159),\n",
              " (40.79616, -73.97506),\n",
              " (40.7179, -73.95938),\n",
              " (40.73117, -73.98335),\n",
              " (40.73704, -74.01049),\n",
              " (40.7517, -73.89478),\n",
              " (40.70136, -73.91857),\n",
              " (40.77311, -73.98606),\n",
              " (40.72714, -73.97894),\n",
              " (40.77672, -73.91956),\n",
              " (40.69167, -73.92169),\n",
              " (40.67473, -73.96263),\n",
              " (40.78648, -73.9692),\n",
              " (40.70017, -73.92081),\n",
              " (40.66085, -73.98537),\n",
              " (40.69849, -73.92678),\n",
              " (40.69143, -73.93444),\n",
              " (40.76394, -73.99448),\n",
              " (40.76467, -73.99422),\n",
              " (40.68535, -73.95036),\n",
              " (40.79319, -73.94209),\n",
              " (40.81291, -73.90772),\n",
              " (40.88165, -73.85625),\n",
              " (40.73235, -73.98823),\n",
              " (40.77349, -73.92648),\n",
              " (40.79733, -73.9363),\n",
              " (40.77886, -73.98042),\n",
              " (40.72451, -73.98369),\n",
              " (40.73312, -74.0042),\n",
              " (40.76205, -73.9845),\n",
              " (40.71042, -73.94702),\n",
              " (40.7127, -73.94643),\n",
              " (40.76551, -73.98899),\n",
              " (40.65282, -73.97394),\n",
              " (40.70213, -73.9838),\n",
              " (40.80285, -73.95166),\n",
              " (40.68927, -73.98423),\n",
              " (40.70407, -73.93562),\n",
              " (40.68245, -73.91951),\n",
              " (40.68581, -73.84642),\n",
              " (40.71743, -73.99372),\n",
              " (40.72298, -73.98474),\n",
              " (40.71228, -73.94211),\n",
              " (40.72818, -73.9981),\n",
              " (40.68623, -73.98956),\n",
              " (40.74596, -73.98195),\n",
              " (40.76841, -73.95213),\n",
              " (40.68023, -73.91047),\n",
              " (40.84787, -73.93306),\n",
              " (40.67414, -73.95368),\n",
              " (40.74767, -73.94468),\n",
              " (40.73236, -74.00353),\n",
              " (40.72224, -73.99192),\n",
              " (40.67845, -73.99983),\n",
              " (40.77594, -73.91786),\n",
              " (40.68465, -73.91528),\n",
              " (40.69945, -73.90651),\n",
              " (40.70249, -73.91904),\n",
              " (40.74259, -74.00128),\n",
              " (40.73214, -74.00188),\n",
              " (40.68608, -73.92347),\n",
              " (40.72668, -73.94728),\n",
              " (40.75145, -73.9752),\n",
              " (40.74947, -73.91472),\n",
              " (40.81726, -73.94583),\n",
              " (40.81899, -73.94694),\n",
              " (40.68707, -73.91918),\n",
              " (40.66141, -73.9615),\n",
              " (40.74722, -74.00466),\n",
              " (40.80006, -73.96049),\n",
              " (40.68207, -73.93279),\n",
              " (40.71286, -73.98849),\n",
              " (40.75287, -73.97439),\n",
              " (40.83155, -73.94804),\n",
              " (40.7182, -73.99562),\n",
              " (40.77755, -73.90599),\n",
              " (40.73104, -73.99708),\n",
              " (40.69462, -73.80178),\n",
              " (40.74387, -73.98496),\n",
              " (40.68949, -73.91708),\n",
              " (40.67859, -73.99444),\n",
              " (40.73057, -73.95023),\n",
              " (40.77105, -73.95727),\n",
              " (40.7168, -73.94073),\n",
              " (40.73374, -74.00121),\n",
              " (40.74893, -73.99544),\n",
              " (40.67778, -73.9952),\n",
              " (40.68247, -73.94119),\n",
              " (40.70827, -73.92264),\n",
              " (40.72466, -73.99632),\n",
              " (40.71937, -73.99098),\n",
              " (40.68426, -73.95669),\n",
              " (40.74944, -73.99631),\n",
              " (40.69019, -73.91574),\n",
              " (40.79939, -73.96875),\n",
              " (40.73194, -73.98939),\n",
              " (40.76539, -73.97897),\n",
              " (40.72002, -73.9578),\n",
              " (40.64465, -74.01881),\n",
              " (40.7834, -73.97904),\n",
              " (40.66701, -73.98703),\n",
              " (40.78613, -73.9732),\n",
              " (40.67863, -73.99399),\n",
              " (40.7187, -73.95133),\n",
              " (40.75561, -73.96424),\n",
              " (40.66443, -73.98792),\n",
              " (40.68991, -73.93179),\n",
              " (40.72131, -73.98541),\n",
              " (40.72418, -73.94528),\n",
              " (40.67205, -73.75343),\n",
              " (40.6642, -73.99371),\n",
              " (40.71368, -73.94478),\n",
              " (40.78292, -73.97438),\n",
              " (40.70716, -73.89906),\n",
              " (40.70818, -73.92256),\n",
              " (40.72547, -74.01),\n",
              " (40.7359, -73.95799),\n",
              " (40.8186, -73.94413),\n",
              " (40.81052, -73.94008),\n",
              " (40.68762, -73.92318),\n",
              " (40.71385, -73.94156),\n",
              " (40.72217, -73.98419),\n",
              " (40.6895, -73.95279),\n",
              " (40.791, -73.9722),\n",
              " (40.65636, -73.97945),\n",
              " (40.72183, -73.94908),\n",
              " (40.77556, -73.9483),\n",
              " (40.65326, -73.95513),\n",
              " (40.80516, -73.94299),\n",
              " (40.66343, -73.99324),\n",
              " (40.6906, -73.99339),\n",
              " (40.72138, -73.98371),\n",
              " (40.78604, -73.97363),\n",
              " (40.71251, -73.947),\n",
              " (40.81968, -73.95353),\n",
              " (40.67415, -73.9163),\n",
              " (40.81321, -73.90259),\n",
              " (40.76576, -73.98383),\n",
              " (40.74369, -73.98153),\n",
              " (40.70854, -73.95281),\n",
              " (40.72116, -73.99124),\n",
              " (40.62787, -73.94276),\n",
              " (40.70174, -73.92662),\n",
              " (40.68542, -73.95184),\n",
              " (40.64637, -73.97863),\n",
              " (40.58804, -73.95674),\n",
              " (40.6642, -73.98435),\n",
              " (40.69551, -73.95075),\n",
              " (40.78882, -73.97945),\n",
              " (40.72509, -74.00304),\n",
              " (40.74513, -74.00076),\n",
              " (40.76169, -73.95682),\n",
              " (40.68707, -73.93247),\n",
              " (40.66632, -73.99013),\n",
              " (40.76417, -73.97704),\n",
              " (40.76129, -73.96869),\n",
              " (40.78866, -73.95461),\n",
              " (40.67456, -73.95151),\n",
              " (40.684, -73.98859),\n",
              " (40.82636, -73.92655),\n",
              " (40.72298, -73.94545),\n",
              " (40.76805, -73.95424),\n",
              " (40.67177, -73.95221),\n",
              " (40.61391, -73.99128),\n",
              " (40.68363, -73.98011),\n",
              " (40.73823, -74.00233),\n",
              " (40.69744, -73.90773),\n",
              " (40.64768, -73.95138),\n",
              " (40.65181, -73.97648),\n",
              " (40.77987, -73.91565),\n",
              " (40.81599, -73.94676),\n",
              " (40.71012, -74.01504),\n",
              " (40.71868, -73.99036),\n",
              " (40.67619, -73.94389),\n",
              " (40.63267, -73.96199),\n",
              " (40.74561, -73.88514),\n",
              " (40.69705, -73.97743),\n",
              " (40.71063, -73.99526),\n",
              " (40.71756, -73.95579),\n",
              " (40.76578, -73.86424),\n",
              " (40.79972, -73.96418),\n",
              " (40.78987, -73.9482),\n",
              " (40.72569, -73.94017),\n",
              " (40.69776, -73.90939),\n",
              " (40.72884, -73.98277),\n",
              " (40.78086, -73.95029),\n",
              " (40.69933, -73.99249),\n",
              " (40.79032, -73.94523),\n",
              " (40.75959, -73.90835),\n",
              " (40.81143, -73.94248),\n",
              " (40.65408, -73.87883),\n",
              " (40.81371, -73.95585),\n",
              " (40.74105, -74.00401),\n",
              " (40.69348, -73.95472),\n",
              " (40.76561, -73.99439),\n",
              " (40.80395, -73.96436),\n",
              " (40.74746, -73.91416),\n",
              " (40.6344, -73.8948),\n",
              " (40.75603, -73.99247),\n",
              " (40.83535, -73.94334),\n",
              " (40.68141, -73.95841),\n",
              " (40.70429, -73.98773),\n",
              " (40.77727, -73.95089),\n",
              " (40.70773, -73.9566),\n",
              " (40.73175, -73.98756),\n",
              " (40.80654, -73.95019),\n",
              " (40.81111, -73.95465),\n",
              " (40.70917, -74.0146),\n",
              " (40.64935, -73.96485),\n",
              " (40.82443, -73.93843),\n",
              " (40.73041, -74.00498),\n",
              " (40.68512, -73.95767),\n",
              " (40.72373, -73.99118),\n",
              " (40.73342, -74.00615),\n",
              " (40.74583, -73.90059),\n",
              " (40.66378, -73.97813),\n",
              " (40.75553, -73.9923),\n",
              " (40.7195, -73.99416),\n",
              " (40.74339, -73.99414),\n",
              " (40.72508, -73.94488),\n",
              " (40.80682, -73.95196),\n",
              " (40.76803, -73.98767),\n",
              " (40.71859, -73.95598),\n",
              " (40.80121, -73.95002),\n",
              " (40.81027, -73.94639),\n",
              " (40.72764, -74.00076),\n",
              " (40.68547, -73.78924),\n",
              " (40.75362, -73.98377),\n",
              " (40.72256, -73.99767),\n",
              " (40.64449, -73.97238),\n",
              " (40.67902, -73.94747),\n",
              " (40.64605, -73.89382),\n",
              " (40.67489, -73.91405),\n",
              " (40.69363, -73.9607),\n",
              " (40.69454, -73.94495),\n",
              " (40.7744, -73.95578),\n",
              " (40.73978, -73.92124),\n",
              " (40.73905, -74.0014),\n",
              " (40.74853, -73.95068),\n",
              " (40.71218, -73.95766),\n",
              " (40.69309, -73.97074),\n",
              " (40.68799, -73.91677),\n",
              " (40.75462, -73.88284),\n",
              " (40.71138, -73.95385),\n",
              " (40.85304, -73.93555),\n",
              " (40.83331, -73.91742),\n",
              " (40.80942, -73.93936),\n",
              " (40.66485, -73.98838),\n",
              " (40.64841, -73.96969),\n",
              " (40.73067, -73.98702),\n",
              " (40.711, -73.95403),\n",
              " (40.70448, -73.94208),\n",
              " (40.63132, -74.08799),\n",
              " (40.72027, -73.98565),\n",
              " (40.84448, -73.93978),\n",
              " (40.81611, -73.89909),\n",
              " (40.82863, -73.94358),\n",
              " (40.83779, -73.94328),\n",
              " (40.83559, -73.94552),\n",
              " (40.69627, -73.9345),\n",
              " (40.80776, -73.9654),\n",
              " (40.69034, -73.96675),\n",
              " (40.6842, -73.9177),\n",
              " (40.76288, -73.96084),\n",
              " (40.68753, -73.96002),\n",
              " (40.72307, -73.97911),\n",
              " (40.69493, -73.94161),\n",
              " (40.71413, -73.96596),\n",
              " (40.79228, -73.97414),\n",
              " (40.69998, -73.9413),\n",
              " (40.72143, -73.99427),\n",
              " (40.80164, -73.93922),\n",
              " (40.68864, -73.97669),\n",
              " (40.76709, -73.98577),\n",
              " (40.71981, -73.98701),\n",
              " (40.72537, -73.99054),\n",
              " (40.6648, -73.98044),\n",
              " (40.73721, -74.00973),\n",
              " (40.76498, -73.91765),\n",
              " (40.70762, -73.96764),\n",
              " (40.79169, -73.97498),\n",
              " (40.81045, -73.95961),\n",
              " (40.81198, -73.9437),\n",
              " (40.76198, -73.98718),\n",
              " (40.79407, -73.97679),\n",
              " (40.6413, -73.98233),\n",
              " (40.72587, -73.94122),\n",
              " (40.83113, -73.94597),\n",
              " (40.64372, -74.02066),\n",
              " (40.71707, -73.94708),\n",
              " (40.70763, -73.95177),\n",
              " (40.71328, -73.99315),\n",
              " (40.68366, -73.9247),\n",
              " (40.74059, -73.97953),\n",
              " (40.73425, -73.95506),\n",
              " (40.83482, -73.94617),\n",
              " (40.6947, -73.93481),\n",
              " (40.67131, -73.94979),\n",
              " (40.68631, -73.95575),\n",
              " (40.76188, -73.97193),\n",
              " (40.68589, -73.95759),\n",
              " (40.73282, -73.9578),\n",
              " (40.77929, -73.98513),\n",
              " (40.70074, -73.92333),\n",
              " (40.6924, -73.96029),\n",
              " (40.73122, -73.85302),\n",
              " (40.73105, -74.00541),\n",
              " (40.75916, -73.91427),\n",
              " (40.76236, -73.99261),\n",
              " (40.85041, -73.92645),\n",
              " (40.72438, -73.98782),\n",
              " (40.67937, -73.98404),\n",
              " (40.73464, -74.00225),\n",
              " (40.76109, -73.99417),\n",
              " (40.80546, -73.95221),\n",
              " (40.68626, -73.91324),\n",
              " (40.72171, -73.99053),\n",
              " (40.7813, -73.98319),\n",
              " (40.78911, -73.97396),\n",
              " (40.74085, -73.89022),\n",
              " (40.73711, -73.98985),\n",
              " (40.6883, -73.95375),\n",
              " (40.75437, -73.99334),\n",
              " ...]"
            ]
          },
          "metadata": {},
          "execution_count": 35
        }
      ]
    },
    {
      "cell_type": "code",
      "source": [
        "map=folium.Map()\n",
        "HeatMap(lat_lan_pairs).add_to(map)\n",
        "map"
      ],
      "metadata": {
        "colab": {
          "base_uri": "https://localhost:8080/"
        },
        "id": "rcn0bXlA_hZy",
        "outputId": "89b980d0-7ae4-4e1e-f595-30566b782664"
      },
      "execution_count": null,
      "outputs": [
        {
          "output_type": "execute_result",
          "data": {
            "text/plain": [
              "<folium.folium.Map at 0x7fab82d74490>"
            ],
            "text/html": [
              "<div style=\"width:100%;\"><div style=\"position:relative;width:100%;height:0;padding-bottom:60%;\"><span style=\"color:#565656\">Make this Notebook Trusted to load map: File -> Trust Notebook</span><iframe srcdoc=\"&lt;!DOCTYPE html&gt;\n",
              "&lt;html&gt;\n",
              "&lt;head&gt;\n",
              "    \n",
              "    &lt;meta http-equiv=&quot;content-type&quot; content=&quot;text/html; charset=UTF-8&quot; /&gt;\n",
              "    \n",
              "        &lt;script&gt;\n",
              "            L_NO_TOUCH = false;\n",
              "            L_DISABLE_3D = false;\n",
              "        &lt;/script&gt;\n",
              "    \n",
              "    &lt;style&gt;html, body {width: 100%;height: 100%;margin: 0;padding: 0;}&lt;/style&gt;\n",
              "    &lt;style&gt;#map {position:absolute;top:0;bottom:0;right:0;left:0;}&lt;/style&gt;\n",
              "    &lt;script src=&quot;https://cdn.jsdelivr.net/npm/leaflet@1.9.3/dist/leaflet.js&quot;&gt;&lt;/script&gt;\n",
              "    &lt;script src=&quot;https://code.jquery.com/jquery-1.12.4.min.js&quot;&gt;&lt;/script&gt;\n",
              "    &lt;script src=&quot;https://cdn.jsdelivr.net/npm/bootstrap@5.2.2/dist/js/bootstrap.bundle.min.js&quot;&gt;&lt;/script&gt;\n",
              "    &lt;script src=&quot;https://cdnjs.cloudflare.com/ajax/libs/Leaflet.awesome-markers/2.0.2/leaflet.awesome-markers.js&quot;&gt;&lt;/script&gt;\n",
              "    &lt;link rel=&quot;stylesheet&quot; href=&quot;https://cdn.jsdelivr.net/npm/leaflet@1.9.3/dist/leaflet.css&quot;/&gt;\n",
              "    &lt;link rel=&quot;stylesheet&quot; href=&quot;https://cdn.jsdelivr.net/npm/bootstrap@5.2.2/dist/css/bootstrap.min.css&quot;/&gt;\n",
              "    &lt;link rel=&quot;stylesheet&quot; href=&quot;https://netdna.bootstrapcdn.com/bootstrap/3.0.0/css/bootstrap.min.css&quot;/&gt;\n",
              "    &lt;link rel=&quot;stylesheet&quot; href=&quot;https://cdn.jsdelivr.net/npm/@fortawesome/fontawesome-free@6.2.0/css/all.min.css&quot;/&gt;\n",
              "    &lt;link rel=&quot;stylesheet&quot; href=&quot;https://cdnjs.cloudflare.com/ajax/libs/Leaflet.awesome-markers/2.0.2/leaflet.awesome-markers.css&quot;/&gt;\n",
              "    &lt;link rel=&quot;stylesheet&quot; href=&quot;https://cdn.jsdelivr.net/gh/python-visualization/folium/folium/templates/leaflet.awesome.rotate.min.css&quot;/&gt;\n",
              "    \n",
              "            &lt;meta name=&quot;viewport&quot; content=&quot;width=device-width,\n",
              "                initial-scale=1.0, maximum-scale=1.0, user-scalable=no&quot; /&gt;\n",
              "            &lt;style&gt;\n",
              "                #map_7488b94caeb114a1a353b2211e7c8606 {\n",
              "                    position: relative;\n",
              "                    width: 100.0%;\n",
              "                    height: 100.0%;\n",
              "                    left: 0.0%;\n",
              "                    top: 0.0%;\n",
              "                }\n",
              "                .leaflet-container { font-size: 1rem; }\n",
              "            &lt;/style&gt;\n",
              "        \n",
              "    &lt;script src=&quot;https://cdn.jsdelivr.net/gh/python-visualization/folium@main/folium/templates/leaflet_heat.min.js&quot;&gt;&lt;/script&gt;\n",
              "&lt;/head&gt;\n",
              "&lt;body&gt;\n",
              "    \n",
              "    \n",
              "            &lt;div class=&quot;folium-map&quot; id=&quot;map_7488b94caeb114a1a353b2211e7c8606&quot; &gt;&lt;/div&gt;\n",
              "        \n",
              "&lt;/body&gt;\n",
              "&lt;script&gt;\n",
              "    \n",
              "    \n",
              "            var map_7488b94caeb114a1a353b2211e7c8606 = L.map(\n",
              "                &quot;map_7488b94caeb114a1a353b2211e7c8606&quot;,\n",
              "                {\n",
              "                    center: [0, 0],\n",
              "                    crs: L.CRS.EPSG3857,\n",
              "                    zoom: 1,\n",
              "                    zoomControl: true,\n",
              "                    preferCanvas: false,\n",
              "                }\n",
              "            );\n",
              "\n",
              "            \n",
              "\n",
              "        \n",
              "    \n",
              "            var tile_layer_7becc25c0e4595c07e91f24f5f664a92 = L.tileLayer(\n",
              "                &quot;https://{s}.tile.openstreetmap.org/{z}/{x}/{y}.png&quot;,\n",
              "                {&quot;attribution&quot;: &quot;Data by \\u0026copy; \\u003ca target=\\&quot;_blank\\&quot; href=\\&quot;http://openstreetmap.org\\&quot;\\u003eOpenStreetMap\\u003c/a\\u003e, under \\u003ca target=\\&quot;_blank\\&quot; href=\\&quot;http://www.openstreetmap.org/copyright\\&quot;\\u003eODbL\\u003c/a\\u003e.&quot;, &quot;detectRetina&quot;: false, &quot;maxNativeZoom&quot;: 18, &quot;maxZoom&quot;: 18, &quot;minZoom&quot;: 0, &quot;noWrap&quot;: false, &quot;opacity&quot;: 1, &quot;subdomains&quot;: &quot;abc&quot;, &quot;tms&quot;: false}\n",
              "            ).addTo(map_7488b94caeb114a1a353b2211e7c8606);\n",
              "        \n",
              "    \n",
              "            var heat_map_0ae3e485297379b4bde35fe7653721ea = L.heatLayer(\n",
              "                [[40.69562, -73.93792], [40.80109, -73.96128], [40.77209, -73.95083], [40.67837, -73.95517], [40.7416, -73.90684], [40.70907, -73.96396], [40.6918, -73.9729], [40.74537, -73.97652], [40.72853, -73.95533], [40.8327, -73.94028], [40.72117, -73.98126], [40.69793, -73.92775], [40.72828, -73.98602], [40.73321, -73.95587], [40.75774, -73.99371], [40.67657, -73.84083], [40.72676, -73.95529], [40.77188, -73.91555], [40.655, -74.00676], [40.9008, -73.90639], [40.76859, -73.9872], [40.7034, -73.9296], [40.70564, -73.93646], [40.76197, -73.99308], [40.77208, -73.98907], [40.72774, -74.00004], [40.73268, -73.98551], [40.74417, -73.94964], [40.69223, -73.96879], [40.76096, -73.9672], [40.74092, -73.97817], [40.71886, -73.98497], [40.68015, -73.978], [40.58581, -73.9383], [40.72297, -73.97973], [40.77472, -73.90993], [40.72521, -74.00213], [40.73628, -73.98549], [40.6863, -73.91378], [40.70071, -73.92913], [40.77636, -73.95099], [40.67986, -73.9945], [40.65403, -73.95904], [40.74365, -73.91632], [40.8241, -73.95259], [40.81541, -73.94149], [40.6874, -73.94339], [40.71542, -73.95652], [40.82765, -73.94889], [40.79967, -73.95444], [40.7487, -73.99514], [40.80334, -73.94805], [40.81831, -73.93833], [40.76127, -73.99161], [40.72449, -73.95149], [40.74188, -73.99729], [40.71558, -73.93926], [40.85068, -73.93046], [40.88241, -73.83422], [40.71116, -73.94014], [40.72613, -73.93915], [40.72293, -73.99413], [40.76175, -73.99041], [40.68363, -73.96305], [40.69731, -73.92417], [40.73947, -73.98593], [40.77281, -73.95822], [40.81777, -73.95753], [40.74494, -73.9998], [40.6764, -73.96218], [40.80446, -73.96366], [40.69634, -73.97296], [40.71255, -73.94881], [40.70123, -73.91865], [40.65591, -73.95866], [40.61077, -74.06824], [40.74964, -73.99158], [40.75705, -73.99265], [40.73352, -73.85237], [40.70146, -73.92792], [40.76372, -73.97692], [40.68581, -73.95218], [40.73271, -73.98638], [40.6682, -73.94927], [40.74054, -73.97626], [40.65713, -73.9537], [40.8014, -73.95469], [40.75871, -73.91112], [40.7598, -73.96684], [40.78482, -73.95191], [40.6631, -73.98603], [40.78974, -73.97018], [40.84503, -73.93978], [40.72522, -73.94124], [40.8261, -73.95074], [40.71448, -73.99157], [40.71992, -73.98773], [40.68869, -73.98899], [40.78087, -73.97812], [40.6, -73.95612], [40.72625, -73.98173], [40.66065, -73.98817], [40.71471, -73.94045], [40.68316, -73.93906], [40.7091, -74.01286], [40.76293, -73.98981], [40.80196, -73.95261], [40.72245, -73.98527], [40.67998, -73.9452], [40.76247, -73.99294], [40.6435, -73.96208], [40.6774, -73.94888], [40.76039, -73.99002], [40.74961, -73.97846], [40.68989, -73.95428], [40.78622, -73.97586], [40.69964, -73.99299], [40.66864, -73.99484], [40.80091, -73.91449], [40.77823, -73.97637], [40.72352, -73.99498], [40.73737, -74.00591], [40.66893, -73.99404], [40.64573, -73.98013], [40.73485, -74.00637], [40.6458, -73.97097], [40.67679, -73.95639], [40.72322, -73.98283], [40.70022, -73.93032], [40.69023, -73.98086], [40.68379, -73.94648], [40.78147, -73.98315], [40.68337, -73.8431], [40.66145, -73.96005], [40.74726, -74.00213], [40.71561, -73.94835], [40.77018, -73.98643], [40.73695, -74.00572], [40.73789, -73.97493], [40.73158, -73.98303], [40.76625, -73.99387], [40.67993, -74.00688], [40.87207, -73.90193], [40.71198, -73.96114], [40.67859, -73.96076], [40.72795, -73.98539], [40.72105, -73.98519], [40.67106, -73.74833], [40.76751, -73.96309], [40.7041, -73.92476], [40.76309, -73.99155], [40.79826, -73.96113], [40.74873, -73.99557], [40.84098, -73.94085], [40.72904, -74.00116], [40.73371, -73.98576], [40.67343, -73.98338], [40.62419, -73.96287], [40.75624, -73.96417], [40.67886, -73.96802], [40.70997, -73.9647], [40.71657, -73.9597], [40.66773, -73.96144], [40.80394, -73.9506], [40.67785, -73.95217], [40.72057, -73.99976], [40.63682, -73.9676], [40.66882, -73.95396], [40.7131, -73.94422], [40.72671, -73.98437], [40.7941, -73.94045], [40.70098, -73.98211], [40.71154, -73.96112], [40.68902, -73.98632], [40.70862, -73.95432], [40.79791, -73.96951], [40.76236, -73.96642], [40.68879, -73.98127], [40.7109, -73.95236], [40.74342, -73.92635], [40.69585, -73.83098], [40.75529, -73.83043], [40.73971, -74.00221], [40.68403, -73.93641], [40.66953, -73.92686], [40.81344, -73.95007], [40.69276, -73.97061], [40.6857, -73.99183], [40.80307, -73.95048], [40.71914, -73.96477], [40.71074, -73.95429], [40.66226, -73.98956], [40.76871, -73.95479], [40.75537, -73.91648], [40.69309, -73.95921], [40.67319, -73.95987], [40.86789, -73.85999], [40.82639, -73.90363], [40.69088, -73.97307], [40.80562, -73.95978], [40.71131, -73.96813], [40.66948, -73.95157], [40.71128, -73.954], [40.67815, -73.91518], [40.76549, -73.92934], [40.67143, -73.97538], [40.79526, -73.9655], [40.74461, -74.00172], [40.7363, -74.00317], [40.6838, -73.99849], [40.69286, -73.96993], [40.68799, -73.97314], [40.72555, -73.94846], [40.76626, -73.93054], [40.76022, -73.9744], [40.6626, -73.96003], [40.66266, -73.98885], [40.80565, -73.94621], [40.68355, -73.94129], [40.68338, -73.98231], [40.68247, -73.97837], [40.67473, -73.94494], [40.8215, -73.95006], [40.7166, -73.96379], [40.68255, -73.96167], [40.83771, -73.94638], [40.78293, -73.97667], [40.86345, -73.92039], [40.72832, -73.99916], [40.69494, -73.95507], [40.76032, -73.99076], [40.69345, -73.93304], [40.59244, -73.95633], [40.6801, -73.92873], [40.68544, -73.93872], [40.76481, -73.93163], [40.76143, -73.99223], [40.72747, -73.98833], [40.81388, -73.95105], [40.77849, -73.98527], [40.8469, -73.94522], [40.72962, -73.98932], [40.67648, -73.9634], [40.80016, -73.96448], [40.6824, -73.98824], [40.72742, -73.98968], [40.66671, -73.94981], [40.77896, -73.97849], [40.82173, -73.95548], [40.71759, -73.9842], [40.71186, -73.96115], [40.72919, -73.94512], [40.62841, -73.92591], [40.70007, -73.99091], [40.68008, -73.99392], [40.66552, -73.99019], [40.7783, -73.98807], [40.65621, -73.95696], [40.75535, -73.92609], [40.74033, -74.00872], [40.75103, -73.98349], [40.70982, -73.9642], [40.77789, -73.95731], [40.76429, -73.95774], [40.76917, -73.98488], [40.68443, -73.96737], [40.83525, -73.9452], [40.72137, -73.97786], [40.71813, -73.99063], [40.79678, -73.96545], [40.72278, -73.98497], [40.71273, -73.95749], [40.72124, -73.93673], [40.72482, -73.98097], [40.78987, -73.94883], [40.71632, -73.88297], [40.71854, -74.00439], [40.69145, -73.93536], [40.68905, -73.92685], [40.71675, -73.99092], [40.84687, -73.94004], [40.7206, -73.87382], [40.77933, -73.94862], [40.70158, -73.92724], [40.66539, -73.96041], [40.75674, -73.99774], [40.67763, -73.95943], [40.72599, -73.94172], [40.76308, -73.99], [40.73296, -74.00235], [40.71741, -73.95555], [40.68356, -73.94042], [40.79295, -73.93997], [40.68735, -73.9196], [40.67621, -73.94913], [40.71765, -73.95189], [40.6553, -73.9607], [40.76832, -73.92346], [40.7631, -73.98753], [40.77792, -73.9539], [40.8046, -73.9654], [40.7252, -74.00279], [40.71818, -73.84944], [40.68249, -73.97139], [40.6922, -73.92399], [40.8002, -73.94079], [40.6681, -73.98319], [40.71915, -73.94061], [40.82884, -73.94868], [40.71061, -73.94971], [40.77877, -73.97872], [40.68968, -73.85219], [40.6101, -73.99591], [40.76166, -73.99675], [40.71962, -73.98434], [40.62637, -74.02989], [40.72693, -73.98521], [40.76389, -73.99072], [40.76118, -73.98535], [40.71254, -73.98535], [40.68177, -73.99393], [40.67939, -73.99398], [40.70365, -73.92711], [40.70163, -73.90867], [40.78587, -73.94764], [40.82505, -73.95294], [40.76444, -73.98728], [40.73194, -74.00241], [40.6641, -73.98036], [40.80014, -73.9637], [40.63777, -74.02497], [40.69213, -73.92371], [40.68234, -73.98088], [40.67689, -73.93967], [40.8506, -73.90231], [40.78073, -73.94976], [40.67767, -73.95162], [40.6798, -73.93908], [40.69315, -73.95998], [40.76163, -73.91783], [40.7337, -73.95427], [40.61135, -74.06356], [40.68411, -73.92079], [40.72858, -73.99951], [40.77924, -73.95405], [40.72578, -73.99998], [40.79823, -73.9326], [40.72853, -73.99914], [40.72987, -74.00082], [40.68698, -73.96572], [40.76371, -73.98204], [40.84405, -73.93796], [40.77054, -73.95497], [40.73923, -73.99827], [40.76404, -73.91174], [40.79442, -73.93433], [40.73858, -73.98882], [40.68549, -73.93532], [40.66258, -73.95205], [40.77103, -73.89461], [40.72401, -73.72901], [40.78148, -73.97869], [40.73776, -73.99996], [40.74463, -73.91918], [40.68768, -73.97611], [40.81387, -73.88797], [40.83174, -73.94686], [40.71726, -74.01134], [40.76304, -73.92777], [40.68034, -73.97321], [40.74064, -73.89956], [40.79254, -73.97531], [40.69334, -73.94608], [40.79665, -73.94824], [40.71097, -73.95886], [40.67665, -73.97094], [40.71905, -73.94937], [40.76021, -73.96157], [40.81333, -73.94194], [40.75145, -73.97162], [40.67851, -73.95566], [40.70545, -73.91929], [40.80738, -73.95855], [40.69297, -73.99758], [40.65758, -73.95866], [40.74501, -73.99725], [40.7095, -73.78828], [40.78583, -73.9768], [40.7484, -73.94651], [40.67542, -73.98142], [40.69424, -73.99313], [40.73075, -73.99265], [40.73669, -74.00375], [40.63013, -73.90809], [40.76132, -73.96612], [40.71295, -73.9623], [40.71234, -73.94085], [40.7484, -73.97298], [40.72428, -73.94348], [40.71364, -73.96427], [40.7576, -73.92134], [40.79903, -73.96451], [40.74181, -73.90783], [40.70788, -73.93889], [40.67677, -73.94804], [40.68817, -73.96852], [40.72172, -73.8881], [40.73294, -73.98282], [40.67659, -74.01551], [40.83436, -73.94735], [40.72268, -74.00269], [40.74077, -73.98085], [40.71323, -73.94866], [40.64307, -73.95455], [40.79793, -73.93612], [40.68581, -73.94689], [40.69902, -73.93102], [40.74819, -73.9856], [40.67487, -73.98459], [40.72982, -73.98316], [40.76206, -73.94904], [40.7069, -73.95467], [40.72255, -73.97813], [40.71702, -73.94339], [40.67998, -73.96743], [40.67729, -73.99164], [40.75643, -73.99046], [40.76355, -73.99391], [40.73303, -74.00118], [40.68003, -73.92094], [40.71991, -74.00641], [40.70431, -73.94528], [40.74611, -73.99209], [40.78419, -73.94851], [40.72771, -73.98172], [40.80739, -73.95159], [40.75873, -73.76244], [40.76559, -73.99221], [40.7456, -73.99852], [40.79733, -73.93955], [40.71697, -73.83396], [40.80419, -73.95582], [40.81622, -73.95885], [40.69081, -73.95627], [40.7802, -73.90913], [40.68833, -73.97606], [40.74573, -73.92261], [40.72347, -73.94199], [40.68914, -73.9776], [40.69545, -73.96796], [40.71062, -74.01537], [40.6863, -73.98572], [40.77648, -73.91595], [40.58426, -73.95949], [40.77497, -73.91425], [40.6815, -73.97309], [40.72367, -73.98131], [40.64802, -73.97095], [40.7252, -73.98261], [40.67138, -73.95577], [40.71023, -73.96665], [40.69437, -73.95841], [40.67786, -73.99871], [40.69333, -73.94184], [40.69947, -73.82795], [40.82446, -73.95274], [40.78674, -73.97243], [40.69022, -73.93077], [40.72696, -73.98406], [40.73376, -73.95443], [40.71845, -74.01183], [40.67731, -73.96402], [40.77672, -73.90878], [40.74128, -73.98428], [40.74262, -73.97945], [40.69418, -73.9677], [40.74673, -73.98667], [40.84764, -73.93875], [40.6465, -73.96066], [40.79826, -73.94145], [40.75283, -73.92915], [40.85081, -73.93118], [40.80302, -73.94477], [40.72828, -73.98801], [40.72297, -73.99539], [40.68459, -73.93985], [40.73085, -73.99421], [40.76602, -73.91742], [40.68775, -73.9521], [40.79994, -73.97001], [40.73016, -74.00259], [40.7254, -73.94136], [40.71596, -73.93938], [40.66974, -73.958], [40.80392, -73.94685], [40.68666, -73.91972], [40.70248, -73.93225], [40.86717, -73.91943], [40.68509, -73.93854], [40.68608, -73.92987], [40.71532, -73.94581], [40.68599, -73.95182], [40.71754, -73.96228], [40.7709, -73.95561], [40.70007, -73.94338], [40.78728, -73.94976], [40.63562, -74.0235], [40.73879, -73.97994], [40.83353, -73.94393], [40.73057, -73.98726], [40.71788, -73.98975], [40.76904, -73.95435], [40.76914, -73.92118], [40.76792, -73.91175], [40.69856, -73.94368], [40.69276, -73.9963], [40.7262, -73.97913], [40.71334, -73.99025], [40.73385, -73.95418], [40.756, -73.9205], [40.71577, -73.94604], [40.79651, -73.93184], [40.76455, -73.99297], [40.7241, -73.97992], [40.67708, -73.96649], [40.72797, -73.97787], [40.72652, -74.00266], [40.71934, -73.98196], [40.66347, -73.98438], [40.62578, -74.07356], [40.77231, -73.95588], [40.6845, -73.91193], [40.72808, -73.98763], [40.77274, -73.95732], [40.73369, -73.95854], [40.67579, -73.99968], [40.71762, -73.99328], [40.76881, -73.98832], [40.73689, -73.95488], [40.74314, -73.9957], [40.84309, -73.94127], [40.78158, -73.94808], [40.71362, -73.93561], [40.7105, -73.9438], [40.72691, -73.94802], [40.69414, -73.82538], [40.70969, -73.9592], [40.76415, -73.99067], [40.77804, -73.97611], [40.74612, -73.98948], [40.73763, -73.97284], [40.80489, -73.95171], [40.74361, -73.91662], [40.74423, -73.97742], [40.73377, -74.0057], [40.68171, -73.92085], [40.76374, -73.98872], [40.68194, -73.92757], [40.79802, -73.94003], [40.73158, -73.99254], [40.74773, -73.98079], [40.76838, -73.95481], [40.70949, -73.94221], [40.69207, -73.92312], [40.66388, -73.9905], [40.68215, -73.96121], [40.71314, -73.96719], [40.70663, -74.0117], [40.72545, -73.99492], [40.77139, -73.95766], [40.77643, -73.95086], [40.78728, -73.94579], [40.76254, -73.98712], [40.70234, -73.91849], [40.70437, -74.00952], [40.7962, -73.96156], [40.76542, -73.98081], [40.68995, -73.92844], [40.70978, -73.96854], [40.78859, -73.94715], [40.58851, -73.9558], [40.71526, -74.01044], [40.76956, -73.91787], [40.67847, -73.96694], [40.68732, -73.98254], [40.72485, -73.98349], [40.72891, -73.82588], [40.81757, -73.94709], [40.79512, -73.97092], [40.71969, -74.00876], [40.7016, -73.91868], [40.69588, -73.93944], [40.77439, -73.94965], [40.70336, -73.92416], [40.81056, -73.94627], [40.7151, -73.96037], [40.81813, -73.9398], [40.73557, -74.006], [40.68229, -73.91574], [40.80849, -73.9446], [40.68073, -73.96369], [40.75453, -73.96473], [40.80504, -73.96454], [40.80049, -73.95533], [40.71278, -73.96471], [40.57645, -74.01065], [40.71813, -73.98715], [40.71963, -73.98499], [40.72959, -73.98245], [40.71594, -73.95649], [40.67404, -74.01021], [40.81915, -73.93964], [40.75091, -73.99414], [40.74966, -73.98781], [40.66052, -73.9939], [40.64697, -73.96465], [40.80395, -73.95519], [40.83075, -73.93058], [40.77772, -73.98514], [40.72503, -73.97696], [40.86083, -73.92626], [40.7696, -73.95275], [40.67494, -73.95841], [40.81307, -73.93854], [40.66732, -73.98233], [40.71425, -73.84503], [40.68338, -73.95289], [40.76797, -73.92858], [40.76735, -73.81801], [40.71435, -73.98924], [40.76422, -73.93169], [40.80796, -73.95623], [40.67762, -73.9159], [40.64492, -73.99612], [40.71157, -73.9636], [40.72917, -73.94354], [40.71546, -73.9896], [40.8022, -73.95737], [40.80445, -73.9649], [40.71281, -73.9657], [40.77065, -73.95163], [40.73858, -74.00145], [40.70731, -73.94344], [40.70518, -73.89133], [40.69763, -73.93102], [40.7033, -73.94305], [40.72571, -73.98833], [40.72774, -73.97934], [40.67861, -73.9453], [40.68902, -73.9156], [40.72999, -73.98764], [40.66012, -73.98343], [40.67874, -73.96842], [40.71074, -73.96276], [40.7068, -73.93772], [40.68549, -73.94724], [40.70406, -74.01227], [40.83034, -73.94902], [40.67632, -73.99204], [40.68928, -73.95976], [40.82939, -73.86514], [40.64117, -73.96167], [40.69673, -73.97584], [40.82909, -73.94183], [40.69814, -73.92996], [40.7138, -73.94581], [40.69639, -73.91008], [40.74462, -73.98272], [40.82569, -73.94277], [40.70415, -74.00688], [40.68534, -73.95533], [40.78215, -73.98349], [40.62961, -73.9572], [40.73974, -73.99985], [40.74668, -73.89723], [40.71908, -74.00546], [40.73727, -74.00213], [40.77056, -73.92159], [40.79616, -73.97506], [40.7179, -73.95938], [40.73117, -73.98335], [40.73704, -74.01049], [40.7517, -73.89478], [40.70136, -73.91857], [40.77311, -73.98606], [40.72714, -73.97894], [40.77672, -73.91956], [40.69167, -73.92169], [40.67473, -73.96263], [40.78648, -73.9692], [40.70017, -73.92081], [40.66085, -73.98537], [40.69849, -73.92678], [40.69143, -73.93444], [40.76394, -73.99448], [40.76467, -73.99422], [40.68535, -73.95036], [40.79319, -73.94209], [40.81291, -73.90772], [40.88165, -73.85625], [40.73235, -73.98823], [40.77349, -73.92648], [40.79733, -73.9363], [40.77886, -73.98042], [40.72451, -73.98369], [40.73312, -74.0042], [40.76205, -73.9845], [40.71042, -73.94702], [40.7127, -73.94643], [40.76551, -73.98899], [40.65282, -73.97394], [40.70213, -73.9838], [40.80285, -73.95166], [40.68927, -73.98423], [40.70407, -73.93562], [40.68245, -73.91951], [40.68581, -73.84642], [40.71743, -73.99372], [40.72298, -73.98474], [40.71228, -73.94211], [40.72818, -73.9981], [40.68623, -73.98956], [40.74596, -73.98195], [40.76841, -73.95213], [40.68023, -73.91047], [40.84787, -73.93306], [40.67414, -73.95368], [40.74767, -73.94468], [40.73236, -74.00353], [40.72224, -73.99192], [40.67845, -73.99983], [40.77594, -73.91786], [40.68465, -73.91528], [40.69945, -73.90651], [40.70249, -73.91904], [40.74259, -74.00128], [40.73214, -74.00188], [40.68608, -73.92347], [40.72668, -73.94728], [40.75145, -73.9752], [40.74947, -73.91472], [40.81726, -73.94583], [40.81899, -73.94694], [40.68707, -73.91918], [40.66141, -73.9615], [40.74722, -74.00466], [40.80006, -73.96049], [40.68207, -73.93279], [40.71286, -73.98849], [40.75287, -73.97439], [40.83155, -73.94804], [40.7182, -73.99562], [40.77755, -73.90599], [40.73104, -73.99708], [40.69462, -73.80178], [40.74387, -73.98496], [40.68949, -73.91708], [40.67859, -73.99444], [40.73057, -73.95023], [40.77105, -73.95727], [40.7168, -73.94073], [40.73374, -74.00121], [40.74893, -73.99544], [40.67778, -73.9952], [40.68247, -73.94119], [40.70827, -73.92264], [40.72466, -73.99632], [40.71937, -73.99098], [40.68426, -73.95669], [40.74944, -73.99631], [40.69019, -73.91574], [40.79939, -73.96875], [40.73194, -73.98939], [40.76539, -73.97897], [40.72002, -73.9578], [40.64465, -74.01881], [40.7834, -73.97904], [40.66701, -73.98703], [40.78613, -73.9732], [40.67863, -73.99399], [40.7187, -73.95133], [40.75561, -73.96424], [40.66443, -73.98792], [40.68991, -73.93179], [40.72131, -73.98541], [40.72418, -73.94528], [40.67205, -73.75343], [40.6642, -73.99371], [40.71368, -73.94478], [40.78292, -73.97438], [40.70716, -73.89906], [40.70818, -73.92256], [40.72547, -74.01], [40.7359, -73.95799], [40.8186, -73.94413], [40.81052, -73.94008], [40.68762, -73.92318], [40.71385, -73.94156], [40.72217, -73.98419], [40.6895, -73.95279], [40.791, -73.9722], [40.65636, -73.97945], [40.72183, -73.94908], [40.77556, -73.9483], [40.65326, -73.95513], [40.80516, -73.94299], [40.66343, -73.99324], [40.6906, -73.99339], [40.72138, -73.98371], [40.78604, -73.97363], [40.71251, -73.947], [40.81968, -73.95353], [40.67415, -73.9163], [40.81321, -73.90259], [40.76576, -73.98383], [40.74369, -73.98153], [40.70854, -73.95281], [40.72116, -73.99124], [40.62787, -73.94276], [40.70174, -73.92662], [40.68542, -73.95184], [40.64637, -73.97863], [40.58804, -73.95674], [40.6642, -73.98435], [40.69551, -73.95075], [40.78882, -73.97945], [40.72509, -74.00304], [40.74513, -74.00076], [40.76169, -73.95682], [40.68707, -73.93247], [40.66632, -73.99013], [40.76417, -73.97704], [40.76129, -73.96869], [40.78866, -73.95461], [40.67456, -73.95151], [40.684, -73.98859], [40.82636, -73.92655], [40.72298, -73.94545], [40.76805, -73.95424], [40.67177, -73.95221], [40.61391, -73.99128], [40.68363, -73.98011], [40.73823, -74.00233], [40.69744, -73.90773], [40.64768, -73.95138], [40.65181, -73.97648], [40.77987, -73.91565], [40.81599, -73.94676], [40.71012, -74.01504], [40.71868, -73.99036], [40.67619, -73.94389], [40.63267, -73.96199], [40.74561, -73.88514], [40.69705, -73.97743], [40.71063, -73.99526], [40.71756, -73.95579], [40.76578, -73.86424], [40.79972, -73.96418], [40.78987, -73.9482], [40.72569, -73.94017], [40.69776, -73.90939], [40.72884, -73.98277], [40.78086, -73.95029], [40.69933, -73.99249], [40.79032, -73.94523], [40.75959, -73.90835], [40.81143, -73.94248], [40.65408, -73.87883], [40.81371, -73.95585], [40.74105, -74.00401], [40.69348, -73.95472], [40.76561, -73.99439], [40.80395, -73.96436], [40.74746, -73.91416], [40.6344, -73.8948], [40.75603, -73.99247], [40.83535, -73.94334], [40.68141, -73.95841], [40.70429, -73.98773], [40.77727, -73.95089], [40.70773, -73.9566], [40.73175, -73.98756], [40.80654, -73.95019], [40.81111, -73.95465], [40.70917, -74.0146], [40.64935, -73.96485], [40.82443, -73.93843], [40.73041, -74.00498], [40.68512, -73.95767], [40.72373, -73.99118], [40.73342, -74.00615], [40.74583, -73.90059], [40.66378, -73.97813], [40.75553, -73.9923], [40.7195, -73.99416], [40.74339, -73.99414], [40.72508, -73.94488], [40.80682, -73.95196], [40.76803, -73.98767], [40.71859, -73.95598], [40.80121, -73.95002], [40.81027, -73.94639], [40.72764, -74.00076], [40.68547, -73.78924], [40.75362, -73.98377], [40.72256, -73.99767], [40.64449, -73.97238], [40.67902, -73.94747], [40.64605, -73.89382], [40.67489, -73.91405], [40.69363, -73.9607], [40.69454, -73.94495], [40.7744, -73.95578], [40.73978, -73.92124], [40.73905, -74.0014], [40.74853, -73.95068], [40.71218, -73.95766], [40.69309, -73.97074], [40.68799, -73.91677], [40.75462, -73.88284], [40.71138, -73.95385], [40.85304, -73.93555], [40.83331, -73.91742], [40.80942, -73.93936], [40.66485, -73.98838], [40.64841, -73.96969], [40.73067, -73.98702], [40.711, -73.95403], [40.70448, -73.94208], [40.63132, -74.08799], [40.72027, -73.98565], [40.84448, -73.93978], [40.81611, -73.89909], [40.82863, -73.94358], [40.83779, -73.94328], [40.83559, -73.94552], [40.69627, -73.9345], [40.80776, -73.9654], [40.69034, -73.96675], [40.6842, -73.9177], [40.76288, -73.96084], [40.68753, -73.96002], [40.72307, -73.97911], [40.69493, -73.94161], [40.71413, -73.96596], [40.79228, -73.97414], [40.69998, -73.9413], [40.72143, -73.99427], [40.80164, -73.93922], [40.68864, -73.97669], [40.76709, -73.98577], [40.71981, -73.98701], [40.72537, -73.99054], [40.6648, -73.98044], [40.73721, -74.00973], [40.76498, -73.91765], [40.70762, -73.96764], [40.79169, -73.97498], [40.81045, -73.95961], [40.81198, -73.9437], [40.76198, -73.98718], [40.79407, -73.97679], [40.6413, -73.98233], [40.72587, -73.94122], [40.83113, -73.94597], [40.64372, -74.02066], [40.71707, -73.94708], [40.70763, -73.95177], [40.71328, -73.99315], [40.68366, -73.9247], [40.74059, -73.97953], [40.73425, -73.95506], [40.83482, -73.94617], [40.6947, -73.93481], [40.67131, -73.94979], [40.68631, -73.95575], [40.76188, -73.97193], [40.68589, -73.95759], [40.73282, -73.9578], [40.77929, -73.98513], [40.70074, -73.92333], [40.6924, -73.96029], [40.73122, -73.85302], [40.73105, -74.00541], [40.75916, -73.91427], [40.76236, -73.99261], [40.85041, -73.92645], [40.72438, -73.98782], [40.67937, -73.98404], [40.73464, -74.00225], [40.76109, -73.99417], [40.80546, -73.95221], [40.68626, -73.91324], [40.72171, -73.99053], [40.7813, -73.98319], [40.78911, -73.97396], [40.74085, -73.89022], [40.73711, -73.98985], [40.6883, -73.95375], [40.75437, -73.99334], [40.81055, -73.95549], [40.65343, -73.95175], [40.82094, -73.95745], [40.73284, -73.95822], [40.64791, -73.97904], [40.67434, -73.95762], [40.6882, -73.90598], [40.7278, -73.97997], [40.71337, -73.9642], [40.68698, -73.91861], [40.72527, -73.95016], [40.70679, -73.91692], [40.74364, -73.98303], [40.67705, -73.94925], [40.71338, -73.95738], [40.71616, -73.94352], [40.81736, -73.93921], [40.68313, -73.9413], [40.65923, -73.961], [40.76035, -73.96133], [40.77679, -73.9212], [40.71003, -73.96097], [40.80302, -73.93476], [40.70213, -73.91472], [40.64905, -73.96799], [40.6586, -73.96104], [40.68701, -73.95412], [40.7662, -73.98321], [40.67139, -73.94], [40.63177, -73.96341], [40.79435, -73.9745], [40.83434, -73.94027], [40.7937, -73.9659], [40.7444, -73.9994], [40.69342, -73.91116], [40.79951, -73.95257], [40.65685, -73.95287], [40.67635, -73.89124], [40.76552, -73.97738], [40.70765, -74.00761], [40.8294, -73.94695], [40.68927, -73.93035], [40.79279, -73.97131], [40.70668, -74.00913], [40.71703, -73.98612], [40.82731, -73.91632], [40.67128, -73.97863], [40.67317, -73.97676], [40.75251, -73.97262], [40.78558, -73.9696], [40.67621, -73.97238], [40.79779, -73.93648], [40.68497, -73.95592], [40.8014, -73.94361], [40.67731, -73.96683], [40.82349, -73.94193], [40.66959, -73.95718], [40.7203, -73.98698], [40.7532, -73.96711], [40.65373, -73.95535], [40.75706, -73.91834], [40.78164, -73.94717], [40.66842, -73.98659], [40.82411, -73.94934], [40.77108, -73.95967], [40.73172, -73.98874], [40.8179, -73.94319], [40.72714, -73.99581], [40.72304, -73.97923], [40.58587, -73.81652], [40.72631, -73.94127], [40.74635, -73.99604], [40.71686, -73.98346], [40.85029, -73.93645], [40.72414, -73.95355], [40.74441, -73.99915], [40.79952, -73.93502], [40.82434, -73.93957], [40.73212, -74.01051], [40.69351, -73.94011], [40.68854, -73.99533], [40.85658, -73.92656], [40.63612, -73.946], [40.84002, -73.9385], [40.76285, -73.99159], [40.72411, -73.99865], [40.71244, -73.98756], [40.74308, -73.98172], [40.59204, -73.78665], [40.80626, -73.94009], [40.79534, -73.96583], [40.69224, -73.99638], [40.67603, -73.96941], [40.67705, -73.99607], [40.80709, -73.94952], [40.72488, -73.97996], [40.70068, -73.91621], [40.76361, -73.91793], [40.76494, -73.95804], [40.70271, -73.91566], [40.77392, -73.97852], [40.65235, -73.9635], [40.75526, -73.86468], [40.65774, -73.95202], [40.80521, -73.94519], [40.67358, -73.94351], [40.73223, -74.00355], [40.80735, -73.95684], [40.72669, -73.9419], [40.68655, -73.93797], [40.68185, -73.90655], [40.68214, -73.96474], [40.81377, -73.96166], [40.69657, -73.9129], [40.88001, -73.8345], [40.67356, -73.9425], [40.73235, -73.95106], [40.8285, -73.94889], [40.73732, -73.90168], [40.87045, -73.9183], [40.82458, -73.95038], [40.71449, -73.987], [40.64685, -74.01097], [40.6682, -73.88541], [40.82753, -73.94862], [40.78316, -73.97269], [40.73937, -73.98187], [40.61465, -73.96065], [40.79101, -73.97961], [40.73682, -73.875], [40.68003, -73.96123], [40.67717, -73.96915], [40.72271, -73.98478], [40.68304, -73.99819], [40.71262, -73.95292], [40.69531, -73.92248], [40.71303, -73.9558], [40.6878, -73.91452], [40.70848, -73.94584], [40.66086, -73.96159], [40.70633, -74.00974], [40.75099, -73.96994], [40.67603, -73.98239], [40.66737, -73.97822], [40.70945, -73.95491], [40.70146, -73.98188], [40.68594, -73.91448], [40.66691, -73.98507], [40.68706, -73.99893], [40.72308, -73.95071], [40.72866, -73.98048], [40.69471, -73.94184], [40.83107, -73.9486], [40.71055, -73.95098], [40.78103, -73.95069], [40.63899, -73.95177], [40.71896, -73.95423], [40.70207, -73.98571], [40.72023, -74.00715], [40.76532, -73.99061], [40.66752, -73.98892], [40.76049, -73.81633], [40.80157, -73.95407], [40.73421, -73.95698], [40.7666, -73.92079], [40.80119, -73.95295], [40.68727, -73.972], [40.71729, -74.00424], [40.79141, -73.97345], [40.79469, -73.96575], [40.68929, -73.93079], [40.68812, -73.94934], [40.72504, -73.98242], [40.74365, -73.95377], [40.68439, -73.95231], [40.67267, -73.97871], [40.75782, -73.92129], [40.68712, -73.95876], [40.7335, -73.99834], [40.69193, -73.9274], [40.77679, -73.91687], [40.67348, -73.9779], [40.69056, -73.98038], [40.67768, -73.97114], [40.66891, -73.9533], [40.7191, -73.98812], [40.67851, -73.92002], [40.69258, -73.96649], [40.82485, -73.93774], [40.82044, -73.93605], [40.68317, -73.94701], [40.68323, -73.95642], [40.71712, -73.98898], [40.67476, -73.95312], [40.67527, -73.96604], [40.67758, -73.97239], [40.72316, -73.97706], [40.70894, -73.94554], [40.70673, -73.92695], [40.71543, -73.94159], [40.64246, -73.95443], [40.80843, -73.93722], [40.71975, -73.96285], [40.7282, -73.98067], [40.74793, -74.00691], [40.77715, -73.98235], [40.68634, -73.95088], [40.8035, -73.95105], [40.72096, -73.94574], [40.69585, -73.92585], [40.66788, -73.82419], [40.64945, -73.9624], [40.7604, -73.96029], [40.84899, -73.94018], [40.72691, -73.94041], [40.69468, -73.94729], [40.69893, -73.91549], [40.77442, -73.91465], [40.72097, -73.99605], [40.70371, -73.93344], [40.71689, -74.00563], [40.76358, -73.96464], [40.80773, -73.95977], [40.66526, -73.98449], [40.73968, -73.99693], [40.69883, -73.93364], [40.69173, -73.97756], [40.65516, -73.95882], [40.70724, -73.94217], [40.71659, -73.98949], [40.71892, -73.98627], [40.74221, -73.99822], [40.69017, -73.91291], [40.70683, -73.95375], [40.70507, -73.9353], [40.76525, -73.98895], [40.77042, -73.96145], [40.72962, -73.98078], [40.77778, -73.9781], [40.70644, -73.93759], [40.7655, -73.92169], [40.67568, -73.95124], [40.74583, -73.97834], [40.67851, -73.97678], [40.71625, -73.93845], [40.66588, -73.95677], [40.80752, -73.96713], [40.72823, -73.98933], [40.67813, -73.96355], [40.74705, -73.89564], [40.71341, -73.98856], [40.80474, -73.94688], [40.73331, -73.80811], [40.72283, -73.95232], [40.69836, -73.93521], [40.74676, -73.97682], [40.7083, -73.95473], [40.75363, -73.93463], [40.7376, -73.95678], [40.70963, -74.00759], [40.76135, -73.96707], [40.83456, -73.94344], [40.84805, -73.94209], [40.86467, -73.90125], [40.69472, -73.84856], [40.66924, -73.94406], [40.74085, -73.98153], [40.79014, -73.94698], [40.79563, -73.9664], [40.69872, -73.78614], [40.72866, -74.00095], [40.64851, -73.96121], [40.68505, -73.95684], [40.775, -73.94842], [40.71349, -73.9629], [40.69811, -73.93051], [40.68792, -73.97904], [40.75639, -73.96558], [40.66763, -73.98156], [40.69503, -73.94986], [40.70974, -73.93962], [40.86677, -73.85938], [40.71477, -73.82012], [40.7295, -73.98623], [40.70938, -74.01371], [40.66842, -73.95601], [40.8278, -73.94891], [40.80887, -73.94756], [40.69725, -73.94908], [40.82457, -73.94984], [40.75568, -73.91578], [40.73607, -73.92439], [40.7388, -73.92327], [40.6693, -73.98804], [40.73331, -74.00471], [40.82502, -73.94404], [40.64345, -73.98258], [40.64924, -73.96714], [40.84278, -73.93725], [40.77881, -73.97726], [40.71523, -73.98489], [40.6548, -73.95388], [40.68318, -73.95002], [40.70994, -73.90201], [40.79239, -73.94535], [40.66972, -73.97954], [40.81469, -73.94887], [40.81606, -73.94363], [40.82447, -73.95076], [40.69428, -73.90679], [40.80769, -73.95497], [40.7796, -73.94806], [40.75744, -73.99269], [40.67031, -73.94088], [40.74174, -73.97878], [40.69289, -73.96701], [40.70376, -73.91765], [40.86363, -73.93002], [40.7001, -73.99183], [40.71303, -73.94063], [40.71585, -73.98982], [40.76159, -73.99824], [40.72965, -74.00397], [40.74978, -73.99686], [40.72647, -73.98379], [40.76571, -73.99482], [40.79558, -73.96969], [40.6846, -73.98454], [40.72934, -74.00276], [40.77249, -73.95756], [40.68781, -73.91421], [40.67023, -73.95257], [40.67656, -73.95825], [40.75128, -73.97658], [40.7732, -73.95082], [40.77345, -73.95848], [40.71188, -73.95155], [40.66916, -73.95125], [40.73637, -73.99746], [40.74462, -73.95521], [40.77593, -73.94927], [40.6856, -73.95332], [40.71351, -73.94316], [40.7215, -73.94136], [40.73433, -74.00588], [40.79586, -73.94332], [40.839, -73.94543], [40.79631, -73.96152], [40.80596, -73.96471], [40.66683, -73.99308], [40.803, -73.95278], [40.71266, -73.94829], [40.68792, -73.97319], [40.78528, -73.98091], [40.77297, -73.91604], [40.67732, -73.98225], [40.71893, -73.9428], [40.72285, -73.99409], [40.74855, -73.98001], [40.68524, -73.9607], [40.71401, -73.98917], [40.72954, -73.98337], [40.74121, -73.98648], [40.71908, -73.98633], [40.68786, -73.91722], [40.76964, -73.91402], [40.77546, -73.91571], [40.72362, -73.791], [40.66801, -73.98142], [40.74406, -73.94504], [40.72451, -73.98094], [40.72229, -73.9873], [40.78775, -73.94891], [40.6938, -73.94698], [40.67734, -73.96433], [40.67205, -73.95092], [40.79721, -73.816], [40.68542, -73.96103], [40.76504, -73.98718], [40.80393, -73.94046], [40.66058, -73.95825], [40.82279, -73.94947], [40.65234, -73.95329], [40.78398, -73.97795], [40.66089, -73.93993], [40.71418, -73.99295], [40.64644, -73.9756], [40.70727, -73.95459], [40.74285, -73.97986], [40.71539, -73.95426], [40.77668, -73.97815], [40.69804, -73.90683], [40.82124, -73.93838], [40.71971, -73.95998], [40.72777, -73.98545], [40.74192, -73.99501], [40.7646, -73.98799], [40.73259, -73.98681], [40.75735, -73.99603], [40.74845, -73.99635], [40.65854, -73.98384], [40.72168, -73.98418], [40.80273, -73.95748], [40.68382, -73.96292], [40.83206, -73.94261], [40.64563, -73.9419], [40.73926, -73.92045], [40.68828, -73.92056], [40.72675, -74.00757], [40.64779, -73.97956], [40.74637, -73.97469], [40.63066, -73.96496], [40.68851, -73.98655], [40.76175, -73.95012], [40.76714, -73.99229], [40.7625, -73.93919], [40.8017, -73.96991], [40.75784, -73.83181], [40.68542, -73.93965], [40.7182, -73.95763], [40.72929, -73.8574], [40.73685, -73.98359], [40.69527, -73.94786], [40.71786, -73.99518], [40.71743, -74.00623], [40.68897, -73.98765], [40.68675, -73.97923], [40.66758, -73.95033], [40.71891, -73.98592], [40.65628, -73.96014], [40.73788, -73.98048], [40.70179, -73.93689], [40.80822, -73.94264], [40.80417, -73.96874], [40.68068, -73.9535], [40.63592, -74.02704], [40.76438, -73.95871], [40.67868, -73.97307], [40.82697, -73.95236], [40.76546, -73.98782], [40.77942, -73.97627], [40.7618, -73.99093], [40.72066, -73.95308], [40.71047, -73.95732], [40.76774, -73.9892], [40.84864, -73.94046], [40.67968, -73.94715], [40.68647, -73.98595], [40.82855, -73.94033], [40.64745, -73.95606], [40.7795, -73.98258], [40.76555, -73.98224], [40.68673, -73.9579], [40.71279, -73.96037], [40.72287, -73.98462], [40.71238, -73.94776], [40.73532, -73.99473], [40.75578, -73.99523], [40.7936, -73.97442], [40.66869, -73.9878], [40.76067, -73.9602], [40.66481, -73.97807], [40.69221, -73.95866], [40.80387, -73.96096], [40.75994, -73.99781], [40.84121, -73.93881], [40.63649, -73.95614], [40.64604, -73.92511], [40.73186, -74.00329], [40.74501, -73.98574], [40.7688, -73.9535], [40.6878, -73.97167], [40.7773, -73.95305], [40.72639, -73.94764], [40.70554, -73.90729], [40.68204, -73.99249], [40.7149, -73.95588], [40.8046, -73.96545], [40.78938, -73.94679], [40.73193, -73.74481], [40.67121, -73.95534], [40.72005, -73.98649], [40.70821, -73.95352], [40.7057, -73.94258], [40.84773, -73.93346], [40.759, -73.98894], [40.85083, -73.94093], [40.76571, -73.98023]],\n",
              "                {&quot;blur&quot;: 15, &quot;maxZoom&quot;: 18, &quot;minOpacity&quot;: 0.5, &quot;radius&quot;: 25}\n",
              "            ).addTo(map_7488b94caeb114a1a353b2211e7c8606);\n",
              "        \n",
              "&lt;/script&gt;\n",
              "&lt;/html&gt;\" style=\"position:absolute;width:100%;height:100%;left:0;top:0;border:none !important;\" allowfullscreen webkitallowfullscreen mozallowfullscreen></iframe></div></div>"
            ]
          },
          "metadata": {},
          "execution_count": 36
        }
      ]
    },
    {
      "cell_type": "markdown",
      "source": [
        "##### 1. Why did you pick the specific chart?"
      ],
      "metadata": {
        "id": "QHF8YVU7Yuh3"
      }
    },
    {
      "cell_type": "markdown",
      "source": [
        "To show the most visited location\n"
      ],
      "metadata": {
        "id": "dcxuIMRPYuh3"
      }
    },
    {
      "cell_type": "markdown",
      "source": [
        "#### Price"
      ],
      "metadata": {
        "id": "OH-pJp9IphqM"
      }
    },
    {
      "cell_type": "code",
      "source": [
        "# Chart - 6 visualization code\n",
        "df.price"
      ],
      "metadata": {
        "id": "kuRf4wtuphqN",
        "colab": {
          "base_uri": "https://localhost:8080/"
        },
        "outputId": "a509b04b-e769-4f1e-9dbe-3b74f362427e"
      },
      "execution_count": null,
      "outputs": [
        {
          "output_type": "execute_result",
          "data": {
            "text/plain": [
              "0        149.0\n",
              "1        225.0\n",
              "2        150.0\n",
              "3         89.0\n",
              "4         80.0\n",
              "         ...  \n",
              "14879    122.0\n",
              "14880    400.0\n",
              "14881     54.0\n",
              "14882     54.0\n",
              "14883      NaN\n",
              "Name: price, Length: 14884, dtype: float64"
            ]
          },
          "metadata": {},
          "execution_count": 37
        }
      ]
    },
    {
      "cell_type": "code",
      "source": [
        "price=df.price.value_counts()\n",
        "price\n"
      ],
      "metadata": {
        "colab": {
          "base_uri": "https://localhost:8080/"
        },
        "id": "sDU2jKvABKu3",
        "outputId": "1512d81d-d090-439a-d076-80d48fa1a527"
      },
      "execution_count": null,
      "outputs": [
        {
          "output_type": "execute_result",
          "data": {
            "text/plain": [
              "150.0     665\n",
              "100.0     620\n",
              "200.0     476\n",
              "75.0      419\n",
              "120.0     390\n",
              "         ... \n",
              "4500.0      1\n",
              "409.0       1\n",
              "2300.0      1\n",
              "18.0        1\n",
              "2100.0      1\n",
              "Name: price, Length: 433, dtype: int64"
            ]
          },
          "metadata": {},
          "execution_count": 38
        }
      ]
    },
    {
      "cell_type": "code",
      "source": [
        "sns.displot(price)"
      ],
      "metadata": {
        "colab": {
          "base_uri": "https://localhost:8080/"
        },
        "id": "FKRXNcCRBWMl",
        "outputId": "7a09717f-fdda-482a-c9bc-671fc379051c"
      },
      "execution_count": null,
      "outputs": [
        {
          "output_type": "execute_result",
          "data": {
            "text/plain": [
              "<seaborn.axisgrid.FacetGrid at 0x7fab86c45fc0>"
            ]
          },
          "metadata": {},
          "execution_count": 39
        },
        {
          "output_type": "display_data",
          "data": {
            "text/plain": [
              "<Figure size 500x500 with 1 Axes>"
            ],
            "image/png": "[encoded data removed]"
          },
          "metadata": {}
        }
      ]
    },
    {
      "cell_type": "markdown",
      "source": [
        "##### 1. Why did you pick the specific chart?"
      ],
      "metadata": {
        "id": "bbFf2-_FphqN"
      }
    },
    {
      "cell_type": "markdown",
      "source": [
        "Answer Here."
      ],
      "metadata": {
        "id": "loh7H2nzphqN"
      }
    },
    {
      "cell_type": "markdown",
      "source": [
        "##### 2. What is/are the insight(s) found from the chart?"
      ],
      "metadata": {
        "id": "_ouA3fa0phqN"
      }
    },
    {
      "cell_type": "markdown",
      "source": [
        "Answer Here"
      ],
      "metadata": {
        "id": "VECbqPI7phqN"
      }
    },
    {
      "cell_type": "markdown",
      "source": [
        "##### 3. Will the gained insights help creating a positive business impact?\n",
        "Are there any insights that lead to negative growth? Justify with specific reason."
      ],
      "metadata": {
        "id": "Seke61FWphqN"
      }
    },
    {
      "cell_type": "markdown",
      "source": [
        "Answer Here"
      ],
      "metadata": {
        "id": "DW4_bGpfphqN"
      }
    },
    {
      "cell_type": "markdown",
      "source": [
        "####"
      ],
      "metadata": {
        "id": "PIIx-8_IphqN"
      }
    },
    {
      "cell_type": "code",
      "source": [
        "# Chart - 7 visualization code"
      ],
      "metadata": {
        "id": "lqAIGUfyphqO"
      },
      "execution_count": null,
      "outputs": []
    },
    {
      "cell_type": "markdown",
      "source": [
        "##### 1. Why did you pick the specific chart?"
      ],
      "metadata": {
        "id": "t27r6nlMphqO"
      }
    },
    {
      "cell_type": "markdown",
      "source": [
        "Answer Here."
      ],
      "metadata": {
        "id": "iv6ro40sphqO"
      }
    },
    {
      "cell_type": "markdown",
      "source": [
        "##### 2. What is/are the insight(s) found from the chart?"
      ],
      "metadata": {
        "id": "r2jJGEOYphqO"
      }
    },
    {
      "cell_type": "markdown",
      "source": [
        "Answer Here"
      ],
      "metadata": {
        "id": "Po6ZPi4hphqO"
      }
    },
    {
      "cell_type": "markdown",
      "source": [
        "##### 3. Will the gained insights help creating a positive business impact?\n",
        "Are there any insights that lead to negative growth? Justify with specific reason."
      ],
      "metadata": {
        "id": "b0JNsNcRphqO"
      }
    },
    {
      "cell_type": "markdown",
      "source": [
        "Answer Here"
      ],
      "metadata": {
        "id": "xvSq8iUTphqO"
      }
    },
    {
      "cell_type": "markdown",
      "source": [
        "#### Trafic Areas"
      ],
      "metadata": {
        "id": "BZR9WyysphqO"
      }
    },
    {
      "cell_type": "code",
      "source": [
        "# Chart - 8 visualization code\n",
        "traffic_areas = new_df.groupby(['neighbourhood_group','room_type'])['minimum_nights'].count().reset_index()\n",
        "traffic_areas = traffic_areas.sort_values(by='minimum_nights', ascending=False)\n",
        "traffic_areas"
      ],
      "metadata": {
        "id": "TdPTWpAVphqO",
        "colab": {
          "base_uri": "https://localhost:8080/"
        },
        "outputId": "73549c79-f4d2-49a0-d1f4-37de0b09c2c4"
      },
      "execution_count": null,
      "outputs": [
        {
          "output_type": "execute_result",
          "data": {
            "text/plain": [
              "   neighbourhood_group        room_type  minimum_nights\n",
              "6            Manhattan  Entire home/apt            3624\n",
              "3             Brooklyn  Entire home/apt            3091\n",
              "4             Brooklyn     Private room            2364\n",
              "7            Manhattan     Private room            1994\n",
              "10              Queens     Private room             540\n",
              "9               Queens  Entire home/apt             411\n",
              "1                Bronx     Private room             105\n",
              "8            Manhattan      Shared room              92\n",
              "0                Bronx  Entire home/apt              59\n",
              "5             Brooklyn      Shared room              52\n",
              "12       Staten Island  Entire home/apt              29\n",
              "13       Staten Island     Private room              29\n",
              "11              Queens      Shared room              19\n",
              "2                Bronx      Shared room               4"
            ],
            "text/html": [
              "\n",
              "\n",
              "  <div id=\"df-8577a208-b714-4e58-a659-c0581183e577\">\n",
              "    <div class=\"colab-df-container\">\n",
              "      <div>\n",
              "<style scoped>\n",
              "    .dataframe tbody tr th:only-of-type {\n",
              "        vertical-align: middle;\n",
              "    }\n",
              "\n",
              "    .dataframe tbody tr th {\n",
              "        vertical-align: top;\n",
              "    }\n",
              "\n",
              "    .dataframe thead th {\n",
              "        text-align: right;\n",
              "    }\n",
              "</style>\n",
              "<table border=\"1\" class=\"dataframe\">\n",
              "  <thead>\n",
              "    <tr style=\"text-align: right;\">\n",
              "      <th></th>\n",
              "      <th>neighbourhood_group</th>\n",
              "      <th>room_type</th>\n",
              "      <th>minimum_nights</th>\n",
              "    </tr>\n",
              "  </thead>\n",
              "  <tbody>\n",
              "    <tr>\n",
              "      <th>6</th>\n",
              "      <td>Manhattan</td>\n",
              "      <td>Entire home/apt</td>\n",
              "      <td>3624</td>\n",
              "    </tr>\n",
              "    <tr>\n",
              "      <th>3</th>\n",
              "      <td>Brooklyn</td>\n",
              "      <td>Entire home/apt</td>\n",
              "      <td>3091</td>\n",
              "    </tr>\n",
              "    <tr>\n",
              "      <th>4</th>\n",
              "      <td>Brooklyn</td>\n",
              "      <td>Private room</td>\n",
              "      <td>2364</td>\n",
              "    </tr>\n",
              "    <tr>\n",
              "      <th>7</th>\n",
              "      <td>Manhattan</td>\n",
              "      <td>Private room</td>\n",
              "      <td>1994</td>\n",
              "    </tr>\n",
              "    <tr>\n",
              "      <th>10</th>\n",
              "      <td>Queens</td>\n",
              "      <td>Private room</td>\n",
              "      <td>540</td>\n",
              "    </tr>\n",
              "    <tr>\n",
              "      <th>9</th>\n",
              "      <td>Queens</td>\n",
              "      <td>Entire home/apt</td>\n",
              "      <td>411</td>\n",
              "    </tr>\n",
              "    <tr>\n",
              "      <th>1</th>\n",
              "      <td>Bronx</td>\n",
              "      <td>Private room</td>\n",
              "      <td>105</td>\n",
              "    </tr>\n",
              "    <tr>\n",
              "      <th>8</th>\n",
              "      <td>Manhattan</td>\n",
              "      <td>Shared room</td>\n",
              "      <td>92</td>\n",
              "    </tr>\n",
              "    <tr>\n",
              "      <th>0</th>\n",
              "      <td>Bronx</td>\n",
              "      <td>Entire home/apt</td>\n",
              "      <td>59</td>\n",
              "    </tr>\n",
              "    <tr>\n",
              "      <th>5</th>\n",
              "      <td>Brooklyn</td>\n",
              "      <td>Shared room</td>\n",
              "      <td>52</td>\n",
              "    </tr>\n",
              "    <tr>\n",
              "      <th>12</th>\n",
              "      <td>Staten Island</td>\n",
              "      <td>Entire home/apt</td>\n",
              "      <td>29</td>\n",
              "    </tr>\n",
              "    <tr>\n",
              "      <th>13</th>\n",
              "      <td>Staten Island</td>\n",
              "      <td>Private room</td>\n",
              "      <td>29</td>\n",
              "    </tr>\n",
              "    <tr>\n",
              "      <th>11</th>\n",
              "      <td>Queens</td>\n",
              "      <td>Shared room</td>\n",
              "      <td>19</td>\n",
              "    </tr>\n",
              "    <tr>\n",
              "      <th>2</th>\n",
              "      <td>Bronx</td>\n",
              "      <td>Shared room</td>\n",
              "      <td>4</td>\n",
              "    </tr>\n",
              "  </tbody>\n",
              "</table>\n",
              "</div>\n",
              "      <button class=\"colab-df-convert\" onclick=\"convertToInteractive('df-8577a208-b714-4e58-a659-c0581183e577')\"\n",
              "              title=\"Convert this dataframe to an interactive table.\"\n",
              "              style=\"display:none;\">\n",
              "\n",
              "  <svg xmlns=\"http://www.w3.org/2000/svg\" height=\"24px\"viewBox=\"0 0 24 24\"\n",
              "       width=\"24px\">\n",
              "    <path d=\"M0 0h24v24H0V0z\" fill=\"none\"/>\n",
              "    <path d=\"M18.56 5.44l.94 2.06.94-2.06 2.06-.94-2.06-.94-.94-2.06-.94 2.06-2.06.94zm-11 1L8.5 8.5l.94-2.06 2.06-.94-2.06-.94L8.5 2.5l-.94 2.06-2.06.94zm10 10l.94 2.06.94-2.06 2.06-.94-2.06-.94-.94-2.06-.94 2.06-2.06.94z\"/><path d=\"M17.41 7.96l-1.37-1.37c-.4-.4-.92-.59-1.43-.59-.52 0-1.04.2-1.43.59L10.3 9.45l-7.72 7.72c-.78.78-.78 2.05 0 2.83L4 21.41c.39.39.9.59 1.41.59.51 0 1.02-.2 1.41-.59l7.78-7.78 2.81-2.81c.8-.78.8-2.07 0-2.86zM5.41 20L4 18.59l7.72-7.72 1.47 1.35L5.41 20z\"/>\n",
              "  </svg>\n",
              "      </button>\n",
              "\n",
              "\n",
              "\n",
              "    <div id=\"df-3649e5c9-b2c5-4c66-82b7-dc7fb9db2bc5\">\n",
              "      <button class=\"colab-df-quickchart\" onclick=\"quickchart('df-3649e5c9-b2c5-4c66-82b7-dc7fb9db2bc5')\"\n",
              "              title=\"Suggest charts.\"\n",
              "              style=\"display:none;\">\n",
              "\n",
              "<svg xmlns=\"http://www.w3.org/2000/svg\" height=\"24px\"viewBox=\"0 0 24 24\"\n",
              "     width=\"24px\">\n",
              "    <g>\n",
              "        <path d=\"M19 3H5c-1.1 0-2 .9-2 2v14c0 1.1.9 2 2 2h14c1.1 0 2-.9 2-2V5c0-1.1-.9-2-2-2zM9 17H7v-7h2v7zm4 0h-2V7h2v10zm4 0h-2v-4h2v4z\"/>\n",
              "    </g>\n",
              "</svg>\n",
              "      </button>\n",
              "    </div>\n",
              "\n",
              "<style>\n",
              "  .colab-df-quickchart {\n",
              "    background-color: #E8F0FE;\n",
              "    border: none;\n",
              "    border-radius: 50%;\n",
              "    cursor: pointer;\n",
              "    display: none;\n",
              "    fill: #1967D2;\n",
              "    height: 32px;\n",
              "    padding: 0 0 0 0;\n",
              "    width: 32px;\n",
              "  }\n",
              "\n",
              "  .colab-df-quickchart:hover {\n",
              "    background-color: #E2EBFA;\n",
              "    box-shadow: 0px 1px 2px rgba(60, 64, 67, 0.3), 0px 1px 3px 1px rgba(60, 64, 67, 0.15);\n",
              "    fill: #174EA6;\n",
              "  }\n",
              "\n",
              "  [theme=dark] .colab-df-quickchart {\n",
              "    background-color: #3B4455;\n",
              "    fill: #D2E3FC;\n",
              "  }\n",
              "\n",
              "  [theme=dark] .colab-df-quickchart:hover {\n",
              "    background-color: #434B5C;\n",
              "    box-shadow: 0px 1px 3px 1px rgba(0, 0, 0, 0.15);\n",
              "    filter: drop-shadow(0px 1px 2px rgba(0, 0, 0, 0.3));\n",
              "    fill: #FFFFFF;\n",
              "  }\n",
              "</style>\n",
              "\n",
              "    <script>\n",
              "      async function quickchart(key) {\n",
              "        const containerElement = document.querySelector('#' + key);\n",
              "        const charts = await google.colab.kernel.invokeFunction(\n",
              "            'suggestCharts', [key], {});\n",
              "      }\n",
              "    </script>\n",
              "\n",
              "      <script>\n",
              "\n",
              "function displayQuickchartButton(domScope) {\n",
              "  let quickchartButtonEl =\n",
              "    domScope.querySelector('#df-3649e5c9-b2c5-4c66-82b7-dc7fb9db2bc5 button.colab-df-quickchart');\n",
              "  quickchartButtonEl.style.display =\n",
              "    google.colab.kernel.accessAllowed ? 'block' : 'none';\n",
              "}\n",
              "\n",
              "        displayQuickchartButton(document);\n",
              "      </script>\n",
              "      <style>\n",
              "    .colab-df-container {\n",
              "      display:flex;\n",
              "      flex-wrap:wrap;\n",
              "      gap: 12px;\n",
              "    }\n",
              "\n",
              "    .colab-df-convert {\n",
              "      background-color: #E8F0FE;\n",
              "      border: none;\n",
              "      border-radius: 50%;\n",
              "      cursor: pointer;\n",
              "      display: none;\n",
              "      fill: #1967D2;\n",
              "      height: 32px;\n",
              "      padding: 0 0 0 0;\n",
              "      width: 32px;\n",
              "    }\n",
              "\n",
              "    .colab-df-convert:hover {\n",
              "      background-color: #E2EBFA;\n",
              "      box-shadow: 0px 1px 2px rgba(60, 64, 67, 0.3), 0px 1px 3px 1px rgba(60, 64, 67, 0.15);\n",
              "      fill: #174EA6;\n",
              "    }\n",
              "\n",
              "    [theme=dark] .colab-df-convert {\n",
              "      background-color: #3B4455;\n",
              "      fill: #D2E3FC;\n",
              "    }\n",
              "\n",
              "    [theme=dark] .colab-df-convert:hover {\n",
              "      background-color: #434B5C;\n",
              "      box-shadow: 0px 1px 3px 1px rgba(0, 0, 0, 0.15);\n",
              "      filter: drop-shadow(0px 1px 2px rgba(0, 0, 0, 0.3));\n",
              "      fill: #FFFFFF;\n",
              "    }\n",
              "  </style>\n",
              "\n",
              "      <script>\n",
              "        const buttonEl =\n",
              "          document.querySelector('#df-8577a208-b714-4e58-a659-c0581183e577 button.colab-df-convert');\n",
              "        buttonEl.style.display =\n",
              "          google.colab.kernel.accessAllowed ? 'block' : 'none';\n",
              "\n",
              "        async function convertToInteractive(key) {\n",
              "          const element = document.querySelector('#df-8577a208-b714-4e58-a659-c0581183e577');\n",
              "          const dataTable =\n",
              "            await google.colab.kernel.invokeFunction('convertToInteractive',\n",
              "                                                     [key], {});\n",
              "          if (!dataTable) return;\n",
              "\n",
              "          const docLinkHtml = 'Like what you see? Visit the ' +\n",
              "            '<a target=\"_blank\" href=https://colab.research.google.com/notebooks/data_table.ipynb>data table notebook</a>'\n",
              "            + ' to learn more about interactive tables.';\n",
              "          element.innerHTML = '';\n",
              "          dataTable['output_type'] = 'display_data';\n",
              "          await google.colab.output.renderOutput(dataTable, element);\n",
              "          const docLink = document.createElement('div');\n",
              "          docLink.innerHTML = docLinkHtml;\n",
              "          element.appendChild(docLink);\n",
              "        }\n",
              "      </script>\n",
              "    </div>\n",
              "  </div>\n"
            ]
          },
          "metadata": {},
          "execution_count": 41
        }
      ]
    },
    {
      "cell_type": "code",
      "source": [
        "room_type = traffic_areas['room_type']\n",
        "stayed = traffic_areas['minimum_nights']\n",
        "\n",
        "fig = plt.figure(figsize = (10, 5))\n",
        "\n",
        "# creating the bar plot\n",
        "plt.bar(room_type, stayed, color ='maroon',\n",
        "        width = 0.4)\n",
        "\n",
        "plt.xlabel(\"Room Type\")\n",
        "plt.ylabel(\"Minimum number of nights stayed\")\n",
        "plt.title(\"Traffic Areas\")\n",
        "plt.show()"
      ],
      "metadata": {
        "colab": {
          "base_uri": "https://localhost:8080/"
        },
        "id": "36Pweu-3ETN2",
        "outputId": "debb2ed5-65b0-4eae-da35-5031865afc67"
      },
      "execution_count": null,
      "outputs": [
        {
          "output_type": "display_data",
          "data": {
            "text/plain": [
              "<Figure size 1000x500 with 1 Axes>"
            ],
            "image/png": "[encoded data removed]"
          },
          "metadata": {}
        }
      ]
    },
    {
      "cell_type": "markdown",
      "source": [
        "##### 1. Why did you pick the specific chart?"
      ],
      "metadata": {
        "id": "jj7wYXLtphqO"
      }
    },
    {
      "cell_type": "markdown",
      "source": [
        "Answer Here."
      ],
      "metadata": {
        "id": "Ob8u6rCTphqO"
      }
    },
    {
      "cell_type": "markdown",
      "source": [
        "##### 2. What is/are the insight(s) found from the chart?"
      ],
      "metadata": {
        "id": "eZrbJ2SmphqO"
      }
    },
    {
      "cell_type": "markdown",
      "source": [
        "Answer Here"
      ],
      "metadata": {
        "id": "mZtgC_hjphqO"
      }
    },
    {
      "cell_type": "markdown",
      "source": [
        "##### 3. Will the gained insights help creating a positive business impact?\n",
        "Are there any insights that lead to negative growth? Justify with specific reason."
      ],
      "metadata": {
        "id": "rFu4xreNphqO"
      }
    },
    {
      "cell_type": "markdown",
      "source": [
        "Answer Here"
      ],
      "metadata": {
        "id": "ey_0qi68phqO"
      }
    },
    {
      "cell_type": "markdown",
      "source": [
        "#### Chart - 14 - Correlation Heatmap"
      ],
      "metadata": {
        "id": "NC_X3p0fY2L0"
      }
    },
    {
      "cell_type": "code",
      "source": [
        "df.columns"
      ],
      "metadata": {
        "colab": {
          "base_uri": "https://localhost:8080/"
        },
        "id": "ZEWU6zAtFBU3",
        "outputId": "d6ba0761-09f2-4965-8fe1-132020c18b42"
      },
      "execution_count": null,
      "outputs": [
        {
          "output_type": "execute_result",
          "data": {
            "text/plain": [
              "Index(['id', 'name', 'host_id', 'host_name', 'neighbourhood_group',\n",
              "       'neighbourhood', 'latitude', 'longitude', 'room_type', 'price',\n",
              "       'minimum_nights', 'number_of_reviews', 'last_review',\n",
              "       'reviews_per_month', 'calculated_host_listings_count',\n",
              "       'availability_365'],\n",
              "      dtype='object')"
            ]
          },
          "metadata": {},
          "execution_count": 43
        }
      ]
    },
    {
      "cell_type": "code",
      "source": [
        "numerics=['int16','int32','int64','float16','float32','float64']\n",
        "num_df=df.select_dtypes(include=numerics)\n",
        "num_df"
      ],
      "metadata": {
        "colab": {
          "base_uri": "https://localhost:8080/"
        },
        "id": "oUrysmfQF82Y",
        "outputId": "ea7b84c2-e79a-445c-d118-7b39b664a491"
      },
      "execution_count": null,
      "outputs": [
        {
          "output_type": "execute_result",
          "data": {
            "text/plain": [
              "             id   host_id  latitude  longitude  price  minimum_nights  \\\n",
              "0          2539      2787  40.64749  -73.97237  149.0             1.0   \n",
              "1          2595      2845  40.75362  -73.98377  225.0             1.0   \n",
              "2          3647      4632  40.80902  -73.94190  150.0             3.0   \n",
              "3          3831      4869  40.68514  -73.95976   89.0             1.0   \n",
              "4          5022      7192  40.79851  -73.94399   80.0            10.0   \n",
              "...         ...       ...       ...        ...    ...             ...   \n",
              "14879  11801984  24232061  40.77189  -73.95540  122.0             9.0   \n",
              "14880  11802086  62852828  40.82443  -73.95265  400.0             3.0   \n",
              "14881  11803487  26377263  40.68906  -73.97763   54.0            30.0   \n",
              "14882  11803893  26377263  40.69006  -73.98056   54.0            30.0   \n",
              "14883  11804245  26377263       NaN        NaN    NaN             NaN   \n",
              "\n",
              "       number_of_reviews  reviews_per_month  calculated_host_listings_count  \\\n",
              "0                    9.0               0.21                             6.0   \n",
              "1                   45.0               0.38                             2.0   \n",
              "2                    0.0                NaN                             1.0   \n",
              "3                  270.0               4.64                             1.0   \n",
              "4                    9.0               0.10                             1.0   \n",
              "...                  ...                ...                             ...   \n",
              "14879               12.0               0.32                             3.0   \n",
              "14880                2.0               0.06                             2.0   \n",
              "14881                0.0                NaN                            43.0   \n",
              "14882                0.0                NaN                            43.0   \n",
              "14883                NaN                NaN                             NaN   \n",
              "\n",
              "       availability_365  \n",
              "0                 365.0  \n",
              "1                 355.0  \n",
              "2                 365.0  \n",
              "3                 194.0  \n",
              "4                   0.0  \n",
              "...                 ...  \n",
              "14879             160.0  \n",
              "14880              88.0  \n",
              "14881             361.0  \n",
              "14882             361.0  \n",
              "14883               NaN  \n",
              "\n",
              "[14884 rows x 10 columns]"
            ],
            "text/html": [
              "\n",
              "\n",
              "  <div id=\"df-88c37026-3e44-4a68-9b3c-8d6b89038af0\">\n",
              "    <div class=\"colab-df-container\">\n",
              "      <div>\n",
              "<style scoped>\n",
              "    .dataframe tbody tr th:only-of-type {\n",
              "        vertical-align: middle;\n",
              "    }\n",
              "\n",
              "    .dataframe tbody tr th {\n",
              "        vertical-align: top;\n",
              "    }\n",
              "\n",
              "    .dataframe thead th {\n",
              "        text-align: right;\n",
              "    }\n",
              "</style>\n",
              "<table border=\"1\" class=\"dataframe\">\n",
              "  <thead>\n",
              "    <tr style=\"text-align: right;\">\n",
              "      <th></th>\n",
              "      <th>id</th>\n",
              "      <th>host_id</th>\n",
              "      <th>latitude</th>\n",
              "      <th>longitude</th>\n",
              "      <th>price</th>\n",
              "      <th>minimum_nights</th>\n",
              "      <th>number_of_reviews</th>\n",
              "      <th>reviews_per_month</th>\n",
              "      <th>calculated_host_listings_count</th>\n",
              "      <th>availability_365</th>\n",
              "    </tr>\n",
              "  </thead>\n",
              "  <tbody>\n",
              "    <tr>\n",
              "      <th>0</th>\n",
              "      <td>2539</td>\n",
              "      <td>2787</td>\n",
              "      <td>40.64749</td>\n",
              "      <td>-73.97237</td>\n",
              "      <td>149.0</td>\n",
              "      <td>1.0</td>\n",
              "      <td>9.0</td>\n",
              "      <td>0.21</td>\n",
              "      <td>6.0</td>\n",
              "      <td>365.0</td>\n",
              "    </tr>\n",
              "    <tr>\n",
              "      <th>1</th>\n",
              "      <td>2595</td>\n",
              "      <td>2845</td>\n",
              "      <td>40.75362</td>\n",
              "      <td>-73.98377</td>\n",
              "      <td>225.0</td>\n",
              "      <td>1.0</td>\n",
              "      <td>45.0</td>\n",
              "      <td>0.38</td>\n",
              "      <td>2.0</td>\n",
              "      <td>355.0</td>\n",
              "    </tr>\n",
              "    <tr>\n",
              "      <th>2</th>\n",
              "      <td>3647</td>\n",
              "      <td>4632</td>\n",
              "      <td>40.80902</td>\n",
              "      <td>-73.94190</td>\n",
              "      <td>150.0</td>\n",
              "      <td>3.0</td>\n",
              "      <td>0.0</td>\n",
              "      <td>NaN</td>\n",
              "      <td>1.0</td>\n",
              "      <td>365.0</td>\n",
              "    </tr>\n",
              "    <tr>\n",
              "      <th>3</th>\n",
              "      <td>3831</td>\n",
              "      <td>4869</td>\n",
              "      <td>40.68514</td>\n",
              "      <td>-73.95976</td>\n",
              "      <td>89.0</td>\n",
              "      <td>1.0</td>\n",
              "      <td>270.0</td>\n",
              "      <td>4.64</td>\n",
              "      <td>1.0</td>\n",
              "      <td>194.0</td>\n",
              "    </tr>\n",
              "    <tr>\n",
              "      <th>4</th>\n",
              "      <td>5022</td>\n",
              "      <td>7192</td>\n",
              "      <td>40.79851</td>\n",
              "      <td>-73.94399</td>\n",
              "      <td>80.0</td>\n",
              "      <td>10.0</td>\n",
              "      <td>9.0</td>\n",
              "      <td>0.10</td>\n",
              "      <td>1.0</td>\n",
              "      <td>0.0</td>\n",
              "    </tr>\n",
              "    <tr>\n",
              "      <th>...</th>\n",
              "      <td>...</td>\n",
              "      <td>...</td>\n",
              "      <td>...</td>\n",
              "      <td>...</td>\n",
              "      <td>...</td>\n",
              "      <td>...</td>\n",
              "      <td>...</td>\n",
              "      <td>...</td>\n",
              "      <td>...</td>\n",
              "      <td>...</td>\n",
              "    </tr>\n",
              "    <tr>\n",
              "      <th>14879</th>\n",
              "      <td>11801984</td>\n",
              "      <td>24232061</td>\n",
              "      <td>40.77189</td>\n",
              "      <td>-73.95540</td>\n",
              "      <td>122.0</td>\n",
              "      <td>9.0</td>\n",
              "      <td>12.0</td>\n",
              "      <td>0.32</td>\n",
              "      <td>3.0</td>\n",
              "      <td>160.0</td>\n",
              "    </tr>\n",
              "    <tr>\n",
              "      <th>14880</th>\n",
              "      <td>11802086</td>\n",
              "      <td>62852828</td>\n",
              "      <td>40.82443</td>\n",
              "      <td>-73.95265</td>\n",
              "      <td>400.0</td>\n",
              "      <td>3.0</td>\n",
              "      <td>2.0</td>\n",
              "      <td>0.06</td>\n",
              "      <td>2.0</td>\n",
              "      <td>88.0</td>\n",
              "    </tr>\n",
              "    <tr>\n",
              "      <th>14881</th>\n",
              "      <td>11803487</td>\n",
              "      <td>26377263</td>\n",
              "      <td>40.68906</td>\n",
              "      <td>-73.97763</td>\n",
              "      <td>54.0</td>\n",
              "      <td>30.0</td>\n",
              "      <td>0.0</td>\n",
              "      <td>NaN</td>\n",
              "      <td>43.0</td>\n",
              "      <td>361.0</td>\n",
              "    </tr>\n",
              "    <tr>\n",
              "      <th>14882</th>\n",
              "      <td>11803893</td>\n",
              "      <td>26377263</td>\n",
              "      <td>40.69006</td>\n",
              "      <td>-73.98056</td>\n",
              "      <td>54.0</td>\n",
              "      <td>30.0</td>\n",
              "      <td>0.0</td>\n",
              "      <td>NaN</td>\n",
              "      <td>43.0</td>\n",
              "      <td>361.0</td>\n",
              "    </tr>\n",
              "    <tr>\n",
              "      <th>14883</th>\n",
              "      <td>11804245</td>\n",
              "      <td>26377263</td>\n",
              "      <td>NaN</td>\n",
              "      <td>NaN</td>\n",
              "      <td>NaN</td>\n",
              "      <td>NaN</td>\n",
              "      <td>NaN</td>\n",
              "      <td>NaN</td>\n",
              "      <td>NaN</td>\n",
              "      <td>NaN</td>\n",
              "    </tr>\n",
              "  </tbody>\n",
              "</table>\n",
              "<p>14884 rows × 10 columns</p>\n",
              "</div>\n",
              "      <button class=\"colab-df-convert\" onclick=\"convertToInteractive('df-88c37026-3e44-4a68-9b3c-8d6b89038af0')\"\n",
              "              title=\"Convert this dataframe to an interactive table.\"\n",
              "              style=\"display:none;\">\n",
              "\n",
              "  <svg xmlns=\"http://www.w3.org/2000/svg\" height=\"24px\"viewBox=\"0 0 24 24\"\n",
              "       width=\"24px\">\n",
              "    <path d=\"M0 0h24v24H0V0z\" fill=\"none\"/>\n",
              "    <path d=\"M18.56 5.44l.94 2.06.94-2.06 2.06-.94-2.06-.94-.94-2.06-.94 2.06-2.06.94zm-11 1L8.5 8.5l.94-2.06 2.06-.94-2.06-.94L8.5 2.5l-.94 2.06-2.06.94zm10 10l.94 2.06.94-2.06 2.06-.94-2.06-.94-.94-2.06-.94 2.06-2.06.94z\"/><path d=\"M17.41 7.96l-1.37-1.37c-.4-.4-.92-.59-1.43-.59-.52 0-1.04.2-1.43.59L10.3 9.45l-7.72 7.72c-.78.78-.78 2.05 0 2.83L4 21.41c.39.39.9.59 1.41.59.51 0 1.02-.2 1.41-.59l7.78-7.78 2.81-2.81c.8-.78.8-2.07 0-2.86zM5.41 20L4 18.59l7.72-7.72 1.47 1.35L5.41 20z\"/>\n",
              "  </svg>\n",
              "      </button>\n",
              "\n",
              "\n",
              "\n",
              "    <div id=\"df-b450d25f-12b2-481b-a306-6781331bc062\">\n",
              "      <button class=\"colab-df-quickchart\" onclick=\"quickchart('df-b450d25f-12b2-481b-a306-6781331bc062')\"\n",
              "              title=\"Suggest charts.\"\n",
              "              style=\"display:none;\">\n",
              "\n",
              "<svg xmlns=\"http://www.w3.org/2000/svg\" height=\"24px\"viewBox=\"0 0 24 24\"\n",
              "     width=\"24px\">\n",
              "    <g>\n",
              "        <path d=\"M19 3H5c-1.1 0-2 .9-2 2v14c0 1.1.9 2 2 2h14c1.1 0 2-.9 2-2V5c0-1.1-.9-2-2-2zM9 17H7v-7h2v7zm4 0h-2V7h2v10zm4 0h-2v-4h2v4z\"/>\n",
              "    </g>\n",
              "</svg>\n",
              "      </button>\n",
              "    </div>\n",
              "\n",
              "<style>\n",
              "  .colab-df-quickchart {\n",
              "    background-color: #E8F0FE;\n",
              "    border: none;\n",
              "    border-radius: 50%;\n",
              "    cursor: pointer;\n",
              "    display: none;\n",
              "    fill: #1967D2;\n",
              "    height: 32px;\n",
              "    padding: 0 0 0 0;\n",
              "    width: 32px;\n",
              "  }\n",
              "\n",
              "  .colab-df-quickchart:hover {\n",
              "    background-color: #E2EBFA;\n",
              "    box-shadow: 0px 1px 2px rgba(60, 64, 67, 0.3), 0px 1px 3px 1px rgba(60, 64, 67, 0.15);\n",
              "    fill: #174EA6;\n",
              "  }\n",
              "\n",
              "  [theme=dark] .colab-df-quickchart {\n",
              "    background-color: #3B4455;\n",
              "    fill: #D2E3FC;\n",
              "  }\n",
              "\n",
              "  [theme=dark] .colab-df-quickchart:hover {\n",
              "    background-color: #434B5C;\n",
              "    box-shadow: 0px 1px 3px 1px rgba(0, 0, 0, 0.15);\n",
              "    filter: drop-shadow(0px 1px 2px rgba(0, 0, 0, 0.3));\n",
              "    fill: #FFFFFF;\n",
              "  }\n",
              "</style>\n",
              "\n",
              "    <script>\n",
              "      async function quickchart(key) {\n",
              "        const containerElement = document.querySelector('#' + key);\n",
              "        const charts = await google.colab.kernel.invokeFunction(\n",
              "            'suggestCharts', [key], {});\n",
              "      }\n",
              "    </script>\n",
              "\n",
              "      <script>\n",
              "\n",
              "function displayQuickchartButton(domScope) {\n",
              "  let quickchartButtonEl =\n",
              "    domScope.querySelector('#df-b450d25f-12b2-481b-a306-6781331bc062 button.colab-df-quickchart');\n",
              "  quickchartButtonEl.style.display =\n",
              "    google.colab.kernel.accessAllowed ? 'block' : 'none';\n",
              "}\n",
              "\n",
              "        displayQuickchartButton(document);\n",
              "      </script>\n",
              "      <style>\n",
              "    .colab-df-container {\n",
              "      display:flex;\n",
              "      flex-wrap:wrap;\n",
              "      gap: 12px;\n",
              "    }\n",
              "\n",
              "    .colab-df-convert {\n",
              "      background-color: #E8F0FE;\n",
              "      border: none;\n",
              "      border-radius: 50%;\n",
              "      cursor: pointer;\n",
              "      display: none;\n",
              "      fill: #1967D2;\n",
              "      height: 32px;\n",
              "      padding: 0 0 0 0;\n",
              "      width: 32px;\n",
              "    }\n",
              "\n",
              "    .colab-df-convert:hover {\n",
              "      background-color: #E2EBFA;\n",
              "      box-shadow: 0px 1px 2px rgba(60, 64, 67, 0.3), 0px 1px 3px 1px rgba(60, 64, 67, 0.15);\n",
              "      fill: #174EA6;\n",
              "    }\n",
              "\n",
              "    [theme=dark] .colab-df-convert {\n",
              "      background-color: #3B4455;\n",
              "      fill: #D2E3FC;\n",
              "    }\n",
              "\n",
              "    [theme=dark] .colab-df-convert:hover {\n",
              "      background-color: #434B5C;\n",
              "      box-shadow: 0px 1px 3px 1px rgba(0, 0, 0, 0.15);\n",
              "      filter: drop-shadow(0px 1px 2px rgba(0, 0, 0, 0.3));\n",
              "      fill: #FFFFFF;\n",
              "    }\n",
              "  </style>\n",
              "\n",
              "      <script>\n",
              "        const buttonEl =\n",
              "          document.querySelector('#df-88c37026-3e44-4a68-9b3c-8d6b89038af0 button.colab-df-convert');\n",
              "        buttonEl.style.display =\n",
              "          google.colab.kernel.accessAllowed ? 'block' : 'none';\n",
              "\n",
              "        async function convertToInteractive(key) {\n",
              "          const element = document.querySelector('#df-88c37026-3e44-4a68-9b3c-8d6b89038af0');\n",
              "          const dataTable =\n",
              "            await google.colab.kernel.invokeFunction('convertToInteractive',\n",
              "                                                     [key], {});\n",
              "          if (!dataTable) return;\n",
              "\n",
              "          const docLinkHtml = 'Like what you see? Visit the ' +\n",
              "            '<a target=\"_blank\" href=https://colab.research.google.com/notebooks/data_table.ipynb>data table notebook</a>'\n",
              "            + ' to learn more about interactive tables.';\n",
              "          element.innerHTML = '';\n",
              "          dataTable['output_type'] = 'display_data';\n",
              "          await google.colab.output.renderOutput(dataTable, element);\n",
              "          const docLink = document.createElement('div');\n",
              "          docLink.innerHTML = docLinkHtml;\n",
              "          element.appendChild(docLink);\n",
              "        }\n",
              "      </script>\n",
              "    </div>\n",
              "  </div>\n"
            ]
          },
          "metadata": {},
          "execution_count": 44
        }
      ]
    },
    {
      "cell_type": "code",
      "source": [
        "\n",
        "\n"
      ],
      "metadata": {
        "id": "INCOj-SQG5Q_"
      },
      "execution_count": null,
      "outputs": []
    },
    {
      "cell_type": "code",
      "source": [
        "# Correlation Heatmap visualization code\n",
        "\n",
        "corr_df = df[['price','minimum_nights', 'number_of_reviews', 'reviews_per_month', 'calculated_host_listings_count','availability_365']].corr()\n",
        "f, ax = plt.subplots(figsize=(12, 12))\n",
        "sns.heatmap(corr_df, annot = True, fmt='.2f', annot_kws={'size': 10},  vmax=1, square=True, cmap=\"YlGnBu\")"
      ],
      "metadata": {
        "id": "xyC9zolEZNRQ",
        "colab": {
          "base_uri": "https://localhost:8080/"
        },
        "outputId": "9ab2a1d9-bff5-48fc-e26b-8dbfb2dac84c"
      },
      "execution_count": null,
      "outputs": [
        {
          "output_type": "execute_result",
          "data": {
            "text/plain": [
              "<Axes: >"
            ]
          },
          "metadata": {},
          "execution_count": 45
        },
        {
          "output_type": "display_data",
          "data": {
            "text/plain": [
              "<Figure size 1200x1200 with 2 Axes>"
            ],
            "image/png": "[encoded data removed]"
          },
          "metadata": {}
        }
      ]
    },
    {
      "cell_type": "markdown",
      "source": [
        "##### 1. Why did you pick the specific chart?"
      ],
      "metadata": {
        "id": "UV0SzAkaZNRQ"
      }
    },
    {
      "cell_type": "markdown",
      "source": [
        "To understand the relationsip between different numerical values ."
      ],
      "metadata": {
        "id": "DVPuT8LYZNRQ"
      }
    },
    {
      "cell_type": "markdown",
      "source": [
        "##### 2. What is/are the insight(s) found from the chart?"
      ],
      "metadata": {
        "id": "YPEH6qLeZNRQ"
      }
    },
    {
      "cell_type": "markdown",
      "source": [
        "Highest corelation value between axis is 55% positive & lowest corelation value between the axis is -12% negative."
      ],
      "metadata": {
        "id": "bfSqtnDqZNRR"
      }
    },
    {
      "cell_type": "markdown",
      "source": [
        "## **5. Solution to Business Objective**"
      ],
      "metadata": {
        "id": "JcMwzZxoAimU"
      }
    },
    {
      "cell_type": "markdown",
      "source": [
        "#### What do you suggest the client to achieve Business Objective ?\n",
        "**Understanding Price Patterns:**\n",
        "\n",
        "Objective: Analyze price trends to understand the factors influencing pricing patterns.\n",
        "Solutions:\n",
        "Perform statistical analysis to identify the average price, price distribution, and seasonal variations.\n",
        "\n",
        "**Demand Forecasting:**\n",
        "\n",
        "Objective: Predict demand for Airbnb properties to optimize pricing and availability.\n",
        "Solutions:\n",
        "Apply time series analysis techniques to forecast future demand based on historical booking data."
      ],
      "metadata": {
        "id": "8G2x9gOozGDZ"
      }
    },
    {
      "cell_type": "markdown",
      "source": [
        "# **Conclusion**"
      ],
      "metadata": {
        "id": "gCX9965dhzqZ"
      }
    },
    {
      "cell_type": "markdown",
      "source": [
        "1. The people who prefer to stay in Entire home or Apartment they are going to stay bit longer in that particular Neighbourhood only.\n",
        "2. The people who prefer to stay in Private room they won't stay longer as compared to Home or Apartment.\n",
        "3. Most people prefer to pay less price.\n",
        "4. If there are more number of Reviews for particular Neighbourhood group that means that place is a tourist place.\n",
        "5. If people are not staying more then one night means they are travellers."
      ],
      "metadata": {
        "id": "Fjb1IsQkh3yE"
      }
    },
    {
      "cell_type": "markdown",
      "source": [
        "### ***Hurrah! You have successfully completed your EDA Capstone Project !!!***"
      ],
      "metadata": {
        "id": "gIfDvo9L0UH2"
      }
    }
  ]
}